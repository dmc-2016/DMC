{
 "cells": [
  {
   "cell_type": "markdown",
   "metadata": {},
   "source": [
    "## Bonus - CNN localization with Class Activation Mapping (CAM)\n",
    "\n",
    "https://arxiv.org/pdf/1512.04150.pdf"
   ]
  },
  {
   "cell_type": "code",
   "execution_count": 1,
   "metadata": {
    "collapsed": false
   },
   "outputs": [
    {
     "name": "stdout",
     "output_type": "stream",
     "text": [
      "('Training set', (14000, 64, 64), (14000, 1))\n",
      "('Test set', (6000, 64, 64), (6000, 1))\n"
     ]
    }
   ],
   "source": [
    "import pickle\n",
    "\n",
    "pickle_file = '-catsdogs.pickle'\n",
    "\n",
    "with open(pickle_file, 'rb') as f:\n",
    "    save = pickle.load(f)\n",
    "    X_train = save['X_train']\n",
    "    y_train = save['y_train']\n",
    "    X_test = save['X_test']\n",
    "    y_test = save['y_test']\n",
    "    del save  # hint to help gc free up memory\n",
    "    print('Training set', X_train.shape, y_train.shape)\n",
    "    print('Test set', X_test.shape, y_test.shape)"
   ]
  },
  {
   "cell_type": "code",
   "execution_count": 2,
   "metadata": {
    "collapsed": false
   },
   "outputs": [
    {
     "name": "stderr",
     "output_type": "stream",
     "text": [
      "Using TensorFlow backend.\n"
     ]
    }
   ],
   "source": [
    "import numpy as np\n",
    "np.random.seed(1337)  # for reproducibility\n",
    "\n",
    "from keras.datasets import mnist\n",
    "from keras.models import Sequential\n",
    "from keras.layers import Dense, Dropout, Activation, Flatten\n",
    "from keras.layers import Convolution2D, MaxPooling2D, AveragePooling2D\n",
    "from keras.utils import np_utils\n",
    "from keras.callbacks import ModelCheckpoint\n",
    "from keras import backend as K\n",
    "\n",
    "from keras.datasets import mnist"
   ]
  },
  {
   "cell_type": "code",
   "execution_count": 3,
   "metadata": {
    "collapsed": false
   },
   "outputs": [
    {
     "name": "stdout",
     "output_type": "stream",
     "text": [
      "(1, 64, 64)\n"
     ]
    }
   ],
   "source": [
    "# number of classes\n",
    "num_classes = 2\n",
    "\n",
    "# image dimensions\n",
    "img_rows, img_cols = X_train.shape[1],  X_train.shape[2]\n",
    "\n",
    "if K.image_dim_ordering() == 'th':\n",
    "    X_train = X_train.reshape(X_train.shape[0], 1, img_rows, img_cols)\n",
    "    X_test = X_test.reshape(X_test.shape[0], 1, img_rows, img_cols)\n",
    "    input_shape = (1, img_rows, img_cols)\n",
    "else:\n",
    "    X_train = X_train.reshape(X_train.shape[0], img_rows, img_cols, 1)\n",
    "    X_test = X_test.reshape(X_test.shape[0], img_rows, img_cols, 1)\n",
    "    input_shape = (img_rows, img_cols, 1)\n",
    "\n",
    "Y_train = np_utils.to_categorical(y_train, num_classes)\n",
    "Y_test = np_utils.to_categorical(y_test, num_classes)\n",
    "\n",
    "print input_shape"
   ]
  },
  {
   "cell_type": "code",
   "execution_count": 4,
   "metadata": {
    "collapsed": true
   },
   "outputs": [],
   "source": [
    "# training parameters\n",
    "batch_size = 16\n",
    "nb_epoch = 30\n",
    "\n",
    "# network architecture\n",
    "patch_size_1 = 3\n",
    "patch_size_2 = 3\n",
    "patch_size_3 = 3\n",
    "patch_size_4 = 3\n",
    "\n",
    "depth_1 = 128\n",
    "depth_2 = 256\n",
    "depth_3 = 512\n",
    "depth_4 = 1024\n",
    "\n",
    "pool_size = 2"
   ]
  },
  {
   "cell_type": "code",
   "execution_count": 5,
   "metadata": {
    "collapsed": false
   },
   "outputs": [],
   "source": [
    "model = Sequential()\n",
    "\n",
    "model.add(Convolution2D(depth_1, patch_size_1, patch_size_1, border_mode='valid',\n",
    "                        input_shape=input_shape))\n",
    "model.add(Activation('relu'))\n",
    "model.add(MaxPooling2D(pool_size=(pool_size, pool_size)))\n",
    "\n",
    "model.add(Convolution2D(depth_2, patch_size_2, patch_size_2, border_mode='valid'))\n",
    "model.add(Activation('relu'))\n",
    "model.add(MaxPooling2D(pool_size=(pool_size, pool_size)))\n",
    "\n",
    "model.add(Convolution2D(depth_3, patch_size_3, patch_size_3, border_mode='valid'))\n",
    "model.add(Activation('relu'))\n",
    "# model.add(MaxPooling2D(pool_size=(pool_size, pool_size)))\n",
    "\n",
    "model.add(Convolution2D(depth_4, patch_size_4, patch_size_4, border_mode='valid'))\n",
    "model.add(Activation('relu'))\n",
    "\n",
    "model.add(AveragePooling2D(pool_size=(10, 10)))\n",
    "model.add(Flatten())\n",
    "model.add(Dense(num_classes))\n",
    "\n",
    "model.add(Activation('softmax'))"
   ]
  },
  {
   "cell_type": "code",
   "execution_count": 8,
   "metadata": {
    "collapsed": false
   },
   "outputs": [],
   "source": [
    "import os\n",
    "\n",
    "checkpoint_name = \"-model-CAM-2.hdf5\"\n",
    "\n",
    "if os.path.isfile(checkpoint_name):\n",
    "    model.load_weights(checkpoint_name)\n",
    "\n",
    "checkpointer = ModelCheckpoint(checkpoint_name, verbose=0, save_best_only=True)\n",
    "\n",
    "model.compile(loss='categorical_crossentropy',\n",
    "              optimizer='adadelta',\n",
    "              metrics=['accuracy'])"
   ]
  },
  {
   "cell_type": "code",
   "execution_count": null,
   "metadata": {
    "collapsed": false
   },
   "outputs": [
    {
     "name": "stdout",
     "output_type": "stream",
     "text": [
      "Train on 14000 samples, validate on 6000 samples\n",
      "Epoch 1/30\n",
      "14000/14000 [==============================] - 3156s - loss: 0.4258 - acc: 0.8065 - val_loss: 0.4470 - val_acc: 0.7883\n",
      "Epoch 2/30\n",
      "14000/14000 [==============================] - 3150s - loss: 0.3965 - acc: 0.8216 - val_loss: 0.3984 - val_acc: 0.8267\n",
      "Epoch 3/30\n",
      "14000/14000 [==============================] - 3350s - loss: 0.3694 - acc: 0.8355 - val_loss: 0.4074 - val_acc: 0.8123\n",
      "Epoch 4/30\n",
      "14000/14000 [==============================] - 2975s - loss: 0.3475 - acc: 0.8500 - val_loss: 0.4155 - val_acc: 0.8078\n",
      "Epoch 5/30\n",
      "14000/14000 [==============================] - 2837s - loss: 0.3279 - acc: 0.8571 - val_loss: 0.5676 - val_acc: 0.7360\n",
      "Epoch 6/30\n",
      "14000/14000 [==============================] - 2802s - loss: 0.3023 - acc: 0.8744 - val_loss: 0.4083 - val_acc: 0.8195\n",
      "Epoch 7/30\n",
      "14000/14000 [==============================] - 2780s - loss: 0.2816 - acc: 0.8814 - val_loss: 0.3203 - val_acc: 0.8617\n",
      "Epoch 8/30\n",
      "14000/14000 [==============================] - 2756s - loss: 0.2612 - acc: 0.8930 - val_loss: 0.3798 - val_acc: 0.8327\n",
      "Epoch 9/30\n",
      "14000/14000 [==============================] - 2749s - loss: 0.2392 - acc: 0.9001 - val_loss: 0.3424 - val_acc: 0.8483\n",
      "Epoch 10/30\n",
      "14000/14000 [==============================] - 2744s - loss: 0.2204 - acc: 0.9100 - val_loss: 0.3949 - val_acc: 0.8295\n",
      "Epoch 11/30\n",
      "14000/14000 [==============================] - 2737s - loss: 0.2000 - acc: 0.9199 - val_loss: 0.3242 - val_acc: 0.8685\n",
      "Epoch 12/30\n",
      "14000/14000 [==============================] - 2722s - loss: 0.1836 - acc: 0.9257 - val_loss: 0.3309 - val_acc: 0.8725\n",
      "Epoch 13/30\n",
      "14000/14000 [==============================] - 2789s - loss: 0.1638 - acc: 0.9352 - val_loss: 0.3324 - val_acc: 0.8772\n",
      "Epoch 14/30\n",
      "14000/14000 [==============================] - 2797s - loss: 0.1478 - acc: 0.9421 - val_loss: 0.4074 - val_acc: 0.8492\n",
      "Epoch 15/30\n",
      " 2560/14000 [====>.........................] - ETA: 108506s - loss: 0.1269 - acc: 0.9516"
     ]
    }
   ],
   "source": [
    "model.fit(X_train, Y_train, batch_size=batch_size, nb_epoch=nb_epoch,\n",
    "          verbose=1, validation_data=(X_test, Y_test), callbacks=[checkpointer])"
   ]
  },
  {
   "cell_type": "code",
   "execution_count": null,
   "metadata": {
    "collapsed": true
   },
   "outputs": [],
   "source": []
  }
 ],
 "metadata": {
  "anaconda-cloud": {},
  "kernelspec": {
   "display_name": "Python [default]",
   "language": "python",
   "name": "python2"
  },
  "language_info": {
   "codemirror_mode": {
    "name": "ipython",
    "version": 2
   },
   "file_extension": ".py",
   "mimetype": "text/x-python",
   "name": "python",
   "nbconvert_exporter": "python",
   "pygments_lexer": "ipython2",
   "version": "2.7.12"
  }
 },
 "nbformat": 4,
 "nbformat_minor": 1
}
