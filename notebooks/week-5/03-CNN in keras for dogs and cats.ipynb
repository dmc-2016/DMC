{
 "cells": [
  {
   "cell_type": "markdown",
   "metadata": {},
   "source": [
    "## Lab 5.3 - CNN for cats and dogs\n",
    "\n",
    "Now that we have imported our custom image data, formatted them as proper feature and target numpy arrays, and split them between individual training and test data sets, we can use Keras to create another Convolutional Neural Network (CNN) and train it to classify images of cats and dogs (the holy grail of Arificial Intelligence!)\n",
    "\n",
    "First, let's use the pickle library to bring in the data sets we generated in the previous part of the lab:"
   ]
  },
  {
   "cell_type": "code",
   "execution_count": 1,
   "metadata": {
    "collapsed": false
   },
   "outputs": [
    {
     "name": "stderr",
     "output_type": "stream",
     "text": [
      "Using Theano backend.\n"
     ]
    },
    {
     "name": "stdout",
     "output_type": "stream",
     "text": [
      "using ordering: tf\n",
      "('Training set', (14000, 64, 64), (14000, 1))\n",
      "('Test set', (6000, 64, 64), (6000, 1))\n"
     ]
    }
   ],
   "source": [
    "import pickle\n",
    "from keras.models import Sequential\n",
    "from keras.layers import Dense, Dropout, Activation, Flatten\n",
    "from keras.layers import Convolution2D, MaxPooling2D, ZeroPadding2D\n",
    "from keras.utils import np_utils\n",
    "from keras.optimizers import SGD\n",
    "from keras import backend as K\n",
    "\n",
    "K.set_image_dim_ordering('tf')\n",
    "print \"using ordering:\", K.image_dim_ordering()\n",
    "\n",
    "pickle_file = '-catsdogs_v1.pickle'\n",
    "\n",
    "with open(pickle_file, 'rb') as f:\n",
    "    save = pickle.load(f)\n",
    "    X_train_load = save['X_train']\n",
    "    y_train_load = save['y_train']\n",
    "    X_test_load = save['X_test']\n",
    "    y_test_load = save['y_test']\n",
    "    del save  # hint to help gc free up memory\n",
    "    print('Training set', X_train_load.shape, y_train_load.shape)\n",
    "    print('Test set', X_test_load.shape, y_test_load.shape)\n",
    "    \n"
   ]
  },
  {
   "cell_type": "markdown",
   "metadata": {},
   "source": [
    "Now that the data is imported, go through and implement the CNN from scratch based on the one developed in Lab 5.1. \n",
    "\n",
    "Experiment with different hyper-parameters as well as different architectures for your network. If you're not getting the results you want try a deeper network by adding more convolutional or fully connected layers. Remember that with CNN's, all convolutional layers should go in the beginning, and the fully connected layers should go at the end. You can also try to make the network 'wider' by adding more depth to each convolutional layer or more neurons to the fully connected layers. If you are noticing problems with over-fitting you can experiment with larger dropout rates or other regularlization strategies.\n",
    "\n",
    "You can also experiment with filters of a larger size in the convolutional layers. Larger filters will capture more information in the image at the expense of longer training times. For more information about the tradeoffs between depth and width in a CNN, you can read this paper: \n",
    "\n",
    "https://arxiv.org/pdf/1409.1556.pdf\n",
    "\n",
    "Known as the 'VGG paper', this research is currently one of the state-of-the-art benchmarks for image recognition using CNN's. The authors' hypothesis for the paper was that depth in a CNN (total number of layers) is much more important than the size of the filters or the depth within each convolutional layer. Thus they used very small filter sizes (only 3x3) but focused on making the networks as deep as possible. If you are still getting poor results and want to develop a deeper network, a good place to start would be to try to implement one of the networks from the 'VGG paper'. The deepest ones will probably take too long to train without having a dedicated graphics card, but you should be able to train one of the medium ones (for example network 'B') using just the virtual machine developed in the first lab.\n",
    "\n",
    "Just like when we initially loaded the data, with large networks you again run the risk of overloading your RAM memory, which will either throw an error during model compilation or training, or cause your Python kernel to crash. If you run into these issues, try reducing the complexity of your network (either using less layers, or reducing the depth of each layer) or using a smaller mini-batch size. If you are using the virtual machine, your RAM will be quite limited so you will not be able to train very deep or complex networks. This is ok for the demonstration purposes of the class, but for your own work you may want to use a native installation of Python and the related libraries so that you can use the full potential of your computer.\n",
    "\n",
    "Ofcourse classifying dogs and cats is a much more difficult problem than digit classification, so you should not expect to reach the same level of performance we did before. With an average sized network training over night on the virtual machine, you should be able to get at least 80% accuracy on the test dataset. Once you get a result you like, submit your work on this file as a pull request back to the main project."
   ]
  },
  {
   "cell_type": "code",
   "execution_count": 2,
   "metadata": {
    "collapsed": false
   },
   "outputs": [
    {
     "name": "stdout",
     "output_type": "stream",
     "text": [
      "(14000, 64, 64)\n"
     ]
    }
   ],
   "source": [
    "print X_train_load.shape"
   ]
  },
  {
   "cell_type": "code",
   "execution_count": 3,
   "metadata": {
    "collapsed": false
   },
   "outputs": [
    {
     "name": "stdout",
     "output_type": "stream",
     "text": [
      "(14000, 64, 64)\n",
      "64 64\n"
     ]
    }
   ],
   "source": [
    "# number of classes\n",
    "num_classes = 2\n",
    "# image dimensions\n",
    "img_rows, img_cols = X_train_load.shape[1],  X_train_load.shape[2]\n",
    "print X_train_load.shape\n",
    "print img_rows, img_cols\n",
    "\n",
    "if K.image_dim_ordering() == 'th':\n",
    "    X_train = X_train_load.reshape(X_train_load.shape[0], 1, img_rows, img_cols)\n",
    "    X_test = X_test_load.reshape(X_test_load.shape[0], 1, img_rows, img_cols)\n",
    "    input_shape = (1, img_rows, img_cols)\n",
    "else:\n",
    "    X_train = X_train_load.reshape(X_train_load.shape[0], img_rows, img_cols, 1)\n",
    "    X_test = X_test_load.reshape(X_test_load.shape[0], img_rows, img_cols, 1)\n",
    "    input_shape = (img_rows, img_cols, 1)\n",
    "    \n",
    "Y_train = np_utils.to_categorical(y_train_load, num_classes)\n",
    "Y_test = np_utils.to_categorical(y_test_load, num_classes)\n",
    "\n",
    "\n",
    "#print Y_train.shape\n",
    "#Y_train = Y_train.reshape((-2,2))\n",
    "#Y_test = Y_train.reshape(-2,2)\n",
    "#print Y_train.shape"
   ]
  },
  {
   "cell_type": "code",
   "execution_count": 4,
   "metadata": {
    "collapsed": false
   },
   "outputs": [
    {
     "name": "stdout",
     "output_type": "stream",
     "text": [
      "(64, 64)\n",
      "(14000, 1)\n"
     ]
    },
    {
     "data": {
      "text/plain": [
       "<matplotlib.image.AxesImage at 0x7f99b7b4ded0>"
      ]
     },
     "execution_count": 4,
     "metadata": {},
     "output_type": "execute_result"
    },
    {
     "data": {
      "image/png": "[encoded data removed]",
      "text/plain": [
       "<matplotlib.figure.Figure at 0x7f99b9670750>"
      ]
     },
     "metadata": {},
     "output_type": "display_data"
    }
   ],
   "source": [
    "%matplotlib inline\n",
    "from matplotlib.pyplot import imshow\n",
    "import matplotlib.pyplot as plt\n",
    "\n",
    "img_num = 0\n",
    "\n",
    "if K.image_dim_ordering() == 'th':\n",
    "    img = X_train[img_num][0,:,:]\n",
    "else:\n",
    "    img = X_train[img_num][:,:,0]\n",
    "\n",
    "print img.shape\n",
    "print y_train_load.shape\n",
    "imshow(img, cmap = plt.get_cmap('gray'), vmin = 0, vmax = 1,  interpolation='nearest')"
   ]
  },
  {
   "cell_type": "code",
   "execution_count": 5,
   "metadata": {
    "collapsed": false
   },
   "outputs": [
    {
     "name": "stdout",
     "output_type": "stream",
     "text": [
      "(64, 64, 1)\n",
      "(14000, 2)\n",
      "(14000, 64, 64, 1)\n"
     ]
    }
   ],
   "source": [
    "print input_shape\n",
    "print Y_train.shape\n",
    "print X_train.shape"
   ]
  },
  {
   "cell_type": "code",
   "execution_count": 6,
   "metadata": {
    "collapsed": true
   },
   "outputs": [],
   "source": [
    "## implement your CNN starting here.\n",
    "\n",
    "\n",
    "\n",
    "# model hyperparameters\n",
    "batch_size = 128\n",
    "nb_epoch = 30\n",
    "\n",
    "# network architecture\n",
    "patch_size_1 = 3\n",
    "patch_size_2 = 3\n",
    "patch_size_3 = 3\n",
    "patch_size_4 = 3\n",
    "patch_size_5 = 3\n",
    "patch_size_6 = 3\n",
    "\n",
    "\n",
    "pool_size = 2\n",
    "\n",
    "num_hidden_1 = 1000\n",
    "num_hidden_2 = 1000\n",
    "num_hidden_3 = 1000\n",
    "\n",
    "dropout = 0.5"
   ]
  },
  {
   "cell_type": "code",
   "execution_count": 7,
   "metadata": {
    "collapsed": false
   },
   "outputs": [
    {
     "name": "stdout",
     "output_type": "stream",
     "text": [
      "(64, 64, 1)\n"
     ]
    }
   ],
   "source": [
    "print input_shape"
   ]
  },
  {
   "cell_type": "code",
   "execution_count": 20,
   "metadata": {
    "collapsed": false,
    "scrolled": true
   },
   "outputs": [
    {
     "name": "stdout",
     "output_type": "stream",
     "text": [
      "using ordering: tf\n"
     ]
    }
   ],
   "source": [
    "print \"using ordering:\", K.image_dim_ordering()\n",
    "\n",
    "model = Sequential()\n",
    "\n",
    "model.add(Convolution2D(64, 3, 3, border_mode ='valid',input_shape=input_shape))  \n",
    "model.add(Activation('relu'))\n",
    "model.add(MaxPooling2D(pool_size=(2,2)))\n",
    "\n",
    "model.add(Convolution2D(128, 3, 3,  border_mode ='valid'))\n",
    "model.add(Activation('relu'))\n",
    "model.add(MaxPooling2D(pool_size=(2,2)))\n",
    "\n",
    "model.add(Convolution2D(256, 3, 3,  border_mode ='valid'))\n",
    "model.add(Activation('relu'))\n",
    "\n",
    "model.add(MaxPooling2D(pool_size=(2,2)))\n",
    "\n",
    "\n",
    "\n",
    "\n",
    "model.add(Flatten())\n",
    "\n",
    "\n",
    "model.add(Dense(num_hidden_1))\n",
    "model.add(Activation('relu'))\n",
    "model.add(Dropout(dropout))\n",
    "          \n",
    "model.add(Dense(num_hidden_2))\n",
    "model.add(Activation('relu'))\n",
    "model.add(Dropout(dropout))\n",
    "          \n",
    "model.add(Dense(num_hidden_3))\n",
    "model.add(Activation('relu'))\n",
    "model.add(Dropout(dropout))\n",
    "\n",
    "\n",
    "model.add(Dense(num_classes))\n",
    "\n",
    "# apply the 'softmax' activation to the final layer to convert the output to \n",
    "# a probability distribution\n",
    "model.add(Activation('softmax'))"
   ]
  },
  {
   "cell_type": "code",
   "execution_count": 21,
   "metadata": {
    "collapsed": false
   },
   "outputs": [],
   "source": [
    "model.compile(loss='categorical_crossentropy',\n",
    "              optimizer='adadelta',\n",
    "              metrics=['accuracy'])"
   ]
  },
  {
   "cell_type": "code",
   "execution_count": 15,
   "metadata": {
    "collapsed": false
   },
   "outputs": [
    {
     "name": "stdout",
     "output_type": "stream",
     "text": [
      "(14000, 64, 64, 1)\n",
      "(14000, 2)\n",
      "(6000, 64, 64, 1)\n",
      "(6000, 2)\n",
      "using ordering: tf\n"
     ]
    }
   ],
   "source": [
    "print X_train.shape\n",
    "print Y_train.shape\n",
    "print X_test.shape\n",
    "print Y_test.shape\n",
    "\n",
    "print \"using ordering:\", K.image_dim_ordering()"
   ]
  },
  {
   "cell_type": "code",
   "execution_count": 23,
   "metadata": {
    "collapsed": false,
    "scrolled": false
   },
   "outputs": [
    {
     "name": "stdout",
     "output_type": "stream",
     "text": [
      "using ordering: tf\n",
      "Train on 14000 samples, validate on 6000 samples\n",
      "Epoch 1/30\n",
      "14000/14000 [==============================] - 342s - loss: 0.6936 - acc: 0.5084 - val_loss: 0.6934 - val_acc: 0.4945\n",
      "Epoch 2/30\n",
      "14000/14000 [==============================] - 383s - loss: 0.6866 - acc: 0.5479 - val_loss: 0.6653 - val_acc: 0.6072\n",
      "Epoch 3/30\n",
      "14000/14000 [==============================] - 335s - loss: 0.6740 - acc: 0.5894 - val_loss: 0.7185 - val_acc: 0.5183\n",
      "Epoch 4/30\n",
      "14000/14000 [==============================] - 317s - loss: 0.6531 - acc: 0.6172 - val_loss: 0.6535 - val_acc: 0.6175\n",
      "Epoch 5/30\n",
      "14000/14000 [==============================] - 326s - loss: 0.6442 - acc: 0.6306 - val_loss: 0.6471 - val_acc: 0.6300\n",
      "Epoch 6/30\n",
      "14000/14000 [==============================] - 317s - loss: 0.6315 - acc: 0.6469 - val_loss: 0.6968 - val_acc: 0.5810\n",
      "Epoch 7/30\n",
      "14000/14000 [==============================] - 318s - loss: 0.6149 - acc: 0.6637 - val_loss: 0.6400 - val_acc: 0.6318\n",
      "Epoch 8/30\n",
      "14000/14000 [==============================] - 322s - loss: 0.5767 - acc: 0.7014 - val_loss: 0.5846 - val_acc: 0.6885\n",
      "Epoch 9/30\n",
      "14000/14000 [==============================] - 326s - loss: 0.5392 - acc: 0.7311 - val_loss: 0.5069 - val_acc: 0.7515\n",
      "Epoch 10/30\n",
      "14000/14000 [==============================] - 333s - loss: 0.5007 - acc: 0.7561 - val_loss: 0.4805 - val_acc: 0.7658\n",
      "Epoch 11/30\n",
      "14000/14000 [==============================] - 342s - loss: 0.4697 - acc: 0.7783 - val_loss: 0.5905 - val_acc: 0.7125\n",
      "Epoch 12/30\n",
      "14000/14000 [==============================] - 342s - loss: 0.4398 - acc: 0.7959 - val_loss: 0.4510 - val_acc: 0.7872\n",
      "Epoch 13/30\n",
      "14000/14000 [==============================] - 346s - loss: 0.4062 - acc: 0.8176 - val_loss: 0.4656 - val_acc: 0.7763\n",
      "Epoch 14/30\n",
      "14000/14000 [==============================] - 355s - loss: 0.3830 - acc: 0.8249 - val_loss: 0.4292 - val_acc: 0.8053\n",
      "Epoch 15/30\n",
      "14000/14000 [==============================] - 355s - loss: 0.3558 - acc: 0.8432 - val_loss: 0.4277 - val_acc: 0.7992\n",
      "Epoch 16/30\n",
      "14000/14000 [==============================] - 382s - loss: 0.3209 - acc: 0.8605 - val_loss: 0.3982 - val_acc: 0.8200\n",
      "Epoch 17/30\n",
      "14000/14000 [==============================] - 390s - loss: 0.2944 - acc: 0.8733 - val_loss: 0.4542 - val_acc: 0.8073\n",
      "Epoch 18/30\n",
      "14000/14000 [==============================] - 379s - loss: 0.2545 - acc: 0.8926 - val_loss: 0.4865 - val_acc: 0.7960\n",
      "Epoch 19/30\n",
      "14000/14000 [==============================] - 388s - loss: 0.2197 - acc: 0.9104 - val_loss: 0.4691 - val_acc: 0.8148\n",
      "Epoch 20/30\n",
      "14000/14000 [==============================] - 387s - loss: 0.1787 - acc: 0.9304 - val_loss: 0.4607 - val_acc: 0.8275\n",
      "Epoch 21/30\n",
      "14000/14000 [==============================] - 387s - loss: 0.1228 - acc: 0.9524 - val_loss: 0.5503 - val_acc: 0.8212\n",
      "Epoch 22/30\n",
      "14000/14000 [==============================] - 394s - loss: 0.0913 - acc: 0.9686 - val_loss: 0.5763 - val_acc: 0.8328\n",
      "Epoch 23/30\n",
      "14000/14000 [==============================] - 413s - loss: 0.0475 - acc: 0.9826 - val_loss: 0.7099 - val_acc: 0.8263\n",
      "Epoch 24/30\n",
      "14000/14000 [==============================] - 424s - loss: 0.0479 - acc: 0.9859 - val_loss: 0.6734 - val_acc: 0.8303\n",
      "Epoch 25/30\n",
      "14000/14000 [==============================] - 430s - loss: 0.0183 - acc: 0.9947 - val_loss: 0.8242 - val_acc: 0.8313\n",
      "Epoch 26/30\n",
      "14000/14000 [==============================] - 435s - loss: 0.0154 - acc: 0.9952 - val_loss: 1.7933 - val_acc: 0.7373\n",
      "Epoch 27/30\n",
      "14000/14000 [==============================] - 447s - loss: 0.0526 - acc: 0.9855 - val_loss: 0.8354 - val_acc: 0.8282\n",
      "Epoch 28/30\n",
      "14000/14000 [==============================] - 458s - loss: 0.0516 - acc: 0.9884 - val_loss: 0.7290 - val_acc: 0.8225\n",
      "Epoch 29/30\n",
      "14000/14000 [==============================] - 458s - loss: 0.0060 - acc: 0.9993 - val_loss: 0.9026 - val_acc: 0.8285\n",
      "Epoch 30/30\n",
      "14000/14000 [==============================] - 489s - loss: 0.0062 - acc: 0.9979 - val_loss: 1.1024 - val_acc: 0.8152\n"
     ]
    },
    {
     "data": {
      "text/plain": [
       "<keras.callbacks.History at 0x7f99a3d2da10>"
      ]
     },
     "execution_count": 23,
     "metadata": {},
     "output_type": "execute_result"
    }
   ],
   "source": [
    "print \"using ordering:\", K.image_dim_ordering()\n",
    "model.fit(X_train, Y_train, batch_size=batch_size, nb_epoch=nb_epoch,\n",
    "          verbose=1, validation_data=(X_test, Y_test))"
   ]
  },
  {
   "cell_type": "code",
   "execution_count": 25,
   "metadata": {
    "collapsed": false
   },
   "outputs": [
    {
     "name": "stdout",
     "output_type": "stream",
     "text": [
      "Test score: 1.1024050866\n",
      "Test accuracy: 81.52%\n"
     ]
    }
   ],
   "source": [
    "score = model.evaluate(X_test, Y_test, verbose=0)\n",
    "\n",
    "print 'Test score:', score[0]\n",
    "print 'Test accuracy: {:.2%}'.format(score[1])"
   ]
  }
 ],
 "metadata": {
  "anaconda-cloud": {},
  "kernelspec": {
   "display_name": "Python [default]",
   "language": "python",
   "name": "python2"
  },
  "language_info": {
   "codemirror_mode": {
    "name": "ipython",
    "version": 2
   },
   "file_extension": ".py",
   "mimetype": "text/x-python",
   "name": "python",
   "nbconvert_exporter": "python",
   "pygments_lexer": "ipython2",
   "version": "2.7.12"
  }
 },
 "nbformat": 4,
 "nbformat_minor": 1
}
