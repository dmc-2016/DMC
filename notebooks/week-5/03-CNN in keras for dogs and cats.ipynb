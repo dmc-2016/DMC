{
 "cells": [
  {
   "cell_type": "markdown",
   "metadata": {},
   "source": [
    "## Lab 5.3 - CNN for cats and dogs\n",
    "\n",
    "Now that we have imported our custom image data, formatted them as proper feature and target numpy arrays, and split them between individual training and test data sets, we can use Keras to create another Convolutional Neural Network (CNN) and train it to classify images of cats and dogs (the holy grail of Arificial Intelligence!)\n",
    "\n",
    "First, let's use the pickle library to bring in the data sets we generated in the previous part of the lab:"
   ]
  },
  {
   "cell_type": "code",
   "execution_count": 2,
   "metadata": {
    "collapsed": false
   },
   "outputs": [
    {
     "name": "stderr",
     "output_type": "stream",
     "text": [
      "Using TensorFlow backend.\n"
     ]
    },
    {
     "name": "stdout",
     "output_type": "stream",
     "text": [
      "using ordering: tf\n",
      "('Training set', (14000, 64, 64), (14000, 1))\n",
      "('Test set', (6000, 64, 64), (6000, 1))\n"
     ]
    }
   ],
   "source": [
    "import pickle\n",
    "from keras.models import Sequential\n",
    "from keras.layers import Dense, Dropout, Activation, Flatten\n",
    "from keras.layers import Convolution2D, MaxPooling2D\n",
    "from keras.utils import np_utils\n",
    "from keras import backend as K\n",
    "\n",
    "print \"using ordering:\", K.image_dim_ordering()\n",
    "\n",
    "pickle_file = '-catsdogs.pickle'\n",
    "\n",
    "with open(pickle_file, 'rb') as f:\n",
    "    save = pickle.load(f)\n",
    "    X_train = save['X_train']\n",
    "    y_train = save['y_train']\n",
    "    X_test = save['X_test']\n",
    "    y_test = save['y_test']\n",
    "    del save  # hint to help gc free up memory\n",
    "    print('Training set', X_train.shape, y_train.shape)\n",
    "    print('Test set', X_test.shape, y_test.shape)"
   ]
  },
  {
   "cell_type": "markdown",
   "metadata": {},
   "source": [
    "Now that the data is imported, go through and implement the CNN from scratch based on the one developed in Lab 5.1. \n",
    "\n",
    "Experiment with different hyper-parameters as well as different architectures for your network. If you're not getting the results you want try a deeper network by adding more convolutional or fully connected layers. Remember that with CNN's, all convolutional layers should go in the beginning, and the fully connected layers should go at the end. You can also try to make the network 'wider' by adding more depth to each convolutional layer or more neurons to the fully connected layers. If you are noticing problems with over-fitting you can experiment with larger dropout rates or other regularlization strategies.\n",
    "\n",
    "You can also experiment with filters of a larger size in the convolutional layers. Larger filters will capture more information in the image at the expense of longer training times. For more information about the tradeoffs between depth and width in a CNN, you can read this paper: \n",
    "\n",
    "https://arxiv.org/pdf/1409.1556.pdf\n",
    "\n",
    "Known as the 'VGG paper', this research is currently one of the state-of-the-art benchmarks for image recognition using CNN's. The authors' hypothesis for the paper was that depth in a CNN (total number of layers) is much more important than the size of the filters or the depth within each convolutional layer. Thus they used very small filter sizes (only 3x3) but focused on making the networks as deep as possible. If you are still getting poor results and want to develop a deeper network, a good place to start would be to try to implement one of the networks from the 'VGG paper'. The deepest ones will probably take too long to train without having a dedicated graphics card, but you should be able to train one of the medium ones (for example network 'B') using just the virtual machine developed in the first lab.\n",
    "\n",
    "Just like when we initially loaded the data, with large networks you again run the risk of overloading your RAM memory, which will either throw an error during model compilation or training, or cause your Python kernel to crash. If you run into these issues, try reducing the complexity of your network (either using less layers, or reducing the depth of each layer) or using a smaller mini-batch size. If you are using the virtual machine, your RAM will be quite limited so you will not be able to train very deep or complex networks. This is ok for the demonstration purposes of the class, but for your own work you may want to use a native installation of Python and the related libraries so that you can use the full potential of your computer.\n",
    "\n",
    "Ofcourse classifying dogs and cats is a much more difficult problem than digit classification, so you should not expect to reach the same level of performance we did before. With an average sized network training over night on the virtual machine, you should be able to get at least 80% accuracy on the test dataset. Once you get a result you like, submit your work on this file as a pull request back to the main project."
   ]
  },
  {
   "cell_type": "code",
   "execution_count": 3,
   "metadata": {
    "collapsed": false
   },
   "outputs": [
    {
     "name": "stdout",
     "output_type": "stream",
     "text": [
      "(14000, 64, 64, 1)\n",
      "(14000, 1)\n"
     ]
    }
   ],
   "source": [
    "\n",
    "# number of classes\n",
    "num_classes = 2\n",
    "\n",
    "# image dimensions\n",
    "img_rows, img_cols = X_train.shape[1],  X_train.shape[2]\n",
    "\n",
    "if K.image_dim_ordering() == 'th':\n",
    "    X_train = X_train.reshape(X_train.shape[0], 1, img_rows, img_cols)\n",
    "    X_test = X_test.reshape(X_test.shape[0], 1, img_rows, img_cols)\n",
    "    input_shape = (1, img_rows, img_cols)\n",
    "else:\n",
    "    X_train = X_train.reshape(X_train.shape[0], img_rows, img_cols, 1)\n",
    "    X_test = X_test.reshape(X_test.shape[0], img_rows, img_cols, 1)\n",
    "    input_shape = (img_rows, img_cols, 1)\n",
    "\n",
    "Y_train = np_utils.to_categorical(y_train, num_classes)\n",
    "Y_test = np_utils.to_categorical(y_test, num_classes)\n",
    "\n",
    "print X_train.shape\n",
    "print y_train.shape"
   ]
  },
  {
   "cell_type": "code",
   "execution_count": 4,
   "metadata": {
    "collapsed": false
   },
   "outputs": [
    {
     "name": "stdout",
     "output_type": "stream",
     "text": [
      "(64, 64)\n",
      "(14000, 1)\n"
     ]
    },
    {
     "data": {
      "text/plain": [
       "<matplotlib.image.AxesImage at 0x7fb6c9326090>"
      ]
     },
     "execution_count": 4,
     "metadata": {},
     "output_type": "execute_result"
    },
    {
     "data": {
      "image/png": "[encoded data removed]",
      "text/plain": [
       "<matplotlib.figure.Figure at 0x7fb6e1e482d0>"
      ]
     },
     "metadata": {},
     "output_type": "display_data"
    }
   ],
   "source": [
    "%matplotlib inline\n",
    "from matplotlib.pyplot import imshow\n",
    "import matplotlib.pyplot as plt\n",
    "\n",
    "img_num = 0\n",
    "\n",
    "if K.image_dim_ordering() == 'th':\n",
    "    img = X_train[img_num][0,:,:]\n",
    "else:\n",
    "    img = X_train[img_num][:,:,0]\n",
    "\n",
    "print img.shape\n",
    "print y_train.shape\n",
    "imshow(img, cmap = plt.get_cmap('gray'), vmin = 0, vmax = 1,  interpolation='nearest')"
   ]
  },
  {
   "cell_type": "code",
   "execution_count": 5,
   "metadata": {
    "collapsed": true
   },
   "outputs": [],
   "source": [
    "# model hyperparameters\n",
    "batch_size = 128\n",
    "nb_epoch = 30\n",
    "\n",
    "# network architecture\n",
    "patch_size_1 = 3\n",
    "patch_size_2 = 3\n",
    "patch_size_3 = 3\n",
    "\n",
    "depth_1 = 20\n",
    "depth_2 = 40\n",
    "depth_3 = 60\n",
    "\n",
    "pool_size = 2\n",
    "\n",
    "num_hidden_1 = 1000\n",
    "num_hidden_2 = 1000\n",
    "num_hidden_3 = 1000\n",
    "\n",
    "dropout = 0.5"
   ]
  },
  {
   "cell_type": "code",
   "execution_count": 6,
   "metadata": {
    "collapsed": true
   },
   "outputs": [],
   "source": [
    "# create new Keras Sequential model\n",
    "model = Sequential()\n",
    "\n",
    "# add first convolutional layer to model and specify it's depth and filter size\n",
    "# for the first layer we also have to specify the size of each input image\n",
    "# which we calculated above\n",
    "model.add(Convolution2D(depth_1, patch_size_1, patch_size_1,\n",
    "                        border_mode='valid',\n",
    "                        input_shape=input_shape))\n",
    "# apply 'relu' activation function for first layer\n",
    "model.add(Activation('relu'))\n",
    "# apply max pooling to reduce the size of the image by a factor of 2\n",
    "model.add(MaxPooling2D(pool_size=(pool_size, pool_size)))\n",
    "\n",
    "# repeat these operations for the second convolutional layer\n",
    "# this time Keras can figure out the input size \n",
    "# from the previous layer on it's own\n",
    "model.add(Convolution2D(depth_2, patch_size_2, patch_size_2,\n",
    "                        border_mode='valid'))\n",
    "model.add(Activation('relu'))\n",
    "model.add(MaxPooling2D(pool_size=(pool_size, pool_size)))\n",
    "\n",
    "#extra below:\n",
    "\n",
    "model.add(Convolution2D(depth_3, patch_size_3, patch_size_3,\n",
    "                        border_mode='valid'))\n",
    "model.add(Activation('relu'))\n",
    "model.add(MaxPooling2D(pool_size=(pool_size, pool_size)))\n",
    "\n",
    "\n",
    "# flatten the three-dimensional convolutional layer to a single layer of neurons\n",
    "model.add(Flatten())\n",
    "\n",
    "# add the first fully connected layer, applying 'relu' activation and dropout\n",
    "model.add(Dense(num_hidden_1))\n",
    "model.add(Activation('relu'))\n",
    "model.add(Dropout(dropout))\n",
    "\n",
    "# add the second fully connected layer\n",
    "model.add(Dense(num_hidden_2))\n",
    "model.add(Activation('relu'))\n",
    "model.add(Dropout(dropout))\n",
    "\n",
    "model.add(Dense(num_hidden_3))\n",
    "model.add(Activation('relu'))\n",
    "model.add(Dropout(dropout))\n",
    "\n",
    "# add the final classification layer with the number of neurons \n",
    "# matching the number of classes we are trying to learn\n",
    "model.add(Dense(num_classes))\n",
    "\n",
    "# apply the 'softmax' activation to the final layer to convert the output to \n",
    "# a probability distribution\n",
    "model.add(Activation('softmax'))\n",
    "\n",
    "model.compile(loss='categorical_crossentropy',\n",
    "              optimizer='adadelta',\n",
    "              metrics=['accuracy'])"
   ]
  },
  {
   "cell_type": "code",
   "execution_count": 7,
   "metadata": {
    "collapsed": false
   },
   "outputs": [
    {
     "name": "stdout",
     "output_type": "stream",
     "text": [
      "Train on 14000 samples, validate on 6000 samples\n",
      "Epoch 1/30\n",
      "14000/14000 [==============================] - 80s - loss: 0.6917 - acc: 0.5171 - val_loss: 0.6897 - val_acc: 0.5127\n",
      "Epoch 2/30\n",
      "14000/14000 [==============================] - 76s - loss: 0.6819 - acc: 0.5648 - val_loss: 0.6783 - val_acc: 0.5620\n",
      "Epoch 3/30\n",
      "14000/14000 [==============================] - 67s - loss: 0.6620 - acc: 0.6111 - val_loss: 0.6959 - val_acc: 0.5592\n",
      "Epoch 4/30\n",
      "14000/14000 [==============================] - 69s - loss: 0.6451 - acc: 0.6288 - val_loss: 0.6771 - val_acc: 0.5760\n",
      "Epoch 5/30\n",
      "14000/14000 [==============================] - 68s - loss: 0.6271 - acc: 0.6496 - val_loss: 0.5894 - val_acc: 0.6870\n",
      "Epoch 6/30\n",
      "14000/14000 [==============================] - 68s - loss: 0.5912 - acc: 0.6884 - val_loss: 0.5646 - val_acc: 0.7035\n",
      "Epoch 7/30\n",
      "14000/14000 [==============================] - 67s - loss: 0.5514 - acc: 0.7231 - val_loss: 0.5551 - val_acc: 0.7028\n",
      "Epoch 8/30\n",
      "14000/14000 [==============================] - 64s - loss: 0.5203 - acc: 0.7438 - val_loss: 0.5691 - val_acc: 0.6975\n",
      "Epoch 9/30\n",
      "14000/14000 [==============================] - 65s - loss: 0.4855 - acc: 0.7651 - val_loss: 0.5028 - val_acc: 0.7472\n",
      "Epoch 10/30\n",
      "14000/14000 [==============================] - 64s - loss: 0.4615 - acc: 0.7813 - val_loss: 0.4584 - val_acc: 0.7807\n",
      "Epoch 11/30\n",
      "14000/14000 [==============================] - 64s - loss: 0.4408 - acc: 0.7979 - val_loss: 0.4872 - val_acc: 0.7758\n",
      "Epoch 12/30\n",
      "14000/14000 [==============================] - 64s - loss: 0.4237 - acc: 0.8029 - val_loss: 0.4510 - val_acc: 0.7867\n",
      "Epoch 13/30\n",
      "14000/14000 [==============================] - 64s - loss: 0.3989 - acc: 0.8206 - val_loss: 0.4503 - val_acc: 0.7852\n",
      "Epoch 14/30\n",
      "14000/14000 [==============================] - 64s - loss: 0.3812 - acc: 0.8314 - val_loss: 0.4283 - val_acc: 0.8012\n",
      "Epoch 15/30\n",
      "14000/14000 [==============================] - 64s - loss: 0.3591 - acc: 0.8433 - val_loss: 0.4504 - val_acc: 0.7905\n",
      "Epoch 16/30\n",
      "14000/14000 [==============================] - 64s - loss: 0.3401 - acc: 0.8519 - val_loss: 0.4839 - val_acc: 0.7850\n",
      "Epoch 17/30\n",
      "14000/14000 [==============================] - 65s - loss: 0.3093 - acc: 0.8681 - val_loss: 0.4717 - val_acc: 0.7910\n",
      "Epoch 18/30\n",
      "14000/14000 [==============================] - 65s - loss: 0.2718 - acc: 0.8909 - val_loss: 0.5424 - val_acc: 0.7600\n",
      "Epoch 19/30\n",
      "14000/14000 [==============================] - 65s - loss: 0.2441 - acc: 0.9032 - val_loss: 0.4870 - val_acc: 0.8033\n",
      "Epoch 20/30\n",
      "14000/14000 [==============================] - 64s - loss: 0.2124 - acc: 0.9161 - val_loss: 0.4826 - val_acc: 0.8150\n",
      "Epoch 21/30\n",
      "14000/14000 [==============================] - 65s - loss: 0.1791 - acc: 0.9294 - val_loss: 0.5077 - val_acc: 0.8100\n",
      "Epoch 22/30\n",
      "14000/14000 [==============================] - 64s - loss: 0.1464 - acc: 0.9455 - val_loss: 0.5893 - val_acc: 0.7885\n",
      "Epoch 23/30\n",
      "14000/14000 [==============================] - 64s - loss: 0.1135 - acc: 0.9589 - val_loss: 0.6889 - val_acc: 0.8062\n",
      "Epoch 24/30\n",
      "14000/14000 [==============================] - 64s - loss: 0.0887 - acc: 0.9679 - val_loss: 0.7554 - val_acc: 0.7947\n",
      "Epoch 25/30\n",
      "14000/14000 [==============================] - 64s - loss: 0.0727 - acc: 0.9732 - val_loss: 0.7688 - val_acc: 0.7963\n",
      "Epoch 26/30\n",
      "14000/14000 [==============================] - 64s - loss: 0.0538 - acc: 0.9814 - val_loss: 0.7883 - val_acc: 0.8023\n",
      "Epoch 27/30\n",
      "14000/14000 [==============================] - 65s - loss: 0.0440 - acc: 0.9844 - val_loss: 0.8420 - val_acc: 0.7987\n",
      "Epoch 28/30\n",
      "14000/14000 [==============================] - 64s - loss: 0.0287 - acc: 0.9909 - val_loss: 0.9398 - val_acc: 0.7948\n",
      "Epoch 29/30\n",
      "14000/14000 [==============================] - 64s - loss: 0.0326 - acc: 0.9884 - val_loss: 0.9249 - val_acc: 0.8070\n",
      "Epoch 30/30\n",
      "14000/14000 [==============================] - 65s - loss: 0.0239 - acc: 0.9924 - val_loss: 1.0462 - val_acc: 0.8057\n"
     ]
    },
    {
     "data": {
      "text/plain": [
       "<keras.callbacks.History at 0x7fb6bffdfe90>"
      ]
     },
     "execution_count": 7,
     "metadata": {},
     "output_type": "execute_result"
    }
   ],
   "source": [
    "model.fit(X_train, Y_train, batch_size=batch_size, nb_epoch=nb_epoch,\n",
    "          verbose=1, validation_data=(X_test, Y_test))"
   ]
  },
  {
   "cell_type": "code",
   "execution_count": 9,
   "metadata": {
    "collapsed": false
   },
   "outputs": [
    {
     "name": "stdout",
     "output_type": "stream",
     "text": [
      "Test score: 1.04617279085\n",
      "Test accuracy: 80.57%\n"
     ]
    }
   ],
   "source": [
    "score = model.evaluate(X_test, Y_test, verbose=0)\n",
    "\n",
    "print 'Test score:', score[0]\n",
    "print 'Test accuracy: {:.2%}'.format(score[1])"
   ]
  },
  {
   "cell_type": "code",
   "execution_count": null,
   "metadata": {
    "collapsed": true
   },
   "outputs": [],
   "source": []
  }
 ],
 "metadata": {
  "anaconda-cloud": {},
  "kernelspec": {
   "display_name": "Python [default]",
   "language": "python",
   "name": "python2"
  },
  "language_info": {
   "codemirror_mode": {
    "name": "ipython",
    "version": 2
   },
   "file_extension": ".py",
   "mimetype": "text/x-python",
   "name": "python",
   "nbconvert_exporter": "python",
   "pygments_lexer": "ipython2",
   "version": "2.7.12"
  }
 },
 "nbformat": 4,
 "nbformat_minor": 1
}
