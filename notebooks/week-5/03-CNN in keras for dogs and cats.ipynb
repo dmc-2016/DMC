{
 "cells": [
  {
   "cell_type": "markdown",
   "metadata": {},
   "source": [
    "## Lab 5.3 - CNN for cats and dogs\n",
    "\n",
    "Now that we have imported our custom image data, formatted them as proper feature and target numpy arrays, and split them between individual training and test data sets, we can use Keras to create another Convolutional Neural Network (CNN) and train it to classify images of cats and dogs (the holy grail of Arificial Intelligence!)\n",
    "\n",
    "First, let's use the pickle library to bring in the data sets we generated in the previous part of the lab:"
   ]
  },
  {
   "cell_type": "code",
   "execution_count": 1,
   "metadata": {
    "collapsed": false
   },
   "outputs": [
    {
     "name": "stderr",
     "output_type": "stream",
     "text": [
      "Using TensorFlow backend.\n"
     ]
    },
    {
     "name": "stdout",
     "output_type": "stream",
     "text": [
      "using ordering: tf\n",
      "('Training set', (11620, 64, 64), (11620, 1))\n",
      "('Test set', (4980, 64, 64), (4980, 1))\n"
     ]
    }
   ],
   "source": [
    "import pickle\n",
    "from keras.models import Sequential\n",
    "from keras.layers import Dense, Dropout, Activation, Flatten\n",
    "from keras.layers import Convolution2D, MaxPooling2D, ZeroPadding2D\n",
    "from keras.utils import np_utils\n",
    "from keras.optimizers import SGD\n",
    "from keras import backend as K\n",
    "\n",
    "K.set_image_dim_ordering('tf')\n",
    "print \"using ordering:\", K.image_dim_ordering()\n",
    "\n",
    "pickle_file = '-catsdogs.pickle'\n",
    "\n",
    "with open(pickle_file, 'rb') as f:\n",
    "    save = pickle.load(f)\n",
    "    X_train = save['X_train']\n",
    "    y_train = save['y_train']\n",
    "    X_test = save['X_test']\n",
    "    y_test = save['y_test']\n",
    "    del save  # hint to help gc free up memory\n",
    "    print('Training set', X_train.shape, y_train.shape)\n",
    "    print('Test set', X_test.shape, y_test.shape)"
   ]
  },
  {
   "cell_type": "markdown",
   "metadata": {},
   "source": [
    "Now that the data is imported, go through and implement the CNN from scratch based on the one developed in Lab 5.1. \n",
    "\n",
    "Experiment with different hyper-parameters as well as different architectures for your network. If you're not getting the results you want try a deeper network by adding more convolutional or fully connected layers. Remember that with CNN's, all convolutional layers should go in the beginning, and the fully connected layers should go at the end. You can also try to make the network 'wider' by adding more depth to each convolutional layer or more neurons to the fully connected layers. If you are noticing problems with over-fitting you can experiment with larger dropout rates or other regularlization strategies.\n",
    "\n",
    "You can also experiment with filters of a larger size in the convolutional layers. Larger filters will capture more information in the image at the expense of longer training times. For more information about the tradeoffs between depth and width in a CNN, you can read this paper: \n",
    "\n",
    "https://arxiv.org/pdf/1409.1556.pdf\n",
    "\n",
    "Known as the 'VGG paper', this research is currently one of the state-of-the-art benchmarks for image recognition using CNN's. The authors' hypothesis for the paper was that depth in a CNN (total number of layers) is much more important than the size of the filters or the depth within each convolutional layer. Thus they used very small filter sizes (only 3x3) but focused on making the networks as deep as possible. If you are still getting poor results and want to develop a deeper network, a good place to start would be to try to implement one of the networks from the 'VGG paper'. The deepest ones will probably take too long to train without having a dedicated graphics card, but you should be able to train one of the medium ones (for example network 'B') using just the virtual machine developed in the first lab.\n",
    "\n",
    "Just like when we initially loaded the data, with large networks you again run the risk of overloading your RAM memory, which will either throw an error during model compilation or training, or cause your Python kernel to crash. If you run into these issues, try reducing the complexity of your network (either using less layers, or reducing the depth of each layer) or using a smaller mini-batch size. If you are using the virtual machine, your RAM will be quite limited so you will not be able to train very deep or complex networks. This is ok for the demonstration purposes of the class, but for your own work you may want to use a native installation of Python and the related libraries so that you can use the full potential of your computer.\n",
    "\n",
    "Ofcourse classifying dogs and cats is a much more difficult problem than digit classification, so you should not expect to reach the same level of performance we did before. With an average sized network training over night on the virtual machine, you should be able to get at least 80% accuracy on the test dataset. Once you get a result you like, submit your work on this file as a pull request back to the main project."
   ]
  },
  {
   "cell_type": "code",
   "execution_count": 2,
   "metadata": {
    "collapsed": false
   },
   "outputs": [
    {
     "name": "stdout",
     "output_type": "stream",
     "text": [
      "(11620, 64, 64)\n",
      "64 64\n",
      "(11620, 64, 64, 1)\n",
      "(11620, 1)\n"
     ]
    }
   ],
   "source": [
    "## implement your CNN starting here.\n",
    "num_classes = 2\n",
    "img_rows, img_cols = X_train.shape[1],  X_train.shape[2]\n",
    "\n",
    "print X_train.shape\n",
    "print img_rows, img_cols\n",
    "\n",
    "if K.image_dim_ordering() == 'th':\n",
    "    X_train = X_train.reshape(X_train.shape[0], 1, img_rows, img_cols)\n",
    "    X_test = X_test.reshape(X_test.shape[0], 1, img_rows, img_cols)\n",
    "    input_shape = (1, img_rows, img_cols)\n",
    "else:\n",
    "    X_train = X_train.reshape(X_train.shape[0], img_rows, img_cols, 1)\n",
    "    X_test = X_test.reshape(X_test.shape[0], img_rows, img_cols, 1)\n",
    "    input_shape = (img_rows, img_cols, 1)\n",
    "\n",
    "Y_train = np_utils.to_categorical(y_train, num_classes)\n",
    "Y_test = np_utils.to_categorical(y_test, num_classes)\n",
    "\n",
    "print X_train.shape\n",
    "print y_train.shape"
   ]
  },
  {
   "cell_type": "code",
   "execution_count": 3,
   "metadata": {
    "collapsed": false
   },
   "outputs": [
    {
     "name": "stdout",
     "output_type": "stream",
     "text": [
      "(64, 64)\n",
      "(11620, 1)\n"
     ]
    },
    {
     "data": {
      "text/plain": [
       "<matplotlib.image.AxesImage at 0x7f8da0139990>"
      ]
     },
     "execution_count": 3,
     "metadata": {},
     "output_type": "execute_result"
    },
    {
     "data": {
      "image/png": "[encoded data removed]",
      "text/plain": [
       "<matplotlib.figure.Figure at 0x7f8db4b27dd0>"
      ]
     },
     "metadata": {},
     "output_type": "display_data"
    }
   ],
   "source": [
    "%matplotlib inline\n",
    "from matplotlib.pyplot import imshow\n",
    "import matplotlib.pyplot as plt\n",
    "\n",
    "img_num = 0\n",
    "\n",
    "if K.image_dim_ordering() == 'th':\n",
    "    img = X_train[img_num][0,:,:]\n",
    "else:\n",
    "    img = X_train[img_num][:,:,0]\n",
    "\n",
    "print img.shape\n",
    "print y_train.shape\n",
    "imshow(img, cmap = plt.get_cmap('gray'), vmin = 0, vmax = 1,  interpolation='nearest')"
   ]
  },
  {
   "cell_type": "code",
   "execution_count": 6,
   "metadata": {
    "collapsed": false
   },
   "outputs": [],
   "source": [
    "# model hyperparameters\n",
    "batch_size = 128\n",
    "nb_epoch = 40\n",
    "\n",
    "# network architecture\n",
    "patch_size_1 = 3\n",
    "patch_size_2 = 3\n",
    "patch_size_3 = 3\n",
    "\n",
    "\n",
    "pool_size = 2\n",
    "\n",
    "num_hidden_1 = 1000\n",
    "num_hidden_2 = 1000\n",
    "num_hidden_3 = 1000\n",
    "dropout = 0.5"
   ]
  },
  {
   "cell_type": "code",
   "execution_count": 7,
   "metadata": {
    "collapsed": false
   },
   "outputs": [],
   "source": [
    "# create new Keras Sequential model\n",
    "model = Sequential()\n",
    "\n",
    "# add first convolutional layer to model and specify it's depth and filter size\n",
    "# for the first layer we also have to specify the size of each input image\n",
    "# which we calculated above\n",
    "model.add(Convolution2D(20, 3, 3,\n",
    "                        border_mode='valid',\n",
    "                        input_shape=input_shape))\n",
    "# apply 'relu' activation function for first layer\n",
    "model.add(Activation('relu'))\n",
    "# apply max pooling to reduce the size of the image by a factor of 2\n",
    "model.add(MaxPooling2D(pool_size=(pool_size, pool_size)))\n",
    "\n",
    "# repeat these operations for the second convolutional layer\n",
    "# this time Keras can figure out the input size \n",
    "# from the previous layer on it's own\n",
    "model.add(Convolution2D(40, 3, 3,border_mode='valid'))\n",
    "model.add(Activation('relu'))\n",
    "model.add(MaxPooling2D(pool_size=(pool_size, pool_size)))\n",
    "\n",
    "\n",
    "model.add(Convolution2D(80, 3, 3,border_mode='valid'))\n",
    "model.add(Activation('relu'))\n",
    "model.add(MaxPooling2D(pool_size=(pool_size, pool_size)))\n",
    "# flatten the three-dimensional convolutional layer to a single layer of neurons\n",
    "model.add(Flatten())\n",
    "\n",
    "# add the first fully connected layer, applying 'relu' activation and dropout\n",
    "model.add(Dense(num_hidden_1))\n",
    "model.add(Activation('relu'))\n",
    "model.add(Dropout(dropout))\n",
    "\n",
    "# add the second fully connected layer\n",
    "model.add(Dense(num_hidden_2))\n",
    "model.add(Activation('relu'))\n",
    "model.add(Dropout(dropout))\n",
    "\n",
    "model.add(Dense(num_hidden_3))\n",
    "model.add(Activation('relu'))\n",
    "model.add(Dropout(dropout))\n",
    "\n",
    "# add the final classification layer with the number of neurons \n",
    "# matching the number of classes we are trying to learn\n",
    "model.add(Dense(num_classes))\n",
    "\n",
    "# apply the 'softmax' activation to the final layer to convert the output to \n",
    "# a probability distribution\n",
    "model.add(Activation('softmax'))"
   ]
  },
  {
   "cell_type": "code",
   "execution_count": 8,
   "metadata": {
    "collapsed": false
   },
   "outputs": [],
   "source": [
    "model.compile(loss='categorical_crossentropy',\n",
    "              optimizer='adadelta',\n",
    "              metrics=['accuracy'])"
   ]
  },
  {
   "cell_type": "code",
   "execution_count": 9,
   "metadata": {
    "collapsed": false
   },
   "outputs": [
    {
     "name": "stdout",
     "output_type": "stream",
     "text": [
      "Train on 11620 samples, validate on 4980 samples\n",
      "Epoch 1/40\n",
      "11620/11620 [==============================] - 64s - loss: 0.6930 - acc: 0.5053 - val_loss: 0.6910 - val_acc: 0.5195\n",
      "Epoch 2/40\n",
      "11620/11620 [==============================] - 58s - loss: 0.6874 - acc: 0.5397 - val_loss: 0.6705 - val_acc: 0.6040\n",
      "Epoch 3/40\n",
      "11620/11620 [==============================] - 59s - loss: 0.6711 - acc: 0.5915 - val_loss: 0.6486 - val_acc: 0.6309\n",
      "Epoch 4/40\n",
      "11620/11620 [==============================] - 59s - loss: 0.6582 - acc: 0.6145 - val_loss: 0.6352 - val_acc: 0.6442\n",
      "Epoch 5/40\n",
      "11620/11620 [==============================] - 59s - loss: 0.6455 - acc: 0.6358 - val_loss: 0.6679 - val_acc: 0.5916\n",
      "Epoch 6/40\n",
      "11620/11620 [==============================] - 59s - loss: 0.6339 - acc: 0.6456 - val_loss: 0.6094 - val_acc: 0.6777\n",
      "Epoch 7/40\n",
      "11620/11620 [==============================] - 59s - loss: 0.6075 - acc: 0.6745 - val_loss: 0.6455 - val_acc: 0.6191\n",
      "Epoch 8/40\n",
      "11620/11620 [==============================] - 59s - loss: 0.5797 - acc: 0.6987 - val_loss: 0.5519 - val_acc: 0.7217\n",
      "Epoch 9/40\n",
      "11620/11620 [==============================] - 59s - loss: 0.5521 - acc: 0.7228 - val_loss: 0.5294 - val_acc: 0.7315\n",
      "Epoch 10/40\n",
      "11620/11620 [==============================] - 59s - loss: 0.5240 - acc: 0.7381 - val_loss: 0.4921 - val_acc: 0.7612\n",
      "Epoch 11/40\n",
      "11620/11620 [==============================] - 60s - loss: 0.4918 - acc: 0.7619 - val_loss: 0.4773 - val_acc: 0.7693\n",
      "Epoch 12/40\n",
      "11620/11620 [==============================] - 58s - loss: 0.4694 - acc: 0.7787 - val_loss: 0.4672 - val_acc: 0.7765\n",
      "Epoch 13/40\n",
      "11620/11620 [==============================] - 58s - loss: 0.4467 - acc: 0.7916 - val_loss: 0.5153 - val_acc: 0.7394\n",
      "Epoch 14/40\n",
      "11620/11620 [==============================] - 59s - loss: 0.4203 - acc: 0.8103 - val_loss: 0.4559 - val_acc: 0.7861\n",
      "Epoch 15/40\n",
      "11620/11620 [==============================] - 59s - loss: 0.4030 - acc: 0.8168 - val_loss: 0.4571 - val_acc: 0.7865\n",
      "Epoch 16/40\n",
      "11620/11620 [==============================] - 58s - loss: 0.3683 - acc: 0.8371 - val_loss: 0.4763 - val_acc: 0.7914\n",
      "Epoch 17/40\n",
      "11620/11620 [==============================] - 58s - loss: 0.3448 - acc: 0.8508 - val_loss: 0.4616 - val_acc: 0.7986\n",
      "Epoch 18/40\n",
      "11620/11620 [==============================] - 59s - loss: 0.3029 - acc: 0.8750 - val_loss: 0.5286 - val_acc: 0.7721\n",
      "Epoch 19/40\n",
      "11620/11620 [==============================] - 59s - loss: 0.2843 - acc: 0.8812 - val_loss: 0.4609 - val_acc: 0.8044\n",
      "Epoch 20/40\n",
      "11620/11620 [==============================] - 59s - loss: 0.2369 - acc: 0.9060 - val_loss: 0.4903 - val_acc: 0.8002\n",
      "Epoch 21/40\n",
      "11620/11620 [==============================] - 59s - loss: 0.2078 - acc: 0.9169 - val_loss: 0.5008 - val_acc: 0.8046\n",
      "Epoch 22/40\n",
      "11620/11620 [==============================] - 59s - loss: 0.1540 - acc: 0.9427 - val_loss: 0.5348 - val_acc: 0.8018\n",
      "Epoch 23/40\n",
      "11620/11620 [==============================] - 60s - loss: 0.1130 - acc: 0.9592 - val_loss: 0.5833 - val_acc: 0.8000\n",
      "Epoch 24/40\n",
      "11620/11620 [==============================] - 60s - loss: 0.0995 - acc: 0.9653 - val_loss: 0.6580 - val_acc: 0.7996\n",
      "Epoch 25/40\n",
      "11620/11620 [==============================] - 60s - loss: 0.0580 - acc: 0.9806 - val_loss: 0.7508 - val_acc: 0.8060\n",
      "Epoch 26/40\n",
      "11620/11620 [==============================] - 60s - loss: 0.0531 - acc: 0.9815 - val_loss: 0.7638 - val_acc: 0.8062\n",
      "Epoch 27/40\n",
      "11620/11620 [==============================] - 59s - loss: 0.0335 - acc: 0.9883 - val_loss: 0.8289 - val_acc: 0.8064\n",
      "Epoch 28/40\n",
      "11620/11620 [==============================] - 60s - loss: 0.0395 - acc: 0.9857 - val_loss: 0.8671 - val_acc: 0.8060\n",
      "Epoch 29/40\n",
      "11620/11620 [==============================] - 60s - loss: 0.0235 - acc: 0.9923 - val_loss: 0.9745 - val_acc: 0.8098\n",
      "Epoch 30/40\n",
      "11620/11620 [==============================] - 60s - loss: 0.0214 - acc: 0.9925 - val_loss: 1.0334 - val_acc: 0.8060\n",
      "Epoch 31/40\n",
      "11620/11620 [==============================] - 59s - loss: 0.0274 - acc: 0.9907 - val_loss: 0.9903 - val_acc: 0.8042\n",
      "Epoch 32/40\n",
      "11620/11620 [==============================] - 59s - loss: 0.0102 - acc: 0.9968 - val_loss: 1.0670 - val_acc: 0.8066\n",
      "Epoch 33/40\n",
      "11620/11620 [==============================] - 59s - loss: 0.0160 - acc: 0.9948 - val_loss: 1.0869 - val_acc: 0.8098\n",
      "Epoch 34/40\n",
      "11620/11620 [==============================] - 59s - loss: 0.0165 - acc: 0.9945 - val_loss: 1.0777 - val_acc: 0.8036\n",
      "Epoch 35/40\n",
      "11620/11620 [==============================] - 59s - loss: 0.0146 - acc: 0.9950 - val_loss: 1.0956 - val_acc: 0.8088\n",
      "Epoch 36/40\n",
      "11620/11620 [==============================] - 59s - loss: 0.0098 - acc: 0.9968 - val_loss: 1.1685 - val_acc: 0.8074\n",
      "Epoch 37/40\n",
      "11620/11620 [==============================] - 59s - loss: 0.0097 - acc: 0.9970 - val_loss: 1.1887 - val_acc: 0.8076\n",
      "Epoch 38/40\n",
      "11620/11620 [==============================] - 60s - loss: 0.0073 - acc: 0.9977 - val_loss: 1.2353 - val_acc: 0.8106\n",
      "Epoch 39/40\n",
      "11620/11620 [==============================] - 60s - loss: 0.0138 - acc: 0.9956 - val_loss: 1.2255 - val_acc: 0.8046\n",
      "Epoch 40/40\n",
      "11620/11620 [==============================] - 59s - loss: 0.0141 - acc: 0.9952 - val_loss: 1.1544 - val_acc: 0.8153\n"
     ]
    },
    {
     "data": {
      "text/plain": [
       "<keras.callbacks.History at 0x7f8d9aadafd0>"
      ]
     },
     "execution_count": 9,
     "metadata": {},
     "output_type": "execute_result"
    }
   ],
   "source": [
    "model.fit(X_train, Y_train, batch_size=batch_size, nb_epoch=nb_epoch,\n",
    "          verbose=1, validation_data=(X_test, Y_test))"
   ]
  },
  {
   "cell_type": "code",
   "execution_count": 10,
   "metadata": {
    "collapsed": false
   },
   "outputs": [
    {
     "name": "stdout",
     "output_type": "stream",
     "text": [
      "Test score: 1.15441410652\n",
      "Test accuracy: 81.53%\n"
     ]
    }
   ],
   "source": [
    "score = model.evaluate(X_test, Y_test, verbose=0)\n",
    "\n",
    "print 'Test score:', score[0]\n",
    "print 'Test accuracy: {:.2%}'.format(score[1])"
   ]
  },
  {
   "cell_type": "code",
   "execution_count": null,
   "metadata": {
    "collapsed": true
   },
   "outputs": [],
   "source": []
  }
 ],
 "metadata": {
  "anaconda-cloud": {},
  "kernelspec": {
   "display_name": "Python [default]",
   "language": "python",
   "name": "python2"
  },
  "language_info": {
   "codemirror_mode": {
    "name": "ipython",
    "version": 2
   },
   "file_extension": ".py",
   "mimetype": "text/x-python",
   "name": "python",
   "nbconvert_exporter": "python",
   "pygments_lexer": "ipython2",
   "version": "2.7.12"
  }
 },
 "nbformat": 4,
 "nbformat_minor": 1
}
