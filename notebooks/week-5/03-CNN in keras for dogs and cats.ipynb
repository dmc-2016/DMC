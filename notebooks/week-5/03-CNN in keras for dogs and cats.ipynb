{
 "cells": [
  {
   "cell_type": "markdown",
   "metadata": {},
   "source": [
    "## Lab 5.3 - CNN for cats and dogs\n",
    "\n",
    "Now that we have imported our custom image data, formatted them as proper feature and target numpy arrays, and split them between individual training and test data sets, we can use Keras to create another Convolutional Neural Network (CNN) and train it to classify images of cats and dogs (the holy grail of Arificial Intelligence!)\n",
    "\n",
    "First, let's use the pickle library to bring in the data sets we generated in the previous part of the lab:"
   ]
  },
  {
   "cell_type": "code",
   "execution_count": 5,
   "metadata": {
    "collapsed": false
   },
   "outputs": [
    {
     "name": "stdout",
     "output_type": "stream",
     "text": [
      "('Training set', (14000, 64, 64), (14000, 1))\n",
      "('Test set', (6000, 64, 64), (6000, 1))\n"
     ]
    }
   ],
   "source": [
    "import pickle\n",
    "\n",
    "pickle_file = '-catsdogs.pickle'\n",
    "\n",
    "with open(pickle_file, 'rb') as f:\n",
    "    save = pickle.load(f)\n",
    "    X_train = save['X_train']\n",
    "    y_train = save['y_train']\n",
    "    X_test = save['X_test']\n",
    "    y_test = save['y_test']\n",
    "    del save  # hint to help gc free up memory\n",
    "    print('Training set', X_train.shape, y_train.shape)\n",
    "    print('Test set', X_test.shape, y_test.shape)"
   ]
  },
  {
   "cell_type": "markdown",
   "metadata": {},
   "source": [
    "Now that the data is imported, go through and implement the CNN from scratch based on the one developed in Lab 5.1. \n",
    "\n",
    "Experiment with different hyper-parameters as well as different architectures for your network. If you're not getting the results you want try a deeper network by adding more convolutional or fully connected layers. Remember that with CNN's, all convolutional layers should go in the beginning, and the fully connected layers should go at the end. You can also try to make the network 'wider' by adding more depth to each convolutional layer or more neurons to the fully connected layers. If you are noticing problems with over-fitting you can experiment with larger dropout rates or other regularlization strategies.\n",
    "\n",
    "You can also experiment with filters of a larger size in the convolutional layers. Larger filters will capture more information in the image at the expense of longer training times. For more information about the tradeoffs between depth and width in a CNN, you can read this paper: \n",
    "\n",
    "https://arxiv.org/pdf/1409.1556.pdf\n",
    "\n",
    "Known as the 'VGG paper', this research is currently one of the state-of-the-art benchmarks for image recognition using CNN's. The authors' hypothesis for the paper was that depth in a CNN (total number of layers) is much more important than the size of the filters or the depth within each convolutional layer. Thus they used very small filter sizes (only 3x3) but focused on making the networks as deep as possible. If you are still getting poor results and want to develop a deeper network, a good place to start would be to try to implement one of the networks from the 'VGG paper'. The deepest ones will probably take too long to train without having a dedicated graphics card, but you should be able to train one of the medium ones (for example network 'B') using just the virtual machine developed in the first lab.\n",
    "\n",
    "Just like when we initially loaded the data, with large networks you again run the risk of overloading your RAM memory, which will either throw an error during model compilation or training, or cause your Python kernel to crash. If you run into these issues, try reducing the complexity of your network (either using less layers, or reducing the depth of each layer) or using a smaller mini-batch size. If you are using the virtual machine, your RAM will be quite limited so you will not be able to train very deep or complex networks. This is ok for the demonstration purposes of the class, but for your own work you may want to use a native installation of Python and the related libraries so that you can use the full potential of your computer.\n",
    "\n",
    "Ofcourse classifying dogs and cats is a much more difficult problem than digit classification, so you should not expect to reach the same level of performance we did before. With an average sized network training over night on the virtual machine, you should be able to get at least 80% accuracy on the test dataset. Once you get a result you like, submit your work on this file as a pull request back to the main project."
   ]
  },
  {
   "cell_type": "code",
   "execution_count": 6,
   "metadata": {
    "collapsed": false
   },
   "outputs": [
    {
     "name": "stdout",
     "output_type": "stream",
     "text": [
      "using ordering: tf\n"
     ]
    }
   ],
   "source": [
    "import numpy as np\n",
    "np.random.seed(1337)  # for reproducibility\n",
    "\n",
    "from keras.datasets import mnist\n",
    "from keras.models import Sequential\n",
    "from keras.layers import Dense, Dropout, Activation, Flatten\n",
    "from keras.layers import Convolution2D, MaxPooling2D\n",
    "from keras.utils import np_utils\n",
    "from keras import backend as K\n",
    "\n",
    "import pickle\n",
    "\n",
    "print \"using ordering:\", K.image_dim_ordering()\n",
    "\n",
    "## implement your CNN starting here."
   ]
  },
  {
   "cell_type": "code",
   "execution_count": 7,
   "metadata": {
    "collapsed": false
   },
   "outputs": [
    {
     "name": "stdout",
     "output_type": "stream",
     "text": [
      "(14000, 64, 64, 1)\n",
      "(14000, 1)\n"
     ]
    }
   ],
   "source": [
    "# number of classes\n",
    "num_classes = 2\n",
    "\n",
    "# image dimensions\n",
    "img_rows, img_cols = X_train.shape[1],  X_train.shape[2]\n",
    "\n",
    "if K.image_dim_ordering() == 'th':\n",
    "    X_train = X_train.reshape(X_train.shape[0], 1, img_rows, img_cols)\n",
    "    X_test = X_test.reshape(X_test.shape[0], 1, img_rows, img_cols)\n",
    "    input_shape = (1, img_rows, img_cols)\n",
    "else:\n",
    "    X_train = X_train.reshape(X_train.shape[0], img_rows, img_cols, 1)\n",
    "    X_test = X_test.reshape(X_test.shape[0], img_rows, img_cols, 1)\n",
    "    input_shape = (img_rows, img_cols, 1)\n",
    "\n",
    "Y_train = np_utils.to_categorical(y_train, num_classes)\n",
    "Y_test = np_utils.to_categorical(y_test, num_classes)\n",
    "\n",
    "print X_train.shape\n",
    "print y_train.shape"
   ]
  },
  {
   "cell_type": "code",
   "execution_count": 8,
   "metadata": {
    "collapsed": false
   },
   "outputs": [
    {
     "name": "stdout",
     "output_type": "stream",
     "text": [
      "(64, 64)\n",
      "(14000, 1)\n"
     ]
    },
    {
     "data": {
      "text/plain": [
       "<matplotlib.image.AxesImage at 0x7fe13c59fa50>"
      ]
     },
     "execution_count": 8,
     "metadata": {},
     "output_type": "execute_result"
    },
    {
     "data": {
      "image/png": "[encoded data removed]",
      "text/plain": [
       "<matplotlib.figure.Figure at 0x7fe1296847d0>"
      ]
     },
     "metadata": {},
     "output_type": "display_data"
    }
   ],
   "source": [
    "%matplotlib inline\n",
    "from matplotlib.pyplot import imshow\n",
    "import matplotlib.pyplot as plt\n",
    "\n",
    "img_num = 0\n",
    "\n",
    "if K.image_dim_ordering() == 'th':\n",
    "    img = X_train[img_num][0,:,:]\n",
    "else:\n",
    "    img = X_train[img_num][:,:,0]\n",
    "\n",
    "print img.shape\n",
    "print y_train.shape\n",
    "imshow(img, cmap = plt.get_cmap('gray'), vmin = 0, vmax = 1,  interpolation='nearest')"
   ]
  },
  {
   "cell_type": "code",
   "execution_count": 9,
   "metadata": {
    "collapsed": true
   },
   "outputs": [],
   "source": [
    "# model hyperparameters\n",
    "batch_size = 128\n",
    "nb_epoch = 50\n",
    "\n",
    "# network architecture\n",
    "patch_size_1 = 3\n",
    "patch_size_2 = 3\n",
    "patch_size_3 = 3\n",
    "\n",
    "depth_1 = 25\n",
    "depth_2 = 50\n",
    "depth_3 = 100\n",
    "\n",
    "pool_size = 2\n",
    "\n",
    "num_hidden_1 = 1500\n",
    "num_hidden_2 = 1500\n",
    "num_hidden_3 = 1500\n",
    "\n",
    "dropout = 0.8"
   ]
  },
  {
   "cell_type": "code",
   "execution_count": 10,
   "metadata": {
    "collapsed": false
   },
   "outputs": [],
   "source": [
    "# create new Keras Sequential model\n",
    "model = Sequential()\n",
    "\n",
    "# add first convolutional layer to model and specify it's depth and filter size\n",
    "# for the first layer we also have to specify the size of each input image\n",
    "# which we calculated above\n",
    "model.add(Convolution2D(depth_1, patch_size_1, patch_size_1,\n",
    "                        border_mode='valid',\n",
    "                        input_shape=input_shape))\n",
    "# apply 'relu' activation function for first layer\n",
    "model.add(Activation('relu'))\n",
    "# apply max pooling to reduce the size of the image by a factor of 2\n",
    "model.add(MaxPooling2D(pool_size=(pool_size, pool_size)))\n",
    "\n",
    "# repeat these operations for the second convolutional layer\n",
    "# this time Keras can figure out the input size \n",
    "# from the previous layer on it's own\n",
    "model.add(Convolution2D(depth_2, patch_size_2, patch_size_2,\n",
    "                        border_mode='valid'))\n",
    "model.add(Activation('relu'))\n",
    "model.add(MaxPooling2D(pool_size=(pool_size, pool_size)))\n",
    "\n",
    "model.add(Convolution2D(depth_3, patch_size_3, patch_size_3,\n",
    "                        border_mode='valid'))\n",
    "model.add(Activation('relu'))\n",
    "model.add(MaxPooling2D(pool_size=(pool_size, pool_size)))\n",
    "\n",
    "# flatten the three-dimensional convolutional layer to a single layer of neurons\n",
    "model.add(Flatten())\n",
    "\n",
    "# add the first fully connected layer, applying 'relu' activation and dropout\n",
    "model.add(Dense(num_hidden_1))\n",
    "model.add(Activation('relu'))\n",
    "model.add(Dropout(dropout))\n",
    "\n",
    "# add the second fully connected layer\n",
    "model.add(Dense(num_hidden_2))\n",
    "model.add(Activation('relu'))\n",
    "model.add(Dropout(dropout))\n",
    "\n",
    "model.add(Dense(num_hidden_3))\n",
    "model.add(Activation('relu'))\n",
    "model.add(Dropout(dropout))\n",
    "\n",
    "# add the final classification layer with the number of neurons \n",
    "# matching the number of classes we are trying to learn\n",
    "model.add(Dense(num_classes))\n",
    "\n",
    "# apply the 'softmax' activation to the final layer to convert the output to \n",
    "# a probability distribution\n",
    "model.add(Activation('softmax'))"
   ]
  },
  {
   "cell_type": "code",
   "execution_count": 11,
   "metadata": {
    "collapsed": true
   },
   "outputs": [],
   "source": [
    "model.compile(loss='categorical_crossentropy',\n",
    "              optimizer='adadelta',\n",
    "              metrics=['accuracy'])"
   ]
  },
  {
   "cell_type": "code",
   "execution_count": 12,
   "metadata": {
    "collapsed": false,
    "scrolled": true
   },
   "outputs": [
    {
     "name": "stdout",
     "output_type": "stream",
     "text": [
      "Train on 14000 samples, validate on 6000 samples\n",
      "Epoch 1/50\n",
      "14000/14000 [==============================] - 169s - loss: 0.6939 - acc: 0.4991 - val_loss: 0.6932 - val_acc: 0.5002\n",
      "Epoch 2/50\n",
      "14000/14000 [==============================] - 192s - loss: 0.6915 - acc: 0.5187 - val_loss: 0.7027 - val_acc: 0.4998\n",
      "Epoch 3/50\n",
      "14000/14000 [==============================] - 175s - loss: 0.6815 - acc: 0.5701 - val_loss: 0.6655 - val_acc: 0.6108\n",
      "Epoch 4/50\n",
      "14000/14000 [==============================] - 177s - loss: 0.6656 - acc: 0.6045 - val_loss: 0.6414 - val_acc: 0.6402\n",
      "Epoch 5/50\n",
      "14000/14000 [==============================] - 174s - loss: 0.6572 - acc: 0.6173 - val_loss: 0.6374 - val_acc: 0.6392\n",
      "Epoch 6/50\n",
      "14000/14000 [==============================] - 172s - loss: 0.6382 - acc: 0.6406 - val_loss: 0.5942 - val_acc: 0.6875\n",
      "Epoch 7/50\n",
      "14000/14000 [==============================] - 175s - loss: 0.6092 - acc: 0.6708 - val_loss: 0.5681 - val_acc: 0.7127\n",
      "Epoch 8/50\n",
      "14000/14000 [==============================] - 198s - loss: 0.5843 - acc: 0.6915 - val_loss: 0.5443 - val_acc: 0.7287\n",
      "Epoch 9/50\n",
      "14000/14000 [==============================] - 223s - loss: 0.5534 - acc: 0.7227 - val_loss: 0.5194 - val_acc: 0.7488\n",
      "Epoch 10/50\n",
      "14000/14000 [==============================] - 195s - loss: 0.5297 - acc: 0.7365 - val_loss: 0.4974 - val_acc: 0.7602\n",
      "Epoch 11/50\n",
      "14000/14000 [==============================] - 174s - loss: 0.4946 - acc: 0.7632 - val_loss: 0.4756 - val_acc: 0.7770\n",
      "Epoch 12/50\n",
      "14000/14000 [==============================] - 172s - loss: 0.4746 - acc: 0.7789 - val_loss: 0.4553 - val_acc: 0.7837\n",
      "Epoch 13/50\n",
      "14000/14000 [==============================] - 174s - loss: 0.4533 - acc: 0.7889 - val_loss: 0.4498 - val_acc: 0.7910\n",
      "Epoch 14/50\n",
      "14000/14000 [==============================] - 178s - loss: 0.4311 - acc: 0.8031 - val_loss: 0.4960 - val_acc: 0.7783\n",
      "Epoch 15/50\n",
      "14000/14000 [==============================] - 179s - loss: 0.4169 - acc: 0.8129 - val_loss: 0.4323 - val_acc: 0.8013\n",
      "Epoch 16/50\n",
      "14000/14000 [==============================] - 182s - loss: 0.3932 - acc: 0.8250 - val_loss: 0.4270 - val_acc: 0.8033\n",
      "Epoch 17/50\n",
      "14000/14000 [==============================] - 208s - loss: 0.3733 - acc: 0.8353 - val_loss: 0.4555 - val_acc: 0.8003\n",
      "Epoch 18/50\n",
      "14000/14000 [==============================] - 203s - loss: 0.3551 - acc: 0.8434 - val_loss: 0.4001 - val_acc: 0.8223\n",
      "Epoch 19/50\n",
      "14000/14000 [==============================] - 187s - loss: 0.3370 - acc: 0.8564 - val_loss: 0.4187 - val_acc: 0.8147\n",
      "Epoch 20/50\n",
      "14000/14000 [==============================] - 189s - loss: 0.3168 - acc: 0.8691 - val_loss: 0.4389 - val_acc: 0.8065\n",
      "Epoch 21/50\n",
      "14000/14000 [==============================] - 174s - loss: 0.3008 - acc: 0.8736 - val_loss: 0.4396 - val_acc: 0.8113\n",
      "Epoch 22/50\n",
      "14000/14000 [==============================] - 175s - loss: 0.2772 - acc: 0.8864 - val_loss: 0.4448 - val_acc: 0.8130\n",
      "Epoch 23/50\n",
      "14000/14000 [==============================] - 175s - loss: 0.2579 - acc: 0.8992 - val_loss: 0.4854 - val_acc: 0.8103\n",
      "Epoch 24/50\n",
      "14000/14000 [==============================] - 173s - loss: 0.2310 - acc: 0.9080 - val_loss: 0.4718 - val_acc: 0.8197\n",
      "Epoch 25/50\n",
      "14000/14000 [==============================] - 158s - loss: 0.2181 - acc: 0.9125 - val_loss: 0.4765 - val_acc: 0.8192\n",
      "Epoch 26/50\n",
      "14000/14000 [==============================] - 158s - loss: 0.1954 - acc: 0.9236 - val_loss: 0.6533 - val_acc: 0.7808\n",
      "Epoch 27/50\n",
      "14000/14000 [==============================] - 160s - loss: 0.1805 - acc: 0.9316 - val_loss: 0.5661 - val_acc: 0.8122\n",
      "Epoch 28/50\n",
      "14000/14000 [==============================] - 164s - loss: 0.1587 - acc: 0.9400 - val_loss: 0.6446 - val_acc: 0.7960\n",
      "Epoch 29/50\n",
      "14000/14000 [==============================] - 164s - loss: 0.1379 - acc: 0.9499 - val_loss: 0.6818 - val_acc: 0.8002\n",
      "Epoch 30/50\n",
      "14000/14000 [==============================] - 164s - loss: 0.1322 - acc: 0.9522 - val_loss: 0.5892 - val_acc: 0.8190\n",
      "Epoch 31/50\n",
      "14000/14000 [==============================] - 164s - loss: 0.1129 - acc: 0.9585 - val_loss: 0.7121 - val_acc: 0.8188\n",
      "Epoch 32/50\n",
      "14000/14000 [==============================] - 165s - loss: 0.1030 - acc: 0.9630 - val_loss: 0.6958 - val_acc: 0.8188\n",
      "Epoch 33/50\n",
      "14000/14000 [==============================] - 170s - loss: 0.0993 - acc: 0.9634 - val_loss: 0.7076 - val_acc: 0.8167\n",
      "Epoch 34/50\n",
      "14000/14000 [==============================] - 168s - loss: 0.0913 - acc: 0.9661 - val_loss: 0.7275 - val_acc: 0.8202\n",
      "Epoch 35/50\n",
      "14000/14000 [==============================] - 166s - loss: 0.0761 - acc: 0.9724 - val_loss: 0.8255 - val_acc: 0.8083\n",
      "Epoch 36/50\n",
      "14000/14000 [==============================] - 168s - loss: 0.0787 - acc: 0.9721 - val_loss: 0.8910 - val_acc: 0.8097\n",
      "Epoch 37/50\n",
      "14000/14000 [==============================] - 171s - loss: 0.0601 - acc: 0.9780 - val_loss: 0.8808 - val_acc: 0.8082\n",
      "Epoch 38/50\n",
      "14000/14000 [==============================] - 167s - loss: 0.0619 - acc: 0.9781 - val_loss: 0.8853 - val_acc: 0.8112\n",
      "Epoch 39/50\n",
      "14000/14000 [==============================] - 167s - loss: 0.0539 - acc: 0.9812 - val_loss: 0.9826 - val_acc: 0.8138\n",
      "Epoch 40/50\n",
      "14000/14000 [==============================] - 166s - loss: 0.0530 - acc: 0.9822 - val_loss: 0.9547 - val_acc: 0.8157\n",
      "Epoch 41/50\n",
      "14000/14000 [==============================] - 165s - loss: 0.0467 - acc: 0.9834 - val_loss: 0.9797 - val_acc: 0.8175\n",
      "Epoch 42/50\n",
      "14000/14000 [==============================] - 166s - loss: 0.0430 - acc: 0.9856 - val_loss: 0.9906 - val_acc: 0.8190\n",
      "Epoch 43/50\n",
      "14000/14000 [==============================] - 165s - loss: 0.0377 - acc: 0.9874 - val_loss: 1.0779 - val_acc: 0.8172\n",
      "Epoch 44/50\n",
      "14000/14000 [==============================] - 165s - loss: 0.0387 - acc: 0.9858 - val_loss: 1.1331 - val_acc: 0.8063\n",
      "Epoch 45/50\n",
      "14000/14000 [==============================] - 164s - loss: 0.0385 - acc: 0.9859 - val_loss: 1.2336 - val_acc: 0.8108\n",
      "Epoch 46/50\n",
      "14000/14000 [==============================] - 164s - loss: 0.0281 - acc: 0.9910 - val_loss: 1.1616 - val_acc: 0.8125\n",
      "Epoch 47/50\n",
      "14000/14000 [==============================] - 164s - loss: 0.0379 - acc: 0.9879 - val_loss: 1.1115 - val_acc: 0.8135\n",
      "Epoch 48/50\n",
      "14000/14000 [==============================] - 165s - loss: 0.0315 - acc: 0.9896 - val_loss: 1.1522 - val_acc: 0.8167\n",
      "Epoch 49/50\n",
      "14000/14000 [==============================] - 165s - loss: 0.0277 - acc: 0.9911 - val_loss: 1.2052 - val_acc: 0.8137\n",
      "Epoch 50/50\n",
      "14000/14000 [==============================] - 164s - loss: 0.0231 - acc: 0.9909 - val_loss: 1.2364 - val_acc: 0.8150\n"
     ]
    },
    {
     "data": {
      "text/plain": [
       "<keras.callbacks.History at 0x7fe1372bcb50>"
      ]
     },
     "execution_count": 12,
     "metadata": {},
     "output_type": "execute_result"
    }
   ],
   "source": [
    "model.fit(X_train, Y_train, batch_size=batch_size, nb_epoch=nb_epoch,\n",
    "          verbose=1, validation_data=(X_test, Y_test))"
   ]
  },
  {
   "cell_type": "code",
   "execution_count": 13,
   "metadata": {
    "collapsed": false
   },
   "outputs": [
    {
     "name": "stdout",
     "output_type": "stream",
     "text": [
      "Test score: 1.23641537555\n",
      "Test accuracy: 81.50%\n"
     ]
    }
   ],
   "source": [
    "score = model.evaluate(X_test, Y_test, verbose=0)\n",
    "\n",
    "print 'Test score:', score[0]\n",
    "print 'Test accuracy: {:.2%}'.format(score[1])"
   ]
  }
 ],
 "metadata": {
  "anaconda-cloud": {},
  "kernelspec": {
   "display_name": "Python 2",
   "language": "python",
   "name": "python2"
  },
  "language_info": {
   "codemirror_mode": {
    "name": "ipython",
    "version": 2
   },
   "file_extension": ".py",
   "mimetype": "text/x-python",
   "name": "python",
   "nbconvert_exporter": "python",
   "pygments_lexer": "ipython2",
   "version": "2.7.12"
  }
 },
 "nbformat": 4,
 "nbformat_minor": 1
}
