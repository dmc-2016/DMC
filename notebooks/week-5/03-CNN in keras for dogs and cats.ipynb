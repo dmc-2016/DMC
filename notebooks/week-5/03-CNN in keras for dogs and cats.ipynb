{
 "cells": [
  {
   "cell_type": "markdown",
   "metadata": {},
   "source": [
    "## Lab 5.3 - CNN for cats and dogs\n",
    "\n",
    "Now that we have imported our custom image data, formatted them as proper feature and target numpy arrays, and split them between individual training and test data sets, we can use Keras to create another Convolutional Neural Network (CNN) and train it to classify images of cats and dogs (the holy grail of Arificial Intelligence!)\n",
    "\n",
    "First, let's use the pickle library to bring in the data sets we generated in the previous part of the lab:"
   ]
  },
  {
   "cell_type": "code",
   "execution_count": 2,
   "metadata": {
    "collapsed": false
   },
   "outputs": [
    {
     "name": "stdout",
     "output_type": "stream",
     "text": [
      "using ordering: tf\n",
      "('Training set', (14000, 64, 64), (14000, 1))\n",
      "('Test set', (6000, 64, 64), (6000, 1))\n"
     ]
    }
   ],
   "source": [
    "import pickle\n",
    "from keras.models import Sequential\n",
    "from keras.layers import Dense, Dropout, Activation, Flatten\n",
    "from keras.layers import Convolution2D, MaxPooling2D, ZeroPadding2D\n",
    "from keras.utils import np_utils\n",
    "from keras.optimizers import SGD\n",
    "from keras import backend as K\n",
    "\n",
    "K.set_image_dim_ordering('tf')\n",
    "print \"using ordering:\", K.image_dim_ordering()\n",
    "\n",
    "pickle_file = '-catsdogs.pickle'\n",
    "\n",
    "with open(pickle_file, 'rb') as f:\n",
    "    save = pickle.load(f)\n",
    "    X_train = save['X_train']\n",
    "    y_train = save['y_train']\n",
    "    X_test = save['X_test']\n",
    "    y_test = save['y_test']\n",
    "    del save  # hint to help gc free up memory\n",
    "    print('Training set', X_train.shape, y_train.shape)\n",
    "    print('Test set', X_test.shape, y_test.shape)"
   ]
  },
  {
   "cell_type": "markdown",
   "metadata": {},
   "source": [
    "Now that the data is imported, go through and implement the CNN from scratch based on the one developed in Lab 5.1. \n",
    "\n",
    "Experiment with different hyper-parameters as well as different architectures for your network. If you're not getting the results you want try a deeper network by adding more convolutional or fully connected layers. Remember that with CNN's, all convolutional layers should go in the beginning, and the fully connected layers should go at the end. You can also try to make the network 'wider' by adding more depth to each convolutional layer or more neurons to the fully connected layers. If you are noticing problems with over-fitting you can experiment with larger dropout rates or other regularlization strategies.\n",
    "\n",
    "You can also experiment with filters of a larger size in the convolutional layers. Larger filters will capture more information in the image at the expense of longer training times. For more information about the tradeoffs between depth and width in a CNN, you can read this paper: \n",
    "\n",
    "https://arxiv.org/pdf/1409.1556.pdf\n",
    "\n",
    "Known as the 'VGG paper', this research is currently one of the state-of-the-art benchmarks for image recognition using CNN's. The authors' hypothesis for the paper was that depth in a CNN (total number of layers) is much more important than the size of the filters or the depth within each convolutional layer. Thus they used very small filter sizes (only 3x3) but focused on making the networks as deep as possible. If you are still getting poor results and want to develop a deeper network, a good place to start would be to try to implement one of the networks from the 'VGG paper'. The deepest ones will probably take too long to train without having a dedicated graphics card, but you should be able to train one of the medium ones (for example network 'B') using just the virtual machine developed in the first lab.\n",
    "\n",
    "Just like when we initially loaded the data, with large networks you again run the risk of overloading your RAM memory, which will either throw an error during model compilation or training, or cause your Python kernel to crash. If you run into these issues, try reducing the complexity of your network (either using less layers, or reducing the depth of each layer) or using a smaller mini-batch size. If you are using the virtual machine, your RAM will be quite limited so you will not be able to train very deep or complex networks. This is ok for the demonstration purposes of the class, but for your own work you may want to use a native installation of Python and the related libraries so that you can use the full potential of your computer.\n",
    "\n",
    "Ofcourse classifying dogs and cats is a much more difficult problem than digit classification, so you should not expect to reach the same level of performance we did before. With an average sized network training over night on the virtual machine, you should be able to get at least 80% accuracy on the test dataset. Once you get a result you like, submit your work on this file as a pull request back to the main project."
   ]
  },
  {
   "cell_type": "code",
   "execution_count": 3,
   "metadata": {
    "collapsed": false
   },
   "outputs": [
    {
     "name": "stdout",
     "output_type": "stream",
     "text": [
      "(14000, 64, 64)\n",
      "64 64\n",
      "(14000, 64, 64, 1)\n",
      "(14000, 1)\n"
     ]
    }
   ],
   "source": [
    "## implement your CNN starting here.\n",
    "num_classes = 2\n",
    "img_rows, img_cols = X_train.shape[1],  X_train.shape[2]\n",
    "\n",
    "print X_train.shape\n",
    "print img_rows, img_cols\n",
    "\n",
    "if K.image_dim_ordering() == 'th':\n",
    "    X_train = X_train.reshape(X_train.shape[0], 1, img_rows, img_cols)\n",
    "    X_test = X_test.reshape(X_test.shape[0], 1, img_rows, img_cols)\n",
    "    input_shape = (1, img_rows, img_cols)\n",
    "else:\n",
    "    X_train = X_train.reshape(X_train.shape[0], img_rows, img_cols, 1)\n",
    "    X_test = X_test.reshape(X_test.shape[0], img_rows, img_cols, 1)\n",
    "    input_shape = (img_rows, img_cols, 1)\n",
    "\n",
    "Y_train = np_utils.to_categorical(y_train, num_classes)\n",
    "Y_test = np_utils.to_categorical(y_test, num_classes)\n",
    "\n",
    "print X_train.shape\n",
    "print y_train.shape\n"
   ]
  },
  {
   "cell_type": "code",
   "execution_count": 4,
   "metadata": {
    "collapsed": false,
    "scrolled": true
   },
   "outputs": [
    {
     "name": "stdout",
     "output_type": "stream",
     "text": [
      "(64, 64)\n",
      "(14000, 1)\n"
     ]
    },
    {
     "data": {
      "text/plain": [
       "<matplotlib.image.AxesImage at 0x7f607d21eb10>"
      ]
     },
     "execution_count": 4,
     "metadata": {},
     "output_type": "execute_result"
    },
    {
     "data": {
      "image/png": "[encoded data removed]",
      "text/plain": [
       "<matplotlib.figure.Figure at 0x7f60a8049090>"
      ]
     },
     "metadata": {},
     "output_type": "display_data"
    }
   ],
   "source": [
    "%matplotlib inline\n",
    "from matplotlib.pyplot import imshow\n",
    "import matplotlib.pyplot as plt\n",
    "\n",
    "img_num = 0\n",
    "\n",
    "if K.image_dim_ordering() == 'th':\n",
    "    img = X_train[img_num][0,:,:]\n",
    "else:\n",
    "    img = X_train[img_num][:,:,0]\n",
    "\n",
    "print img.shape\n",
    "print y_train.shape\n",
    "imshow(img, cmap = plt.get_cmap('gray'), vmin = 0, vmax = 1,  interpolation='nearest')"
   ]
  },
  {
   "cell_type": "code",
   "execution_count": 5,
   "metadata": {
    "collapsed": true
   },
   "outputs": [],
   "source": [
    "# model hyperparameters\n",
    "batch_size = 128\n",
    "nb_epoch = 30\n",
    "\n",
    "# network architecture\n",
    "patch_size_1 = 3\n",
    "patch_size_2 = 3\n",
    "patch_size_3 = 3\n",
    "\n",
    "\n",
    "pool_size = 2\n",
    "\n",
    "num_hidden_1 = 1000\n",
    "num_hidden_2 = 1000\n",
    "num_hidden_3 = 1000\n",
    "dropout = 0.5\n",
    "\n"
   ]
  },
  {
   "cell_type": "code",
   "execution_count": null,
   "metadata": {
    "collapsed": true
   },
   "outputs": [],
   "source": []
  },
  {
   "cell_type": "code",
   "execution_count": 6,
   "metadata": {
    "collapsed": false
   },
   "outputs": [],
   "source": [
    "# create new Keras Sequential model\n",
    "model = Sequential()\n",
    "\n",
    "# add first convolutional layer to model and specify it's depth and filter size\n",
    "# for the first layer we also have to specify the size of each input image\n",
    "# which we calculated above\n",
    "model.add(Convolution2D(20, 3, 3,\n",
    "                        border_mode='valid',\n",
    "                        input_shape=input_shape))\n",
    "# apply 'relu' activation function for first layer\n",
    "model.add(Activation('relu'))\n",
    "# apply max pooling to reduce the size of the image by a factor of 2\n",
    "model.add(MaxPooling2D(pool_size=(pool_size, pool_size)))\n",
    "\n",
    "# repeat these operations for the second convolutional layer\n",
    "# this time Keras can figure out the input size \n",
    "# from the previous layer on it's own\n",
    "model.add(Convolution2D(40, 3, 3,border_mode='valid'))\n",
    "model.add(Activation('relu'))\n",
    "model.add(MaxPooling2D(pool_size=(pool_size, pool_size)))\n",
    "\n",
    "\n",
    "model.add(Convolution2D(80, 3, 3,border_mode='valid'))\n",
    "model.add(Activation('relu'))\n",
    "model.add(MaxPooling2D(pool_size=(pool_size, pool_size)))\n",
    "# flatten the three-dimensional convolutional layer to a single layer of neurons\n",
    "model.add(Flatten())\n",
    "\n",
    "# add the first fully connected layer, applying 'relu' activation and dropout\n",
    "model.add(Dense(num_hidden_1))\n",
    "model.add(Activation('relu'))\n",
    "model.add(Dropout(dropout))\n",
    "\n",
    "# add the second fully connected layer\n",
    "model.add(Dense(num_hidden_2))\n",
    "model.add(Activation('relu'))\n",
    "model.add(Dropout(dropout))\n",
    "\n",
    "model.add(Dense(num_hidden_3))\n",
    "model.add(Activation('relu'))\n",
    "model.add(Dropout(dropout))\n",
    "\n",
    "# add the final classification layer with the number of neurons \n",
    "# matching the number of classes we are trying to learn\n",
    "model.add(Dense(num_classes))\n",
    "\n",
    "# apply the 'softmax' activation to the final layer to convert the output to \n",
    "# a probability distribution\n",
    "model.add(Activation('softmax'))"
   ]
  },
  {
   "cell_type": "code",
   "execution_count": 7,
   "metadata": {
    "collapsed": true
   },
   "outputs": [],
   "source": [
    "model.compile(loss='categorical_crossentropy',\n",
    "              optimizer='adadelta',\n",
    "              metrics=['accuracy'])"
   ]
  },
  {
   "cell_type": "code",
   "execution_count": 8,
   "metadata": {
    "collapsed": false
   },
   "outputs": [
    {
     "name": "stdout",
     "output_type": "stream",
     "text": [
      "Train on 14000 samples, validate on 6000 samples\n",
      "Epoch 1/30\n",
      "14000/14000 [==============================] - 102s - loss: 0.6918 - acc: 0.5135 - val_loss: 0.9102 - val_acc: 0.5000\n",
      "Epoch 2/30\n",
      "14000/14000 [==============================] - 99s - loss: 0.6810 - acc: 0.5721 - val_loss: 0.6856 - val_acc: 0.5523\n",
      "Epoch 3/30\n",
      "14000/14000 [==============================] - 100s - loss: 0.6658 - acc: 0.6005 - val_loss: 0.6478 - val_acc: 0.6185\n",
      "Epoch 4/30\n",
      "14000/14000 [==============================] - 100s - loss: 0.6512 - acc: 0.6210 - val_loss: 0.6280 - val_acc: 0.6508\n",
      "Epoch 5/30\n",
      "14000/14000 [==============================] - 102s - loss: 0.6284 - acc: 0.6516 - val_loss: 0.6043 - val_acc: 0.6750\n",
      "Epoch 6/30\n",
      "14000/14000 [==============================] - 101s - loss: 0.5757 - acc: 0.7024 - val_loss: 0.6380 - val_acc: 0.6665\n",
      "Epoch 7/30\n",
      "14000/14000 [==============================] - 101s - loss: 0.5403 - acc: 0.7293 - val_loss: 0.5944 - val_acc: 0.6863\n",
      "Epoch 8/30\n",
      "14000/14000 [==============================] - 101s - loss: 0.5037 - acc: 0.7527 - val_loss: 0.4822 - val_acc: 0.7710\n",
      "Epoch 9/30\n",
      "14000/14000 [==============================] - 101s - loss: 0.4754 - acc: 0.7711 - val_loss: 0.5084 - val_acc: 0.7483\n",
      "Epoch 10/30\n",
      "14000/14000 [==============================] - 100s - loss: 0.4544 - acc: 0.7823 - val_loss: 0.4429 - val_acc: 0.7977\n",
      "Epoch 11/30\n",
      "14000/14000 [==============================] - 101s - loss: 0.4303 - acc: 0.7993 - val_loss: 0.4479 - val_acc: 0.7955\n",
      "Epoch 12/30\n",
      "14000/14000 [==============================] - 100s - loss: 0.4133 - acc: 0.8105 - val_loss: 0.4368 - val_acc: 0.8025\n",
      "Epoch 13/30\n",
      "14000/14000 [==============================] - 100s - loss: 0.3892 - acc: 0.8254 - val_loss: 0.4629 - val_acc: 0.7920\n",
      "Epoch 14/30\n",
      "14000/14000 [==============================] - 100s - loss: 0.3629 - acc: 0.8379 - val_loss: 0.4485 - val_acc: 0.7953\n",
      "Epoch 15/30\n",
      "14000/14000 [==============================] - 3950s - loss: 0.3376 - acc: 0.8508 - val_loss: 0.4272 - val_acc: 0.7993\n",
      "Epoch 16/30\n",
      "14000/14000 [==============================] - 105s - loss: 0.3117 - acc: 0.8674 - val_loss: 0.4250 - val_acc: 0.8113\n",
      "Epoch 17/30\n",
      "14000/14000 [==============================] - 100s - loss: 0.2739 - acc: 0.8837 - val_loss: 0.4837 - val_acc: 0.8062\n",
      "Epoch 18/30\n",
      "14000/14000 [==============================] - 101s - loss: 0.2419 - acc: 0.9025 - val_loss: 0.5036 - val_acc: 0.8085\n",
      "Epoch 19/30\n",
      "14000/14000 [==============================] - 100s - loss: 0.1968 - acc: 0.9238 - val_loss: 0.5161 - val_acc: 0.7982\n",
      "Epoch 20/30\n",
      "14000/14000 [==============================] - 105s - loss: 0.1634 - acc: 0.9391 - val_loss: 0.6061 - val_acc: 0.8037\n",
      "Epoch 21/30\n",
      "14000/14000 [==============================] - 3159s - loss: 0.1323 - acc: 0.9506 - val_loss: 0.5785 - val_acc: 0.8125\n",
      "Epoch 22/30\n",
      "14000/14000 [==============================] - 101s - loss: 0.1090 - acc: 0.9614 - val_loss: 0.6153 - val_acc: 0.8093\n",
      "Epoch 23/30\n",
      "14000/14000 [==============================] - 1980s - loss: 0.0664 - acc: 0.9771 - val_loss: 0.6869 - val_acc: 0.8160\n",
      "Epoch 24/30\n",
      "14000/14000 [==============================] - 102s - loss: 0.0610 - acc: 0.9783 - val_loss: 0.7170 - val_acc: 0.8178\n",
      "Epoch 25/30\n",
      "14000/14000 [==============================] - 102s - loss: 0.0379 - acc: 0.9878 - val_loss: 0.8090 - val_acc: 0.8102\n",
      "Epoch 26/30\n",
      "14000/14000 [==============================] - 104s - loss: 0.0411 - acc: 0.9856 - val_loss: 0.8490 - val_acc: 0.8162\n",
      "Epoch 27/30\n",
      "14000/14000 [==============================] - 103s - loss: 0.0267 - acc: 0.9909 - val_loss: 0.8639 - val_acc: 0.8207\n",
      "Epoch 28/30\n",
      "14000/14000 [==============================] - 100s - loss: 0.0226 - acc: 0.9927 - val_loss: 0.9970 - val_acc: 0.8178\n",
      "Epoch 29/30\n",
      "14000/14000 [==============================] - 101s - loss: 0.0212 - acc: 0.9924 - val_loss: 0.9637 - val_acc: 0.8147\n",
      "Epoch 30/30\n",
      "14000/14000 [==============================] - 103s - loss: 0.0257 - acc: 0.9914 - val_loss: 1.0599 - val_acc: 0.8172\n"
     ]
    },
    {
     "data": {
      "text/plain": [
       "<keras.callbacks.History at 0x7f607d245490>"
      ]
     },
     "execution_count": 8,
     "metadata": {},
     "output_type": "execute_result"
    }
   ],
   "source": [
    "model.fit(X_train, Y_train, batch_size=batch_size, nb_epoch=nb_epoch,\n",
    "          verbose=1, validation_data=(X_test, Y_test))"
   ]
  },
  {
   "cell_type": "code",
   "execution_count": 9,
   "metadata": {
    "collapsed": false
   },
   "outputs": [
    {
     "name": "stdout",
     "output_type": "stream",
     "text": [
      "Test score: 1.05992142534\n",
      "Test accuracy: 81.72%\n"
     ]
    }
   ],
   "source": [
    "score = model.evaluate(X_test, Y_test, verbose=0)\n",
    "\n",
    "print 'Test score:', score[0]\n",
    "print 'Test accuracy: {:.2%}'.format(score[1])"
   ]
  },
  {
   "cell_type": "code",
   "execution_count": null,
   "metadata": {
    "collapsed": true
   },
   "outputs": [],
   "source": []
  }
 ],
 "metadata": {
  "anaconda-cloud": {},
  "kernelspec": {
   "display_name": "Python [default]",
   "language": "python",
   "name": "python2"
  },
  "language_info": {
   "codemirror_mode": {
    "name": "ipython",
    "version": 2
   },
   "file_extension": ".py",
   "mimetype": "text/x-python",
   "name": "python",
   "nbconvert_exporter": "python",
   "pygments_lexer": "ipython2",
   "version": "2.7.12"
  }
 },
 "nbformat": 4,
 "nbformat_minor": 1
}
