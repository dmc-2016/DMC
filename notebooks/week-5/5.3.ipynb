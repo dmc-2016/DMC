{
 "cells": [
  {
   "cell_type": "code",
   "execution_count": 1,
   "metadata": {
    "collapsed": false
   },
   "outputs": [
    {
     "name": "stdout",
     "output_type": "stream",
     "text": [
      "('Training set', (14000, 64, 64), (14000, 1))\n",
      "('Test set', (6000, 64, 64), (6000, 1))\n"
     ]
    }
   ],
   "source": [
    "\n",
    "import pickle\n",
    "\n",
    "pickle_file = '-catsdogs.pickle'\n",
    "\n",
    "with open(pickle_file, 'rb') as f:\n",
    "    save = pickle.load(f)\n",
    "    X_train = save['X_train']\n",
    "    y_train = save['y_train']\n",
    "    X_test = save['X_test']\n",
    "    y_test = save['y_test']\n",
    "    del save  # hint to help gc free up memory\n",
    "    print('Training set', X_train.shape, y_train.shape)\n",
    "    print('Test set', X_test.shape, y_test.shape)"
   ]
  },
  {
   "cell_type": "code",
   "execution_count": 2,
   "metadata": {
    "collapsed": false
   },
   "outputs": [
    {
     "name": "stderr",
     "output_type": "stream",
     "text": [
      "Using TensorFlow backend.\n"
     ]
    },
    {
     "name": "stdout",
     "output_type": "stream",
     "text": [
      "using ordering: tf\n"
     ]
    }
   ],
   "source": [
    "## implement your CNN starting here.\n",
    "import pickle\n",
    "from keras.models import Sequential\n",
    "from keras.layers import Dense, Dropout, Activation, Flatten\n",
    "from keras.layers import Convolution2D, MaxPooling2D, ZeroPadding2D\n",
    "from keras.utils import np_utils\n",
    "from keras.optimizers import SGD\n",
    "from keras import backend as K\n",
    "\n",
    "K.set_image_dim_ordering('tf')\n",
    "\n",
    "print \"using ordering:\", K.image_dim_ordering()"
   ]
  },
  {
   "cell_type": "code",
   "execution_count": 3,
   "metadata": {
    "collapsed": false
   },
   "outputs": [
    {
     "name": "stdout",
     "output_type": "stream",
     "text": [
      "(14000, 64, 64)\n",
      "64 64\n",
      "(14000, 64, 64, 1)\n",
      "(14000, 1)\n"
     ]
    }
   ],
   "source": [
    "num_classes = 2\n",
    "img_rows, img_cols = X_train.shape[1],  X_train.shape[2]\n",
    "\n",
    "print X_train.shape\n",
    "print img_rows, img_cols\n",
    "\n",
    "if K.image_dim_ordering()== 'th':\n",
    "    X_train = X_train.reshape(X_train.shape[0],1, img_rows, img_cols)\n",
    "    X_test = X_test.reshape(X_test.shape[0], 1, img_rows, img_cols)\n",
    "    input_shape = (1, img_rows, img_cols)\n",
    "else:\n",
    "    X_train = X_train.reshape(X_train.shape[0], img_rows, img_cols, 1)\n",
    "    X_test = X_test.reshape(X_test.shape[0], img_rows, img_cols, 1)\n",
    "    input_shape = (img_rows, img_cols, 1)\n",
    "\n",
    "Y_train = np_utils.to_categorical(y_train, num_classes)\n",
    "Y_test = np_utils.to_categorical(y_test, num_classes)\n",
    "\n",
    "print X_train.shape\n",
    "print y_train.shape"
   ]
  },
  {
   "cell_type": "code",
   "execution_count": 4,
   "metadata": {
    "collapsed": false
   },
   "outputs": [
    {
     "name": "stdout",
     "output_type": "stream",
     "text": [
      "(64, 64)\n",
      "(14000, 1)\n"
     ]
    },
    {
     "data": {
      "text/plain": [
       "<matplotlib.image.AxesImage at 0x7f13d211b9d0>"
      ]
     },
     "execution_count": 4,
     "metadata": {},
     "output_type": "execute_result"
    },
    {
     "data": {
      "image/png": "[encoded data removed]",
      "text/plain": [
       "<matplotlib.figure.Figure at 0x7f13d67a1d50>"
      ]
     },
     "metadata": {},
     "output_type": "display_data"
    }
   ],
   "source": [
    "%matplotlib inline\n",
    "from matplotlib.pyplot import imshow\n",
    "import matplotlib.pyplot as plt\n",
    "\n",
    "img_num = 0\n",
    "\n",
    "if K.image_dim_ordering() == 'th':\n",
    "    img = X_train[img_num][0,:,:]\n",
    "else:\n",
    "    img = X_train[img_num][:,:,0]\n",
    "\n",
    "print img.shape\n",
    "print y_train.shape\n",
    "imshow(img, cmap = plt.get_cmap('gray'), vmin = 0, vmax = 1,  interpolation='nearest')"
   ]
  },
  {
   "cell_type": "code",
   "execution_count": 5,
   "metadata": {
    "collapsed": true
   },
   "outputs": [],
   "source": [
    "# model hyperparameters\n",
    "batch_size = 128\n",
    "nb_epoch = 30\n",
    "\n",
    "# network architecture\n",
    "patch_size_1 = 3\n",
    "patch_size_2 = 3\n",
    "patch_size_3 = 3\n",
    "\n",
    "depth_1 = 20\n",
    "depth_2 = 40\n",
    "depth_3 = 80\n",
    "\n",
    "pool_size = 2\n",
    "\n",
    "num_hidden_1 = 1000\n",
    "num_hidden_2 = 1000\n",
    "num_hidden_3 = 1000\n",
    "\n",
    "dropout = 0.5"
   ]
  },
  {
   "cell_type": "code",
   "execution_count": 6,
   "metadata": {
    "collapsed": true
   },
   "outputs": [],
   "source": [
    "# create new Keras Sequential model\n",
    "model = Sequential()\n",
    "\n",
    "# add first convolutional layer to model and specify it's depth and filter size\n",
    "# for the first layer we also have to specify the size of each input image\n",
    "# which we calculated above\n",
    "model.add(Convolution2D(depth_1, patch_size_1, patch_size_1,\n",
    "                        border_mode='valid',\n",
    "                        input_shape=input_shape))\n",
    "# apply 'relu' activation function for first layer\n",
    "model.add(Activation('relu'))\n",
    "# apply max pooling to reduce the size of the image by a factor of 2\n",
    "model.add(MaxPooling2D(pool_size=(pool_size, pool_size)))\n",
    "\n",
    "# repeat these operations for the second convolutional layer\n",
    "# this time Keras can figure out the input size \n",
    "# from the previous layer on it's own\n",
    "model.add(Convolution2D(depth_2, patch_size_2, patch_size_2,\n",
    "                        border_mode='valid'))\n",
    "model.add(Activation('relu'))\n",
    "model.add(MaxPooling2D(pool_size=(pool_size, pool_size)))\n",
    "\n",
    "model.add(Convolution2D(depth_3, patch_size_3, patch_size_3,border_mode='valid'))\n",
    "model.add(Activation('relu'))\n",
    "model.add(MaxPooling2D(pool_size=(pool_size, pool_size)))\n",
    "\n",
    "# flatten the three-dimensional convolutional layer to a single layer of neurons\n",
    "model.add(Flatten())\n",
    "\n",
    "# add the first fully connected layer, applying 'relu' activation and dropout\n",
    "model.add(Dense(num_hidden_1))\n",
    "model.add(Activation('relu'))\n",
    "model.add(Dropout(dropout))\n",
    "\n",
    "# add the second fully connected layer\n",
    "model.add(Dense(num_hidden_2))\n",
    "model.add(Activation('relu'))\n",
    "model.add(Dropout(dropout))\n",
    "\n",
    "# add the third fully connected layer\n",
    "model.add(Dense(num_hidden_3))\n",
    "model.add(Activation('relu'))\n",
    "model.add(Dropout(dropout))\n",
    "\n",
    "# add the final classification layer with the number of neurons \n",
    "# matching the number of classes we are trying to learn\n",
    "model.add(Dense(num_classes))\n",
    "\n",
    "# apply the 'softmax' activation to the final layer to convert the output to \n",
    "# a probability distribution\n",
    "model.add(Activation('softmax'))"
   ]
  },
  {
   "cell_type": "code",
   "execution_count": 7,
   "metadata": {
    "collapsed": false
   },
   "outputs": [
    {
     "name": "stdout",
     "output_type": "stream",
     "text": [
      "Train on 14000 samples, validate on 6000 samples\n",
      "Epoch 1/30\n",
      "14000/14000 [==============================] - 96s - loss: 0.6901 - acc: 0.5311 - val_loss: 0.6931 - val_acc: 0.5150\n",
      "Epoch 2/30\n",
      "14000/14000 [==============================] - 88s - loss: 0.6736 - acc: 0.5834 - val_loss: 0.7237 - val_acc: 0.5178\n",
      "Epoch 3/30\n",
      "14000/14000 [==============================] - 86s - loss: 0.6589 - acc: 0.6099 - val_loss: 0.6373 - val_acc: 0.6477\n",
      "Epoch 4/30\n",
      "14000/14000 [==============================] - 85s - loss: 0.6446 - acc: 0.6296 - val_loss: 0.6252 - val_acc: 0.6613\n",
      "Epoch 5/30\n",
      "14000/14000 [==============================] - 85s - loss: 0.6149 - acc: 0.6604 - val_loss: 0.6993 - val_acc: 0.5890\n",
      "Epoch 6/30\n",
      "14000/14000 [==============================] - 85s - loss: 0.5875 - acc: 0.6909 - val_loss: 0.5573 - val_acc: 0.7145\n",
      "Epoch 7/30\n",
      "14000/14000 [==============================] - 85s - loss: 0.5572 - acc: 0.7144 - val_loss: 0.6241 - val_acc: 0.6602\n",
      "Epoch 8/30\n",
      "14000/14000 [==============================] - 85s - loss: 0.5343 - acc: 0.7329 - val_loss: 0.7225 - val_acc: 0.5972\n",
      "Epoch 9/30\n",
      "14000/14000 [==============================] - 85s - loss: 0.5002 - acc: 0.7589 - val_loss: 0.4825 - val_acc: 0.7657\n",
      "Epoch 10/30\n",
      "14000/14000 [==============================] - 86s - loss: 0.4784 - acc: 0.7698 - val_loss: 0.4921 - val_acc: 0.7587\n",
      "Epoch 11/30\n",
      "14000/14000 [==============================] - 85s - loss: 0.4526 - acc: 0.7886 - val_loss: 0.5201 - val_acc: 0.7560\n",
      "Epoch 12/30\n",
      "14000/14000 [==============================] - 85s - loss: 0.4352 - acc: 0.7986 - val_loss: 0.4676 - val_acc: 0.7710\n",
      "Epoch 13/30\n",
      "14000/14000 [==============================] - 85s - loss: 0.4098 - acc: 0.8088 - val_loss: 0.4805 - val_acc: 0.7713\n",
      "Epoch 14/30\n",
      "14000/14000 [==============================] - 86s - loss: 0.3910 - acc: 0.8249 - val_loss: 0.5015 - val_acc: 0.7793\n",
      "Epoch 15/30\n",
      "14000/14000 [==============================] - 85s - loss: 0.3559 - acc: 0.8434 - val_loss: 0.5509 - val_acc: 0.7643\n",
      "Epoch 16/30\n",
      "14000/14000 [==============================] - 87s - loss: 0.3346 - acc: 0.8554 - val_loss: 0.4756 - val_acc: 0.7982\n",
      "Epoch 17/30\n",
      "14000/14000 [==============================] - 86s - loss: 0.3017 - acc: 0.8712 - val_loss: 0.4689 - val_acc: 0.7945\n",
      "Epoch 18/30\n",
      "14000/14000 [==============================] - 85s - loss: 0.2720 - acc: 0.8886 - val_loss: 0.4788 - val_acc: 0.8087\n",
      "Epoch 19/30\n",
      "14000/14000 [==============================] - 85s - loss: 0.2329 - acc: 0.9071 - val_loss: 0.4877 - val_acc: 0.7958\n",
      "Epoch 20/30\n",
      "14000/14000 [==============================] - 85s - loss: 0.1902 - acc: 0.9225 - val_loss: 0.5330 - val_acc: 0.8042\n",
      "Epoch 21/30\n",
      "14000/14000 [==============================] - 85s - loss: 0.1552 - acc: 0.9409 - val_loss: 0.6219 - val_acc: 0.7938\n",
      "Epoch 22/30\n",
      "14000/14000 [==============================] - 85s - loss: 0.1228 - acc: 0.9533 - val_loss: 0.6120 - val_acc: 0.8047\n",
      "Epoch 23/30\n",
      "14000/14000 [==============================] - 85s - loss: 0.0983 - acc: 0.9651 - val_loss: 0.7916 - val_acc: 0.7830\n",
      "Epoch 24/30\n",
      "14000/14000 [==============================] - 85s - loss: 0.0731 - acc: 0.9751 - val_loss: 0.7471 - val_acc: 0.8060\n",
      "Epoch 25/30\n",
      "14000/14000 [==============================] - 85s - loss: 0.0594 - acc: 0.9780 - val_loss: 0.8660 - val_acc: 0.7932\n",
      "Epoch 26/30\n",
      "14000/14000 [==============================] - 85s - loss: 0.0465 - acc: 0.9834 - val_loss: 0.8665 - val_acc: 0.8072\n",
      "Epoch 27/30\n",
      "14000/14000 [==============================] - 85s - loss: 0.0431 - acc: 0.9839 - val_loss: 0.8880 - val_acc: 0.8070\n",
      "Epoch 28/30\n",
      "14000/14000 [==============================] - 85s - loss: 0.0294 - acc: 0.9905 - val_loss: 0.9628 - val_acc: 0.7968\n",
      "Epoch 29/30\n",
      "14000/14000 [==============================] - 84s - loss: 0.0303 - acc: 0.9896 - val_loss: 0.9726 - val_acc: 0.8060\n",
      "Epoch 30/30\n",
      "14000/14000 [==============================] - 85s - loss: 0.0233 - acc: 0.9914 - val_loss: 1.0685 - val_acc: 0.8045\n"
     ]
    },
    {
     "data": {
      "text/plain": [
       "<keras.callbacks.History at 0x7f13cce14e50>"
      ]
     },
     "execution_count": 7,
     "metadata": {},
     "output_type": "execute_result"
    }
   ],
   "source": [
    "model.compile(loss='categorical_crossentropy',\n",
    "              optimizer='adadelta',\n",
    "              metrics=['accuracy'])\n",
    "model.fit(X_train, Y_train, batch_size=batch_size, nb_epoch=nb_epoch,\n",
    "          verbose=1, validation_data=(X_test, Y_test))"
   ]
  },
  {
   "cell_type": "code",
   "execution_count": 8,
   "metadata": {
    "collapsed": false
   },
   "outputs": [
    {
     "name": "stdout",
     "output_type": "stream",
     "text": [
      "Test score: 1.06850525743\n",
      "Test accuracy: 80.45%\n"
     ]
    }
   ],
   "source": [
    "\n",
    "score = model.evaluate(X_test, Y_test, verbose=0)\n",
    "\n",
    "print 'Test score:', score[0]\n",
    "print 'Test accuracy: {:.2%}'.format(score[1])"
   ]
  },
  {
   "cell_type": "code",
   "execution_count": null,
   "metadata": {
    "collapsed": true
   },
   "outputs": [],
   "source": []
  }
 ],
 "metadata": {
  "anaconda-cloud": {},
  "kernelspec": {
   "display_name": "Python [default]",
   "language": "python",
   "name": "python2"
  },
  "language_info": {
   "codemirror_mode": {
    "name": "ipython",
    "version": 2
   },
   "file_extension": ".py",
   "mimetype": "text/x-python",
   "name": "python",
   "nbconvert_exporter": "python",
   "pygments_lexer": "ipython2",
   "version": "2.7.12"
  }
 },
 "nbformat": 4,
 "nbformat_minor": 1
}
