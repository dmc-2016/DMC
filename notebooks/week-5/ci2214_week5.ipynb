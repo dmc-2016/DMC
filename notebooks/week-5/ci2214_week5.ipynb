{
 "cells": [
  {
   "cell_type": "code",
   "execution_count": 13,
   "metadata": {
    "collapsed": false
   },
   "outputs": [
    {
     "name": "stdout",
     "output_type": "stream",
     "text": [
      "using ordering: tf\n"
     ]
    }
   ],
   "source": [
    "import numpy as np\n",
    "np.random.seed(1337)  # for reproducibility\n",
    "\n",
    "from keras.datasets import mnist\n",
    "from keras.models import Sequential\n",
    "from keras.layers import Dense, Dropout, Activation, Flatten\n",
    "from keras.layers import Convolution2D, MaxPooling2D\n",
    "from keras.utils import np_utils\n",
    "from keras import backend as K\n",
    "\n",
    "from keras.datasets import mnist\n",
    "\n",
    "import pickle\n",
    "\n",
    "print \"using ordering:\", K.image_dim_ordering()"
   ]
  },
  {
   "cell_type": "code",
   "execution_count": 14,
   "metadata": {
    "collapsed": false
   },
   "outputs": [
    {
     "name": "stdout",
     "output_type": "stream",
     "text": [
      "X_train shape: (60000, 28, 28)\n",
      "60000 train samples\n",
      "10000 test samples\n"
     ]
    }
   ],
   "source": [
    "(X_train, y_train), (X_test, y_test) = mnist.load_data()\n",
    "\n",
    "print 'X_train shape:', X_train.shape\n",
    "print X_train.shape[0], 'train samples'\n",
    "print X_test.shape[0], 'test samples'"
   ]
  },
  {
   "cell_type": "code",
   "execution_count": 15,
   "metadata": {
    "collapsed": true
   },
   "outputs": [],
   "source": [
    "X_train = X_train.astype('float32')\n",
    "X_test = X_test.astype('float32')\n",
    "X_train /= 255.0 # normalize the data\n",
    "X_test /= 255.0 # normalize the data"
   ]
  },
  {
   "cell_type": "code",
   "execution_count": 16,
   "metadata": {
    "collapsed": false
   },
   "outputs": [
    {
     "name": "stdout",
     "output_type": "stream",
     "text": [
      "(60000, 28, 28, 1)\n",
      "(60000,)\n"
     ]
    }
   ],
   "source": [
    "# number of classes\n",
    "num_classes = 10\n",
    "\n",
    "# image dimensions\n",
    "img_rows, img_cols = X_train.shape[1],  X_train.shape[2]\n",
    "\n",
    "if K.image_dim_ordering() == 'th':\n",
    "    X_train = X_train.reshape(X_train.shape[0], 1, img_rows, img_cols)\n",
    "    X_test = X_test.reshape(X_test.shape[0], 1, img_rows, img_cols)\n",
    "    input_shape = (1, img_rows, img_cols)\n",
    "else:\n",
    "    X_train = X_train.reshape(X_train.shape[0], img_rows, img_cols, 1)\n",
    "    X_test = X_test.reshape(X_test.shape[0], img_rows, img_cols, 1)\n",
    "    input_shape = (img_rows, img_cols, 1)\n",
    "\n",
    "Y_train = np_utils.to_categorical(y_train, num_classes)\n",
    "Y_test = np_utils.to_categorical(y_test, num_classes)\n",
    "\n",
    "print X_train.shape\n",
    "print y_train.shape"
   ]
  },
  {
   "cell_type": "code",
   "execution_count": 17,
   "metadata": {
    "collapsed": false
   },
   "outputs": [
    {
     "name": "stdout",
     "output_type": "stream",
     "text": [
      "(28, 28)\n",
      "(60000,)\n"
     ]
    },
    {
     "data": {
      "text/plain": [
       "<matplotlib.image.AxesImage at 0x7f685efc5e50>"
      ]
     },
     "execution_count": 17,
     "metadata": {},
     "output_type": "execute_result"
    },
    {
     "data": {
      "image/png": "[encoded data removed]",
      "text/plain": [
       "<matplotlib.figure.Figure at 0x7f685f01e7d0>"
      ]
     },
     "metadata": {},
     "output_type": "display_data"
    }
   ],
   "source": [
    "%matplotlib inline\n",
    "from matplotlib.pyplot import imshow\n",
    "import matplotlib.pyplot as plt\n",
    "\n",
    "img_num = 0\n",
    "\n",
    "if K.image_dim_ordering() == 'th':\n",
    "    img = X_train[img_num][0,:,:]\n",
    "else:\n",
    "    img = X_train[img_num][:,:,0]\n",
    "\n",
    "print img.shape\n",
    "print y_train.shape\n",
    "imshow(img, cmap = plt.get_cmap('gray'), vmin = 0, vmax = 1,  interpolation='nearest')"
   ]
  },
  {
   "cell_type": "code",
   "execution_count": 18,
   "metadata": {
    "collapsed": true
   },
   "outputs": [],
   "source": [
    "# model hyperparameters\n",
    "batch_size = 128\n",
    "nb_epoch = 30\n",
    "\n",
    "# network architecture\n",
    "patch_size_1 = 5\n",
    "patch_size_2 = 5\n",
    "\n",
    "depth_1 = 20\n",
    "depth_2 = 40\n",
    "\n",
    "pool_size = 2\n",
    "\n",
    "num_hidden_1 = 1000\n",
    "num_hidden_2 = 1000\n",
    "\n",
    "dropout = 0.5"
   ]
  },
  {
   "cell_type": "code",
   "execution_count": 19,
   "metadata": {
    "collapsed": true
   },
   "outputs": [],
   "source": [
    "# create new Keras Sequential model\n",
    "model = Sequential()\n",
    "\n",
    "# add first convolutional layer to model and specify it's depth and filter size\n",
    "# for the first layer we also have to specify the size of each input image\n",
    "# which we calculated above\n",
    "model.add(Convolution2D(depth_1, patch_size_1, patch_size_1,\n",
    "                        border_mode='valid',\n",
    "                        input_shape=input_shape))\n",
    "# apply 'relu' activation function for first layer\n",
    "model.add(Activation('relu'))\n",
    "# apply max pooling to reduce the size of the image by a factor of 2\n",
    "model.add(MaxPooling2D(pool_size=(pool_size, pool_size)))\n",
    "\n",
    "# repeat these operations for the second convolutional layer\n",
    "# this time Keras can figure out the input size \n",
    "# from the previous layer on it's own\n",
    "model.add(Convolution2D(depth_2, patch_size_2, patch_size_2,\n",
    "                        border_mode='valid'))\n",
    "model.add(Activation('relu'))\n",
    "model.add(MaxPooling2D(pool_size=(pool_size, pool_size)))\n",
    "\n",
    "# flatten the three-dimensional convolutional layer to a single layer of neurons\n",
    "model.add(Flatten())\n",
    "\n",
    "# add the first fully connected layer, applying 'relu' activation and dropout\n",
    "model.add(Dense(num_hidden_1))\n",
    "model.add(Activation('relu'))\n",
    "model.add(Dropout(dropout))\n",
    "\n",
    "# add the second fully connected layer\n",
    "model.add(Dense(num_hidden_2))\n",
    "model.add(Activation('relu'))\n",
    "model.add(Dropout(dropout))\n",
    "\n",
    "# add the final classification layer with the number of neurons \n",
    "# matching the number of classes we are trying to learn\n",
    "model.add(Dense(num_classes))\n",
    "\n",
    "# apply the 'softmax' activation to the final layer to convert the output to \n",
    "# a probability distribution\n",
    "model.add(Activation('softmax'))"
   ]
  },
  {
   "cell_type": "code",
   "execution_count": 20,
   "metadata": {
    "collapsed": true
   },
   "outputs": [],
   "source": [
    "model.compile(loss='categorical_crossentropy',\n",
    "              optimizer='adadelta',\n",
    "              metrics=['accuracy'])"
   ]
  },
  {
   "cell_type": "code",
   "execution_count": 21,
   "metadata": {
    "collapsed": false
   },
   "outputs": [
    {
     "name": "stdout",
     "output_type": "stream",
     "text": [
      "Train on 60000 samples, validate on 10000 samples\n",
      "Epoch 1/30\n",
      "60000/60000 [==============================] - 46s - loss: 0.2915 - acc: 0.9078 - val_loss: 0.0639 - val_acc: 0.9799\n",
      "Epoch 2/30\n",
      "60000/60000 [==============================] - 47s - loss: 0.0791 - acc: 0.9758 - val_loss: 0.0399 - val_acc: 0.9856\n",
      "Epoch 3/30\n",
      "60000/60000 [==============================] - 45s - loss: 0.0567 - acc: 0.9828 - val_loss: 0.0302 - val_acc: 0.9892\n",
      "Epoch 4/30\n",
      "60000/60000 [==============================] - 44s - loss: 0.0456 - acc: 0.9860 - val_loss: 0.0266 - val_acc: 0.9908\n",
      "Epoch 5/30\n",
      "60000/60000 [==============================] - 44s - loss: 0.0374 - acc: 0.9886 - val_loss: 0.0260 - val_acc: 0.9912\n",
      "Epoch 6/30\n",
      "60000/60000 [==============================] - 45s - loss: 0.0315 - acc: 0.9903 - val_loss: 0.0246 - val_acc: 0.9922\n",
      "Epoch 7/30\n",
      "60000/60000 [==============================] - 45s - loss: 0.0277 - acc: 0.9913 - val_loss: 0.0273 - val_acc: 0.9909\n",
      "Epoch 8/30\n",
      "60000/60000 [==============================] - 46s - loss: 0.0246 - acc: 0.9925 - val_loss: 0.0228 - val_acc: 0.9926\n",
      "Epoch 9/30\n",
      "60000/60000 [==============================] - 47s - loss: 0.0211 - acc: 0.9932 - val_loss: 0.0236 - val_acc: 0.9919\n",
      "Epoch 10/30\n",
      "60000/60000 [==============================] - 46s - loss: 0.0193 - acc: 0.9938 - val_loss: 0.0204 - val_acc: 0.9927\n",
      "Epoch 11/30\n",
      "60000/60000 [==============================] - 44s - loss: 0.0171 - acc: 0.9948 - val_loss: 0.0225 - val_acc: 0.9929\n",
      "Epoch 12/30\n",
      "60000/60000 [==============================] - 47s - loss: 0.0156 - acc: 0.9949 - val_loss: 0.0242 - val_acc: 0.9927\n",
      "Epoch 13/30\n",
      "60000/60000 [==============================] - 46s - loss: 0.0134 - acc: 0.9959 - val_loss: 0.0223 - val_acc: 0.9926\n",
      "Epoch 14/30\n",
      "60000/60000 [==============================] - 48s - loss: 0.0132 - acc: 0.9955 - val_loss: 0.0215 - val_acc: 0.9933\n",
      "Epoch 15/30\n",
      "60000/60000 [==============================] - 51s - loss: 0.0118 - acc: 0.9965 - val_loss: 0.0205 - val_acc: 0.9934\n",
      "Epoch 16/30\n",
      "60000/60000 [==============================] - 51s - loss: 0.0106 - acc: 0.9967 - val_loss: 0.0229 - val_acc: 0.9922\n",
      "Epoch 17/30\n",
      "60000/60000 [==============================] - 52s - loss: 0.0094 - acc: 0.9974 - val_loss: 0.0207 - val_acc: 0.9937\n",
      "Epoch 18/30\n",
      "60000/60000 [==============================] - 61s - loss: 0.0087 - acc: 0.9972 - val_loss: 0.0221 - val_acc: 0.9940\n",
      "Epoch 19/30\n",
      "60000/60000 [==============================] - 67s - loss: 0.0084 - acc: 0.9973 - val_loss: 0.0222 - val_acc: 0.9940\n",
      "Epoch 20/30\n",
      "60000/60000 [==============================] - 58s - loss: 0.0076 - acc: 0.9977 - val_loss: 0.0219 - val_acc: 0.9939\n",
      "Epoch 21/30\n",
      "60000/60000 [==============================] - 72s - loss: 0.0073 - acc: 0.9977 - val_loss: 0.0227 - val_acc: 0.9928\n",
      "Epoch 22/30\n",
      "60000/60000 [==============================] - 71s - loss: 0.0067 - acc: 0.9979 - val_loss: 0.0239 - val_acc: 0.9929\n",
      "Epoch 23/30\n",
      "60000/60000 [==============================] - 62s - loss: 0.0063 - acc: 0.9980 - val_loss: 0.0229 - val_acc: 0.9934\n",
      "Epoch 24/30\n",
      "60000/60000 [==============================] - 63s - loss: 0.0057 - acc: 0.9980 - val_loss: 0.0229 - val_acc: 0.9935\n",
      "Epoch 25/30\n",
      "60000/60000 [==============================] - 62s - loss: 0.0054 - acc: 0.9983 - val_loss: 0.0231 - val_acc: 0.9934\n",
      "Epoch 26/30\n",
      "60000/60000 [==============================] - 59s - loss: 0.0047 - acc: 0.9986 - val_loss: 0.0268 - val_acc: 0.9926\n",
      "Epoch 27/30\n",
      "60000/60000 [==============================] - 58s - loss: 0.0045 - acc: 0.9987 - val_loss: 0.0234 - val_acc: 0.9930\n",
      "Epoch 28/30\n",
      "60000/60000 [==============================] - 58s - loss: 0.0041 - acc: 0.9987 - val_loss: 0.0252 - val_acc: 0.9934\n",
      "Epoch 29/30\n",
      "60000/60000 [==============================] - 50s - loss: 0.0037 - acc: 0.9987 - val_loss: 0.0234 - val_acc: 0.9935\n",
      "Epoch 30/30\n",
      "60000/60000 [==============================] - 48s - loss: 0.0034 - acc: 0.9989 - val_loss: 0.0239 - val_acc: 0.9936\n"
     ]
    },
    {
     "data": {
      "text/plain": [
       "<keras.callbacks.History at 0x7f682da9df50>"
      ]
     },
     "execution_count": 21,
     "metadata": {},
     "output_type": "execute_result"
    }
   ],
   "source": [
    "model.fit(X_train, Y_train, batch_size=batch_size, nb_epoch=nb_epoch,\n",
    "          verbose=1, validation_data=(X_test, Y_test))"
   ]
  },
  {
   "cell_type": "code",
   "execution_count": 22,
   "metadata": {
    "collapsed": false
   },
   "outputs": [
    {
     "name": "stdout",
     "output_type": "stream",
     "text": [
      "Test score: 0.0239372700661\n",
      "Test accuracy: 99.36%\n"
     ]
    }
   ],
   "source": [
    "score = model.evaluate(X_test, Y_test, verbose=0)\n",
    "\n",
    "print 'Test score:', score[0]\n",
    "print 'Test accuracy: {:.2%}'.format(score[1])"
   ]
  }
 ],
 "metadata": {
  "anaconda-cloud": {},
  "kernelspec": {
   "display_name": "Python [default]",
   "language": "python",
   "name": "python2"
  },
  "language_info": {
   "codemirror_mode": {
    "name": "ipython",
    "version": 2
   },
   "file_extension": ".py",
   "mimetype": "text/x-python",
   "name": "python",
   "nbconvert_exporter": "python",
   "pygments_lexer": "ipython2",
   "version": "2.7.12"
  }
 },
 "nbformat": 4,
 "nbformat_minor": 1
}
