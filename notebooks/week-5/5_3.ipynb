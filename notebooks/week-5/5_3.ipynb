{
 "cells": [
  {
   "cell_type": "code",
   "execution_count": 1,
   "metadata": {
    "collapsed": false
   },
   "outputs": [
    {
     "name": "stdout",
     "output_type": "stream",
     "text": [
      "('Training set', (14000, 64, 64), (14000, 1))\n",
      "('Test set', (6000, 64, 64), (6000, 1))\n"
     ]
    }
   ],
   "source": [
    "import pickle\n",
    "\n",
    "pickle_file = '-catsdogs.pickle'\n",
    "\n",
    "with open(pickle_file, 'rb') as f:\n",
    "    save = pickle.load(f)\n",
    "    X_train = save['X_train']\n",
    "    y_train = save['y_train']\n",
    "    X_test = save['X_test']\n",
    "    y_test = save['y_test']\n",
    "    del save  # hint to help gc free up memory\n",
    "    print('Training set', X_train.shape, y_train.shape)\n",
    "    print('Test set', X_test.shape, y_test.shape)"
   ]
  },
  {
   "cell_type": "code",
   "execution_count": 4,
   "metadata": {
    "collapsed": false
   },
   "outputs": [
    {
     "name": "stdout",
     "output_type": "stream",
     "text": [
      "using ordering: tf\n"
     ]
    }
   ],
   "source": [
    "## implement your CNN starting here.\n",
    "import pickle\n",
    "from keras.models import Sequential\n",
    "from keras.layers import Dense, Dropout, Activation, Flatten\n",
    "from keras.layers import Convolution2D, MaxPooling2D, ZeroPadding2D\n",
    "from keras.utils import np_utils\n",
    "from keras.optimizers import SGD\n",
    "from keras import backend as K\n",
    "\n",
    "K.set_image_dim_ordering('tf')\n",
    "\n",
    "print \"using ordering:\", K.image_dim_ordering()"
   ]
  },
  {
   "cell_type": "code",
   "execution_count": 5,
   "metadata": {
    "collapsed": false
   },
   "outputs": [
    {
     "name": "stdout",
     "output_type": "stream",
     "text": [
      "(14000, 64, 64)\n",
      "64 64\n",
      "(14000, 64, 64, 1)\n",
      "(14000, 1)\n"
     ]
    }
   ],
   "source": [
    "num_classes = 2\n",
    "img_rows, img_cols = X_train.shape[1],  X_train.shape[2]\n",
    "\n",
    "print X_train.shape\n",
    "print img_rows, img_cols\n",
    "\n",
    "if K.image_dim_ordering()== 'th':\n",
    "    X_train = X_train.reshape(X_train.shape[0],1, img_rows, img_cols)\n",
    "    X_test = X_test.reshape(X_test.shape[0], 1, img_rows, img_cols)\n",
    "    input_shape = (1, img_rows, img_cols)\n",
    "else:\n",
    "    X_train = X_train.reshape(X_train.shape[0], img_rows, img_cols, 1)\n",
    "    X_test = X_test.reshape(X_test.shape[0], img_rows, img_cols, 1)\n",
    "    input_shape = (img_rows, img_cols, 1)\n",
    "\n",
    "Y_train = np_utils.to_categorical(y_train, num_classes)\n",
    "Y_test = np_utils.to_categorical(y_test, num_classes)\n",
    "\n",
    "print X_train.shape\n",
    "print y_train.shape"
   ]
  },
  {
   "cell_type": "code",
   "execution_count": 6,
   "metadata": {
    "collapsed": false
   },
   "outputs": [
    {
     "name": "stdout",
     "output_type": "stream",
     "text": [
      "(64, 64)\n",
      "(14000, 1)\n"
     ]
    },
    {
     "data": {
      "text/plain": [
       "<matplotlib.image.AxesImage at 0x7fbe1c79a390>"
      ]
     },
     "execution_count": 6,
     "metadata": {},
     "output_type": "execute_result"
    },
    {
     "data": {
      "image/png": "[encoded data removed]",
      "text/plain": [
       "<matplotlib.figure.Figure at 0x7fbe448e5890>"
      ]
     },
     "metadata": {},
     "output_type": "display_data"
    }
   ],
   "source": [
    "%matplotlib inline\n",
    "from matplotlib.pyplot import imshow\n",
    "import matplotlib.pyplot as plt\n",
    "\n",
    "img_num = 0\n",
    "\n",
    "if K.image_dim_ordering() == 'th':\n",
    "    img = X_train[img_num][0,:,:]\n",
    "else:\n",
    "    img = X_train[img_num][:,:,0]\n",
    "\n",
    "print img.shape\n",
    "print y_train.shape\n",
    "imshow(img, cmap = plt.get_cmap('gray'), vmin = 0, vmax = 1,  interpolation='nearest')"
   ]
  },
  {
   "cell_type": "code",
   "execution_count": 7,
   "metadata": {
    "collapsed": true
   },
   "outputs": [],
   "source": [
    "# model hyperparameters\n",
    "batch_size = 128\n",
    "nb_epoch = 30\n",
    "\n",
    "# network architecture\n",
    "patch_size_1 = 3\n",
    "patch_size_2 = 3\n",
    "patch_size_3 = 3\n",
    "\n",
    "depth_1 = 20\n",
    "depth_2 = 40\n",
    "depth_3 = 80\n",
    "\n",
    "pool_size = 2\n",
    "\n",
    "num_hidden_1 = 1000\n",
    "num_hidden_2 = 1000\n",
    "num_hidden_3 = 1000\n",
    "\n",
    "dropout = 0.5"
   ]
  },
  {
   "cell_type": "code",
   "execution_count": 8,
   "metadata": {
    "collapsed": true
   },
   "outputs": [],
   "source": [
    "# create new Keras Sequential model\n",
    "model = Sequential()\n",
    "\n",
    "# add first convolutional layer to model and specify it's depth and filter size\n",
    "# for the first layer we also have to specify the size of each input image\n",
    "# which we calculated above\n",
    "model.add(Convolution2D(depth_1, patch_size_1, patch_size_1,\n",
    "                        border_mode='valid',\n",
    "                        input_shape=input_shape))\n",
    "# apply 'relu' activation function for first layer\n",
    "model.add(Activation('relu'))\n",
    "# apply max pooling to reduce the size of the image by a factor of 2\n",
    "model.add(MaxPooling2D(pool_size=(pool_size, pool_size)))\n",
    "\n",
    "# repeat these operations for the second convolutional layer\n",
    "# this time Keras can figure out the input size \n",
    "# from the previous layer on it's own\n",
    "model.add(Convolution2D(depth_2, patch_size_2, patch_size_2,\n",
    "                        border_mode='valid'))\n",
    "model.add(Activation('relu'))\n",
    "model.add(MaxPooling2D(pool_size=(pool_size, pool_size)))\n",
    "\n",
    "model.add(Convolution2D(depth_3, patch_size_3, patch_size_3,border_mode='valid'))\n",
    "model.add(Activation('relu'))\n",
    "model.add(MaxPooling2D(pool_size=(pool_size, pool_size)))\n",
    "\n",
    "# flatten the three-dimensional convolutional layer to a single layer of neurons\n",
    "model.add(Flatten())\n",
    "\n",
    "# add the first fully connected layer, applying 'relu' activation and dropout\n",
    "model.add(Dense(num_hidden_1))\n",
    "model.add(Activation('relu'))\n",
    "model.add(Dropout(dropout))\n",
    "\n",
    "# add the second fully connected layer\n",
    "model.add(Dense(num_hidden_2))\n",
    "model.add(Activation('relu'))\n",
    "model.add(Dropout(dropout))\n",
    "\n",
    "# add the third fully connected layer\n",
    "model.add(Dense(num_hidden_3))\n",
    "model.add(Activation('relu'))\n",
    "model.add(Dropout(dropout))\n",
    "\n",
    "# add the final classification layer with the number of neurons \n",
    "# matching the number of classes we are trying to learn\n",
    "model.add(Dense(num_classes))\n",
    "\n",
    "# apply the 'softmax' activation to the final layer to convert the output to \n",
    "# a probability distribution\n",
    "model.add(Activation('softmax'))"
   ]
  },
  {
   "cell_type": "code",
   "execution_count": 9,
   "metadata": {
    "collapsed": false
   },
   "outputs": [
    {
     "name": "stdout",
     "output_type": "stream",
     "text": [
      "Train on 14000 samples, validate on 6000 samples\n",
      "Epoch 1/30\n",
      "14000/14000 [==============================] - 91s - loss: 0.6920 - acc: 0.5245 - val_loss: 0.6869 - val_acc: 0.5032\n",
      "Epoch 2/30\n",
      "14000/14000 [==============================] - 119s - loss: 0.6787 - acc: 0.5706 - val_loss: 0.6683 - val_acc: 0.5897\n",
      "Epoch 3/30\n",
      "14000/14000 [==============================] - 113s - loss: 0.6582 - acc: 0.6149 - val_loss: 0.6457 - val_acc: 0.6318\n",
      "Epoch 4/30\n",
      "14000/14000 [==============================] - 80s - loss: 0.6456 - acc: 0.6299 - val_loss: 0.6454 - val_acc: 0.6322\n",
      "Epoch 5/30\n",
      "14000/14000 [==============================] - 80s - loss: 0.6355 - acc: 0.6374 - val_loss: 0.6216 - val_acc: 0.6613\n",
      "Epoch 6/30\n",
      "14000/14000 [==============================] - 83s - loss: 0.6158 - acc: 0.6659 - val_loss: 0.5981 - val_acc: 0.6810\n",
      "Epoch 7/30\n",
      "14000/14000 [==============================] - 82s - loss: 0.5781 - acc: 0.7011 - val_loss: 0.5877 - val_acc: 0.6920\n",
      "Epoch 8/30\n",
      "14000/14000 [==============================] - 81s - loss: 0.5461 - acc: 0.7273 - val_loss: 0.5398 - val_acc: 0.7292\n",
      "Epoch 9/30\n",
      "14000/14000 [==============================] - 81s - loss: 0.5097 - acc: 0.7516 - val_loss: 0.5450 - val_acc: 0.7375\n",
      "Epoch 10/30\n",
      "14000/14000 [==============================] - 81s - loss: 0.4813 - acc: 0.7737 - val_loss: 0.5275 - val_acc: 0.7547\n",
      "Epoch 11/30\n",
      "14000/14000 [==============================] - 81s - loss: 0.4559 - acc: 0.7866 - val_loss: 0.4712 - val_acc: 0.7793\n",
      "Epoch 12/30\n",
      "14000/14000 [==============================] - 90s - loss: 0.4372 - acc: 0.7939 - val_loss: 0.4753 - val_acc: 0.7707\n",
      "Epoch 13/30\n",
      "14000/14000 [==============================] - 94s - loss: 0.4127 - acc: 0.8092 - val_loss: 0.4531 - val_acc: 0.7898\n",
      "Epoch 14/30\n",
      "14000/14000 [==============================] - 90s - loss: 0.3976 - acc: 0.8196 - val_loss: 0.4558 - val_acc: 0.7953\n",
      "Epoch 15/30\n",
      "14000/14000 [==============================] - 96s - loss: 0.3704 - acc: 0.8346 - val_loss: 0.4476 - val_acc: 0.8007\n",
      "Epoch 16/30\n",
      "14000/14000 [==============================] - 94s - loss: 0.3449 - acc: 0.8512 - val_loss: 0.4990 - val_acc: 0.7882\n",
      "Epoch 17/30\n",
      "14000/14000 [==============================] - 87s - loss: 0.3274 - acc: 0.8601 - val_loss: 0.4320 - val_acc: 0.8048\n",
      "Epoch 18/30\n",
      "14000/14000 [==============================] - 90s - loss: 0.2952 - acc: 0.8796 - val_loss: 0.4613 - val_acc: 0.8067\n",
      "Epoch 19/30\n",
      "14000/14000 [==============================] - 82s - loss: 0.2664 - acc: 0.8909 - val_loss: 0.4764 - val_acc: 0.8073\n",
      "Epoch 20/30\n",
      "14000/14000 [==============================] - 82s - loss: 0.2291 - acc: 0.9071 - val_loss: 0.4941 - val_acc: 0.7957\n",
      "Epoch 21/30\n",
      "14000/14000 [==============================] - 82s - loss: 0.2026 - acc: 0.9206 - val_loss: 0.6116 - val_acc: 0.7868\n",
      "Epoch 22/30\n",
      "14000/14000 [==============================] - 82s - loss: 0.1672 - acc: 0.9376 - val_loss: 0.7296 - val_acc: 0.7655\n",
      "Epoch 23/30\n",
      "14000/14000 [==============================] - 82s - loss: 0.1364 - acc: 0.9501 - val_loss: 0.5750 - val_acc: 0.8095\n",
      "Epoch 24/30\n",
      "14000/14000 [==============================] - 82s - loss: 0.0973 - acc: 0.9661 - val_loss: 0.6597 - val_acc: 0.8033\n",
      "Epoch 25/30\n",
      "14000/14000 [==============================] - 82s - loss: 0.0905 - acc: 0.9686 - val_loss: 0.6801 - val_acc: 0.8180\n",
      "Epoch 26/30\n",
      "14000/14000 [==============================] - 82s - loss: 0.0569 - acc: 0.9810 - val_loss: 0.7467 - val_acc: 0.8075\n",
      "Epoch 27/30\n",
      "14000/14000 [==============================] - 82s - loss: 0.0498 - acc: 0.9819 - val_loss: 0.9731 - val_acc: 0.7722\n",
      "Epoch 28/30\n",
      "14000/14000 [==============================] - 82s - loss: 0.0445 - acc: 0.9858 - val_loss: 0.9291 - val_acc: 0.8002\n",
      "Epoch 29/30\n",
      "14000/14000 [==============================] - 106s - loss: 0.0323 - acc: 0.9897 - val_loss: 0.9304 - val_acc: 0.8113\n",
      "Epoch 30/30\n",
      "14000/14000 [==============================] - 105s - loss: 0.0252 - acc: 0.9916 - val_loss: 0.9371 - val_acc: 0.8180\n"
     ]
    },
    {
     "data": {
      "text/plain": [
       "<keras.callbacks.History at 0x7fbe14e15d10>"
      ]
     },
     "execution_count": 9,
     "metadata": {},
     "output_type": "execute_result"
    }
   ],
   "source": [
    "model.compile(loss='categorical_crossentropy',\n",
    "              optimizer='adadelta',\n",
    "              metrics=['accuracy'])\n",
    "model.fit(X_train, Y_train, batch_size=batch_size, nb_epoch=nb_epoch,\n",
    "          verbose=1, validation_data=(X_test, Y_test))"
   ]
  },
  {
   "cell_type": "code",
   "execution_count": 10,
   "metadata": {
    "collapsed": false
   },
   "outputs": [
    {
     "name": "stdout",
     "output_type": "stream",
     "text": [
      "Test score: 0.937114454508\n",
      "Test accuracy: 81.80%\n"
     ]
    }
   ],
   "source": [
    "score = model.evaluate(X_test, Y_test, verbose=0)\n",
    "\n",
    "print 'Test score:', score[0]\n",
    "print 'Test accuracy: {:.2%}'.format(score[1])"
   ]
  },
  {
   "cell_type": "code",
   "execution_count": null,
   "metadata": {
    "collapsed": true
   },
   "outputs": [],
   "source": []
  }
 ],
 "metadata": {
  "anaconda-cloud": {},
  "kernelspec": {
   "display_name": "Python [default]",
   "language": "python",
   "name": "python2"
  },
  "language_info": {
   "codemirror_mode": {
    "name": "ipython",
    "version": 2
   },
   "file_extension": ".py",
   "mimetype": "text/x-python",
   "name": "python",
   "nbconvert_exporter": "python",
   "pygments_lexer": "ipython2",
   "version": "2.7.12"
  }
 },
 "nbformat": 4,
 "nbformat_minor": 1
}
