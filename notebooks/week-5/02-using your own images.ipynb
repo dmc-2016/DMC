{
 "cells": [
  {
   "cell_type": "markdown",
   "metadata": {},
   "source": [
    "## Lab 5.2 - Using your own images\n",
    "\n",
    "In the next part of the lab we will download another set of images from the web and format them for use with a Convolutional Neural Network (CNN). In this example we will use cat and dog images from a [recent competition on Kaggle](https://www.kaggle.com/c/dogs-vs-cats) but you will be able to follow the same process to import and format your own sets of images and use them to solve your own image classification problems if you wish.\n",
    "\n",
    "Let's begin by importing some of the libraries we will be using in this lab:"
   ]
  },
  {
   "cell_type": "code",
   "execution_count": 2,
   "metadata": {
    "collapsed": true
   },
   "outputs": [],
   "source": [
    "%matplotlib inline\n",
    "\n",
    "from matplotlib.pyplot import imshow\n",
    "import matplotlib.pyplot as plt\n",
    "import numpy as np\n",
    "from scipy import misc\n",
    "\n",
    "import os\n",
    "import random\n",
    "import pickle"
   ]
  },
  {
   "cell_type": "markdown",
   "metadata": {},
   "source": [
    "Go to https://www.kaggle.com/c/dogs-vs-cats/data and download the **\"train\" dataset only** to your computer. You will have to register for a Kaggle account before you can download the data. [Kaggle](https://www.kaggle.com) is an online repository for Machine Learning (ML) and Artificial Intelligence (AI) competitions and is a great resource for getting data to test your learning algorithms, and to keep up with the state-of-the-art in the ML and AI fields.\n",
    "\n",
    "Once the `train.zip` file has been downloaded, uncompress it to a folder on your computer. The folder contains 25,000 images named according to whether they are a 'cat' or 'dog'. To make sure that these images work with the code below, create a new folder in the `week-5` folder in your local repository (the same folder that contains this notebook file) called `-catsdogs`. Notice the dash (`-`) before the name, this is important so that Github does not sync the images to your account (which is not necessary and would take a really long time). Within this folder create two new folders called `0` and `1`. Your folder structure should look like this:\n",
    "\n",
    "    .\n",
    "    ├── dmc\n",
    "    |   ├── notebooks\n",
    "    |   |   └── week-5\n",
    "    |   |   |   └── -catsdogs\n",
    "    |   |   |   |   └── 0\n",
    "    |   |   |   |   └── 1\n",
    "\n",
    "\n",
    "Finally, move all the cat images into the `0` folder, and all dog images into the `1` folder. From now on, we will consider the category `0` to represent `cat` and the category `1` to represent `dog`.\n",
    "\n",
    "Next, we will use the `os` library to find the folders inside the main `-catsdogs` folder. This will make the code extensible to image recognition problems with any number of categories. In this case we only have two categories (cats and dogs) but you can extend it to more categories simply by adding more folders with images and labeling the folders sequentially starting with `0`."
   ]
  },
  {
   "cell_type": "code",
   "execution_count": 4,
   "metadata": {
    "collapsed": false
   },
   "outputs": [
    {
     "name": "stdout",
     "output_type": "stream",
     "text": [
      "['0', '1']\n"
     ]
    }
   ],
   "source": [
    "imageFolder = \"-catsdogs\"\n",
    "\n",
    "folders = os.listdir(imageFolder)\n",
    "num_categories = len(folders)\n",
    "\n",
    "print folders"
   ]
  },
  {
   "cell_type": "markdown",
   "metadata": {},
   "source": [
    "Now we will look through each folder and generate a data set of properly formatted image data matched with the proper category label."
   ]
  },
  {
   "cell_type": "code",
   "execution_count": 5,
   "metadata": {
    "collapsed": false
   },
   "outputs": [
    {
     "name": "stdout",
     "output_type": "stream",
     "text": [
      "Load data complete\n"
     ]
    }
   ],
   "source": [
    "# specify desired image properties\n",
    "# in this case we want black and white square images 64x64 pixels in size\n",
    "image_dim = 1 # black and white\n",
    "image_size = 64\n",
    "\n",
    "# create an empty array to store the image data\n",
    "data = []\n",
    "\n",
    "# look inside each folder which represents the categories of our data\n",
    "for folder in folders:\n",
    "    \n",
    "    # find the files within each folder\n",
    "    fileNames = os.listdir(\"/\".join([imageFolder, folder]))\n",
    "    \n",
    "    # for each file, load and process each image\n",
    "    # in this case we limit the number of images used per cateogry to 10,000\n",
    "    # to prevent overloading our RAM memory\n",
    "    for fileName in fileNames[:10000]:\n",
    "        \n",
    "        # read in the image data into a numpy array\n",
    "        img = misc.imread(\"/\".join([imageFolder, folder, fileName]))\n",
    "        \n",
    "        # if the image contains more than one color channel,\n",
    "        # take only the first channel (in effect, convert it to black and white)\n",
    "        if image_dim == 1 and len(img.shape) > 2: \n",
    "            img = img[:,:,0] # convert to black and white\n",
    "\n",
    "        # resize to target resolution if necessary\n",
    "        if img.shape[0] != image_size or img.shape[1] != image_size:\n",
    "            img = misc.imresize(img, (image_size, image_size), interp='nearest')\n",
    "\n",
    "        # normalize data to have mean 0 and standard deviation 1\n",
    "        # then rescale it to roughly the range 0-1\n",
    "        img = (img - img.mean()) / img.std() / 4 + 0.5\n",
    "        \n",
    "        # add the image data and the associated category \n",
    "        # (which is stored in the folder variable) to the data set\n",
    "        # for this to work you need to make sure your folders \n",
    "        # are named sequentially starting with 0\n",
    "        data.append([img, folder])\n",
    "\n",
    "print \"Load data complete\""
   ]
  },
  {
   "cell_type": "markdown",
   "metadata": {},
   "source": [
    "The process of loading all the image data and putting them into the `data` array will take some time so be patient and wait for the cell to finish running before continuing with the rest of the notebook. \n",
    "\n",
    "If you get an error saying the kernel has crashed, you are probably running out of RAM memory. The entire data array with all image information needs to be stored dynamically in your RAM while the process is running, so depending on your computer's available RAM, using too many images or too high of a resolution can cause the RAM to fill up completely before the process has finished running, which will unfortunately cause Python to crash. If you run into this issue try setting a lower target resolution for the images or loading less images from the folder.\n",
    "\n",
    "Once the data is loaded, we will shuffle the whole dataset to ensure random distribution of both categories."
   ]
  },
  {
   "cell_type": "code",
   "execution_count": 6,
   "metadata": {
    "collapsed": false
   },
   "outputs": [],
   "source": [
    "random.shuffle(data)"
   ]
  },
  {
   "cell_type": "markdown",
   "metadata": {},
   "source": [
    "Next we will make two new blank numpy arrays for both the feature (X) and target (y) data, and fill them with data from the `data` array. It might seem redundant to first load the data into a Python array and then transfer them to the numpy arrays we actually want. However, Python arrays have a more flexible data structure which allows us to fill the data set without first knowing how many images we have, and lets us keep the feature and target data together for each sample. This makes it easier to shuffle the entire data set in one move, and makes the process more flexible for other sets of images."
   ]
  },
  {
   "cell_type": "code",
   "execution_count": 7,
   "metadata": {
    "collapsed": false
   },
   "outputs": [],
   "source": [
    "X = np.ndarray((len(data), image_size, image_size), dtype=np.float32)\n",
    "y = np.ndarray((len(data), 1), dtype=np.int32)\n",
    "\n",
    "for i, d in enumerate(data):\n",
    "    X[i] = d[0]\n",
    "    y[i] = d[1]"
   ]
  },
  {
   "cell_type": "markdown",
   "metadata": {},
   "source": [
    "Let's make sure the data set has been properly imported and formatted by visualizing one of the images in the X feature dataset and printing the corresponding category from the y target dataset."
   ]
  },
  {
   "cell_type": "code",
   "execution_count": 8,
   "metadata": {
    "collapsed": false
   },
   "outputs": [
    {
     "name": "stdout",
     "output_type": "stream",
     "text": [
      "image dimensions: (64, 64)\n",
      "target category: cat\n"
     ]
    },
    {
     "data": {
      "image/png": "[encoded data removed]",
      "text/plain": [
       "<matplotlib.figure.Figure at 0x7f4350eb8050>"
      ]
     },
     "metadata": {},
     "output_type": "display_data"
    }
   ],
   "source": [
    "img_index = 2\n",
    "\n",
    "img = X[img_index]\n",
    "print \"image dimensions:\", img.shape\n",
    "print \"target category:\", (['cat', 'dog'][y[img_index][0]])\n",
    "\n",
    "imshow(img, cmap = plt.get_cmap('gray'), vmin = 0, vmax = 1,  interpolation='nearest')\n",
    "plt.axis('off')\n",
    "plt.show()"
   ]
  },
  {
   "cell_type": "markdown",
   "metadata": {},
   "source": [
    "Now we will split both the X and y data sets by an arbitrary factor to create separate training and test sets. As before we will use the first 70% of the data for training, and the remaining 30% of the data for testing."
   ]
  },
  {
   "cell_type": "code",
   "execution_count": 9,
   "metadata": {
    "collapsed": false
   },
   "outputs": [],
   "source": [
    "trainingSplit = int(.7 * X.shape[0])\n",
    "\n",
    "X_train = X[:trainingSplit]\n",
    "y_train = y[:trainingSplit]\n",
    "X_test = X[trainingSplit:]\n",
    "y_test = y[trainingSplit:]"
   ]
  },
  {
   "cell_type": "markdown",
   "metadata": {},
   "source": [
    "Finally, we will use the `pickle` library to save these datasets out to a local file. \n",
    "\n",
    "The `pickle` library is extremely useful for saving the state of variables in your Python programs for later reuse. The library is able to take variables of any data type and output them to efficiently compressed local binary files. When you need the data again you can use the `pickle` library to reload the variables  from the generated file. This is especially useful for storing sets of data that you may want to reuse several times, but take a long time to produce. This way you won't need to run the process in this notebook each time you want to use the images to train a model.\n",
    "\n",
    "*Warning:* the saved dataset with 10,000 images per category will be over 300mb, so make sure you have enough space on your hard drive before running the following cell:"
   ]
  },
  {
   "cell_type": "code",
   "execution_count": 10,
   "metadata": {
    "collapsed": false
   },
   "outputs": [
    {
     "name": "stdout",
     "output_type": "stream",
     "text": [
      "Saved data to -catsdogs.pickle\n",
      "Compressed pickle size: 327760375\n"
     ]
    }
   ],
   "source": [
    "pickle_file = imageFolder + '.pickle'\n",
    "\n",
    "try:\n",
    "    f = open(pickle_file, 'wb')\n",
    "    save = {\n",
    "        'X_train': X_train,\n",
    "        'y_train': y_train,\n",
    "        'X_test': X_test,\n",
    "        'y_test': y_test,\n",
    "    }\n",
    "    pickle.dump(save, f, pickle.HIGHEST_PROTOCOL)\n",
    "    f.close()\n",
    "except Exception as e:\n",
    "    print 'Unable to save data to', pickle_file, ':', e\n",
    "    raise\n",
    "    \n",
    "statinfo = os.stat(pickle_file)\n",
    "print 'Saved data to', pickle_file\n",
    "print 'Compressed pickle size:', statinfo.st_size"
   ]
  },
  {
   "cell_type": "code",
   "execution_count": null,
   "metadata": {
    "collapsed": true
   },
   "outputs": [],
   "source": []
  }
 ],
 "metadata": {
  "anaconda-cloud": {},
  "kernelspec": {
   "display_name": "Python [default]",
   "language": "python",
   "name": "python2"
  },
  "language_info": {
   "codemirror_mode": {
    "name": "ipython",
    "version": 2
   },
   "file_extension": ".py",
   "mimetype": "text/x-python",
   "name": "python",
   "nbconvert_exporter": "python",
   "pygments_lexer": "ipython2",
   "version": "2.7.12"
  }
 },
 "nbformat": 4,
 "nbformat_minor": 0
}
