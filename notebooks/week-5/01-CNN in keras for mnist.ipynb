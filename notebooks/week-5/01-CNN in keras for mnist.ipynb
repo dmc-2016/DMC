{
 "cells": [
  {
   "cell_type": "markdown",
   "metadata": {},
   "source": [
    "## Lab 5.1 - Keras for CNN\n",
    "\n",
    "In this lab we will use the [Keras deep learning library](https://keras.io/) to construct a simple convolutional neural network (CNN) to classify the digits from the MNIST dataset. Keras is a very high-level machine learning library that wraps many of the functions and data formats we developed from scratch in earlier labs into simple, easy to use functions. Infact, the library does not actually implement any computation itself, but borrows the necessary functions from either the TensorFlow or Theano libraries. Thus, the goal of Keras is not to compete with these state-of-the-art machine learning libraries, but simply to make them easier to use, especially for non-expert users.\n",
    "\n",
    "As a result, you can see that this week's code, despite representing a more complex network, is actually much shorter and easier to understand. This ease of use has made Keras quite popular for neural network development in recent years. The tradeoff to this ease of use is that, while Keras implements many typical machine learning processes and methods, much of its funcitonality is hidden from the user. Thus, it is harder to access the model's parameters, investigate what is happening during model training, and to implement custom features such as your own activation and cost functions. In short, higher level libraries such as Keras may be easier to use for typical tasks, but they are harder to hack and use in non-typical ways.\n",
    "\n",
    "We will be using Keras to develop more complex neural networks for the rest of the course, but as you develop your own applications you may want or need to go back to more low-level implementations such as in basic numpy or a medium-level library such as Tensorflow.\n",
    "\n",
    "Let's begin this week's lab by importing the libraries we will be using:"
   ]
  },
  {
   "cell_type": "code",
   "execution_count": 1,
   "metadata": {
    "collapsed": false
   },
   "outputs": [
    {
     "name": "stderr",
     "output_type": "stream",
     "text": [
      "Using TensorFlow backend.\n"
     ]
    }
   ],
   "source": [
    "import numpy as np\n",
    "np.random.seed(1337)  # for reproducibility\n",
    "\n",
    "from keras.datasets import mnist\n",
    "from keras.models import Sequential\n",
    "from keras.layers import Dense, Dropout, Activation, Flatten\n",
    "from keras.layers import Convolution2D, MaxPooling2D\n",
    "from keras.utils import np_utils\n",
    "from keras import backend as K\n",
    "\n",
    "from keras.datasets import mnist\n",
    "\n",
    "import pickle\n",
    "\n",
    "print \"using ordering:\", K.image_dim_ordering()"
   ]
  },
  {
   "cell_type": "markdown",
   "metadata": {},
   "source": [
    "After you import the Keras library you should see a message telling you whether it is using the Theano or Tensorflow library as its backend. Because it relies on one of these libraries to perform its calculations, you need to have at least one of them installed to use Keras. If you are using the virtual machine from the first tutorial you should already have both installed, and for our purposes it does not matter which Keras is configured to use.\n",
    "\n",
    "Next, let's import the MNIST dataset from Keras' data library:"
   ]
  },
  {
   "cell_type": "code",
   "execution_count": 1,
   "metadata": {
    "collapsed": false
   },
   "outputs": [
    {
     "ename": "NameError",
     "evalue": "name 'mnist' is not defined",
     "output_type": "error",
     "traceback": [
      "\u001b[0;31m---------------------------------------------------------------------------\u001b[0m",
      "\u001b[0;31mNameError\u001b[0m                                 Traceback (most recent call last)",
      "\u001b[0;32m<ipython-input-1-bc62bd3ec5bc>\u001b[0m in \u001b[0;36m<module>\u001b[0;34m()\u001b[0m\n\u001b[0;32m----> 1\u001b[0;31m \u001b[0;34m(\u001b[0m\u001b[0mX_train\u001b[0m\u001b[0;34m,\u001b[0m \u001b[0my_train\u001b[0m\u001b[0;34m)\u001b[0m\u001b[0;34m,\u001b[0m \u001b[0;34m(\u001b[0m\u001b[0mX_test\u001b[0m\u001b[0;34m,\u001b[0m \u001b[0my_test\u001b[0m\u001b[0;34m)\u001b[0m \u001b[0;34m=\u001b[0m \u001b[0mmnist\u001b[0m\u001b[0;34m.\u001b[0m\u001b[0mload_data\u001b[0m\u001b[0;34m(\u001b[0m\u001b[0;34m)\u001b[0m\u001b[0;34m\u001b[0m\u001b[0m\n\u001b[0m\u001b[1;32m      2\u001b[0m \u001b[0;34m\u001b[0m\u001b[0m\n\u001b[1;32m      3\u001b[0m \u001b[0;32mprint\u001b[0m \u001b[0;34m'X_train shape:'\u001b[0m\u001b[0;34m,\u001b[0m \u001b[0mX_train\u001b[0m\u001b[0;34m.\u001b[0m\u001b[0mshape\u001b[0m\u001b[0;34m\u001b[0m\u001b[0m\n\u001b[1;32m      4\u001b[0m \u001b[0;32mprint\u001b[0m \u001b[0mX_train\u001b[0m\u001b[0;34m.\u001b[0m\u001b[0mshape\u001b[0m\u001b[0;34m[\u001b[0m\u001b[0;36m0\u001b[0m\u001b[0;34m]\u001b[0m\u001b[0;34m,\u001b[0m \u001b[0;34m'train samples'\u001b[0m\u001b[0;34m\u001b[0m\u001b[0m\n\u001b[1;32m      5\u001b[0m \u001b[0;32mprint\u001b[0m \u001b[0mX_test\u001b[0m\u001b[0;34m.\u001b[0m\u001b[0mshape\u001b[0m\u001b[0;34m[\u001b[0m\u001b[0;36m0\u001b[0m\u001b[0;34m]\u001b[0m\u001b[0;34m,\u001b[0m \u001b[0;34m'test samples'\u001b[0m\u001b[0;34m\u001b[0m\u001b[0m\n",
      "\u001b[0;31mNameError\u001b[0m: name 'mnist' is not defined"
     ]
    }
   ],
   "source": [
    "(X_train, y_train), (X_test, y_test) = mnist.load_data()\n",
    "\n",
    "print 'X_train shape:', X_train.shape\n",
    "print X_train.shape[0], 'train samples'\n",
    "print X_test.shape[0], 'test samples'"
   ]
  },
  {
   "cell_type": "markdown",
   "metadata": {},
   "source": [
    "The data comes in as separate variables for feature (X) and target (y) data, and is already split between training and test sets.\n",
    "\n",
    "The format for the X data is a three-dimensional numpy array of integers. The first dimension represents the individual images, and the second and third dimensions represent the grayscale pixels values of each 28x28 image. The pixel values are represented as integers in the range 0-255. The y data contains a list of single integers representing the type of digit 0-9.\n",
    "\n",
    "Before we can use this data for training, we need to convert the integer (whole number) numbers in the range 0-255 to float (decimal) numbers in the range 0-1. We do this by casting the numpy arrays to 'float' type, and dividing each value by 255."
   ]
  },
  {
   "cell_type": "code",
   "execution_count": 3,
   "metadata": {
    "collapsed": false
   },
   "outputs": [],
   "source": [
    "X_train = X_train.astype('float32')\n",
    "X_test = X_test.astype('float32')\n",
    "X_train /= 255.0\n",
    "X_test /= 255.0"
   ]
  },
  {
   "cell_type": "markdown",
   "metadata": {},
   "source": [
    "To use this data with Keras we also need to reformat it to match the specific needs of the library. Because Keras' convolutional operations are made specifically for processing images, they expect each piece of image data to be represented by three dimensions: two for the dimensions of the image, and an extra dimension to represent the RGB channels of a full-color image. \n",
    "\n",
    "Since in this case we are working with black and white images, we will simply add an extra dimension to the end of both X datasets so it matches the expected format. We will also use the `to_categorical()` utility included with the Keras library to convert both of the y datasets to the categorical format expected by Keras."
   ]
  },
  {
   "cell_type": "code",
   "execution_count": 4,
   "metadata": {
    "collapsed": false
   },
   "outputs": [
    {
     "name": "stdout",
     "output_type": "stream",
     "text": [
      "(60000, 28, 28, 1)\n",
      "(60000,)\n"
     ]
    }
   ],
   "source": [
    "# number of classes\n",
    "num_classes = 10\n",
    "\n",
    "# image dimensions\n",
    "img_rows, img_cols = X_train.shape[1],  X_train.shape[2]\n",
    "\n",
    "if K.image_dim_ordering() == 'th':\n",
    "    X_train = X_train.reshape(X_train.shape[0], 1, img_rows, img_cols)\n",
    "    X_test = X_test.reshape(X_test.shape[0], 1, img_rows, img_cols)\n",
    "    input_shape = (1, img_rows, img_cols)\n",
    "else:\n",
    "    X_train = X_train.reshape(X_train.shape[0], img_rows, img_cols, 1)\n",
    "    X_test = X_test.reshape(X_test.shape[0], img_rows, img_cols, 1)\n",
    "    input_shape = (img_rows, img_cols, 1)\n",
    "\n",
    "Y_train = np_utils.to_categorical(y_train, num_classes)\n",
    "Y_test = np_utils.to_categorical(y_test, num_classes)\n",
    "\n",
    "print X_train.shape\n",
    "print y_train.shape"
   ]
  },
  {
   "cell_type": "markdown",
   "metadata": {},
   "source": [
    "Before we begin training the network, we can use the matplotlib library to visualize one of the digits to make sure everything has been loaded correctly."
   ]
  },
  {
   "cell_type": "code",
   "execution_count": 5,
   "metadata": {
    "collapsed": false
   },
   "outputs": [
    {
     "name": "stdout",
     "output_type": "stream",
     "text": [
      "(28, 28)\n",
      "(60000,)\n"
     ]
    },
    {
     "data": {
      "text/plain": [
       "<matplotlib.image.AxesImage at 0x7feba7c688d0>"
      ]
     },
     "execution_count": 5,
     "metadata": {},
     "output_type": "execute_result"
    },
    {
     "data": {
      "image/png": "[encoded data removed]",
      "text/plain": [
       "<matplotlib.figure.Figure at 0x7febb7eb2b90>"
      ]
     },
     "metadata": {},
     "output_type": "display_data"
    }
   ],
   "source": [
    "%matplotlib inline\n",
    "from matplotlib.pyplot import imshow\n",
    "import matplotlib.pyplot as plt\n",
    "\n",
    "img_num = 0\n",
    "\n",
    "if K.image_dim_ordering() == 'th':\n",
    "    img = X_train[img_num][0,:,:]\n",
    "else:\n",
    "    img = X_train[img_num][:,:,0]\n",
    "\n",
    "print img.shape\n",
    "print y_train.shape\n",
    "imshow(img, cmap = plt.get_cmap('gray'), vmin = 0, vmax = 1,  interpolation='nearest')"
   ]
  },
  {
   "cell_type": "markdown",
   "metadata": {},
   "source": [
    "Now we define the hyper-parameters of our model and the architecture of the network. In this case we will base our network on the one described in chapter 6 of the textbook:\n",
    "\n",
    "http://neuralnetworksanddeeplearning.com/chap6.html\n",
    "\n",
    "This is a fairly shallow CNN model utilizing two convolutional layers with 2x2 max pooling for data reduction, and two fully connected layers with 50% dropout for regularization. All layers except for the final classification layer utilize the ReLu activation function. The final layer uses the softmax activation function to convert the raw outputs to a probability distribution. The layers have the following dimensions:\n",
    "\n",
    "- The first convolutional layer will use a patch (filter) size of 5 x 5 pixels, and a depth of 20 feature layers\n",
    "- The second convolutional layer will use a patch (filter) size of 5 x 5 pixels, and a depth of 40 feature layers\n",
    "- The two fully connected hidden layers will each contain 1000 neurons\n",
    "\n",
    "We will train the model for 30 epochs, using mini-batches of 128 samples at a time with the SGD algorithm."
   ]
  },
  {
   "cell_type": "code",
   "execution_count": 6,
   "metadata": {
    "collapsed": true
   },
   "outputs": [],
   "source": [
    "# model hyperparameters\n",
    "batch_size = 128\n",
    "nb_epoch = 30\n",
    "\n",
    "# network architecture\n",
    "patch_size_1 = 5\n",
    "patch_size_2 = 5\n",
    "\n",
    "depth_1 = 20\n",
    "depth_2 = 40\n",
    "\n",
    "pool_size = 2\n",
    "\n",
    "num_hidden_1 = 1000\n",
    "num_hidden_2 = 1000\n",
    "\n",
    "dropout = 0.5"
   ]
  },
  {
   "cell_type": "markdown",
   "metadata": {},
   "source": [
    "Now it is time to build the actual model in Keras. To specify the architecture of the neural network, Keras uses an abstracted sequential or 'stack' model. Instead of specifying each step of computation as we did with numpy and Tensorflow, we simply create a new Sequential model, and then use its `.add()` function to add layers to the network according to the parameters specified above."
   ]
  },
  {
   "cell_type": "code",
   "execution_count": 7,
   "metadata": {
    "collapsed": false
   },
   "outputs": [],
   "source": [
    "# create new Keras Sequential model\n",
    "model = Sequential()\n",
    "\n",
    "# add first convolutional layer to model and specify it's depth and filter size\n",
    "# for the first layer we also have to specify the size of each input image\n",
    "# which we calculated above\n",
    "model.add(Convolution2D(depth_1, patch_size_1, patch_size_1,\n",
    "                        border_mode='valid',\n",
    "                        input_shape=input_shape))\n",
    "# apply 'relu' activation function for first layer\n",
    "model.add(Activation('relu'))\n",
    "# apply max pooling to reduce the size of the image by a factor of 2\n",
    "model.add(MaxPooling2D(pool_size=(pool_size, pool_size)))\n",
    "\n",
    "# repeat these operations for the second convolutional layer\n",
    "# this time Keras can figure out the input size \n",
    "# from the previous layer on it's own\n",
    "model.add(Convolution2D(depth_2, patch_size_2, patch_size_2,\n",
    "                        border_mode='valid'))\n",
    "model.add(Activation('relu'))\n",
    "model.add(MaxPooling2D(pool_size=(pool_size, pool_size)))\n",
    "\n",
    "# flatten the three-dimensional convolutional layer to a single layer of neurons\n",
    "model.add(Flatten())\n",
    "\n",
    "# add the first fully connected layer, applying 'relu' activation and dropout\n",
    "model.add(Dense(num_hidden_1))\n",
    "model.add(Activation('relu'))\n",
    "model.add(Dropout(dropout))\n",
    "\n",
    "# add the second fully connected layer\n",
    "model.add(Dense(num_hidden_2))\n",
    "model.add(Activation('relu'))\n",
    "model.add(Dropout(dropout))\n",
    "\n",
    "# add the final classification layer with the number of neurons \n",
    "# matching the number of classes we are trying to learn\n",
    "model.add(Dense(num_classes))\n",
    "\n",
    "# apply the 'softmax' activation to the final layer to convert the output to \n",
    "# a probability distribution\n",
    "model.add(Activation('softmax'))"
   ]
  },
  {
   "cell_type": "markdown",
   "metadata": {},
   "source": [
    "Next, we ask Keras to compile our model, and specify the loss function we want to use, along with the optimization algorithm and the performance metrics we want the model to output after training. You can see that this is much easier and more intuitive than our previous examples where we had to actually write out the forumulas for the loss function and explicitly develop the optimization algorithm. However, if you wanted to use a different loss function or optimization strategy than those already included with Keras you would again have to specify it explicitly using additional functions."
   ]
  },
  {
   "cell_type": "code",
   "execution_count": 8,
   "metadata": {
    "collapsed": true
   },
   "outputs": [],
   "source": [
    "model.compile(loss='categorical_crossentropy',\n",
    "              optimizer='adadelta',\n",
    "              metrics=['accuracy'])"
   ]
  },
  {
   "cell_type": "markdown",
   "metadata": {},
   "source": [
    "Once we have compiled the model, we can begin training. The entire training operation  is now wrapped into a single function called `.fit()`. Instead of creating our own structure to loop over every epoch and mini-batch, we simply have to call the `.fit()` function of our Sequential model, and pass in our training and test sets, along with the hyper-parameters that specify the number of epochs and mini-batch size we want to use. If you set the optional `verbose` variable to `1`, Keras will output information about loss and accuracy on both training and test sets as it is training so you can monitor the process."
   ]
  },
  {
   "cell_type": "code",
   "execution_count": 9,
   "metadata": {
    "collapsed": false
   },
   "outputs": [
    {
     "name": "stdout",
     "output_type": "stream",
     "text": [
      "Train on 60000 samples, validate on 10000 samples\n",
      "Epoch 1/30\n",
      "60000/60000 [==============================] - 80s - loss: 0.2915 - acc: 0.9078 - val_loss: 0.0639 - val_acc: 0.9797\n",
      "Epoch 2/30\n",
      "60000/60000 [==============================] - 117s - loss: 0.0791 - acc: 0.9755 - val_loss: 0.0394 - val_acc: 0.9862\n",
      "Epoch 3/30\n",
      "60000/60000 [==============================] - 69s - loss: 0.0565 - acc: 0.9824 - val_loss: 0.0304 - val_acc: 0.9895\n",
      "Epoch 4/30\n",
      "60000/60000 [==============================] - 96s - loss: 0.0458 - acc: 0.9859 - val_loss: 0.0267 - val_acc: 0.9912\n",
      "Epoch 5/30\n",
      "60000/60000 [==============================] - 66s - loss: 0.0376 - acc: 0.9886 - val_loss: 0.0253 - val_acc: 0.9914\n",
      "Epoch 6/30\n",
      "60000/60000 [==============================] - 67s - loss: 0.0313 - acc: 0.9903 - val_loss: 0.0251 - val_acc: 0.9920\n",
      "Epoch 7/30\n",
      "60000/60000 [==============================] - 96s - loss: 0.0276 - acc: 0.9915 - val_loss: 0.0265 - val_acc: 0.9914\n",
      "Epoch 8/30\n",
      "60000/60000 [==============================] - 62s - loss: 0.0247 - acc: 0.9922 - val_loss: 0.0230 - val_acc: 0.9926\n",
      "Epoch 9/30\n",
      "60000/60000 [==============================] - 63s - loss: 0.0211 - acc: 0.9934 - val_loss: 0.0225 - val_acc: 0.9923\n",
      "Epoch 10/30\n",
      "60000/60000 [==============================] - 62s - loss: 0.0189 - acc: 0.9939 - val_loss: 0.0210 - val_acc: 0.9926\n",
      "Epoch 11/30\n",
      "60000/60000 [==============================] - 63s - loss: 0.0170 - acc: 0.9947 - val_loss: 0.0224 - val_acc: 0.9938\n",
      "Epoch 12/30\n",
      "60000/60000 [==============================] - 62s - loss: 0.0157 - acc: 0.9949 - val_loss: 0.0257 - val_acc: 0.9919\n",
      "Epoch 13/30\n",
      "60000/60000 [==============================] - 63s - loss: 0.0134 - acc: 0.9959 - val_loss: 0.0224 - val_acc: 0.9927\n",
      "Epoch 14/30\n",
      "60000/60000 [==============================] - 62s - loss: 0.0131 - acc: 0.9957 - val_loss: 0.0222 - val_acc: 0.9931\n",
      "Epoch 15/30\n",
      "60000/60000 [==============================] - 63s - loss: 0.0117 - acc: 0.9965 - val_loss: 0.0202 - val_acc: 0.9933\n",
      "Epoch 16/30\n",
      "60000/60000 [==============================] - 63s - loss: 0.0106 - acc: 0.9966 - val_loss: 0.0222 - val_acc: 0.9931\n",
      "Epoch 17/30\n",
      "60000/60000 [==============================] - 63s - loss: 0.0095 - acc: 0.9972 - val_loss: 0.0210 - val_acc: 0.9935\n",
      "Epoch 18/30\n",
      "60000/60000 [==============================] - 63s - loss: 0.0087 - acc: 0.9974 - val_loss: 0.0227 - val_acc: 0.9936\n",
      "Epoch 19/30\n",
      "60000/60000 [==============================] - 62s - loss: 0.0084 - acc: 0.9974 - val_loss: 0.0217 - val_acc: 0.9940\n",
      "Epoch 20/30\n",
      "60000/60000 [==============================] - 63s - loss: 0.0074 - acc: 0.9978 - val_loss: 0.0221 - val_acc: 0.9935\n",
      "Epoch 21/30\n",
      "60000/60000 [==============================] - 63s - loss: 0.0073 - acc: 0.9978 - val_loss: 0.0231 - val_acc: 0.9928\n",
      "Epoch 22/30\n",
      "60000/60000 [==============================] - 63s - loss: 0.0064 - acc: 0.9980 - val_loss: 0.0255 - val_acc: 0.9925\n",
      "Epoch 23/30\n",
      "60000/60000 [==============================] - 63s - loss: 0.0063 - acc: 0.9980 - val_loss: 0.0233 - val_acc: 0.9932\n",
      "Epoch 24/30\n",
      "60000/60000 [==============================] - 62s - loss: 0.0053 - acc: 0.9982 - val_loss: 0.0224 - val_acc: 0.9937\n",
      "Epoch 25/30\n",
      "60000/60000 [==============================] - 69s - loss: 0.0054 - acc: 0.9983 - val_loss: 0.0233 - val_acc: 0.9939\n",
      "Epoch 26/30\n",
      "60000/60000 [==============================] - 66s - loss: 0.0044 - acc: 0.9987 - val_loss: 0.0256 - val_acc: 0.9925\n",
      "Epoch 27/30\n",
      "60000/60000 [==============================] - 63s - loss: 0.0042 - acc: 0.9985 - val_loss: 0.0233 - val_acc: 0.9932\n",
      "Epoch 28/30\n",
      "60000/60000 [==============================] - 63s - loss: 0.0042 - acc: 0.9986 - val_loss: 0.0250 - val_acc: 0.9940\n",
      "Epoch 29/30\n",
      "60000/60000 [==============================] - 63s - loss: 0.0036 - acc: 0.9988 - val_loss: 0.0233 - val_acc: 0.9939\n",
      "Epoch 30/30\n",
      "60000/60000 [==============================] - 63s - loss: 0.0036 - acc: 0.9991 - val_loss: 0.0244 - val_acc: 0.9933\n"
     ]
    },
    {
     "data": {
      "text/plain": [
       "<keras.callbacks.History at 0x7feba2ba2b10>"
      ]
     },
     "execution_count": 9,
     "metadata": {},
     "output_type": "execute_result"
    }
   ],
   "source": [
    "model.fit(X_train, Y_train, batch_size=batch_size, nb_epoch=nb_epoch,\n",
    "          verbose=1, validation_data=(X_test, Y_test))"
   ]
  },
  {
   "cell_type": "markdown",
   "metadata": {},
   "source": [
    "Depending on the computer you're using, training this network through 30 epochs will take some time. Using the virtual machine from Lab 1, each epoch takes approximately 40-50 seconds. Once the training is complete, we can use the model's `.evaluate()` function to apply the model to the entire test set, and get back the model's performance in terms of total loss and prediction accuracy."
   ]
  },
  {
   "cell_type": "code",
   "execution_count": 10,
   "metadata": {
    "collapsed": false
   },
   "outputs": [
    {
     "name": "stdout",
     "output_type": "stream",
     "text": [
      "Test score: 0.0243663650705\n",
      "Test accuracy: 99.33%\n"
     ]
    }
   ],
   "source": [
    "score = model.evaluate(X_test, Y_test, verbose=0)\n",
    "\n",
    "print 'Test score:', score[0]\n",
    "print 'Test accuracy: {:.2%}'.format(score[1])"
   ]
  },
  {
   "cell_type": "code",
   "execution_count": null,
   "metadata": {
    "collapsed": true
   },
   "outputs": [],
   "source": []
  }
 ],
 "metadata": {
  "anaconda-cloud": {},
  "kernelspec": {
   "display_name": "Python [default]",
   "language": "python",
   "name": "python2"
  },
  "language_info": {
   "codemirror_mode": {
    "name": "ipython",
    "version": 2
   },
   "file_extension": ".py",
   "mimetype": "text/x-python",
   "name": "python",
   "nbconvert_exporter": "python",
   "pygments_lexer": "ipython2",
   "version": "2.7.12"
  }
 },
 "nbformat": 4,
 "nbformat_minor": 0
}
