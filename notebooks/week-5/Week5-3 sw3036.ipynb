{
 "cells": [
  {
   "cell_type": "code",
   "execution_count": 1,
   "metadata": {
    "collapsed": false
   },
   "outputs": [
    {
     "name": "stdout",
     "output_type": "stream",
     "text": [
      "('Training set', (14000, 64, 64), (14000, 1))\n",
      "('Test set', (6000, 64, 64), (6000, 1))\n"
     ]
    }
   ],
   "source": [
    "import pickle\n",
    "\n",
    "pickle_file = '-catsdogs.pickle'\n",
    "\n",
    "with open(pickle_file, 'rb') as f:\n",
    "    save = pickle.load(f)\n",
    "    X_train = save['X_train']\n",
    "    y_train = save['y_train']\n",
    "    X_test = save['X_test']\n",
    "    y_test = save['y_test']\n",
    "    del save  # hint to help gc free up memory\n",
    "    print('Training set', X_train.shape, y_train.shape)\n",
    "    print('Test set', X_test.shape, y_test.shape)"
   ]
  },
  {
   "cell_type": "code",
   "execution_count": 2,
   "metadata": {
    "collapsed": false
   },
   "outputs": [
    {
     "name": "stderr",
     "output_type": "stream",
     "text": [
      "Using TensorFlow backend.\n"
     ]
    },
    {
     "name": "stdout",
     "output_type": "stream",
     "text": [
      "(14000, 64, 64)\n",
      "64 64\n",
      "(14000, 64, 64, 1)\n",
      "(14000, 1)\n",
      "(64, 64)\n",
      "(14000, 1)\n"
     ]
    },
    {
     "data": {
      "text/plain": [
       "<matplotlib.image.AxesImage at 0x7f0052620c10>"
      ]
     },
     "execution_count": 2,
     "metadata": {},
     "output_type": "execute_result"
    },
    {
     "data": {
      "image/png": "[encoded data removed]",
      "text/plain": [
       "<matplotlib.figure.Figure at 0x7f0056bfe910>"
      ]
     },
     "metadata": {},
     "output_type": "display_data"
    }
   ],
   "source": [
    "## implement your CNN starting here.\n",
    "\n",
    "import numpy as np\n",
    "np.random.seed(1337)  # for reproducibility\n",
    "\n",
    "#from keras.datasets import mnist\n",
    "from keras.models import Sequential\n",
    "from keras.layers import Dense, Dropout, Activation, Flatten\n",
    "from keras.layers import Convolution2D, MaxPooling2D\n",
    "from keras.utils import np_utils\n",
    "from keras import backend as K\n",
    "\n",
    "#from keras.datasets import mnist\n",
    "\n",
    "import pickle\n",
    "K.set_image_dim_ordering('tf')\n",
    "\n",
    "num_classes = 2\n",
    "img_rows, img_cols = X_train.shape[1],  X_train.shape[2]\n",
    "\n",
    "print X_train.shape\n",
    "print img_rows, img_cols\n",
    "\n",
    "if K.image_dim_ordering() == 'th':\n",
    "    X_train = X_train.reshape(X_train.shape[0], 1, img_rows, img_cols)\n",
    "    X_test = X_test.reshape(X_test.shape[0], 1, img_rows, img_cols)\n",
    "    input_shape = (1, img_rows, img_cols)\n",
    "else:\n",
    "    X_train = X_train.reshape(X_train.shape[0], img_rows, img_cols, 1)\n",
    "    X_test = X_test.reshape(X_test.shape[0], img_rows, img_cols, 1)\n",
    "    input_shape = (img_rows, img_cols, 1)\n",
    "\n",
    "Y_train = np_utils.to_categorical(y_train, num_classes)\n",
    "Y_test = np_utils.to_categorical(y_test, num_classes)\n",
    "\n",
    "print X_train.shape\n",
    "print y_train.shape\n",
    "\n",
    "%matplotlib inline\n",
    "from matplotlib.pyplot import imshow\n",
    "import matplotlib.pyplot as plt\n",
    "\n",
    "img_num = 0\n",
    "\n",
    "img = X_train[img_num][:,:,0]\n",
    "\n",
    "print img.shape\n",
    "print y_train.shape\n",
    "imshow(img, cmap = plt.get_cmap('gray'), vmin = 0, vmax = 1,  interpolation='nearest')\n",
    "\n"
   ]
  },
  {
   "cell_type": "code",
   "execution_count": 3,
   "metadata": {
    "collapsed": true
   },
   "outputs": [],
   "source": [
    "\n",
    "\n",
    "# model hyperparameters\n",
    "batch_size = 128\n",
    "nb_epoch = 30\n",
    "\n",
    "# network architecture\n",
    "patch_size_1 = 3\n",
    "patch_size_2 = 3\n",
    "patch_size_3 = 3\n",
    "\n",
    "depth_1 = 20\n",
    "depth_2 = 40\n",
    "depth_3 = 60\n",
    "\n",
    "pool_size = 2\n",
    "\n",
    "num_hidden_1 = 1000\n",
    "num_hidden_2 = 1000\n",
    "num_hidden_3 = 1000\n",
    "\n",
    "dropout = 0.5"
   ]
  },
  {
   "cell_type": "code",
   "execution_count": 4,
   "metadata": {
    "collapsed": true
   },
   "outputs": [],
   "source": [
    "# create new Keras Sequential model\n",
    "model = Sequential()\n",
    "\n",
    "# add first convolutional layer to model and specify it's depth and filter size\n",
    "# for the first layer we also have to specify the size of each input image\n",
    "# which we calculated above\n",
    "model.add(Convolution2D(depth_1, patch_size_1, patch_size_1,\n",
    "                        border_mode='valid',\n",
    "                        input_shape=input_shape))\n",
    "# apply 'relu' activation function for first layer\n",
    "model.add(Activation('relu'))\n",
    "# apply max pooling to reduce the size of the image by a factor of 2\n",
    "model.add(MaxPooling2D(pool_size=(pool_size, pool_size)))\n",
    "\n",
    "# repeat these operations for the second convolutional layer\n",
    "# this time Keras can figure out the input size \n",
    "# from the previous layer on it's own\n",
    "model.add(Convolution2D(depth_2, patch_size_2, patch_size_2,\n",
    "                        border_mode='valid'))\n",
    "model.add(Activation('relu'))\n",
    "model.add(MaxPooling2D(pool_size=(pool_size, pool_size)))\n",
    "\n",
    "#extra below:\n",
    "\n",
    "model.add(Convolution2D(depth_3, patch_size_3, patch_size_3,\n",
    "                        border_mode='valid'))\n",
    "model.add(Activation('relu'))\n",
    "model.add(MaxPooling2D(pool_size=(pool_size, pool_size)))\n",
    "\n",
    "\n",
    "# flatten the three-dimensional convolutional layer to a single layer of neurons\n",
    "model.add(Flatten())\n",
    "\n",
    "# add the first fully connected layer, applying 'relu' activation and dropout\n",
    "model.add(Dense(num_hidden_1))\n",
    "model.add(Activation('relu'))\n",
    "model.add(Dropout(dropout))\n",
    "\n",
    "# add the second fully connected layer\n",
    "model.add(Dense(num_hidden_2))\n",
    "model.add(Activation('relu'))\n",
    "model.add(Dropout(dropout))\n",
    "\n",
    "model.add(Dense(num_hidden_3))\n",
    "model.add(Activation('relu'))\n",
    "model.add(Dropout(dropout))\n",
    "\n",
    "# add the final classification layer with the number of neurons \n",
    "# matching the number of classes we are trying to learn\n",
    "model.add(Dense(num_classes))\n",
    "\n",
    "# apply the 'softmax' activation to the final layer to convert the output to \n",
    "# a probability distribution\n",
    "model.add(Activation('softmax'))\n",
    "\n",
    "model.compile(loss='categorical_crossentropy',\n",
    "              optimizer='adadelta',\n",
    "              metrics=['accuracy'])"
   ]
  },
  {
   "cell_type": "code",
   "execution_count": 5,
   "metadata": {
    "collapsed": false
   },
   "outputs": [
    {
     "name": "stdout",
     "output_type": "stream",
     "text": [
      "Train on 14000 samples, validate on 6000 samples\n",
      "Epoch 1/30\n",
      "14000/14000 [==============================] - 50s - loss: 0.6922 - acc: 0.5149 - val_loss: 0.6916 - val_acc: 0.4970\n",
      "Epoch 2/30\n",
      "14000/14000 [==============================] - 50s - loss: 0.6784 - acc: 0.5754 - val_loss: 0.6476 - val_acc: 0.6388\n",
      "Epoch 3/30\n",
      "14000/14000 [==============================] - 57s - loss: 0.6577 - acc: 0.6119 - val_loss: 0.6516 - val_acc: 0.6175\n",
      "Epoch 4/30\n",
      "14000/14000 [==============================] - 63s - loss: 0.6439 - acc: 0.6253 - val_loss: 0.6434 - val_acc: 0.6223\n",
      "Epoch 5/30\n",
      "14000/14000 [==============================] - 57s - loss: 0.6257 - acc: 0.6509 - val_loss: 0.6091 - val_acc: 0.6707\n",
      "Epoch 6/30\n",
      "14000/14000 [==============================] - 50s - loss: 0.5943 - acc: 0.6836 - val_loss: 0.7811 - val_acc: 0.5538\n",
      "Epoch 7/30\n",
      "14000/14000 [==============================] - 50s - loss: 0.5540 - acc: 0.7210 - val_loss: 0.5323 - val_acc: 0.7297\n",
      "Epoch 8/30\n",
      "14000/14000 [==============================] - 50s - loss: 0.5243 - acc: 0.7414 - val_loss: 0.4956 - val_acc: 0.7568\n",
      "Epoch 9/30\n",
      "14000/14000 [==============================] - 50s - loss: 0.4938 - acc: 0.7596 - val_loss: 0.5707 - val_acc: 0.7008\n",
      "Epoch 10/30\n",
      "14000/14000 [==============================] - 50s - loss: 0.4724 - acc: 0.7742 - val_loss: 0.4952 - val_acc: 0.7480\n",
      "Epoch 11/30\n",
      "14000/14000 [==============================] - 50s - loss: 0.4462 - acc: 0.7939 - val_loss: 0.4512 - val_acc: 0.7867\n",
      "Epoch 12/30\n",
      "14000/14000 [==============================] - 50s - loss: 0.4289 - acc: 0.7999 - val_loss: 0.5617 - val_acc: 0.7360\n",
      "Epoch 13/30\n",
      "14000/14000 [==============================] - 50s - loss: 0.4066 - acc: 0.8161 - val_loss: 0.4460 - val_acc: 0.7915\n",
      "Epoch 14/30\n",
      "14000/14000 [==============================] - 50s - loss: 0.3831 - acc: 0.8316 - val_loss: 0.4320 - val_acc: 0.7982\n",
      "Epoch 15/30\n",
      "14000/14000 [==============================] - 50s - loss: 0.3594 - acc: 0.8426 - val_loss: 0.4514 - val_acc: 0.7920\n",
      "Epoch 16/30\n",
      "14000/14000 [==============================] - 50s - loss: 0.3309 - acc: 0.8565 - val_loss: 0.4557 - val_acc: 0.7977\n",
      "Epoch 17/30\n",
      "14000/14000 [==============================] - 50s - loss: 0.3102 - acc: 0.8696 - val_loss: 0.4314 - val_acc: 0.8015\n",
      "Epoch 18/30\n",
      "14000/14000 [==============================] - 50s - loss: 0.2747 - acc: 0.8866 - val_loss: 0.4411 - val_acc: 0.8022\n",
      "Epoch 19/30\n",
      "14000/14000 [==============================] - 50s - loss: 0.2349 - acc: 0.9039 - val_loss: 0.5065 - val_acc: 0.7990\n",
      "Epoch 20/30\n",
      "14000/14000 [==============================] - 50s - loss: 0.2020 - acc: 0.9202 - val_loss: 0.5189 - val_acc: 0.8032\n",
      "Epoch 21/30\n",
      "14000/14000 [==============================] - 50s - loss: 0.1593 - acc: 0.9403 - val_loss: 0.5528 - val_acc: 0.8040\n",
      "Epoch 22/30\n",
      "14000/14000 [==============================] - 50s - loss: 0.1263 - acc: 0.9531 - val_loss: 0.6769 - val_acc: 0.7878\n",
      "Epoch 23/30\n",
      "14000/14000 [==============================] - 50s - loss: 0.1022 - acc: 0.9619 - val_loss: 0.6285 - val_acc: 0.8012\n",
      "Epoch 24/30\n",
      "14000/14000 [==============================] - 50s - loss: 0.0753 - acc: 0.9724 - val_loss: 0.7553 - val_acc: 0.7987\n",
      "Epoch 25/30\n",
      "14000/14000 [==============================] - 50s - loss: 0.0534 - acc: 0.9811 - val_loss: 0.8661 - val_acc: 0.7923\n",
      "Epoch 26/30\n",
      "14000/14000 [==============================] - 50s - loss: 0.0421 - acc: 0.9850 - val_loss: 0.8491 - val_acc: 0.8017\n",
      "Epoch 27/30\n",
      "14000/14000 [==============================] - 50s - loss: 0.0465 - acc: 0.9839 - val_loss: 0.8363 - val_acc: 0.8027\n",
      "Epoch 28/30\n",
      "14000/14000 [==============================] - 50s - loss: 0.0277 - acc: 0.9905 - val_loss: 0.9287 - val_acc: 0.8050\n",
      "Epoch 29/30\n",
      "14000/14000 [==============================] - 50s - loss: 0.0303 - acc: 0.9898 - val_loss: 0.9415 - val_acc: 0.8055\n",
      "Epoch 30/30\n",
      "14000/14000 [==============================] - 50s - loss: 0.0264 - acc: 0.9912 - val_loss: 1.0273 - val_acc: 0.7870\n"
     ]
    },
    {
     "data": {
      "text/plain": [
       "<keras.callbacks.History at 0x7f00493078d0>"
      ]
     },
     "execution_count": 5,
     "metadata": {},
     "output_type": "execute_result"
    }
   ],
   "source": [
    "model.fit(X_train, Y_train, batch_size=batch_size, nb_epoch=nb_epoch,\n",
    "          verbose=1, validation_data=(X_test, Y_test))"
   ]
  },
  {
   "cell_type": "code",
   "execution_count": 6,
   "metadata": {
    "collapsed": false
   },
   "outputs": [
    {
     "name": "stdout",
     "output_type": "stream",
     "text": [
      "Test score: 1.02733491\n",
      "Test accuracy: 78.70%\n"
     ]
    }
   ],
   "source": [
    "score = model.evaluate(X_test, Y_test, verbose=0)\n",
    "\n",
    "print 'Test score:', score[0]\n",
    "print 'Test accuracy: {:.2%}'.format(score[1])"
   ]
  }
 ],
 "metadata": {
  "anaconda-cloud": {},
  "kernelspec": {
   "display_name": "Python [default]",
   "language": "python",
   "name": "python2"
  },
  "language_info": {
   "codemirror_mode": {
    "name": "ipython",
    "version": 2
   },
   "file_extension": ".py",
   "mimetype": "text/x-python",
   "name": "python",
   "nbconvert_exporter": "python",
   "pygments_lexer": "ipython2",
   "version": "2.7.12"
  }
 },
 "nbformat": 4,
 "nbformat_minor": 1
}
