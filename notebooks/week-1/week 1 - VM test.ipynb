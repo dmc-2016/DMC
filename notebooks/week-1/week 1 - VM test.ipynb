{
 "cells": [
  {
   "cell_type": "markdown",
   "metadata": {},
   "source": [
    "## Week 1 - testing your virtual environment\n",
    "\n",
    "Run the following cells to make sure you can import all the libraries. If you get an error on any of the cells, something went wrong with your installation. Follow the steps to remove your VM, and try the installation again. Once everything is working, save this notebooks and submit your changes through Github."
   ]
  },
  {
   "cell_type": "code",
   "execution_count": 1,
   "metadata": {
    "collapsed": false
   },
   "outputs": [
    {
     "name": "stdout",
     "output_type": "stream",
     "text": [
      "hello world\n"
     ]
    }
   ],
   "source": [
    "print \"hello world\""
   ]
  },
  {
   "cell_type": "code",
   "execution_count": 2,
   "metadata": {
    "collapsed": false
   },
   "outputs": [
    {
     "name": "stderr",
     "output_type": "stream",
     "text": [
      "Using Theano backend.\n"
     ]
    },
    {
     "name": "stdout",
     "output_type": "stream",
     "text": [
      "keras successfully imported\n",
      "theano successfully imported\n",
      "tensorflow successfully imported\n",
      "sklearn successfully imported\n",
      "seaborn successfully imported\n"
     ]
    }
   ],
   "source": [
    "import keras\n",
    "print \"keras successfully imported\"\n",
    "import theano\n",
    "print \"theano successfully imported\"\n",
    "import tensorflow\n",
    "print \"tensorflow successfully imported\"\n",
    "import sklearn\n",
    "print \"sklearn successfully imported\"\n",
    "import seaborn\n",
    "print \"seaborn successfully imported\""
   ]
  },
  {
   "cell_type": "code",
   "execution_count": 3,
   "metadata": {
    "collapsed": false,
    "scrolled": true
   },
   "outputs": [
    {
     "name": "stdout",
     "output_type": "stream",
     "text": [
      "uni: dbm2135\n"
     ]
    }
   ],
   "source": [
    "print \"uni:\", \"dbm2135\""
   ]
  },
  {
   "cell_type": "code",
   "execution_count": 1,
   "metadata": {
    "collapsed": false
   },
   "outputs": [
    {
     "ename": "SyntaxError",
     "evalue": "invalid syntax (<ipython-input-1-f9125de3ea1a>, line 1)",
     "output_type": "error",
     "traceback": [
      "\u001b[0;36m  File \u001b[0;32m\"<ipython-input-1-f9125de3ea1a>\"\u001b[0;36m, line \u001b[0;32m1\u001b[0m\n\u001b[0;31m    git remote add upstream https://github.com/dmc-2016/dmc.git\u001b[0m\n\u001b[0m             ^\u001b[0m\n\u001b[0;31mSyntaxError\u001b[0m\u001b[0;31m:\u001b[0m invalid syntax\n"
     ]
    }
   ],
   "source": [
    "git remote add upstream https://github.com/dmc-2016/dmc.git"
   ]
  },
  {
   "cell_type": "code",
   "execution_count": null,
   "metadata": {
    "collapsed": true
   },
   "outputs": [],
   "source": []
  }
 ],
 "metadata": {
  "anaconda-cloud": {},
  "kernelspec": {
   "display_name": "Python [default]",
   "language": "python",
   "name": "python2"
  },
  "language_info": {
   "codemirror_mode": {
    "name": "ipython",
    "version": 2
   },
   "file_extension": ".py",
   "mimetype": "text/x-python",
   "name": "python",
   "nbconvert_exporter": "python",
   "pygments_lexer": "ipython2",
   "version": "2.7.12"
  }
 },
 "nbformat": 4,
 "nbformat_minor": 0
}
