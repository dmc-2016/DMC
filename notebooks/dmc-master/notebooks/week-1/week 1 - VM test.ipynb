{
 "cells": [
  {
   "cell_type": "markdown",
   "metadata": {},
   "source": [
    "## Week 1 - testing your virtual environment\n",
    "\n",
    "Run the following cells to make sure you can import all the libraries. If you get an error on any of the cells, something went wrong with your installation. Follow the steps to remove your VM, and try the installation again. Once everything is working, save this notebooks and submit your changes through Github."
   ]
  },
  {
   "cell_type": "code",
   "execution_count": null,
   "metadata": {
    "collapsed": false
   },
   "outputs": [],
   "source": [
    "print \"hello world\""
   ]
  },
  {
   "cell_type": "code",
   "execution_count": null,
   "metadata": {
    "collapsed": false
   },
   "outputs": [],
   "source": [
    "import keras\n",
    "print \"keras successfully imported\"\n",
    "import theano\n",
    "print \"theano successfully imported\"\n",
    "import tensorflow\n",
    "print \"tensorflow successfully imported\"\n",
    "import sklearn\n",
    "print \"sklearn successfully imported\"\n",
    "import seaborn\n",
    "print \"seaborn successfully imported\""
   ]
  },
  {
   "cell_type": "code",
   "execution_count": null,
   "metadata": {
    "collapsed": false
   },
   "outputs": [],
   "source": [
    "print \"uni:\", \"fill in your uni here\""
   ]
  }
 ],
 "metadata": {
  "anaconda-cloud": {},
  "kernelspec": {
   "display_name": "Python [default]",
   "language": "python",
   "name": "python2"
  },
  "language_info": {
   "codemirror_mode": {
    "name": "ipython",
    "version": 2
   },
   "file_extension": ".py",
   "mimetype": "text/x-python",
   "name": "python",
   "nbconvert_exporter": "python",
   "pygments_lexer": "ipython2",
   "version": "2.7.12"
  }
 },
 "nbformat": 4,
 "nbformat_minor": 0
}
