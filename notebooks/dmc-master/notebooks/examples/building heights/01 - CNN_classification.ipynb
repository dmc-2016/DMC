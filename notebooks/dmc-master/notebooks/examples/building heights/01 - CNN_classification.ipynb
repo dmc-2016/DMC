{
 "cells": [
  {
   "cell_type": "code",
   "execution_count": 1,
   "metadata": {
    "collapsed": false,
    "scrolled": true
   },
   "outputs": [
    {
     "name": "stdout",
     "output_type": "stream",
     "text": [
      "('Training set', (16032, 32, 32), (16032, 1))\n"
     ]
    }
   ],
   "source": [
    "import pickle\n",
    "\n",
    "pickle_file = '-images.pickle'\n",
    "\n",
    "with open(pickle_file, 'rb') as f:\n",
    "    save = pickle.load(f)\n",
    "    X = save['X']\n",
    "    y = save['y']\n",
    "    del save  # hint to help gc free up memory\n",
    "    print('Training set', X.shape, y.shape)"
   ]
  },
  {
   "cell_type": "code",
   "execution_count": 2,
   "metadata": {
    "collapsed": false
   },
   "outputs": [
    {
     "name": "stderr",
     "output_type": "stream",
     "text": [
      "Using Theano backend.\n"
     ]
    },
    {
     "name": "stdout",
     "output_type": "stream",
     "text": [
      "using ordering: th\n"
     ]
    }
   ],
   "source": [
    "# Add additional imports\n",
    "import numpy as np\n",
    "np.random.seed(1337)  # for reproducibility\n",
    "\n",
    "from keras.datasets import mnist\n",
    "from keras.models import Sequential\n",
    "from keras.layers import Dense, Dropout, Activation, Flatten\n",
    "from keras.layers import Convolution2D, MaxPooling2D\n",
    "from keras.utils import np_utils\n",
    "from keras import backend as K\n",
    "from keras.callbacks import ModelCheckpoint\n",
    "\n",
    "from keras.datasets import mnist\n",
    "\n",
    "print \"using ordering:\", K.image_dim_ordering()"
   ]
  },
  {
   "cell_type": "code",
   "execution_count": 3,
   "metadata": {
    "collapsed": false,
    "scrolled": true
   },
   "outputs": [
    {
     "name": "stdout",
     "output_type": "stream",
     "text": [
      "number of classes: 3\n",
      "(16032, 1, 32, 32)\n",
      "(16032, 3)\n"
     ]
    }
   ],
   "source": [
    "# number of classes\n",
    "num_classes = np.max(y) + 1 # number of categories\n",
    "print \"number of classes:\", num_classes\n",
    "\n",
    "# image dimensions\n",
    "img_rows, img_cols = X.shape[1],  X.shape[2]\n",
    "\n",
    "if K.image_dim_ordering() == 'th':\n",
    "    X = X.reshape(X.shape[0], 1, img_rows, img_cols)\n",
    "    input_shape = (1, img_rows, img_cols)\n",
    "else:\n",
    "    X = X.reshape(X.shape[0], img_rows, img_cols, 1)\n",
    "    input_shape = (img_rows, img_cols, 1)\n",
    "\n",
    "y_ohe = np_utils.to_categorical(y, num_classes)\n",
    "\n",
    "print X.shape\n",
    "print y_ohe.shape"
   ]
  },
  {
   "cell_type": "code",
   "execution_count": 4,
   "metadata": {
    "collapsed": false,
    "scrolled": true
   },
   "outputs": [
    {
     "name": "stdout",
     "output_type": "stream",
     "text": [
      "(32, 32)\n",
      "[ 1.  0.  0.]\n"
     ]
    },
    {
     "data": {
      "text/plain": [
       "<matplotlib.image.AxesImage at 0x7fc90a070990>"
      ]
     },
     "execution_count": 4,
     "metadata": {},
     "output_type": "execute_result"
    },
    {
     "data": {
      "image/png": "[encoded data removed]",
      "text/plain": [
       "<matplotlib.figure.Figure at 0x7fc9380b1a90>"
      ]
     },
     "metadata": {},
     "output_type": "display_data"
    }
   ],
   "source": [
    "# Plot to make sure we have imported correctly..\n",
    "%matplotlib inline\n",
    "from matplotlib.pyplot import imshow\n",
    "import matplotlib.pyplot as plt\n",
    "\n",
    "img_num = 0\n",
    "\n",
    "if K.image_dim_ordering() == 'th':\n",
    "    img = X[img_num][0,:,:]\n",
    "else:\n",
    "    img = X[img_num][:,:,0]\n",
    "\n",
    "print img.shape\n",
    "print y_ohe[img_num]\n",
    "imshow(img, cmap = plt.get_cmap('gray'), vmin = 0, vmax = 1,  interpolation='nearest')"
   ]
  },
  {
   "cell_type": "code",
   "execution_count": 5,
   "metadata": {
    "collapsed": false
   },
   "outputs": [
    {
     "name": "stdout",
     "output_type": "stream",
     "text": [
      "Model Created\n",
      "Compiled..\n"
     ]
    }
   ],
   "source": [
    "## Construct CNN\n",
    "\n",
    "# model hyperparameters\n",
    "batch_size = 32\n",
    "nb_epoch = 10\n",
    "\n",
    "# network architecture\n",
    "patch_size_1 = 3\n",
    "patch_size_2 = 3\n",
    "patch_size_3 = 3\n",
    "patch_size_4 = 3\n",
    "patch_size_5 = 3\n",
    "\n",
    "depth_1 = 64\n",
    "depth_2 = 128\n",
    "depth_3 = 128\n",
    "depth_4 = 256\n",
    "depth_5 = 256\n",
    "\n",
    "pool_size = 2\n",
    "\n",
    "num_hidden_1 = 512\n",
    "num_hidden_2 = 1024\n",
    "\n",
    "dropout = 0.25\n",
    "\n",
    "\n",
    "##---------------------------\n",
    "# create new Keras Sequential model\n",
    "model = Sequential()\n",
    "\n",
    "model.add(Convolution2D(depth_1, patch_size_1, patch_size_1,\n",
    "                        border_mode='same',\n",
    "                        input_shape=input_shape))\n",
    "model.add(Activation('relu'))\n",
    "\n",
    "model.add(MaxPooling2D(pool_size=(pool_size, pool_size)))\n",
    "\n",
    "model.add(Convolution2D(depth_2, patch_size_2, patch_size_2,\n",
    "                        border_mode='same'))\n",
    "model.add(Activation('relu'))\n",
    "model.add(Convolution2D(depth_3, patch_size_3, patch_size_3,\n",
    "                        border_mode='same'))\n",
    "model.add(Activation('relu'))\n",
    "\n",
    "model.add(MaxPooling2D(pool_size=(pool_size, pool_size)))\n",
    "\n",
    "model.add(Convolution2D(depth_4, patch_size_4, patch_size_4,\n",
    "                        border_mode='same'))\n",
    "model.add(Activation('relu'))\n",
    "model.add(Convolution2D(depth_5, patch_size_5, patch_size_5,\n",
    "                        border_mode='same'))\n",
    "model.add(Activation('relu'))\n",
    "\n",
    "\n",
    "model.add(Flatten())\n",
    "\n",
    "model.add(Dense(num_hidden_1))\n",
    "model.add(Activation('relu'))\n",
    "model.add(Dropout(dropout))\n",
    "\n",
    "model.add(Dense(num_hidden_2))\n",
    "model.add(Activation('relu'))\n",
    "model.add(Dropout(dropout))\n",
    "\n",
    "model.add(Dense(num_classes))\n",
    "model.add(Activation('softmax'))\n",
    "\n",
    "print \"Model Created\"\n",
    "\n",
    "##-------------------------------------------\n",
    "# compile model\n",
    "checkpoint_name = \"-model.hdf5\"\n",
    "checkpointer = ModelCheckpoint(checkpoint_name, verbose=0, save_best_only=True)\n",
    "\n",
    "model.compile(loss='categorical_crossentropy', optimizer='adadelta', metrics=['accuracy'])\n",
    "\n",
    "print \"Compiled..\""
   ]
  },
  {
   "cell_type": "code",
   "execution_count": 6,
   "metadata": {
    "collapsed": false,
    "scrolled": true
   },
   "outputs": [
    {
     "name": "stdout",
     "output_type": "stream",
     "text": [
      "Train on 12024 samples, validate on 4008 samples\n",
      "Epoch 1/10\n",
      "12024/12024 [==============================] - 349s - loss: 1.0991 - acc: 0.3305 - val_loss: 1.0991 - val_acc: 0.3318\n",
      "Epoch 2/10\n",
      "12024/12024 [==============================] - 365s - loss: 1.0922 - acc: 0.3684 - val_loss: 1.0813 - val_acc: 0.3905\n",
      "Epoch 3/10\n",
      "12024/12024 [==============================] - 355s - loss: 1.0711 - acc: 0.4141 - val_loss: 1.0549 - val_acc: 0.4334\n",
      "Epoch 4/10\n",
      "12024/12024 [==============================] - 340s - loss: 1.0563 - acc: 0.4390 - val_loss: 1.0426 - val_acc: 0.4528\n",
      "Epoch 5/10\n",
      "12024/12024 [==============================] - 392s - loss: 1.0439 - acc: 0.4561 - val_loss: 1.0515 - val_acc: 0.4394\n",
      "Epoch 6/10\n",
      "12024/12024 [==============================] - 385s - loss: 1.0305 - acc: 0.4726 - val_loss: 1.0347 - val_acc: 0.4656\n",
      "Epoch 7/10\n",
      "12024/12024 [==============================] - 394s - loss: 1.0141 - acc: 0.4883 - val_loss: 1.0384 - val_acc: 0.4638\n",
      "Epoch 8/10\n",
      "12024/12024 [==============================] - 386s - loss: 0.9894 - acc: 0.5049 - val_loss: 1.1054 - val_acc: 0.4366\n",
      "Epoch 9/10\n",
      "12024/12024 [==============================] - 358s - loss: 0.9576 - acc: 0.5333 - val_loss: 1.0312 - val_acc: 0.4666\n",
      "Epoch 10/10\n",
      "12024/12024 [==============================] - 382s - loss: 0.9054 - acc: 0.5709 - val_loss: 1.0397 - val_acc: 0.4711\n"
     ]
    }
   ],
   "source": [
    "# Train Model\n",
    "history = model.fit(X, y_ohe, validation_split=0.25, batch_size=batch_size, nb_epoch=nb_epoch,\n",
    "          verbose=1, callbacks=[checkpointer])"
   ]
  }
 ],
 "metadata": {
  "anaconda-cloud": {},
  "kernelspec": {
   "display_name": "Python [default]",
   "language": "python",
   "name": "python2"
  },
  "language_info": {
   "codemirror_mode": {
    "name": "ipython",
    "version": 2
   },
   "file_extension": ".py",
   "mimetype": "text/x-python",
   "name": "python",
   "nbconvert_exporter": "python",
   "pygments_lexer": "ipython2",
   "version": "2.7.12"
  }
 },
 "nbformat": 4,
 "nbformat_minor": 1
}
