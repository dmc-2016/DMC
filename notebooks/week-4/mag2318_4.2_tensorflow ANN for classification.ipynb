{
 "cells": [
  {
   "cell_type": "markdown",
   "metadata": {},
   "source": [
    "## Assignment - part 2\n",
    "\n",
    "Now that we have a better understanding of how to set up a basic neural network in Tensorflow, let's see if we can convert our dataset to a classificiation problem, and then rework our neural network to solve it. I will replicate most of our code from the previous assignment below, but leave blank spots where you should implement changes to convert our regression model into a classification one. Look for text descriptions above code blocks explaining the changes that need to be made, and `#UPPERCASE COMMENTS` where the new code should be written."
   ]
  },
  {
   "cell_type": "code",
   "execution_count": 78,
   "metadata": {
    "collapsed": true
   },
   "outputs": [],
   "source": [
    "%matplotlib inline\n",
    "import math\n",
    "import random\n",
    "\n",
    "import seaborn as sns\n",
    "import matplotlib.pyplot as plt\n",
    "import pandas as pd\n",
    "from sklearn.datasets import load_boston\n",
    "\n",
    "'''Since this is a classification problem, we will need to \n",
    "represent our targets as one-hot encoding vectors (see previous lab).\n",
    "To do this we will use scikit-learn's OneHotEncoder module \n",
    "which we import here'''\n",
    "from sklearn.preprocessing import OneHotEncoder\n",
    "\n",
    "import numpy as np\n",
    "import tensorflow as tf\n",
    "\n",
    "sns.set(style=\"ticks\", color_codes=True)"
   ]
  },
  {
   "cell_type": "markdown",
   "metadata": {},
   "source": [
    "### 1. Target data format\n",
    "\n",
    "The first step is to change the target of the dataset from a continuous variable (the value of the house) to a categorical one. In this case we will change it to have two categories, specifying whether the value of the house is higher or lower than the average.\n",
    "\n",
    "In the code block below, write code to change the ‘target’ column to a categorical variable instead of a continuous one. This variable should be 1 if the target is higher than the average value, and 0 if it is lower. You can use np.mean() to calculate the average value. Then, you can iterate over all entries in the column, and compare each value to the average to decide if it is higher or lower. Finally, you can use the int() function to convert the True/False values to 0 and 1."
   ]
  },
  {
   "cell_type": "code",
   "execution_count": 79,
   "metadata": {
    "collapsed": false
   },
   "outputs": [],
   "source": [
    "dataset = load_boston()\n",
    "houses = pd.DataFrame(dataset.data, columns=dataset.feature_names)\n",
    "houses['target'] = dataset.target\n",
    "np.mean(dataset.target)\n",
    "a = 0\n",
    "while a < len(dataset.target):\n",
    "    if a > np.mean(dataset.target):\n",
    "        houses.target.set_value(a,1)     \n",
    "    else:\n",
    "        houses.target.set_value(a,0) \n",
    "    a = a+1\n",
    "\n",
    "# WRITE CODE TO CONVERT 'TARGET' COLUMN FROM CONTINUOUS TO CATEGORICAL"
   ]
  },
  {
   "cell_type": "code",
   "execution_count": 80,
   "metadata": {
    "collapsed": false
   },
   "outputs": [
    {
     "name": "stdout",
     "output_type": "stream",
     "text": [
      "1.0 <-- should be 1\n",
      "0.0 <-- should be 0\n"
     ]
    }
   ],
   "source": [
    "'''check your work'''\n",
    "print np.max(houses['target']), \"<-- should be 1\"\n",
    "print np.min(houses['target']), \"<-- should be 0\""
   ]
  },
  {
   "cell_type": "markdown",
   "metadata": {},
   "source": [
    "### 2. Target data encoding\n",
    "\n",
    "Since we are now dealing with a classification problem, our target values need to be encoded using one-hot encoding (OHE) (see Lab 3 for a description of what this is and why it's necessary). In the code block below, use scikit-learn's `OneHotEncoder()` module to ocnvert the y target array to OHE.\n",
    "\n",
    "_hint_: when you create the onehotencoder object, pass in the variable sparse=false to give the resulting data the proper formatting each value in y should be a two-part array, either [0,1] or [1,0] depending on the target value."
   ]
  },
  {
   "cell_type": "code",
   "execution_count": 81,
   "metadata": {
    "collapsed": false
   },
   "outputs": [
    {
     "name": "stdout",
     "output_type": "stream",
     "text": [
      "('Training set', (354, 13), (354, 2))\n",
      "('Test set', (152, 13), (152, 2))\n"
     ]
    }
   ],
   "source": [
    "houses_array = houses.as_matrix().astype(float)\n",
    "np.random.shuffle(houses_array)\n",
    "\n",
    "X = houses_array[:, :-1]\n",
    "y = houses_array[:, -1]\n",
    "\n",
    "# USE SCIKIT-LEARN'S ONE-HOT ENCODING MODULE TO \n",
    "# CONVERT THE y ARRAY OF TARGETS TO ONE-HOT ENCODING.\n",
    "\n",
    "\n",
    "\n",
    "y = y.reshape(-1,1)\n",
    "\n",
    "enc = OneHotEncoder()\n",
    "enc.fit(y)\n",
    "\n",
    "y = enc.transform(y).toarray()\n",
    "\n",
    "X = X / X.max(axis=0)\n",
    "\n",
    "trainingSplit = int(.7 * houses_array.shape[0])\n",
    "X_train = X[:trainingSplit]\n",
    "y_train = y[:trainingSplit]\n",
    "X_test = X[trainingSplit:]\n",
    "y_test = y[trainingSplit:]\n",
    "\n",
    "print('Training set', X_train.shape, y_train.shape)\n",
    "print('Test set', X_test.shape, y_test.shape)"
   ]
  },
  {
   "cell_type": "code",
   "execution_count": 82,
   "metadata": {
    "collapsed": false
   },
   "outputs": [
    {
     "name": "stdout",
     "output_type": "stream",
     "text": [
      "2 <-- should be 2\n",
      "2 <-- should be 2\n",
      "[ 0.  1.] <-- should be either [0. 1.] or [1. 0.]\n"
     ]
    }
   ],
   "source": [
    "'''check your work'''\n",
    "print y_train.shape[1], \"<-- should be 2\"\n",
    "print y_test.shape[1], \"<-- should be 2\"\n",
    "print y_train[0], \"<-- should be either [0. 1.] or [1. 0.]\""
   ]
  },
  {
   "cell_type": "code",
   "execution_count": 87,
   "metadata": {
    "collapsed": false
   },
   "outputs": [],
   "source": [
    "# helper variables\n",
    "num_samples = X_train.shape[0]\n",
    "num_features = X_train.shape[1]\n",
    "num_outputs = y_train.shape[1]\n",
    "\n",
    "# Hyper-parameters\n",
    "batch_size = 100\n",
    "num_hidden_1 = 16\n",
    "num_hidden_2 =  16\n",
    "learning_rate =  0.0001\n",
    "training_epochs =  100\n",
    "dropout_keep_prob = 1.0 # set to no dropout by default\n",
    "\n",
    "# variable to control the resolution at which the training results are stored\n",
    "display_step = 1"
   ]
  },
  {
   "cell_type": "markdown",
   "metadata": {},
   "source": [
    "### 3. Perfomance measure\n",
    "\n",
    "Instead of measuring the average error in the prediction of a continuous variable, we now want our performance measure to be the number of samples for which we guess the right category.\n",
    "\n",
    "As before, this function takes in an array of predictions and an array of targets. This time, however, each prediction or target is represented by a two-piece array. With the predictions, the two values represent the confidence of the system for choosing either value as the category. Because these predictions are generated through the [softmax function](https://en.wikipedia.org/wiki/Softmax_function), they are guaranteed to add up to 1.0, so they can be interpreted as the percentage of confidence behind each category. In our two category example,\n",
    "\n",
    "- A prediction of [1,0] means complete confidence that the sample belongs in the first category\n",
    "- A prediction of [0,1] means complete confidence that the sample belongs in the second category\n",
    "- A prediction of [0.5,0.5] means the system is split, and cannot clearly decide which category the sample belongs to.\n",
    "\n",
    "With the targets, the two values are the one-hot encodings generated previously. You can now see how the one-hot encoding actually represents the target values in the same format as the predictions coming from the model. This is helpful because while the model is training all it has to do is try to  match the prediction arrays to the encoded targets. Infact, this is exactly what our modified cost function will do.\n",
    "\n",
    "For our accuracy measure, we want to take these two arrays of predictions and targets, see how many of them match (correct classification), then devide by the total number of predictions to get the ratio of accurate guesses, and multiply by 100.0 to convert it to a percentage.\n",
    "\n",
    "_hints:_ \n",
    "\n",
    "- numpy's np.argmax() function will give you the position of the largest value in the array along an axis, so executing np.argmax(predictions, 1) will convert the confidence measures to the single most likely category.\n",
    "- once you have a list of single-value predictions, you can compare them using the '==' operator to see how many match (matches result in a 'True' and mismatches result in a 'False')\n",
    "- you can use numpy's np.sum() function to find out the total number of 'True' statements, and divide them by the total number of predictions to get the ratio of accurate predictions."
   ]
  },
  {
   "cell_type": "code",
   "execution_count": 88,
   "metadata": {
    "collapsed": false
   },
   "outputs": [],
   "source": [
    "def accuracy(predictions, targets):\n",
    "    \n",
    "    # IMPLEMENT THE NEW ACCURACY MEASURE HERE\n",
    "    accuracy = np.argmax(predictions, 1)\n",
    "    targets = np.argmax(targets, 1)\n",
    "    accuracy= (np.sum(accuracy==targets) / float(accuracy.shape[0])) *100\n",
    "    \n",
    "    \n",
    "    return accuracy\n",
    "def weight_variable(shape):\n",
    "    initial = tf.truncated_normal(shape, stddev=0.1)\n",
    "    return tf.Variable(initial)\n",
    "\n",
    "def bias_variable(shape):\n",
    "    initial = tf.constant(0.1, shape=shape)\n",
    "    return tf.Variable(initial)"
   ]
  },
  {
   "cell_type": "markdown",
   "metadata": {},
   "source": [
    "### 4. Model definition\n",
    "\n",
    "For the most part, our model definition will stay roughtly the same. The major difference is that the final layer in our network now contains two values, which are interpreted as the confidence that the network has in classifying each input set of data as belonging to either the first or second category. \n",
    "\n",
    "However, as the raw output of the network, these outputs can take on any value. In order to interpret them for categorization it is typical to use the softmax function, which converts a range of values to a probability distribution along a number of categories. For example, if the outputs from the network from a given input are [1,000,000 and 10], we would like to interpret that as [0.99 and 0.01], or almost full confidence that the sample belongs in the first category. Similarly, if the outputs are closer together, such as 10 and 5, we would like to interpret it as something like [0.7 and 0.3], which shows that the first category is still more likely, but it is not as confident as before. This is exactly what the softmax function does. The exact formulation of the softmax function is not so important, as long as you know that the goal is to take the raw outputs from the neural network, and convert them to a set of values that preserve the relationship between the outputs while summing up to 1.0.\n",
    "\n",
    "To adapt our code for classification, we simply have to wrap all of our outputs in a `tf.nn.softmax()` function, which will convert the raw outputs to confidence measures. We will also replace the MSE error function with a cross-entropy function which performs better with classification tasks. Look for comments below for implementation details."
   ]
  },
  {
   "cell_type": "code",
   "execution_count": 89,
   "metadata": {
    "collapsed": false
   },
   "outputs": [],
   "source": [
    "graph = tf.Graph()\n",
    "\n",
    "with graph.as_default():\n",
    "    \n",
    "    x = tf.placeholder(tf.float32, shape=(None, num_features))\n",
    "    _y = tf.placeholder(tf.float32, shape=(None))\n",
    "    \n",
    "    keep_prob = tf.placeholder(tf.float32)\n",
    "    \n",
    "    tf_X_test = tf.constant(X_test, dtype=tf.float32)\n",
    "    tf_X_train = tf.constant(X_train, dtype=tf.float32)\n",
    "    \n",
    "    \n",
    "    W_fc1 = weight_variable([num_features, num_hidden_1])\n",
    "    b_fc1 = bias_variable([num_hidden_1])\n",
    "    \n",
    "    W_fc2 = weight_variable([num_hidden_1, num_hidden_2])\n",
    "    b_fc2 = bias_variable([num_hidden_2])\n",
    "    \n",
    "    W_fc3 = weight_variable([num_hidden_2, num_outputs])\n",
    "    b_fc3 = bias_variable([num_outputs])\n",
    "    \n",
    "    \n",
    "    def model(data, keep):\n",
    "        \n",
    "        fc1 = tf.nn.sigmoid(tf.matmul(data, W_fc1) + b_fc1)\n",
    "        fc1_drop = tf.nn.dropout(fc1, keep)\n",
    "        \n",
    "        fc2 = tf.nn.sigmoid(tf.matmul(fc1_drop, W_fc2) + b_fc2)\n",
    "        fc2_drop = tf.nn.dropout(fc2, keep)\n",
    "        \n",
    "        fc3 = tf.matmul(fc2_drop, W_fc3) + b_fc3\n",
    "        \n",
    "        return fc3\n",
    "    \n",
    "    '''for our loss function we still want to get the raw outputs \n",
    "    of the model, but since it no longer represents the actual prediction \n",
    "    we rename the variable to ‘output’'''\n",
    "    output = model(x, keep_prob)\n",
    "    \n",
    "    # WHEN WE CALCULATE THE PREDICTIONS, WE NEED TO WRAP EACH OUTPUT IN A\n",
    "    # tf.nn.softmax() FUNCTION. THE FIRST ONE HAS BEEN DONE FOR YOU:\n",
    "    prediction = tf.nn.softmax(output)\n",
    "    test_prediction = model(tf_X_test, 1.0)\n",
    "    train_prediction = model(tf_X_train, 1.0)\n",
    "    \n",
    "    '''finally, we replace our previous MSE cost function with the\n",
    "    cross-entropy function included in Tensorflow. This function takes in the\n",
    "    raw output of the network and calculates the average loss with the target'''\n",
    "    loss = tf.reduce_mean(tf.nn.softmax_cross_entropy_with_logits(output, _y))\n",
    "    optimizer = tf.train.GradientDescentOptimizer(learning_rate).minimize(loss)\n",
    "    \n",
    "    saver = tf.train.Saver()"
   ]
  },
  {
   "cell_type": "markdown",
   "metadata": {},
   "source": [
    "Now that we have replaced the relevant accuracy measures and loss function, our training process is exactly the same, meaning we can run the same training process and plotting code to visualize the results. The only difference is that with classificiation we are using an accuracy rather than an error measure, so the better our model is performing, the higher the graph should be (higher accuracy is better, while lower error is better)."
   ]
  },
  {
   "cell_type": "code",
   "execution_count": 91,
   "metadata": {
    "collapsed": false
   },
   "outputs": [
    {
     "name": "stdout",
     "output_type": "stream",
     "text": [
      "Initialized\n",
      "Model saved in file: model_houses.ckpt\n"
     ]
    }
   ],
   "source": [
    "results = []\n",
    "\n",
    "'''First we open a session of Tensorflow using our graph as the base. \n",
    "While this session is active all the parameter values will be stored, \n",
    "and each step of training will be using the same model.'''\n",
    "with tf.Session(graph=graph) as session:\n",
    "    \n",
    "    '''After we start a new session we first need to\n",
    "    initialize the values of all the variables.'''\n",
    "    tf.initialize_all_variables().run()\n",
    "    print('Initialized')\n",
    "\n",
    "    '''Now we iterate through each training epoch based on the hyper-parameter set above.\n",
    "    Each epoch represents a single pass through all the training data.\n",
    "    The total number of training steps is determined by the number of epochs and \n",
    "    the size of mini-batches relative to the size of the entire training set.'''\n",
    "    for epoch in range(training_epochs):\n",
    "        \n",
    "        '''At the beginning of each epoch, we create a set of shuffled indexes \n",
    "        so that we are using the training data in a different order each time'''\n",
    "        indexes = range(num_samples)\n",
    "        random.shuffle(indexes)\n",
    "        \n",
    "        '''Next we step through each mini-batch in the training set'''\n",
    "        for step in range(int(math.floor(num_samples/float(batch_size)))):\n",
    "            offset = step * batch_size\n",
    "            \n",
    "            '''We subset the feature and target training sets to create each mini-batch'''\n",
    "            batch_data = X_train[indexes[offset:(offset + batch_size)]]\n",
    "            batch_labels = y_train[indexes[offset:(offset + batch_size)]]\n",
    "\n",
    "            '''Then, we create a 'feed dictionary' that will feed this data, \n",
    "            along with any other hyper-parameters such as the dropout probability,\n",
    "            to the model'''\n",
    "            feed_dict = {x : batch_data, _y : batch_labels, keep_prob: dropout_keep_prob}\n",
    "            \n",
    "            '''Finally, we call the session's run() function, which will feed in \n",
    "            the current training data, and execute portions of the graph as necessary \n",
    "            to return the data we ask for.\n",
    "            \n",
    "            The first argument of the run() function is a list specifying the \n",
    "            model variables we want it to compute and return from the function. \n",
    "            The most important is 'optimizer' which triggers all calculations necessary \n",
    "            to perform one training step. We also include 'loss' and 'prediction' \n",
    "            because we want these as ouputs from the function so we can keep \n",
    "            track of the training process.\n",
    "            \n",
    "            The second argument specifies the feed dictionary that contains \n",
    "            all the data we want to pass into the model at each training step.'''\n",
    "            _, l, p = session.run([optimizer, loss, prediction], feed_dict=feed_dict)\n",
    "\n",
    "        '''At the end of each epoch, we will calcule the error of predictions \n",
    "        on the full training and test data set. We will then store the epoch number, \n",
    "        along with the mini-batch, training, and test accuracies to the 'results' array \n",
    "        so we can visualize the training process later. How often we save the data to \n",
    "        this array is specified by the display_step variable created above''' \n",
    "        if (epoch % display_step == 0):\n",
    "            batch_acc = accuracy(p, batch_labels)\n",
    "            train_acc =  accuracy(train_prediction.eval(session=session), y_train)\n",
    "            test_acc =  accuracy(test_prediction.eval(session=session), y_test)\n",
    "            results.append([epoch, batch_acc, train_acc, test_acc])\n",
    "\n",
    "    '''Once training is complete, we will save the trained model so that we can use it later'''\n",
    "    save_path = saver.save(session, \"model_houses.ckpt\")\n",
    "    print(\"Model saved in file: %s\" % save_path)"
   ]
  },
  {
   "cell_type": "code",
   "execution_count": 95,
   "metadata": {
    "collapsed": false
   },
   "outputs": [
    {
     "name": "stdout",
     "output_type": "stream",
     "text": [
      "Maximum test accuracy: 96.05%\n"
     ]
    },
    {
     "data": {
      "image/png": "[encoded data removed]",
      "text/plain": [
       "<matplotlib.figure.Figure at 0x7f66a81fee90>"
      ]
     },
     "metadata": {},
     "output_type": "display_data"
    }
   ],
   "source": [
    "df = pd.DataFrame(data=results, columns = [\"epoch\", \"batch_acc\", \"train_acc\", \"test_acc\"])\n",
    "df.set_index(\"epoch\", drop=True, inplace=True)\n",
    "\n",
    "fig, ax = plt.subplots(1, 1, figsize=(10, 2))\n",
    " \n",
    "ax.plot(df)\n",
    "ax.set(xlabel='Epoch',\n",
    "       ylabel='Error',\n",
    "       title='Training result')\n",
    " \n",
    "ax.legend(df.columns, loc=1)\n",
    "\n",
    "print \"Maximum test accuracy: %.2f%%\" % np.max(df[\"test_acc\"])"
   ]
  },
  {
   "cell_type": "markdown",
   "metadata": {
    "collapsed": true
   },
   "source": [
    "### 5. Hyper-parameter tuning\n",
    "\n",
    "While the model specification is correct, if you train the model using the previous hyper-parameters, the visualized results will not seem so promising. This can be for a number of reasons, including that the network is too deep or not deep enough, the learning rate is too fast or not fast enough, we are not training for enough epochs, our batch size is either too big or too small, or we can benefit from other regularization strategies such as dropout.\n",
    "\n",
    "Infact, the tuning of hyper-parameters is one of the most difficult problems in applied machine learning, precisely since it is often not clear how these should be set at the outset. While there are some heuristic 'best practice' strategies out there that people have developed, for the most part researchers experiment with different settings for hyper-parameters until they get the results they want.\n",
    "\n",
    "For the last part of the assignment, experiment with different settings for the hyper-parameters specified at the top of the lab. With different combinations of  parameters you should be able to achieve **at least 90% accuracy in the test set** without having to train the model for more than 500 epochs. Once you achieve this accuracy, save your edits and submit your work as a pull request back to the main project."
   ]
  }
 ],
 "metadata": {
  "anaconda-cloud": {},
  "kernelspec": {
   "display_name": "Python [default]",
   "language": "python",
   "name": "python2"
  },
  "language_info": {
   "codemirror_mode": {
    "name": "ipython",
    "version": 2
   },
   "file_extension": ".py",
   "mimetype": "text/x-python",
   "name": "python",
   "nbconvert_exporter": "python",
   "pygments_lexer": "ipython2",
   "version": "2.7.12"
  }
 },
 "nbformat": 4,
 "nbformat_minor": 1
}
