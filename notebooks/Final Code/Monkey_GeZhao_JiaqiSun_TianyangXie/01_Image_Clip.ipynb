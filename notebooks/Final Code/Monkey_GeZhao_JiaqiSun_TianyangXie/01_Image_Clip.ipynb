{
 "cells": [
  {
   "cell_type": "code",
   "execution_count": 1,
   "metadata": {
    "collapsed": false
   },
   "outputs": [],
   "source": [
    "%matplotlib inline\n",
    "\n",
    "from matplotlib.pyplot import imshow\n",
    "import matplotlib.pyplot as plt\n",
    "import numpy as np\n",
    "from scipy import misc\n",
    "\n",
    "import os\n",
    "import random\n",
    "import pickle\n",
    "import math"
   ]
  },
  {
   "cell_type": "code",
   "execution_count": 2,
   "metadata": {
    "collapsed": false
   },
   "outputs": [
    {
     "name": "stdout",
     "output_type": "stream",
     "text": [
      "['001.jpg', '002.jpg', '003.jpg', '004.jpg', '005.jpg', '006.jpg', '007.jpg', '008.jpg', '009.jpg', '010.jpg', '011.jpg', '012.jpg', '013.jpg']\n",
      "smallest set size: 3903\n",
      "num samples: 7806\n"
     ]
    }
   ],
   "source": [
    "targetImageSize = 300.0  ### PARAMETER 1 - SETS SIZE OF SMALLEST IMAGE DIMENSION\n",
    "targetRes = 32           ### PARAMETER 2 - CONTROLS THE SIZE OF THE TRAINING IMAGES\n",
    "stride = 2               ### PARAMETER 3 - CONTROLS THE NUMBER OF SAMPLES PRODUCED\n",
    "\n",
    "image_dim = 1\n",
    "\n",
    "imageFolder = \"box_data/images\"\n",
    "labelFolder = \"box_data/lables\"\n",
    "\n",
    "\n",
    "files = os.listdir(imageFolder)\n",
    "files.remove('.DS_Store')\n",
    "\n",
    "print files\n",
    "\n",
    "# dictionary to store the box images and label masks\n",
    "imgs = {}\n",
    "\n",
    "# dictionary to store image patches into both '0' (not corners) and '1' (corners) categories\n",
    "dataSet = {}\n",
    "dataSet[0] = []\n",
    "dataSet[1] = []\n",
    "\n",
    "for fileName in files[:3]:\n",
    "    image = misc.imread(\"/\".join([imageFolder, fileName]))\n",
    "    label = misc.imread(\"/\".join([labelFolder, fileName]))\n",
    "    \n",
    "    imgPair = []\n",
    "    \n",
    "    for img in [image, label]:\n",
    "\n",
    "        if image_dim == 1 and len(img.shape) > 2: \n",
    "            img = img[:,:,0]\n",
    "\n",
    "        fac = min(img.shape[0], img.shape[1]) / targetImageSize\n",
    "        img = misc.imresize(img, (int(img.shape[0]/fac), int(img.shape[1]/fac)), interp='nearest')\n",
    "        img = img / 255.0\n",
    "        \n",
    "        imgPair.append(img)\n",
    "    \n",
    "    xStep = int( math.floor( ( float(img.shape[0]) - targetRes ) / stride) )\n",
    "    yStep = int( math.floor( ( float(img.shape[1]) - targetRes ) / stride) )\n",
    "    \n",
    "    for y in range(yStep):\n",
    "        for x in range(xStep):\n",
    "\n",
    "            # crop patch from image\n",
    "            image_crop = imgPair[0][x * stride : (x * stride) + targetRes, y * stride : (y * stride) + targetRes]\n",
    "            \n",
    "            # calculate presence of corner from matching crop of label mask\n",
    "            target_crop = imgPair[1][x * stride : (x * stride) + targetRes, y * stride : (y * stride) + targetRes]\n",
    "            target = int ( round( np.max(target_crop) ) )\n",
    "            \n",
    "            dataSet[target].append(image_crop)\n",
    "    \n",
    "    imgs[fileName] = imgPair\n",
    "\n",
    "\n",
    "# shuffle both data sets\n",
    "for indx in [0,1]:\n",
    "    random.shuffle(dataSet[indx])\n",
    "\n",
    "# for training, we want the same number of image patches from both categories, \n",
    "# even though there will be far more patches without corners.\n",
    "# here we calculate the length of the smaller data set\n",
    "minSetLen = min(len(dataSet[0]), len(dataSet[1]))\n",
    "print \"smallest set size:\", minSetLen\n",
    "\n",
    "# then we combine an equal number of patches from both categories into one data set\n",
    "data = []\n",
    "for indx in [0,1]:\n",
    "    for d in dataSet[indx][:minSetLen]:\n",
    "        data.append([d, indx])\n",
    "\n",
    "# and shuffle the entire data set one more time\n",
    "random.shuffle(data)\n",
    "        \n",
    "print \"num samples:\", len(data)"
   ]
  },
  {
   "cell_type": "code",
   "execution_count": 3,
   "metadata": {
    "collapsed": false
   },
   "outputs": [
    {
     "name": "stdout",
     "output_type": "stream",
     "text": [
      "image dimensions: (300, 402)\n"
     ]
    },
    {
     "data": {
      "image/png": "[encoded data removed]",
      "text/plain": [
       "<matplotlib.figure.Figure at 0x7f761cc36550>"
      ]
     },
     "metadata": {},
     "output_type": "display_data"
    }
   ],
   "source": [
    "# preview one of the base images with the label mask overlayed\n",
    "\n",
    "import scipy.misc\n",
    "\n",
    "imgName = \"003.jpg\"\n",
    "print \"image dimensions:\", imgs[imgName][0].shape\n",
    "\n",
    "imshow(imgs[imgName][0], cmap = plt.get_cmap('gray'), vmin = 0, vmax = 1,  interpolation='nearest')\n",
    "\n",
    "plt.hold(True)\n",
    "\n",
    "imshow(imgs[imgName][1], vmin = 0, vmax = 1, alpha=.5, interpolation='nearest')\n",
    "\n",
    "plt.axis('off')\n",
    "plt.show()"
   ]
  },
  {
   "cell_type": "code",
   "execution_count": 4,
   "metadata": {
    "collapsed": false
   },
   "outputs": [
    {
     "name": "stdout",
     "output_type": "stream",
     "text": [
      "image dimensions: (32, 32)\n",
      "Value: 0\n"
     ]
    },
    {
     "data": {
      "image/png": "[encoded data removed]",
      "text/plain": [
       "<matplotlib.figure.Figure at 0x7f761a80f450>"
      ]
     },
     "metadata": {},
     "output_type": "display_data"
    }
   ],
   "source": [
    "# preview one sample to make sure everything worked as expected\n",
    "\n",
    "img_index = 19\n",
    "\n",
    "img = data[img_index][0]\n",
    "print \"image dimensions:\", img.shape\n",
    "print \"Value:\", (data[img_index][1])\n",
    "\n",
    "imshow(img, cmap = plt.get_cmap('gray'), vmin = 0, vmax = 1,  interpolation='nearest')\n",
    "plt.axis('off')\n",
    "plt.show()"
   ]
  },
  {
   "cell_type": "code",
   "execution_count": 5,
   "metadata": {
    "collapsed": false
   },
   "outputs": [],
   "source": [
    "# build X and y datasets for training\n",
    "\n",
    "X = np.ndarray((len(data), targetRes, targetRes), dtype=np.float32)\n",
    "y = np.ndarray((len(data), 1), dtype=np.int32)\n",
    "\n",
    "for i, d in enumerate(data):\n",
    "    X[i] = d[0]\n",
    "    y[i] = d[1]"
   ]
  },
  {
   "cell_type": "code",
   "execution_count": 6,
   "metadata": {
    "collapsed": false
   },
   "outputs": [
    {
     "name": "stdout",
     "output_type": "stream",
     "text": [
      "Saved data to -data.pickle\n",
      "Compressed pickle size: 32004857\n"
     ]
    }
   ],
   "source": [
    "# export data to external file\n",
    "\n",
    "pickle_file = '-data.pickle'\n",
    "\n",
    "try:\n",
    "    f = open(pickle_file, 'wb')\n",
    "    save = {\n",
    "        'X': X,\n",
    "        'y': y,\n",
    "    }\n",
    "    pickle.dump(save, f, pickle.HIGHEST_PROTOCOL)\n",
    "    f.close()\n",
    "except Exception as e:\n",
    "    print 'Unable to save data to', pickle_file, ':', e\n",
    "    raise\n",
    "    \n",
    "statinfo = os.stat(pickle_file)\n",
    "print 'Saved data to', pickle_file\n",
    "print 'Compressed pickle size:', statinfo.st_size"
   ]
  },
  {
   "cell_type": "code",
   "execution_count": 7,
   "metadata": {
    "collapsed": false
   },
   "outputs": [
    {
     "data": {
      "text/plain": [
       "<matplotlib.image.AxesImage at 0x7f76185f2050>"
      ]
     },
     "execution_count": 7,
     "metadata": {},
     "output_type": "execute_result"
    },
    {
     "data": {
      "image/png": "[encoded data removed]",
      "text/plain": [
       "<matplotlib.figure.Figure at 0x7f761a4fd610>"
      ]
     },
     "metadata": {},
     "output_type": "display_data"
    }
   ],
   "source": [
    "# preview one sample from the final X dataset to make sure nothing happened along the way\n",
    "\n",
    "from matplotlib.pyplot import imshow\n",
    "import matplotlib.pyplot as plt\n",
    "\n",
    "img_num = 900\n",
    "img = X[img_num]\n",
    "imshow(img, cmap = plt.get_cmap('gray'), vmin = 0, vmax = 1,  interpolation='nearest')"
   ]
  },
  {
   "cell_type": "code",
   "execution_count": null,
   "metadata": {
    "collapsed": true
   },
   "outputs": [],
   "source": []
  }
 ],
 "metadata": {
  "kernelspec": {
   "display_name": "Python [default]",
   "language": "python",
   "name": "python2"
  },
  "language_info": {
   "codemirror_mode": {
    "name": "ipython",
    "version": 2
   },
   "file_extension": ".py",
   "mimetype": "text/x-python",
   "name": "python",
   "nbconvert_exporter": "python",
   "pygments_lexer": "ipython2",
   "version": "2.7.12"
  }
 },
 "nbformat": 4,
 "nbformat_minor": 1
}
