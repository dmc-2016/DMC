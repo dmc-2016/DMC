{
 "cells": [
  {
   "cell_type": "code",
   "execution_count": 5,
   "metadata": {
    "collapsed": false
   },
   "outputs": [
    {
     "name": "stdout",
     "output_type": "stream",
     "text": [
      "using ordering: th\n"
     ]
    }
   ],
   "source": [
    "import numpy as np\n",
    "np.random.seed(1337)  # for reproducibility\n",
    "\n",
    "from keras.datasets import mnist\n",
    "from keras.models import Sequential\n",
    "from keras.layers import Dense, Dropout, Activation, Flatten\n",
    "from keras.layers import Convolution2D, MaxPooling2D\n",
    "from keras.utils import np_utils\n",
    "from keras import backend as K\n",
    "from keras.callbacks import ModelCheckpoint\n",
    "\n",
    "import pickle\n",
    "\n",
    "print \"using ordering:\", K.image_dim_ordering()"
   ]
  },
  {
   "cell_type": "code",
   "execution_count": 6,
   "metadata": {
    "collapsed": false
   },
   "outputs": [],
   "source": [
    "# load data from memory\n",
    "\n",
    "import pickle\n",
    "\n",
    "pickle_file = '-data.pickle'\n",
    "\n",
    "with open(pickle_file, 'rb') as f:\n",
    "    save = pickle.load(f)\n",
    "    X = save['X']\n",
    "    y = save['y']\n",
    "    del save  # hint to help gc free up memory"
   ]
  },
  {
   "cell_type": "code",
   "execution_count": 7,
   "metadata": {
    "collapsed": false
   },
   "outputs": [
    {
     "name": "stdout",
     "output_type": "stream",
     "text": [
      "(7806, 1, 32, 32)\n",
      "(7806, 2)\n"
     ]
    }
   ],
   "source": [
    "# number of classes\n",
    "num_classes = 2\n",
    "\n",
    "# image dimensions\n",
    "img_rows, img_cols = X.shape[1], X.shape[2]\n",
    "\n",
    "if K.image_dim_ordering() == 'th':\n",
    "    X = X.reshape(X.shape[0], 1, img_rows, img_cols)\n",
    "    input_shape = (1, img_rows, img_cols)\n",
    "else:\n",
    "    X = X.reshape(X.shape[0], img_rows, img_cols, 1)\n",
    "    input_shape = (img_rows, img_cols, 1)\n",
    "\n",
    "y = np_utils.to_categorical(y, num_classes)\n",
    "\n",
    "print X.shape\n",
    "print y.shape\n"
   ]
  },
  {
   "cell_type": "code",
   "execution_count": 8,
   "metadata": {
    "collapsed": false
   },
   "outputs": [
    {
     "name": "stdout",
     "output_type": "stream",
     "text": [
      "(32, 32)\n",
      "[ 0.  1.]\n"
     ]
    },
    {
     "data": {
      "text/plain": [
       "<matplotlib.image.AxesImage at 0x7fd5ee4ff550>"
      ]
     },
     "execution_count": 8,
     "metadata": {},
     "output_type": "execute_result"
    },
    {
     "data": {
      "image/png": "[encoded data removed]",
      "text/plain": [
       "<matplotlib.figure.Figure at 0x7fd61c5d0210>"
      ]
     },
     "metadata": {},
     "output_type": "display_data"
    }
   ],
   "source": [
    "# preview one sample from the reloaded X dataset to make sure nothing happened along the way\n",
    "\n",
    "%matplotlib inline\n",
    "from matplotlib.pyplot import imshow\n",
    "import matplotlib.pyplot as plt\n",
    "\n",
    "img_num = 500\n",
    "\n",
    "if K.image_dim_ordering() == 'th':\n",
    "    img = X[img_num][0,:,:]\n",
    "else:\n",
    "    img = X[img_num][:,:,0]\n",
    "\n",
    "print img.shape\n",
    "print y[img_num]\n",
    "imshow(img, cmap = plt.get_cmap('gray'), vmin = 0, vmax = 1,  interpolation='nearest')"
   ]
  },
  {
   "cell_type": "code",
   "execution_count": 14,
   "metadata": {
    "collapsed": true
   },
   "outputs": [],
   "source": [
    "# model hyperparameters\n",
    "batch_size = 32\n",
    "nb_epoch = 20\n",
    "\n",
    "# network architecture\n",
    "patch_size_1 = 3\n",
    "patch_size_2 = 3\n",
    "patch_size_3 = 3\n",
    "patch_size_4 = 3\n",
    "patch_size_5 = 3\n",
    "\n",
    "depth_1 = 64\n",
    "depth_2 = 128\n",
    "depth_3 = 128\n",
    "depth_4 = 256\n",
    "depth_5 = 256\n",
    "\n",
    "pool_size = 2\n",
    "\n",
    "num_hidden_1 = 512\n",
    "num_hidden_2 = 1024\n",
    "\n",
    "dropout = 0.25"
   ]
  },
  {
   "cell_type": "code",
   "execution_count": 15,
   "metadata": {
    "collapsed": true
   },
   "outputs": [],
   "source": [
    "model = Sequential()\n",
    "\n",
    "model.add(Convolution2D(depth_1, patch_size_1, patch_size_1,\n",
    "                        border_mode='same',\n",
    "                        input_shape=input_shape))\n",
    "model.add(Activation('relu'))\n",
    "model.add(MaxPooling2D(pool_size=(pool_size, pool_size)))\n",
    "\n",
    "model.add(Convolution2D(depth_2, patch_size_2, patch_size_2,\n",
    "                        border_mode='same'))\n",
    "model.add(Activation('relu'))\n",
    "# model.add(MaxPooling2D(pool_size=(pool_size, pool_size)))\n",
    "\n",
    "model.add(Convolution2D(depth_3, patch_size_3, patch_size_3,\n",
    "                        border_mode='same'))\n",
    "model.add(Activation('relu'))\n",
    "model.add(MaxPooling2D(pool_size=(pool_size, pool_size)))\n",
    "\n",
    "model.add(Convolution2D(depth_4, patch_size_4, patch_size_4,\n",
    "                        border_mode='same'))\n",
    "model.add(Activation('relu'))\n",
    "# model.add(MaxPooling2D(pool_size=(pool_size, pool_size)))\n",
    "\n",
    "model.add(Convolution2D(depth_5, patch_size_5, patch_size_5,\n",
    "                        border_mode='same'))\n",
    "model.add(Activation('relu'))\n",
    "model.add(MaxPooling2D(pool_size=(pool_size, pool_size)))\n",
    "\n",
    "model.add(Flatten())\n",
    "\n",
    "model.add(Dense(num_hidden_1))\n",
    "model.add(Activation('relu'))\n",
    "model.add(Dropout(dropout))\n",
    "\n",
    "model.add(Dense(num_hidden_2))\n",
    "model.add(Activation('relu'))\n",
    "model.add(Dropout(dropout))\n",
    "\n",
    "model.add(Dense(num_classes))\n",
    "\n",
    "model.add(Activation('softmax'))"
   ]
  },
  {
   "cell_type": "code",
   "execution_count": 16,
   "metadata": {
    "collapsed": true
   },
   "outputs": [],
   "source": [
    "checkpoint_name = \"-model.hdf5\"\n",
    "checkpointer = ModelCheckpoint(checkpoint_name, verbose=0, save_best_only=True)\n",
    "\n",
    "model.compile(loss='categorical_crossentropy', optimizer='adadelta', metrics=['accuracy'])"
   ]
  },
  {
   "cell_type": "code",
   "execution_count": 17,
   "metadata": {
    "collapsed": false
   },
   "outputs": [
    {
     "name": "stdout",
     "output_type": "stream",
     "text": [
      "Train on 5854 samples, validate on 1952 samples\n",
      "Epoch 1/20\n",
      "5854/5854 [==============================] - 92s - loss: 0.6931 - acc: 0.5091 - val_loss: 0.6920 - val_acc: 0.5149\n",
      "Epoch 2/20\n",
      "5854/5854 [==============================] - 97s - loss: 0.6916 - acc: 0.5318 - val_loss: 0.7628 - val_acc: 0.4851\n",
      "Epoch 3/20\n",
      "5854/5854 [==============================] - 101s - loss: 0.6602 - acc: 0.6109 - val_loss: 0.6136 - val_acc: 0.6783\n",
      "Epoch 4/20\n",
      "5854/5854 [==============================] - 101s - loss: 0.5947 - acc: 0.7007 - val_loss: 0.5687 - val_acc: 0.7275\n",
      "Epoch 5/20\n",
      "5854/5854 [==============================] - 101s - loss: 0.5301 - acc: 0.7480 - val_loss: 0.5174 - val_acc: 0.7669\n",
      "Epoch 6/20\n",
      "5854/5854 [==============================] - 100s - loss: 0.4727 - acc: 0.7798 - val_loss: 0.4391 - val_acc: 0.8069\n",
      "Epoch 7/20\n",
      "5854/5854 [==============================] - 100s - loss: 0.4390 - acc: 0.8066 - val_loss: 0.4077 - val_acc: 0.8212\n",
      "Epoch 8/20\n",
      "5854/5854 [==============================] - 101s - loss: 0.4071 - acc: 0.8182 - val_loss: 0.5034 - val_acc: 0.8017\n",
      "Epoch 9/20\n",
      "5854/5854 [==============================] - 101s - loss: 0.3832 - acc: 0.8328 - val_loss: 0.3650 - val_acc: 0.8386\n",
      "Epoch 10/20\n",
      "5854/5854 [==============================] - 101s - loss: 0.3617 - acc: 0.8389 - val_loss: 0.4008 - val_acc: 0.8243\n",
      "Epoch 11/20\n",
      "5854/5854 [==============================] - 101s - loss: 0.3415 - acc: 0.8504 - val_loss: 0.3491 - val_acc: 0.8366\n",
      "Epoch 12/20\n",
      "5854/5854 [==============================] - 103s - loss: 0.3212 - acc: 0.8574 - val_loss: 0.3284 - val_acc: 0.8530\n",
      "Epoch 13/20\n",
      "5854/5854 [==============================] - 101s - loss: 0.3109 - acc: 0.8668 - val_loss: 0.3354 - val_acc: 0.8489\n",
      "Epoch 14/20\n",
      "5854/5854 [==============================] - 103s - loss: 0.2883 - acc: 0.8789 - val_loss: 0.3082 - val_acc: 0.8678\n",
      "Epoch 15/20\n",
      "5854/5854 [==============================] - 108s - loss: 0.2744 - acc: 0.8866 - val_loss: 0.2883 - val_acc: 0.8791\n",
      "Epoch 16/20\n",
      "5854/5854 [==============================] - 103s - loss: 0.2758 - acc: 0.8867 - val_loss: 0.2803 - val_acc: 0.8842\n",
      "Epoch 17/20\n",
      "5854/5854 [==============================] - 102s - loss: 0.2551 - acc: 0.8978 - val_loss: 0.2993 - val_acc: 0.8786\n",
      "Epoch 18/20\n",
      "5854/5854 [==============================] - 102s - loss: 0.2450 - acc: 0.8999 - val_loss: 0.3579 - val_acc: 0.8704\n",
      "Epoch 19/20\n",
      "5854/5854 [==============================] - 96s - loss: 0.2406 - acc: 0.9033 - val_loss: 0.2303 - val_acc: 0.9068\n",
      "Epoch 20/20\n",
      "5854/5854 [==============================] - 100s - loss: 0.2362 - acc: 0.9038 - val_loss: 0.2587 - val_acc: 0.8914\n"
     ]
    }
   ],
   "source": [
    "history = model.fit(X, y, validation_split=0.25, batch_size=batch_size, nb_epoch=nb_epoch,\n",
    "          verbose=1, callbacks=[checkpointer])"
   ]
  },
  {
   "cell_type": "code",
   "execution_count": 17,
   "metadata": {
    "collapsed": false
   },
   "outputs": [
    {
     "ename": "NameError",
     "evalue": "name 'X_test' is not defined",
     "output_type": "error",
     "traceback": [
      "\u001b[0;31m---------------------------------------------------------------------------\u001b[0m",
      "\u001b[0;31mNameError\u001b[0m                                 Traceback (most recent call last)",
      "\u001b[0;32m<ipython-input-17-45a26633f87a>\u001b[0m in \u001b[0;36m<module>\u001b[0;34m()\u001b[0m\n\u001b[0;32m----> 1\u001b[0;31m \u001b[0mscore\u001b[0m \u001b[0;34m=\u001b[0m \u001b[0mmodel\u001b[0m\u001b[0;34m.\u001b[0m\u001b[0mevaluate\u001b[0m\u001b[0;34m(\u001b[0m\u001b[0mX_test\u001b[0m\u001b[0;34m,\u001b[0m \u001b[0mY_test\u001b[0m\u001b[0;34m,\u001b[0m \u001b[0mverbose\u001b[0m\u001b[0;34m=\u001b[0m\u001b[0;36m0\u001b[0m\u001b[0;34m)\u001b[0m\u001b[0;34m\u001b[0m\u001b[0m\n\u001b[0m\u001b[1;32m      2\u001b[0m \u001b[0;34m\u001b[0m\u001b[0m\n\u001b[1;32m      3\u001b[0m \u001b[0;32mprint\u001b[0m \u001b[0;34m'Test score:'\u001b[0m\u001b[0;34m,\u001b[0m \u001b[0mscore\u001b[0m\u001b[0;34m[\u001b[0m\u001b[0;36m0\u001b[0m\u001b[0;34m]\u001b[0m\u001b[0;34m\u001b[0m\u001b[0m\n\u001b[1;32m      4\u001b[0m \u001b[0;32mprint\u001b[0m \u001b[0;34m'Test accuracy: {:.2%}'\u001b[0m\u001b[0;34m.\u001b[0m\u001b[0mformat\u001b[0m\u001b[0;34m(\u001b[0m\u001b[0mscore\u001b[0m\u001b[0;34m[\u001b[0m\u001b[0;36m1\u001b[0m\u001b[0;34m]\u001b[0m\u001b[0;34m)\u001b[0m\u001b[0;34m\u001b[0m\u001b[0m\n",
      "\u001b[0;31mNameError\u001b[0m: name 'X_test' is not defined"
     ]
    }
   ],
   "source": []
  },
  {
   "cell_type": "code",
   "execution_count": null,
   "metadata": {
    "collapsed": true
   },
   "outputs": [],
   "source": []
  }
 ],
 "metadata": {
  "anaconda-cloud": {},
  "kernelspec": {
   "display_name": "Python [default]",
   "language": "python",
   "name": "python2"
  },
  "language_info": {
   "codemirror_mode": {
    "name": "ipython",
    "version": 2
   },
   "file_extension": ".py",
   "mimetype": "text/x-python",
   "name": "python",
   "nbconvert_exporter": "python",
   "pygments_lexer": "ipython2",
   "version": "2.7.12"
  }
 },
 "nbformat": 4,
 "nbformat_minor": 1
}
