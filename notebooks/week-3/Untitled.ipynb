{
 "cells": [
  {
   "cell_type": "code",
   "execution_count": null,
   "metadata": {
    "collapsed": false
   },
   "outputs": [],
   "source": [
    "number = 23\n",
    "guess = int(raw_input('Enter an integer : '))\n",
    "\n",
    "if guess == number:\n",
    "    print 'Congratulations, you guessed it.' # New block starts here\n",
    "    print \"(but you do not win any prizes!)\" # New block ends here\n",
    "elif guess < number:\n",
    "    print 'No, it is a little higher than that' # Another block\n",
    "    # You can do whatever you want in a block ...\n",
    "else:\n",
    "    print 'No, it is a little lower than that' \n",
    "    # you must have guess > number to reach here\n",
    "\n",
    "print 'Done'\n",
    "# This last statement is always executed, after the if statement is executed"
   ]
  },
  {
   "cell_type": "code",
   "execution_count": null,
   "metadata": {
    "collapsed": false
   },
   "outputs": [],
   "source": [
    "number = 30\n",
    "guess = int(raw_input('enter an integer:'))\n",
    "\n",
    "if guess ==number:\n",
    "    print 'bitch you win it'\n",
    "elif guess<number:\n",
    "    print'biych you lose it'\n",
    "else:\n",
    "    print 'bitch， go to hell'\n",
    "\n",
    "print 'done'\n"
   ]
  },
  {
   "cell_type": "code",
   "execution_count": null,
   "metadata": {
    "collapsed": false
   },
   "outputs": [],
   "source": [
    "while True:\n",
    "    s = raw_input('Enter something : ')\n",
    "    if s == 'quit':\n",
    "        break\n",
    "    print 'Length of the string is', len(s)\n",
    "print 'Done'"
   ]
  },
  {
   "cell_type": "code",
   "execution_count": null,
   "metadata": {
    "collapsed": true
   },
   "outputs": [],
   "source": [
    "def sayHello():\n",
    "    print 'Hello World!' # block belonging to the function\n",
    "\n",
    "sayHello() # call the function"
   ]
  },
  {
   "cell_type": "code",
   "execution_count": 1,
   "metadata": {
    "collapsed": false
   },
   "outputs": [
    {
     "name": "stdout",
     "output_type": "stream",
     "text": [
      "Hello World!\n"
     ]
    }
   ],
   "source": [
    "def sayHello():\n",
    "    print 'Hello World!' # block belonging to the function\n",
    "\n",
    "sayHello() # call the function"
   ]
  },
  {
   "cell_type": "code",
   "execution_count": 2,
   "metadata": {
    "collapsed": false
   },
   "outputs": [
    {
     "name": "stdout",
     "output_type": "stream",
     "text": [
      "x is 50\n",
      "Changed local x to 2\n",
      "x is still 50\n"
     ]
    }
   ],
   "source": [
    "def func(x):\n",
    "    print 'x is', x\n",
    "    x = 2\n",
    "    print 'Changed local x to', x\n",
    "\n",
    "x = 50\n",
    "func(x)\n",
    "print 'x is still', x"
   ]
  },
  {
   "cell_type": "code",
   "execution_count": null,
   "metadata": {
    "collapsed": true
   },
   "outputs": [],
   "source": []
  }
 ],
 "metadata": {
  "kernelspec": {
   "display_name": "Python [default]",
   "language": "python",
   "name": "python2"
  },
  "language_info": {
   "codemirror_mode": {
    "name": "ipython",
    "version": 2
   },
   "file_extension": ".py",
   "mimetype": "text/x-python",
   "name": "python",
   "nbconvert_exporter": "python",
   "pygments_lexer": "ipython2",
   "version": "2.7.12"
  }
 },
 "nbformat": 4,
 "nbformat_minor": 1
}
