{
 "cells": [
  {
   "cell_type": "code",
   "execution_count": 217,
   "metadata": {
    "collapsed": false
   },
   "outputs": [],
   "source": [
    "%matplotlib inline\n",
    "import math\n",
    "import random\n",
    "\n",
    "import seaborn as sns\n",
    "import matplotlib.pyplot as plt\n",
    "import pandas as pd\n",
    "from sklearn.datasets import load_boston\n",
    "\n",
    "'''Since this is a classification problem, we will need to \n",
    "represent our targets as one-hot encoding vectors (see previous lab).\n",
    "To do this we will use scikit-learn's OneHotEncoder module \n",
    "which we import here'''\n",
    "from sklearn.preprocessing import OneHotEncoder\n",
    "\n",
    "import numpy as np\n",
    "import tensorflow as tf\n",
    "\n",
    "sns.set(style=\"ticks\", color_codes=True)"
   ]
  },
  {
   "cell_type": "code",
   "execution_count": 218,
   "metadata": {
    "collapsed": false
   },
   "outputs": [],
   "source": [
    "dataset = load_boston()\n",
    "houses = pd.DataFrame(dataset.data, columns=dataset.feature_names)\n",
    "houses['target'] = dataset.target\n",
    "np.mean(dataset.target)\n",
    "a = 0\n",
    "while a < len(dataset.target):\n",
    "    if a > np.mean(dataset.target):\n",
    "        houses.target.set_value(a,1)     \n",
    "    else:\n",
    "        houses.target.set_value(a,0) \n",
    "    a = a+1"
   ]
  },
  {
   "cell_type": "code",
   "execution_count": 219,
   "metadata": {
    "collapsed": false
   },
   "outputs": [
    {
     "name": "stdout",
     "output_type": "stream",
     "text": [
      "1.0 0.954545454545\n"
     ]
    }
   ],
   "source": [
    "print np.max(houses['target']),\n",
    "print np.mean(houses['target']),"
   ]
  },
  {
   "cell_type": "code",
   "execution_count": 220,
   "metadata": {
    "collapsed": false
   },
   "outputs": [
    {
     "name": "stdout",
     "output_type": "stream",
     "text": [
      "('Training set', (354, 13), (1, 1))\n",
      "('Test set', (152, 13), (0, 1))\n"
     ]
    }
   ],
   "source": [
    "houses_array = houses.as_matrix().astype(float)\n",
    "np.random.shuffle(houses_array)\n",
    "\n",
    "X = houses_array[:, :-1]\n",
    "y = houses_array[:, -1]\n",
    "\n",
    "enc = OneHotEncoder()\n",
    "y = enc.fit_transform(y[-1])\n",
    "y = np.array(y[-1])\n",
    "y = y.reshape(-1,1)\n",
    "\n",
    "\n",
    "X = X / X.max(axis=0)\n",
    "\n",
    "trainingSplit = int(.7 * houses_array.shape[0])\n",
    "X_train = X[:trainingSplit]\n",
    "y_train = y[:trainingSplit]\n",
    "X_test = X[trainingSplit:]\n",
    "y_test = y[trainingSplit:]\n",
    "\n",
    "print('Training set', X_train.shape, y_train.shape)\n",
    "print('Test set', X_test.shape, y_test.shape)"
   ]
  },
  {
   "cell_type": "code",
   "execution_count": 221,
   "metadata": {
    "collapsed": false
   },
   "outputs": [
    {
     "name": "stdout",
     "output_type": "stream",
     "text": [
      "1 1 [ <1x1 sparse matrix of type '<type 'numpy.float64'>'\n",
      "\twith 1 stored elements in Compressed Sparse Row format>]\n"
     ]
    }
   ],
   "source": [
    "print y_train.shape[1],\n",
    "print y_test.shape[1], \n",
    "print y_train[0]"
   ]
  },
  {
   "cell_type": "code",
   "execution_count": 222,
   "metadata": {
    "collapsed": false
   },
   "outputs": [],
   "source": [
    "# helper variables\n",
    "num_samples = X_train.shape[0]\n",
    "num_features = X_train.shape[1]\n",
    "num_outputs = y_train.shape[1]\n",
    "\n",
    "# Hyper-parameters\n",
    "batch_size = 50\n",
    "num_hidden_1 = 32\n",
    "num_hidden_2 =  32\n",
    "learning_rate =  0.03\n",
    "training_epochs =  400\n",
    "dropout_keep_prob = 0.5 # 0.5 # set to no dropout by default\n",
    "\n",
    "# variable to control the resolution at which the training results are stored\n",
    "display_step = 1"
   ]
  },
  {
   "cell_type": "code",
   "execution_count": 223,
   "metadata": {
    "collapsed": false
   },
   "outputs": [],
   "source": [
    "def accuracy(predictions, targets):\n",
    "    \n",
    "    # IMPLEMENT THE NEW ACCURACY MEASURE HERE\n",
    "    \n",
    "    accuracy = np.argmax(predictions, 1)\n",
    "    targets = np.argmax(targets, 1)\n",
    "    accuracy= (np.sum(accuracy()==targets()) % float(accuracy[0])) *100\n",
    "    \n",
    "    return accuracy\n",
    "\n",
    "def weight_variable(shape):\n",
    "    initial = tf.truncated_normal(shape, stddev=0.1)\n",
    "    return tf.Variable(initial)\n",
    "\n",
    "def bias_variable(shape):\n",
    "    initial = tf.constant(0.1, shape=shape)\n",
    "    return tf.Variable(initial)"
   ]
  },
  {
   "cell_type": "code",
   "execution_count": 224,
   "metadata": {
    "collapsed": false
   },
   "outputs": [],
   "source": [
    "graph = tf.Graph()\n",
    "\n",
    "with graph.as_default():\n",
    "    \n",
    "    x = tf.placeholder(tf.float32, shape=(None, num_features))\n",
    "    _y = tf.placeholder(tf.float32, shape=(None))\n",
    "    \n",
    "    keep_prob = tf.placeholder(tf.float32)\n",
    "    \n",
    "    tf_X_test = tf.constant(X_test, dtype=tf.float32)\n",
    "    tf_X_train = tf.constant(X_train, dtype=tf.float32)\n",
    "    \n",
    "    \n",
    "    W_fc1 = weight_variable([num_features, num_hidden_1])\n",
    "    b_fc1 = bias_variable([num_hidden_1])\n",
    "    \n",
    "    W_fc2 = weight_variable([num_hidden_1, num_hidden_2])\n",
    "    b_fc2 = bias_variable([num_hidden_2])\n",
    "    \n",
    "    W_fc3 = weight_variable([num_hidden_2, num_outputs])\n",
    "    b_fc3 = bias_variable([num_outputs])\n",
    "    \n",
    "    \n",
    "    def model(data, keep):\n",
    "        \n",
    "        fc1 = tf.nn.sigmoid(tf.matmul(data, W_fc1) + b_fc1)\n",
    "        fc1_drop = tf.nn.dropout(fc1, keep)\n",
    "        \n",
    "        fc2 = tf.nn.sigmoid(tf.matmul(fc1_drop, W_fc2) + b_fc2)\n",
    "        fc2_drop = tf.nn.dropout(fc2, keep)\n",
    "        \n",
    "        fc3 = tf.matmul(fc2_drop, W_fc3) + b_fc3\n",
    "        \n",
    "        return fc3\n",
    "    \n",
    "    '''for our loss function we still want to get the raw outputs \n",
    "    of the model, but since it no longer represents the actual prediction \n",
    "    we rename the variable to ‘output’'''\n",
    "    output = model(x, keep_prob)\n",
    "    \n",
    "    # WHEN WE CALCULATE THE PREDICTIONS, WE NEED TO WRAP EACH OUTPUT IN A\n",
    "    # tf.nn.softmax() FUNCTION. THE FIRST ONE HAS BEEN DONE FOR YOU:\n",
    "    prediction = tf.nn.softmax(output)\n",
    "    test_prediction = model(tf_X_test, 1.0)\n",
    "    train_prediction = model(tf_X_train, 1.0)\n",
    "     \n",
    "    \n",
    "    '''finally, we replace our previous MSE cost function with the\n",
    "    cross-entropy function included in Tensorflow. This function takes in the\n",
    "    raw output of the network and calculates the average loss with the target'''\n",
    "    loss = tf.reduce_mean(tf.nn.softmax_cross_entropy_with_logits(output, _y))\n",
    "    optimizer = tf.train.GradientDescentOptimizer(learning_rate).minimize(loss)\n",
    "    \n",
    "    saver = tf.train.Saver()"
   ]
  },
  {
   "cell_type": "code",
   "execution_count": 225,
   "metadata": {
    "collapsed": false
   },
   "outputs": [
    {
     "name": "stdout",
     "output_type": "stream",
     "text": [
      "Initialized\n"
     ]
    },
    {
     "ename": "IndexError",
     "evalue": "index 208 is out of bounds for axis 0 with size 1",
     "output_type": "error",
     "traceback": [
      "\u001b[0;31m---------------------------------------------------------------------------\u001b[0m",
      "\u001b[0;31mIndexError\u001b[0m                                Traceback (most recent call last)",
      "\u001b[0;32m<ipython-input-225-b5b40c5b1420>\u001b[0m in \u001b[0;36m<module>\u001b[0;34m()\u001b[0m\n\u001b[1;32m     15\u001b[0m \u001b[0;34m\u001b[0m\u001b[0m\n\u001b[1;32m     16\u001b[0m             \u001b[0mbatch_data\u001b[0m \u001b[0;34m=\u001b[0m \u001b[0mX_train\u001b[0m\u001b[0;34m[\u001b[0m\u001b[0mindexes\u001b[0m\u001b[0;34m[\u001b[0m\u001b[0moffset\u001b[0m\u001b[0;34m:\u001b[0m\u001b[0;34m(\u001b[0m\u001b[0moffset\u001b[0m \u001b[0;34m+\u001b[0m \u001b[0mbatch_size\u001b[0m\u001b[0;34m)\u001b[0m\u001b[0;34m]\u001b[0m\u001b[0;34m]\u001b[0m\u001b[0;34m\u001b[0m\u001b[0m\n\u001b[0;32m---> 17\u001b[0;31m             \u001b[0mbatch_labels\u001b[0m \u001b[0;34m=\u001b[0m \u001b[0my_train\u001b[0m\u001b[0;34m[\u001b[0m\u001b[0mindexes\u001b[0m\u001b[0;34m[\u001b[0m\u001b[0moffset\u001b[0m\u001b[0;34m:\u001b[0m\u001b[0;34m(\u001b[0m\u001b[0moffset\u001b[0m \u001b[0;34m+\u001b[0m \u001b[0mbatch_size\u001b[0m\u001b[0;34m)\u001b[0m\u001b[0;34m]\u001b[0m\u001b[0;34m]\u001b[0m\u001b[0;34m\u001b[0m\u001b[0m\n\u001b[0m\u001b[1;32m     18\u001b[0m \u001b[0;34m\u001b[0m\u001b[0m\n\u001b[1;32m     19\u001b[0m             \u001b[0mfeed_dict\u001b[0m \u001b[0;34m=\u001b[0m \u001b[0;34m{\u001b[0m\u001b[0mx\u001b[0m \u001b[0;34m:\u001b[0m \u001b[0mbatch_data\u001b[0m\u001b[0;34m,\u001b[0m \u001b[0m_y\u001b[0m \u001b[0;34m:\u001b[0m \u001b[0mbatch_labels\u001b[0m\u001b[0;34m,\u001b[0m \u001b[0mkeep_prob\u001b[0m\u001b[0;34m:\u001b[0m \u001b[0mdropout_keep_prob\u001b[0m\u001b[0;34m}\u001b[0m\u001b[0;34m\u001b[0m\u001b[0m\n",
      "\u001b[0;31mIndexError\u001b[0m: index 208 is out of bounds for axis 0 with size 1"
     ]
    }
   ],
   "source": [
    "results = []\n",
    "\n",
    "with tf.Session(graph=graph) as session:\n",
    "    \n",
    "    tf.initialize_all_variables().run()\n",
    "    print('Initialized')\n",
    "\n",
    "    for epoch in range(training_epochs):\n",
    "        \n",
    "        indexes = range(num_samples)\n",
    "        random.shuffle(indexes)\n",
    "        \n",
    "        for step in range(int(math.floor(num_samples/float(batch_size)))):\n",
    "            offset = step * batch_size\n",
    "            \n",
    "            batch_data = X_train[indexes[offset:(offset + batch_size)]]\n",
    "            batch_labels = y_train[indexes[offset:(offset + batch_size)]]\n",
    "\n",
    "            feed_dict = {x : batch_data, _y : batch_labels, keep_prob: dropout_keep_prob}\n",
    "            \n",
    "            _, l, p = session.run([optimizer, loss, prediction], feed_dict=feed_dict)\n",
    "\n",
    "        if (epoch % display_step == 0):\n",
    "            batch_acc = accuracy(p, batch_labels)\n",
    "            train_acc =  accuracy(train_prediction.eval(session=session), y_train)\n",
    "            test_acc =  accuracy(test_prediction.eval(session=session), y_test)\n",
    "            results.append([epoch, batch_acc, train_acc, test_acc])\n",
    "\n",
    "    save_path = saver.save(session, \"model_houses_classification.ckpt\")\n",
    "    print(\"Model saved in file: %s\" % save_path)"
   ]
  },
  {
   "cell_type": "code",
   "execution_count": 6,
   "metadata": {
    "collapsed": false
   },
   "outputs": [
    {
     "ename": "NameError",
     "evalue": "name 'pd' is not defined",
     "output_type": "error",
     "traceback": [
      "\u001b[0;31m---------------------------------------------------------------------------\u001b[0m",
      "\u001b[0;31mNameError\u001b[0m                                 Traceback (most recent call last)",
      "\u001b[0;32m<ipython-input-6-ce7e453996b8>\u001b[0m in \u001b[0;36m<module>\u001b[0;34m()\u001b[0m\n\u001b[0;32m----> 1\u001b[0;31m \u001b[0mdf\u001b[0m \u001b[0;34m=\u001b[0m \u001b[0mpd\u001b[0m\u001b[0;34m.\u001b[0m\u001b[0mDataFrame\u001b[0m\u001b[0;34m(\u001b[0m\u001b[0mdata\u001b[0m\u001b[0;34m=\u001b[0m\u001b[0mresults\u001b[0m\u001b[0;34m,\u001b[0m \u001b[0mcolumns\u001b[0m \u001b[0;34m=\u001b[0m \u001b[0;34m[\u001b[0m\u001b[0;34m\"epoch\"\u001b[0m\u001b[0;34m,\u001b[0m \u001b[0;34m\"batch_acc\"\u001b[0m\u001b[0;34m,\u001b[0m \u001b[0;34m\"train_acc\"\u001b[0m\u001b[0;34m,\u001b[0m \u001b[0;34m\"test_acc\"\u001b[0m\u001b[0;34m]\u001b[0m\u001b[0;34m)\u001b[0m\u001b[0;34m\u001b[0m\u001b[0m\n\u001b[0m\u001b[1;32m      2\u001b[0m \u001b[0mdf\u001b[0m\u001b[0;34m.\u001b[0m\u001b[0mset_index\u001b[0m\u001b[0;34m(\u001b[0m\u001b[0;34m\"epoch\"\u001b[0m\u001b[0;34m,\u001b[0m \u001b[0mdrop\u001b[0m\u001b[0;34m=\u001b[0m\u001b[0mTrue\u001b[0m\u001b[0;34m,\u001b[0m \u001b[0minplace\u001b[0m\u001b[0;34m=\u001b[0m\u001b[0mTrue\u001b[0m\u001b[0;34m)\u001b[0m\u001b[0;34m\u001b[0m\u001b[0m\n\u001b[1;32m      3\u001b[0m \u001b[0;34m\u001b[0m\u001b[0m\n\u001b[1;32m      4\u001b[0m \u001b[0mfig\u001b[0m\u001b[0;34m,\u001b[0m \u001b[0max\u001b[0m \u001b[0;34m=\u001b[0m \u001b[0mplt\u001b[0m\u001b[0;34m.\u001b[0m\u001b[0msubplots\u001b[0m\u001b[0;34m(\u001b[0m\u001b[0;36m1\u001b[0m\u001b[0;34m,\u001b[0m \u001b[0;36m1\u001b[0m\u001b[0;34m,\u001b[0m \u001b[0mfigsize\u001b[0m\u001b[0;34m=\u001b[0m\u001b[0;34m(\u001b[0m\u001b[0;36m10\u001b[0m\u001b[0;34m,\u001b[0m \u001b[0;36m4\u001b[0m\u001b[0;34m)\u001b[0m\u001b[0;34m)\u001b[0m\u001b[0;34m\u001b[0m\u001b[0m\n\u001b[1;32m      5\u001b[0m \u001b[0;34m\u001b[0m\u001b[0m\n",
      "\u001b[0;31mNameError\u001b[0m: name 'pd' is not defined"
     ]
    }
   ],
   "source": [
    "df = pd.DataFrame(data=results, columns = [\"epoch\", \"batch_acc\", \"train_acc\", \"test_acc\"])\n",
    "df.set_index(\"epoch\", drop=True, inplace=True)\n",
    "\n",
    "fig, ax = plt.subplots(1, 1, figsize=(10, 4))\n",
    " \n",
    "ax.plot(df)\n",
    "ax.set(xlabel='Epoch',\n",
    "       ylabel='Error',\n",
    "       title='Training result')\n",
    " \n",
    "ax.legend(df.columns, loc=1)\n",
    "\n",
    "print \"Maximum test accuracy: %.2f%%\" % np.max(df[\"test_acc\"])"
   ]
  },
  {
   "cell_type": "code",
   "execution_count": null,
   "metadata": {
    "collapsed": true
   },
   "outputs": [],
   "source": []
  }
 ],
 "metadata": {
  "anaconda-cloud": {},
  "kernelspec": {
   "display_name": "Python [default]",
   "language": "python",
   "name": "python2"
  },
  "language_info": {
   "codemirror_mode": {
    "name": "ipython",
    "version": 2
   },
   "file_extension": ".py",
   "mimetype": "text/x-python",
   "name": "python",
   "nbconvert_exporter": "python",
   "pygments_lexer": "ipython2",
   "version": "2.7.12"
  }
 },
 "nbformat": 4,
 "nbformat_minor": 1
}
