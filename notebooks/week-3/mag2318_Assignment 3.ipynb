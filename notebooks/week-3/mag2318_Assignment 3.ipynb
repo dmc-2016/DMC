{
 "cells": [
  {
   "cell_type": "code",
   "execution_count": 2,
   "metadata": {
    "collapsed": false
   },
   "outputs": [],
   "source": [
    "import random\n",
    "import numpy as np\n",
    "import matplotlib.pyplot as plt\n",
    "import seaborn as sns; sns.set(style=\"ticks\", color_codes=True)\n",
    "from sklearn.preprocessing import OneHotEncoder\n",
    "from sklearn.utils import shuffle"
   ]
  },
  {
   "cell_type": "code",
   "execution_count": 3,
   "metadata": {
    "collapsed": false
   },
   "outputs": [],
   "source": [
    "class Network(object):\n",
    "    \n",
    "    def __init__(self, sizes):\n",
    "        self.num_layers = len(sizes)\n",
    "        self.sizes = sizes\n",
    "        self.biases = [np.random.randn(y, 1) for y in sizes[1:]]\n",
    "        self.weights = [np.random.randn(y, x) for x, y in zip(sizes[:-1], sizes[1:])]\n",
    "    \n",
    "    def feedforward(self, a):\n",
    "        for b, w in zip(self.biases, self.weights):\n",
    "            a = sigmoid(np.dot(w, a)+b)\n",
    "        return a\n",
    "    \n",
    "    def SGD(self, training_data, epochs, mini_batch_size, eta, test_data=None):\n",
    "        results = []\n",
    "        \n",
    "        n = len(training_data)\n",
    "        \n",
    "        if test_data:\n",
    "            n_test = len(test_data)\n",
    "            \n",
    "        for j in xrange(epochs):\n",
    "            \n",
    "            random.shuffle(training_data)\n",
    "            mini_batches = [ training_data[k:k+mini_batch_size]\n",
    "                               for k in xrange(0, n, mini_batch_size)]\n",
    "            \n",
    "            for mini_batch in mini_batches:\n",
    "                    self.update_mini_batch(mini_batch, eta)\n",
    "                    \n",
    "            if test_data:\n",
    "                num_correct = self.evaluate(test_data)\n",
    "                accuracy = \"%.2f\" % (100 * (float(num_correct) / n_test))\n",
    "                print \"Epoch\", j, \":\", num_correct, \"/\", n_test, \"-\", accuracy, \"% acc\"\n",
    "                results.append(accuracy)\n",
    "            else:\n",
    "                print \"Epoch\", j, \"complete\"\n",
    "                \n",
    "        return results\n",
    "    \n",
    "    def update_mini_batch(self, mini_batch, eta):\n",
    "        \n",
    "        nabla_b = [np.zeros(b.shape) for b in self.biases]\n",
    "        nabla_w = [np.zeros(w.shape) for w in self.weights]\n",
    "        for x, y in mini_batch:\n",
    "            delta_nabla_b, delta_nabla_w = self.backprop(x, y)\n",
    "            nabla_b = [nb+dnb for nb, dnb in zip(nabla_b, delta_nabla_b)]\n",
    "            nabla_w = [nw+dnw for nw, dnw in zip(nabla_w, delta_nabla_w)]\n",
    "        self.weights = [w-(eta/len(mini_batch))*nw \n",
    "                        for w, nw in zip(self.weights, nabla_w)]\n",
    "        self.biases = [b-(eta/len(mini_batch))*nb \n",
    "                       for b, nb in zip(self.biases, nabla_b)]\n",
    "        \n",
    "    def backprop(self, x, y):\n",
    "        nabla_b = [np.zeros(b.shape) for b in self.biases]\n",
    "        nabla_w = [np.zeros(w.shape) for w in self.weights]\n",
    "        \n",
    "        activation = x\n",
    "        activations = [x]\n",
    "        zs = []\n",
    "        for b, w in zip(self.biases, self.weights):\n",
    "            z = np.dot(w, activation)+b\n",
    "            zs.append(z)\n",
    "            activation = sigmoid(z)\n",
    "            activations.append(activation)\n",
    "        delta = self.cost_derivative(activations[-1], y) * \\\n",
    "            sigmoid_prime(zs[-1])\n",
    "        nabla_b[-1] = delta\n",
    "        nabla_w[-1] = np.dot(delta, activations[-2].transpose())\n",
    "        \n",
    "        for l in xrange(2, self.num_layers):\n",
    "            z = zs[-l]\n",
    "            sp = sigmoid_prime(z)\n",
    "            delta = np.dot(self.weights[-l+1].transpose(), delta) * sp\n",
    "            nabla_b[-l] = delta\n",
    "            nabla_w[-l] = np.dot(delta, activations[-l-1].transpose())\n",
    "        return (nabla_b, nabla_w)\n",
    "\n",
    "    def evaluate(self, test_data):\n",
    "        \n",
    "         test_results = [(np.argmax(self.feedforward(x)), y)\n",
    "                        for (x, y) in test_data]\n",
    "        \n",
    "         return sum(int(x == y) for (x, y) in test_results)\n",
    "\n",
    "    def cost_derivative(self, output_activations, y):\n",
    "        return (output_activations-y) "
   ]
  },
  {
   "cell_type": "code",
   "execution_count": 4,
   "metadata": {
    "collapsed": true
   },
   "outputs": [],
   "source": [
    "def sigmoid(z):\n",
    "    return 1.0/(1.0 + np.exp(-z))\n",
    "\n",
    "def sigmoid_prime(z):\n",
    "    return sigmoid(z)*(1-sigmoid(z))"
   ]
  },
  {
   "cell_type": "code",
   "execution_count": 12,
   "metadata": {
    "collapsed": false
   },
   "outputs": [
    {
     "name": "stdout",
     "output_type": "stream",
     "text": [
      "[[  3.00000000e+00   1.26000000e+01   2.46000000e+00   2.20000000e+00\n",
      "    1.85000000e+01   9.40000000e+01   1.62000000e+00   6.60000000e-01\n",
      "    6.30000000e-01   9.40000000e-01   7.10000000e+00   7.30000000e-01\n",
      "    1.58000000e+00   6.95000000e+02]\n",
      " [  1.00000000e+00   1.35000000e+01   1.81000000e+00   2.61000000e+00\n",
      "    2.00000000e+01   9.60000000e+01   2.53000000e+00   2.61000000e+00\n",
      "    2.80000000e-01   1.66000000e+00   3.52000000e+00   1.12000000e+00\n",
      "    3.82000000e+00   8.45000000e+02]\n",
      " [  1.00000000e+00   1.41200000e+01   1.48000000e+00   2.32000000e+00\n",
      "    1.68000000e+01   9.50000000e+01   2.20000000e+00   2.43000000e+00\n",
      "    2.60000000e-01   1.57000000e+00   5.00000000e+00   1.17000000e+00\n",
      "    2.82000000e+00   1.28000000e+03]]\n"
     ]
    }
   ],
   "source": [
    "wine_data = np.loadtxt(open(\"./data/wine.csv\",\"rb\"),delimiter=\",\")\n",
    "\n",
    "wine_data = shuffle(wine_data)\n",
    "\n",
    "wine_data = np.loadtxt(open(\"./data/wine.csv\",\"rb\"),delimiter=\",\")\n",
    "\n",
    "wine_data = shuffle(wine_data)\n",
    "\n",
    "X = wine_data[:,1:]\n",
    "y = wine_data[:, 0]\n",
    "\n",
    "print wine_data[:3]"
   ]
  },
  {
   "cell_type": "code",
   "execution_count": 13,
   "metadata": {
    "collapsed": false
   },
   "outputs": [],
   "source": [
    "X = X / X.max(axis=0)\n",
    "\n",
    "_, y = np.unique(y, return_inverse=True)\n",
    "\n",
    "y = y.reshape(-1,1)\n",
    "\n",
    "data = []\n",
    "for i in range(X.shape[0]):\n",
    "    data.append(tuple([X[i].reshape(-1,1), y[i][0]]))\n",
    "    \n",
    "\n",
    "trainingSplit = int(.8 * len(data))\n",
    "training_data = data[:trainingSplit]\n",
    "test_data = data[trainingSplit:]\n",
    "\n",
    "enc = OneHotEncoder()\n",
    "\n",
    "enc.fit(y)\n",
    "\n",
    "training_data = [[_x, enc.transform(_y.reshape(-1,1)).toarray().reshape(-1,1)] for _x, _y in training_data] \n"
   ]
  },
  {
   "cell_type": "code",
   "execution_count": 18,
   "metadata": {
    "collapsed": false
   },
   "outputs": [
    {
     "name": "stdout",
     "output_type": "stream",
     "text": [
      "Epoch 0 : 25 / 36 - 69.44 % acc\n",
      "Epoch 1 : 26 / 36 - 72.22 % acc\n",
      "Epoch 2 : 29 / 36 - 80.56 % acc\n",
      "Epoch 3 : 25 / 36 - 69.44 % acc\n",
      "Epoch 4 : 34 / 36 - 94.44 % acc\n",
      "Epoch 5 : 25 / 36 - 69.44 % acc\n",
      "Epoch 6 : 33 / 36 - 91.67 % acc\n",
      "Epoch 7 : 27 / 36 - 75.00 % acc\n",
      "Epoch 8 : 31 / 36 - 86.11 % acc\n",
      "Epoch 9 : 33 / 36 - 91.67 % acc\n",
      "Epoch 10 : 35 / 36 - 97.22 % acc\n",
      "Epoch 11 : 32 / 36 - 88.89 % acc\n",
      "Epoch 12 : 30 / 36 - 83.33 % acc\n",
      "Epoch 13 : 35 / 36 - 97.22 % acc\n",
      "Epoch 14 : 31 / 36 - 86.11 % acc\n",
      "Epoch 15 : 35 / 36 - 97.22 % acc\n",
      "Epoch 16 : 31 / 36 - 86.11 % acc\n",
      "Epoch 17 : 35 / 36 - 97.22 % acc\n",
      "Epoch 18 : 35 / 36 - 97.22 % acc\n",
      "Epoch 19 : 35 / 36 - 97.22 % acc\n",
      "Epoch 20 : 34 / 36 - 94.44 % acc\n",
      "Epoch 21 : 35 / 36 - 97.22 % acc\n",
      "Epoch 22 : 35 / 36 - 97.22 % acc\n",
      "Epoch 23 : 35 / 36 - 97.22 % acc\n",
      "Epoch 24 : 35 / 36 - 97.22 % acc\n",
      "Epoch 25 : 33 / 36 - 91.67 % acc\n",
      "Epoch 26 : 32 / 36 - 88.89 % acc\n",
      "Epoch 27 : 36 / 36 - 100.00 % acc\n",
      "Epoch 28 : 35 / 36 - 97.22 % acc\n",
      "Epoch 29 : 35 / 36 - 97.22 % acc\n"
     ]
    },
    {
     "data": {
      "image/png": "[encoded data removed]",
      "text/plain": [
       "<matplotlib.figure.Figure at 0x7f714743b290>"
      ]
     },
     "metadata": {},
     "output_type": "display_data"
    }
   ],
   "source": [
    "net = Network([13, 50, 3])\n",
    "\n",
    "results = net.SGD(training_data, 30, 10, 0.2, test_data=test_data)\n",
    "\n",
    "plt.plot(results)\n",
    "plt.ylabel('accuracy (%)')\n",
    "plt.ylim([0,100.0])\n",
    "plt.show()"
   ]
  },
  {
   "cell_type": "code",
   "execution_count": null,
   "metadata": {
    "collapsed": true
   },
   "outputs": [],
   "source": []
  }
 ],
 "metadata": {
  "anaconda-cloud": {},
  "kernelspec": {
   "display_name": "Python [default]",
   "language": "python",
   "name": "python2"
  },
  "language_info": {
   "codemirror_mode": {
    "name": "ipython",
    "version": 2
   },
   "file_extension": ".py",
   "mimetype": "text/x-python",
   "name": "python",
   "nbconvert_exporter": "python",
   "pygments_lexer": "ipython2",
   "version": "2.7.12"
  }
 },
 "nbformat": 4,
 "nbformat_minor": 1
}
