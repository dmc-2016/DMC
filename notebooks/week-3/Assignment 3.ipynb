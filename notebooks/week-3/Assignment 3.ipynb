{
 "cells": [
  {
   "cell_type": "code",
   "execution_count": 1,
   "metadata": {
    "collapsed": true
   },
   "outputs": [],
   "source": [
    "import random\n",
    "import numpy as np"
   ]
  },
  {
   "cell_type": "code",
   "execution_count": 4,
   "metadata": {
    "collapsed": false
   },
   "outputs": [],
   "source": [
    "class Network(object):\n",
    "    def __init__(self, sizes):\n",
    "        self.num_layers = len(sizes)\n",
    "        self.sizes = sizes\n",
    "        self.biases = [np.random.rand(y,1) for y in sizes[1:]]\n",
    "        self.weights = [np.random.randn(y,x)\n",
    "                    for x, y in zip(sizes[:-1], sizes[1:])]\n",
    "    def feedforward (self, a):\n",
    "        for b, w in zip(self.biases, self.weights):\n",
    "            a= sigmoid(np.dot(w, a)+b)\n",
    "        return a\n",
    "    def SGD(self, training_data, epochs, mini_batch_size, eta, test_data=None)\n",
    "    if test_data: n_test = len(test_data)\n",
    "        n=len(training_data)\n",
    "    for j in xrange(epochs):\n",
    "        random.shuffle(training_data)\n",
    "        mini_batches = [\n",
    "            training_data[k:k+mini_batch_size]\n",
    "            for k in xrange(0, n, mini_batch_size)]\n",
    "        for mini_batch in mini_batches:\n",
    "            self.update_mini_batch(mini_batch, eta)\n",
    "            \n",
    "        if test_data:\n",
    "            print \"Epoch {0}: {1} / {2}\".format(\n",
    "                j, self.evaluate(test_data), n_test)\n",
    "        else:\n",
    "            print \"Epoch {0} complete\".format(j)\n",
    "    \n",
    "    def update_mini_batch(self, mini_batch, eta):\n",
    "        nabla_b = [np.zeros(b.shape) for b in self.biases]\n",
    "        nabla_w = [np.zeros(w.shape) for w in self.weights]\n",
    "        for x, y in mini_batch:\n",
    "            delta_nabla_b, delta_nabla_w = self.backprop(x, y)\n",
    "            nabla_b = [nb+dnb for nb, dnb in zip(nabla_b, delta_nabla_b)]\n",
    "            nabla_w = [nw+dnw for nw, dnw in zip(nabla_w, delta_nabla_w)]\n",
    "        self.weights = [w-(eta/len(mini_batch))*nw \n",
    "                        for w, nw in zip(self.weights, nabla_w)]\n",
    "        self.biases = [b-(eta/len(mini_batch))*nb \n",
    "                       for b, nb in zip(self.biases, nabla_b)]\n",
    "        \n",
    "    def backprop(self, x, y):\n",
    "        \n",
    "            \n",
    "      \n",
    "        "
   ]
  },
  {
   "cell_type": "code",
   "execution_count": null,
   "metadata": {
    "collapsed": true
   },
   "outputs": [],
   "source": []
  }
 ],
 "metadata": {
  "anaconda-cloud": {},
  "kernelspec": {
   "display_name": "Python [default]",
   "language": "python",
   "name": "python2"
  },
  "language_info": {
   "codemirror_mode": {
    "name": "ipython",
    "version": 2
   },
   "file_extension": ".py",
   "mimetype": "text/x-python",
   "name": "python",
   "nbconvert_exporter": "python",
   "pygments_lexer": "ipython2",
   "version": "2.7.12"
  }
 },
 "nbformat": 4,
 "nbformat_minor": 1
}
