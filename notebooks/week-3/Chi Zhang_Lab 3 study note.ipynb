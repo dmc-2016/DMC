{
 "cells": [
  {
   "cell_type": "code",
   "execution_count": 23,
   "metadata": {
    "collapsed": false
   },
   "outputs": [
    {
     "name": "stdout",
     "output_type": "stream",
     "text": [
      "<type 'numpy.ndarray'>\n",
      "[ 0  1  2  3  4  5  6  7  8  9 10 11 12 13 14 15 16 17 18 19]\n",
      "[[ 0  1  2  3  4]\n",
      " [ 5  6  7  8  9]\n",
      " [10 11 12 13 14]\n",
      " [15 16 17 18 19]] <class 'numpy.matrixlib.defmatrix.matrix'>\n",
      "[[[ 0  1  2  3  4]\n",
      "  [ 5  6  7  8  9]]\n",
      "\n",
      " [[10 11 12 13 14]\n",
      "  [15 16 17 18 19]]]\n",
      "<type 'numpy.ndarray'>\n",
      "1 (20,)\n",
      "3 (2, 2, 5) 20\n"
     ]
    }
   ],
   "source": [
    "import numpy as np\n",
    "a = np.arange(20)      #np.arange(start, stop, step, detype)\n",
    "print type(a)\n",
    "print a\n",
    "b= a.reshape(4,5)\n",
    "b= np.mat(b)\n",
    "\n",
    "print b,type(b)\n",
    "\n",
    "c = a.reshape(2,2,5)\n",
    "print c\n",
    "\n",
    "print type(c)\n",
    "\n",
    "\n",
    "print a.ndim, a.shape\n",
    "print c.ndim, c.shape, c.size\n"
   ]
  },
  {
   "cell_type": "code",
   "execution_count": 15,
   "metadata": {
    "collapsed": false
   },
   "outputs": [
    {
     "name": "stdout",
     "output_type": "stream",
     "text": [
      "[1 2 3 4]\n",
      "[[1, 2, 3, 4] [5, 6, 7]]\n",
      "[[1 2 3 4]\n",
      " [5 6 7 8]]\n"
     ]
    }
   ],
   "source": [
    "import numpy as np\n",
    "a= [1,2,3,4]\n",
    "b = np.array(a)\n",
    "\n",
    "print b\n",
    "\n",
    "c = [[1,2,3,4], [5,6,7]]\n",
    "d = np.array(c)\n",
    "\n",
    "print d\n",
    "\n",
    "e = [[1,2,3,4], [5,6,7,8]]\n",
    "d = np.array(e)\n",
    "print d"
   ]
  },
  {
   "cell_type": "code",
   "execution_count": 18,
   "metadata": {
    "collapsed": false
   },
   "outputs": [
    {
     "name": "stdout",
     "output_type": "stream",
     "text": [
      "[[ 0.  0.  0.  0.  0.]\n",
      " [ 0.  0.  0.  0.  0.]\n",
      " [ 0.  0.  0.  0.  0.]\n",
      " [ 0.  0.  0.  0.  0.]]\n",
      "[[ 1.  1.  1.  1.  1.]\n",
      " [ 1.  1.  1.  1.  1.]\n",
      " [ 1.  1.  1.  1.  1.]\n",
      " [ 1.  1.  1.  1.  1.]]\n",
      "[[1 1 1 1 1]\n",
      " [1 1 1 1 1]\n",
      " [1 1 1 1 1]\n",
      " [1 1 1 1 1]]\n"
     ]
    }
   ],
   "source": [
    "import numpy as np\n",
    "d = (4, 5)\n",
    "print np.zeros(d)\n",
    "\n",
    "print np.ones(d)\n",
    "\n",
    "print np.ones(d,dtype=int)\n"
   ]
  },
  {
   "cell_type": "code",
   "execution_count": 20,
   "metadata": {
    "collapsed": false
   },
   "outputs": [
    {
     "name": "stdout",
     "output_type": "stream",
     "text": [
      "[ 0.42882225  0.07035005  0.4215674   0.66933245  0.72521537]\n"
     ]
    }
   ],
   "source": [
    "print np.random.rand(5)       #from [0 to 1)"
   ]
  },
  {
   "cell_type": "code",
   "execution_count": 21,
   "metadata": {
    "collapsed": false
   },
   "outputs": [
    {
     "name": "stdout",
     "output_type": "stream",
     "text": [
      "a:\n",
      "[[ 1.  2.]\n",
      " [ 2.  4.]]\n",
      "b:\n",
      "[[ 3.2  1.5]\n",
      " [ 2.5  4. ]]\n",
      "a+b:\n",
      "[[ 4.2  3.5]\n",
      " [ 4.5  8. ]]\n",
      "np.exp(a):\n",
      "[[  2.71828183   7.3890561 ]\n",
      " [  7.3890561   54.59815003]]\n",
      "np.sqrt(a):\n",
      "[[ 1.          1.41421356]\n",
      " [ 1.41421356  2.        ]]\n",
      "np.square(a):\n",
      "[[  1.   4.]\n",
      " [  4.  16.]]\n",
      "np.power(a, 3):\n",
      "[[  1.   8.]\n",
      " [  8.  64.]]\n"
     ]
    }
   ],
   "source": [
    "import numpy as np\n",
    "a = np.array([[1.0, 2], [2, 4]])\n",
    "print \"a:\"\n",
    "print a\n",
    "b = np.array([[3.2, 1.5], [2.5, 4]])\n",
    "print \"b:\"\n",
    "print b\n",
    "print \"a+b:\"\n",
    "print a+b\n",
    "\n",
    "\n",
    "print \"np.exp(a):\"         ##  e **x\n",
    "print np.exp(a)\n",
    "print \"np.sqrt(a):\"        ## x **(1/2)\n",
    "print np.sqrt(a)\n",
    "print \"np.square(a):\"      ## x **2\n",
    "print np.square(a)\n",
    "print \"np.power(a, 3):\"    ## x**3\n",
    "print np.power(a, 3)"
   ]
  },
  {
   "cell_type": "code",
   "execution_count": 37,
   "metadata": {
    "collapsed": false
   },
   "outputs": [
    {
     "name": "stdout",
     "output_type": "stream",
     "text": [
      "a:\n",
      "[[ 0  1  2  3  4]\n",
      " [ 5  6  7  8  9]\n",
      " [10 11 12 13 14]\n",
      " [15 16 17 18 19]]\n",
      "sum of all elements in a: 190\n",
      "maximum element in a: 19\n",
      "minimum element in a: 0\n",
      "maximum element in each row of a: [ 4  9 14 19]\n",
      "minimum element in each column of a: [0 1 2 3 4]\n",
      "a:\n",
      "[[[ 0  1  2  3  4]\n",
      "  [ 5  6  7  8  9]]\n",
      "\n",
      " [[10 11 12 13 14]\n",
      "  [15 16 17 18 19]]]\n",
      "sum of all elements in a: 190\n",
      "maximum element in a: 19\n",
      "minimum element in a: 0\n",
      "maximum element in each row of a: [[ 5  6  7  8  9]\n",
      " [15 16 17 18 19]]\n",
      "minimum element in each column of a: [[0 1 2 3 4]\n",
      " [5 6 7 8 9]]\n"
     ]
    }
   ],
   "source": [
    "import numpy as np\n",
    "a = np.arange(20).reshape(4,5)\n",
    "print \"a:\"\n",
    "print a\n",
    "print \"sum of all elements in a: \" + str(a.sum())\n",
    "print \"maximum element in a: \" + str(a.max())\n",
    "print \"minimum element in a: \" + str(a.min())\n",
    "print \"maximum element in each row of a: \" + str(a.max(axis=1))         ## axis = 0 means column, axis = 1 means row\n",
    "print \"minimum element in each column of a: \" + str(a.min(axis=0))\n",
    "\n",
    "a = np.arange(20).reshape(2,2,5)\n",
    "print \"a:\"\n",
    "print a\n",
    "print \"sum of all elements in a: \" + str(a.sum())\n",
    "print \"maximum element in a: \" + str(a.max())\n",
    "print \"minimum element in a: \" + str(a.min())\n",
    "print \"maximum element in each row of a: \" + str(a.max(axis=1))         ## axis = 0 means group, axis = 1 means column, 2 means row\n",
    "print \"minimum element in each column of a: \" + str(a.min(axis=0))\n"
   ]
  },
  {
   "cell_type": "code",
   "execution_count": 44,
   "metadata": {
    "collapsed": false
   },
   "outputs": [
    {
     "name": "stdout",
     "output_type": "stream",
     "text": [
      "[[ 2  5  8]\n",
      " [11 14 17]\n",
      " [20 23 26]\n",
      " [29 32 35]\n",
      " [38 41 44]] <type 'numpy.ndarray'>\n",
      "[[ 2  5  8]\n",
      " [11 14 17]\n",
      " [20 23 26]\n",
      " [29 32 35]\n",
      " [38 41 44]] <class 'numpy.matrixlib.defmatrix.matrix'>\n",
      "[[ 2  5  8]\n",
      " [11 14 17]\n",
      " [20 23 26]\n",
      " [29 32 35]\n",
      " [38 41 44]] <class 'numpy.matrixlib.defmatrix.matrix'>\n",
      "[[ 1.  2.]\n",
      " [ 3.  4.]]\n"
     ]
    }
   ],
   "source": [
    "import numpy as np\n",
    "b = np.arange(2, 45, 3).reshape(5,3)\n",
    "print b, type(b)\n",
    "\n",
    "b = np.asmatrix(b)                   ## convert number group into matrix. In number group, * means each place of number multiply each other.\n",
    "print b, type(b)                    ## However, in matrix, * means matrix multiply method.\n",
    "\n",
    "b = np.mat(b)\n",
    "print b, type(b)\n",
    "\n",
    "c = np.matrix('1.0 2.0; 3.0 4.0')\n",
    "print c"
   ]
  },
  {
   "cell_type": "code",
   "execution_count": 45,
   "metadata": {
    "collapsed": false
   },
   "outputs": [
    {
     "name": "stdout",
     "output_type": "stream",
     "text": [
      "[ 0.    0.25  0.5   0.75  1.    1.25  1.5   1.75  2.  ]\n"
     ]
    }
   ],
   "source": [
    "import numpy as np\n",
    "print np.linspace(0, 2, 9)          #  start, stop, num=50, endpoint=True, retstep=False, dtype=None"
   ]
  },
  {
   "cell_type": "code",
   "execution_count": 15,
   "metadata": {
    "collapsed": false
   },
   "outputs": [
    {
     "name": "stdout",
     "output_type": "stream",
     "text": [
      "[2 3 4]\n",
      "3\n"
     ]
    }
   ],
   "source": [
    "import numpy\n",
    "a = [2,3,4]\n",
    "a = numpy.array(a)\n",
    "print a\n",
    "print len(a)"
   ]
  },
  {
   "cell_type": "code",
   "execution_count": 25,
   "metadata": {
    "collapsed": false
   },
   "outputs": [
    {
     "name": "stdout",
     "output_type": "stream",
     "text": [
      "[3, 1]\n",
      "[[ 0.66468773  0.35540664  0.84562961]\n",
      " [ 0.90689396  0.68102633  0.10146712]] <type 'numpy.ndarray'>\n",
      "[[ 0.22089707 -2.0520226   0.52816553]\n",
      " [ 1.32191578  0.12485323  0.7866209 ]] <type 'numpy.ndarray'>\n",
      "[[ 3.35577635  5.2546881   7.80173   ]\n",
      " [-1.94375947  3.0935047   4.58203154]]\n",
      "[array([[-1.55244533],\n",
      "       [-0.26723322],\n",
      "       [-0.83756369]]), array([[ 0.62152291]])]\n"
     ]
    }
   ],
   "source": [
    "import numpy as np\n",
    "sizes = [2,3,1]\n",
    "print sizes[1:]\n",
    "\n",
    "print np.random.rand(2,3) ,type(np.random.rand(2,3))      #creat number group as 2 column, 3 row, not matrix!\n",
    "print np.random.randn(2,3), type(np.random.randn(2,3))    # creat number group as 2 column, 3 row, in normal distribution!\n",
    "print 2.5 * np.random.randn(2, 3) + 3                     # this normal distribution satisfies with N(3, 2.5**2) ### 3 = axis, 2.5 means --\n",
    "                                                          #  -max height, the bigger , the max height less.\n",
    "print [np.random.randn(y, 1) for y in sizes[1:]]"
   ]
  },
  {
   "cell_type": "code",
   "execution_count": 2,
   "metadata": {
    "collapsed": false
   },
   "outputs": [
    {
     "name": "stdout",
     "output_type": "stream",
     "text": [
      "[2, 3, 1]\n",
      "[3, 1, 2]\n",
      "[(2, 3), (3, 1), (1, 2)]\n",
      "(2, 3)\n",
      "(3, 1)\n",
      "(1, 2)\n",
      "2 3\n",
      "3 1\n",
      "1 2\n"
     ]
    }
   ],
   "source": [
    "import numpy as np\n",
    "sizes = [2,3,1,2]\n",
    "a = sizes[:-1]\n",
    "b = sizes[1:]\n",
    "print a\n",
    "print b\n",
    "\n",
    "c = zip(a,b)\n",
    "print zip(a,b)\n",
    "\n",
    "for x in c:\n",
    "    print x\n",
    "\n",
    "for x,y in c:               ## in this type, x, y must share the same digital with the number in inner list\n",
    "    print x,y\n",
    "\n",
    "c.append([4,5])\n",
    "for x,y in c:\n",
    "    print x"
   ]
  },
  {
   "cell_type": "code",
   "execution_count": 40,
   "metadata": {
    "collapsed": false
   },
   "outputs": [
    {
     "name": "stdout",
     "output_type": "stream",
     "text": [
      "[[28 34]\n",
      " [76 98]]\n"
     ]
    }
   ],
   "source": [
    "import numpy as np\n",
    "w = np.arange(8).reshape(2,4)\n",
    "b = np.arange(8).reshape(4,2)\n",
    "print np.dot(w,b)\n",
    "a = sigmoid()"
   ]
  },
  {
   "cell_type": "code",
   "execution_count": 46,
   "metadata": {
    "collapsed": false
   },
   "outputs": [
    {
     "name": "stdout",
     "output_type": "stream",
     "text": [
      "[0, 1, 2, 3, 4]\n",
      "<type 'list'>\n",
      "0 [2, 3, 4]\n",
      "xrange(5)\n",
      "<type 'xrange'>\n",
      "0 2\n",
      "0\n",
      "1\n",
      "2\n",
      "3\n",
      "4\n"
     ]
    }
   ],
   "source": [
    "a = range(5)\n",
    "print a\n",
    "print type(a)\n",
    "print a[0],a[2:]\n",
    "\n",
    "b = xrange(5)\n",
    "print b\n",
    "print type(b)\n",
    "print b[0],b[2]     # xrange() cannot do slice, and the return value is one, not a list. and cannot .append.The other is the same as range()\n",
    "\n",
    "for i in b:\n",
    "    print i"
   ]
  },
  {
   "cell_type": "code",
   "execution_count": 5,
   "metadata": {
    "collapsed": false
   },
   "outputs": [
    {
     "name": "stdout",
     "output_type": "stream",
     "text": [
      "2 1\n",
      "[0, 1, 2, 3, 4] [0, 1, 2, 3, 4]\n"
     ]
    },
    {
     "ename": "AttributeError",
     "evalue": "'list' object has no attribute 'copy'",
     "output_type": "error",
     "traceback": [
      "\u001b[0;31m---------------------------------------------------------------------------\u001b[0m",
      "\u001b[0;31mAttributeError\u001b[0m                            Traceback (most recent call last)",
      "\u001b[0;32m<ipython-input-5-b75c958c6f66>\u001b[0m in \u001b[0;36m<module>\u001b[0;34m()\u001b[0m\n\u001b[1;32m     10\u001b[0m \u001b[0;34m\u001b[0m\u001b[0m\n\u001b[1;32m     11\u001b[0m \u001b[0ma\u001b[0m \u001b[0;34m=\u001b[0m \u001b[0;34m[\u001b[0m\u001b[0;36m0\u001b[0m\u001b[0;34m,\u001b[0m\u001b[0;36m1\u001b[0m\u001b[0;34m,\u001b[0m\u001b[0;36m2\u001b[0m\u001b[0;34m,\u001b[0m\u001b[0;36m3\u001b[0m\u001b[0;34m]\u001b[0m\u001b[0;34m\u001b[0m\u001b[0m\n\u001b[0;32m---> 12\u001b[0;31m \u001b[0mb\u001b[0m \u001b[0;34m=\u001b[0m \u001b[0ma\u001b[0m\u001b[0;34m.\u001b[0m\u001b[0mcopy\u001b[0m\u001b[0;34m(\u001b[0m\u001b[0;34m)\u001b[0m\u001b[0;34m\u001b[0m\u001b[0m\n\u001b[0m\u001b[1;32m     13\u001b[0m \u001b[0ma\u001b[0m\u001b[0;34m.\u001b[0m\u001b[0mappend\u001b[0m\u001b[0;34m(\u001b[0m\u001b[0;36m4\u001b[0m\u001b[0;34m)\u001b[0m\u001b[0;34m\u001b[0m\u001b[0m\n\u001b[1;32m     14\u001b[0m \u001b[0;32mprint\u001b[0m \u001b[0ma\u001b[0m\u001b[0;34m,\u001b[0m\u001b[0mb\u001b[0m\u001b[0;34m\u001b[0m\u001b[0m\n",
      "\u001b[0;31mAttributeError\u001b[0m: 'list' object has no attribute 'copy'"
     ]
    }
   ],
   "source": [
    "a = 1\n",
    "b = a\n",
    "a=2\n",
    "print a, b\n",
    "\n",
    "a = [0,1,2,3]\n",
    "b = a\n",
    "a.append(4)\n",
    "print a, b\n",
    "\n",
    "a = [0,1,2,3]\n",
    "b = a.copy()\n",
    "a.append(4)\n",
    "print a,b\n",
    "\n",
    "\n",
    "import numpy as np\n",
    "a = np.array([[3.2, 1.5], [2.5, 4]])\n",
    "b =a\n"
   ]
  },
  {
   "cell_type": "code",
   "execution_count": 2,
   "metadata": {
    "collapsed": false
   },
   "outputs": [
    {
     "ename": "AttributeError",
     "evalue": "'module' object has no attribute 'help'",
     "output_type": "error",
     "traceback": [
      "\u001b[0;31m---------------------------------------------------------------------------\u001b[0m",
      "\u001b[0;31mAttributeError\u001b[0m                            Traceback (most recent call last)",
      "\u001b[0;32m<ipython-input-2-837e7c0a43f1>\u001b[0m in \u001b[0;36m<module>\u001b[0;34m()\u001b[0m\n\u001b[1;32m      1\u001b[0m \u001b[0;32mimport\u001b[0m \u001b[0mseaborn\u001b[0m \u001b[0;32mas\u001b[0m \u001b[0msns\u001b[0m\u001b[0;34m\u001b[0m\u001b[0m\n\u001b[0;32m----> 2\u001b[0;31m \u001b[0msns\u001b[0m\u001b[0;34m.\u001b[0m\u001b[0mhelp\u001b[0m\u001b[0;34m\u001b[0m\u001b[0m\n\u001b[0m",
      "\u001b[0;31mAttributeError\u001b[0m: 'module' object has no attribute 'help'"
     ]
    }
   ],
   "source": [
    "import seaborn as sns\n",
    "sns.help"
   ]
  },
  {
   "cell_type": "code",
   "execution_count": 10,
   "metadata": {
    "collapsed": false
   },
   "outputs": [
    {
     "name": "stdout",
     "output_type": "stream",
     "text": [
      "[array([[ 0.79378028,  0.3892614 ],\n",
      "       [ 0.4905895 ,  0.70954999],\n",
      "       [ 0.76767773,  0.19494128]]), array([[ 0.02103524,  0.78549795,  0.05687864]])]\n"
     ]
    }
   ],
   "source": [
    "import numpy as np\n",
    "sizes = [2,3,1]\n",
    "a = sizes[:-1]\n",
    "b = sizes[1:]\n",
    "\n",
    "\n",
    "c=  [np.random.rand(y,x) for x,y in zip(sizes[:-1],sizes[1:])]\n",
    "print c"
   ]
  },
  {
   "cell_type": "code",
   "execution_count": 18,
   "metadata": {
    "collapsed": false,
    "scrolled": true
   },
   "outputs": [
    {
     "name": "stdout",
     "output_type": "stream",
     "text": [
      "[array([[ 0.39816342],\n",
      "       [ 0.08595059],\n",
      "       [ 0.72352388]]), array([[ 0.94899592]])]\n",
      "[array([[ 0.88079426,  0.90193833],\n",
      "       [ 0.74216269,  0.71814138],\n",
      "       [ 0.83183154,  0.82311216]]), array([[ 0.88182897,  0.96350633,  0.59174415]])]\n",
      "[(array([[ 0.39816342],\n",
      "       [ 0.08595059],\n",
      "       [ 0.72352388]]), array([[ 0.88079426,  0.90193833],\n",
      "       [ 0.74216269,  0.71814138],\n",
      "       [ 0.83183154,  0.82311216]])), (array([[ 0.94899592]]), array([[ 0.88182897,  0.96350633,  0.59174415]]))]\n",
      "[[ 0.39816342]\n",
      " [ 0.08595059]\n",
      " [ 0.72352388]]\n",
      "[[ 0.88079426  0.90193833]\n",
      " [ 0.74216269  0.71814138]\n",
      " [ 0.83183154  0.82311216]]\n",
      "[[ 0.94899592]]\n",
      "[[ 0.88182897  0.96350633  0.59174415]]\n"
     ]
    }
   ],
   "source": [
    "import numpy as np\n",
    "size = [2,3,1]\n",
    "biases = [np.random.rand(y,1) for y in size[1:]]\n",
    "weight = [np.random.rand(y,x) for x,y in zip(size[:-1],size[1:])]\n",
    "\n",
    "c = zip(biases, weight)\n",
    "print biases\n",
    "print weight\n",
    "print c\n",
    "for b,w in zip(biases, weight):\n",
    "    print b\n",
    "    print w"
   ]
  },
  {
   "cell_type": "code",
   "execution_count": 20,
   "metadata": {
    "collapsed": false
   },
   "outputs": [
    {
     "name": "stdout",
     "output_type": "stream",
     "text": [
      "314.16\n"
     ]
    }
   ],
   "source": [
    "a = \"%.2f\"%(100*3.14159265345567990)\n",
    "print a"
   ]
  },
  {
   "cell_type": "code",
   "execution_count": 37,
   "metadata": {
    "collapsed": false
   },
   "outputs": [
    {
     "name": "stdout",
     "output_type": "stream",
     "text": [
      "[[ 0.30075355]\n",
      " [ 0.40702157]\n",
      " [ 0.3079822 ]]\n",
      "(3, 1)\n",
      "[[ 0.26431684]]\n",
      "(1, 1)\n",
      "[array([[ 0.],\n",
      "       [ 0.],\n",
      "       [ 0.]]), array([[ 0.]])]\n",
      "[[ 0.]]\n"
     ]
    }
   ],
   "source": [
    "import numpy as np\n",
    "size = [2,3,1]\n",
    "biases = [np.random.rand(y,1) for y in size[1:]]\n",
    "weight = [np.random.rand(y,x) for x,y in zip(size[:-1],size[1:])]\n",
    "\n",
    "for b in biases:\n",
    "    print b\n",
    "    print b.shape\n",
    "nabla_b = [np.zeros(b.shape) for b in biases]\n",
    "print nabla_b\n",
    "print nabla_b[-1]"
   ]
  },
  {
   "cell_type": "code",
   "execution_count": 36,
   "metadata": {
    "collapsed": false
   },
   "outputs": [
    {
     "name": "stdout",
     "output_type": "stream",
     "text": [
      "4\n",
      "[[(0.1111, 0.2222), (0.3333, 0.4444)], [(0.5555, 0.6666), (0.7777777, 0.8888888)]]\n"
     ]
    }
   ],
   "source": [
    "import numpy as np\n",
    "size = [2,3,1]\n",
    "biases = [np.random.rand(y,1) for y in size[1:]]\n",
    "weight = [np.random.rand(y,x) for x,y in zip(size[:-1],size[1:])]\n",
    "\n",
    "training_data = [(0.1111,0.2222),(0.3333,0.4444),(0.5555,0.6666),(0.7777777,0.8888888)]\n",
    "#training_data = [(1,2),(3,4),(5,6)]\n",
    "n = len(training_data)\n",
    "msb = 2\n",
    "mini_batches = [training_data[k:k+msb] for k in xrange(0,n,msb)]\n",
    "print n\n",
    "print mini_batches"
   ]
  },
  {
   "cell_type": "code",
   "execution_count": 47,
   "metadata": {
    "collapsed": false,
    "scrolled": true
   },
   "outputs": [
    {
     "name": "stdout",
     "output_type": "stream",
     "text": [
      "[array([[ 0.96271482],\n",
      "       [ 0.44475069],\n",
      "       [ 0.37128101]]), array([[ 0.00750772]])]\n",
      "[[ 0.96271482]\n",
      " [ 0.44475069]\n",
      " [ 0.37128101]]\n",
      "(3, 1)\n",
      "[[ 0.96271482  0.44475069  0.37128101]]\n"
     ]
    }
   ],
   "source": [
    "import numpy as np\n",
    "size = [2,3,1]\n",
    "biases = [np.random.rand(y,1) for y in size[1:]]\n",
    "weight = [np.random.rand(y,x) for x,y in zip(size[:-1],size[1:])]\n",
    "\n",
    "print biases\n",
    "print biases[0]\n",
    "print biases[0].shape\n",
    "print biases[0].transpose()"
   ]
  },
  {
   "cell_type": "code",
   "execution_count": 92,
   "metadata": {
    "collapsed": false
   },
   "outputs": [
    {
     "name": "stdout",
     "output_type": "stream",
     "text": [
      "     sepal_length  sepal_width  petal_length  petal_width     species\n",
      "98            5.1          2.5           3.0          1.1  versicolor\n",
      "129           7.2          3.0           5.8          1.6   virginica\n",
      "51            6.4          3.2           4.5          1.5  versicolor\n",
      "1             4.9          3.0           1.4          0.2      setosa\n",
      "41            4.5          2.3           1.3          0.3      setosa\n",
      "<class 'pandas.core.frame.DataFrame'>\n",
      "<type 'numpy.ndarray'>\n",
      "[[5.1 2.5 3.0 1.1 'versicolor']\n",
      " [7.2 3.0 5.8 1.6 'virginica']\n",
      " [6.4 3.2 4.5 1.5 'versicolor']\n",
      " [4.9 3.0 1.4 0.2 'setosa']\n",
      " [4.5 2.3 1.3 0.3 'setosa']]\n",
      "[[ 5.1  2.5  3.   1.1]\n",
      " [ 7.2  3.   5.8  1.6]\n",
      " [ 6.4  3.2  4.5  1.5]\n",
      " [ 4.9  3.   1.4  0.2]\n",
      " [ 4.5  2.3  1.3  0.3]]\n",
      "[[ 5.1  2.5  3.   1.1]\n",
      " [ 7.2  3.   5.8  1.6]\n",
      " [ 6.4  3.2  4.5  1.5]\n",
      " [ 4.9  3.   1.4  0.2]\n",
      " [ 4.5  2.3  1.3  0.3]]\n"
     ]
    },
    {
     "data": {
      "image/png": "[encoded data removed]",
      "text/plain": [
       "<matplotlib.figure.Figure at 0x7f98bc7d49d0>"
      ]
     },
     "metadata": {},
     "output_type": "display_data"
    }
   ],
   "source": [
    "%matplotlib inline\n",
    "\n",
    "import matplotlib.pyplot as plt\n",
    "import seaborn as sns; sns.set(style=\"ticks\", color_codes=True)\n",
    "\n",
    "from sklearn.utils import shuffle\n",
    "\n",
    "iris_data = sns.load_dataset(\"iris\")\n",
    "\n",
    "# randomly shuffle data\n",
    "iris_data = shuffle(iris_data)\n",
    "\n",
    "# print first 5 data points\n",
    "print iris_data[:5]\n",
    "\n",
    "# create pairplot of iris data\n",
    "g = sns.pairplot(iris_data, hue=\"species\")\n",
    "print type(iris_data)\n",
    "# convert iris data to numpy format\n",
    "iris_array = iris_data.as_matrix()\n",
    "print type(iris_array)\n",
    "print iris_array[:5]\n",
    "\n",
    "X = iris_array[:, :4].astype(float)\n",
    "#y = iris_array[:, -1]\n",
    "xa = iris_array[:, :4].astype(float)\n",
    "print X[:5]\n",
    "print xa[:5]"
   ]
  },
  {
   "cell_type": "code",
   "execution_count": 91,
   "metadata": {
    "collapsed": false
   },
   "outputs": [
    {
     "name": "stdout",
     "output_type": "stream",
     "text": [
      "     sepal_length  sepal_width  petal_length  petal_width     species\n",
      "13            4.3          3.0           1.1          0.1      setosa\n",
      "60            5.0          2.0           3.5          1.0  versicolor\n",
      "26            5.0          3.4           1.6          0.4      setosa\n",
      "113           5.7          2.5           5.0          2.0   virginica\n",
      "120           6.9          3.2           5.7          2.3   virginica\n",
      "[[4.3 3.0 1.1 0.1 'setosa']\n",
      " [5.0 2.0 3.5 1.0 'versicolor']\n",
      " [5.0 3.4 1.6 0.4 'setosa']\n",
      " [5.7 2.5 5.0 2.0 'virginica']\n",
      " [6.9 3.2 5.7 2.3 'virginica']]\n",
      "<type 'numpy.ndarray'>\n"
     ]
    },
    {
     "data": {
      "text/plain": [
       "array([ 7.9,  4.4,  6.9,  2.5])"
      ]
     },
     "execution_count": 91,
     "metadata": {},
     "output_type": "execute_result"
    }
   ],
   "source": [
    "%matplotlib inline\n",
    "\n",
    "import matplotlib.pyplot as plt\n",
    "import seaborn as sns; sns.set(style=\"ticks\", color_codes=True)\n",
    "\n",
    "from sklearn.utils import shuffle\n",
    "\n",
    "iris_data = sns.load_dataset(\"iris\")\n",
    "\n",
    "iris_data = shuffle(iris_data)\n",
    "\n",
    "print iris_data[:5]\n",
    "\n",
    "iris_array = iris_data.as_matrix()\n",
    "\n",
    "print iris_array[:5]\n",
    "\n",
    "X = iris_array[:, :4].astype(float)\n",
    "print type(X)\n",
    "X.max(axis = 0)"
   ]
  },
  {
   "cell_type": "code",
   "execution_count": 2,
   "metadata": {
    "collapsed": false
   },
   "outputs": [
    {
     "name": "stdout",
     "output_type": "stream",
     "text": [
      "[10 20 30 40]\n",
      "[[10]\n",
      " [20]\n",
      " [30]\n",
      " [40]]\n"
     ]
    },
    {
     "data": {
      "text/plain": [
       "(4,)"
      ]
     },
     "execution_count": 2,
     "metadata": {},
     "output_type": "execute_result"
    }
   ],
   "source": [
    "import numpy as np\n",
    "a=np.arange(10,50,10)\n",
    "b = a.reshape(-1,1) \n",
    "print a\n",
    "print b\n",
    "a.shape"
   ]
  },
  {
   "cell_type": "code",
   "execution_count": 15,
   "metadata": {
    "collapsed": false
   },
   "outputs": [
    {
     "name": "stdout",
     "output_type": "stream",
     "text": [
      "[5 5 3 1 3 4 5 4 6 2 2 3 1]\n",
      "[1 2 3 4 5 6]\n",
      "[4 4 2 0 2 3 4 3 5 1 1 2 0]\n"
     ]
    }
   ],
   "source": [
    "import numpy as np\n",
    "a = np.array([5,5,3,1,3,4,5,4,6,2,2,3,1])\n",
    "c,b = np.unique(a,  return_inverse=True)\n",
    "print a\n",
    "print c\n",
    "print b       ## return the number representing the sequence of sorting in array"
   ]
  },
  {
   "cell_type": "code",
   "execution_count": 19,
   "metadata": {
    "collapsed": false
   },
   "outputs": [
    {
     "name": "stdout",
     "output_type": "stream",
     "text": [
      "['a' 'bb' 'a' 'b' 'c' 'bb']\n",
      "['a' 'b' 'bb' 'c']\n",
      "[0 2 0 1 3 2]\n"
     ]
    }
   ],
   "source": [
    "import numpy as np\n",
    "a = np.array([\"a\", \"bb\",\"a\",\"b\",\"c\",\"bb\"])\n",
    "c,b = np.unique(a,  return_inverse=True)\n",
    "print a\n",
    "print c\n",
    "print b       ## return the number representing the sequence of sorting in array"
   ]
  },
  {
   "cell_type": "code",
   "execution_count": 22,
   "metadata": {
    "collapsed": false
   },
   "outputs": [
    {
     "name": "stdout",
     "output_type": "stream",
     "text": [
      "     sepal_length  sepal_width  petal_length  petal_width     species\n",
      "118           7.7          2.6           6.9          2.3   virginica\n",
      "49            5.0          3.3           1.4          0.2      setosa\n",
      "69            5.6          2.5           3.9          1.1  versicolor\n",
      "53            5.5          2.3           4.0          1.3  versicolor\n",
      "62            6.0          2.2           4.0          1.0  versicolor\n",
      "['virginica' 'setosa' 'versicolor' 'versicolor' 'versicolor' 'setosa'\n",
      " 'versicolor' 'versicolor' 'setosa' 'setosa' 'virginica' 'versicolor'\n",
      " 'versicolor' 'virginica' 'virginica' 'setosa' 'virginica' 'setosa'\n",
      " 'versicolor' 'setosa' 'setosa' 'virginica' 'versicolor' 'setosa'\n",
      " 'versicolor' 'versicolor' 'versicolor' 'virginica' 'setosa' 'setosa'\n",
      " 'setosa' 'virginica' 'versicolor' 'setosa' 'virginica' 'setosa'\n",
      " 'virginica' 'virginica' 'setosa' 'virginica' 'virginica' 'versicolor'\n",
      " 'versicolor' 'virginica' 'virginica' 'virginica' 'setosa' 'virginica'\n",
      " 'setosa' 'versicolor' 'versicolor' 'virginica' 'setosa' 'virginica'\n",
      " 'setosa' 'setosa' 'versicolor' 'virginica' 'virginica' 'virginica'\n",
      " 'versicolor' 'virginica' 'virginica' 'versicolor' 'setosa' 'virginica'\n",
      " 'setosa' 'setosa' 'versicolor' 'versicolor' 'virginica' 'setosa'\n",
      " 'virginica' 'versicolor' 'setosa' 'setosa' 'setosa' 'versicolor' 'setosa'\n",
      " 'virginica' 'virginica' 'virginica' 'virginica' 'virginica' 'virginica'\n",
      " 'setosa' 'virginica' 'virginica' 'setosa' 'versicolor' 'versicolor'\n",
      " 'virginica' 'virginica' 'setosa' 'setosa' 'versicolor' 'virginica'\n",
      " 'versicolor' 'setosa' 'versicolor' 'setosa' 'setosa' 'virginica'\n",
      " 'versicolor' 'versicolor' 'setosa' 'virginica' 'setosa' 'versicolor'\n",
      " 'virginica' 'versicolor' 'versicolor' 'versicolor' 'versicolor' 'setosa'\n",
      " 'setosa' 'setosa' 'versicolor' 'setosa' 'setosa' 'versicolor' 'versicolor'\n",
      " 'versicolor' 'versicolor' 'virginica' 'virginica' 'virginica' 'versicolor'\n",
      " 'virginica' 'versicolor' 'virginica' 'setosa' 'setosa' 'versicolor'\n",
      " 'setosa' 'versicolor' 'virginica' 'versicolor' 'versicolor' 'versicolor'\n",
      " 'virginica' 'versicolor' 'versicolor' 'setosa' 'setosa' 'virginica'\n",
      " 'setosa' 'setosa' 'setosa' 'virginica']\n",
      "[2 0 1 1 1 0 1 1 0 0 2 1 1 2 2 0 2 0 1 0 0 2 1 0 1 1 1 2 0 0 0 2 1 0 2 0 2\n",
      " 2 0 2 2 1 1 2 2 2 0 2 0 1 1 2 0 2 0 0 1 2 2 2 1 2 2 1 0 2 0 0 1 1 2 0 2 1\n",
      " 0 0 0 1 0 2 2 2 2 2 2 0 2 2 0 1 1 2 2 0 0 1 2 1 0 1 0 0 2 1 1 0 2 0 1 2 1\n",
      " 1 1 1 0 0 0 1 0 0 1 1 1 1 2 2 2 1 2 1 2 0 0 1 0 1 2 1 1 1 2 1 1 0 0 2 0 0\n",
      " 0 2]\n",
      "[[2]\n",
      " [0]\n",
      " [1]\n",
      " [1]\n",
      " [1]\n",
      " [0]\n",
      " [1]\n",
      " [1]\n",
      " [0]\n",
      " [0]\n",
      " [2]\n",
      " [1]\n",
      " [1]\n",
      " [2]\n",
      " [2]\n",
      " [0]\n",
      " [2]\n",
      " [0]\n",
      " [1]\n",
      " [0]\n",
      " [0]\n",
      " [2]\n",
      " [1]\n",
      " [0]\n",
      " [1]\n",
      " [1]\n",
      " [1]\n",
      " [2]\n",
      " [0]\n",
      " [0]\n",
      " [0]\n",
      " [2]\n",
      " [1]\n",
      " [0]\n",
      " [2]\n",
      " [0]\n",
      " [2]\n",
      " [2]\n",
      " [0]\n",
      " [2]\n",
      " [2]\n",
      " [1]\n",
      " [1]\n",
      " [2]\n",
      " [2]\n",
      " [2]\n",
      " [0]\n",
      " [2]\n",
      " [0]\n",
      " [1]\n",
      " [1]\n",
      " [2]\n",
      " [0]\n",
      " [2]\n",
      " [0]\n",
      " [0]\n",
      " [1]\n",
      " [2]\n",
      " [2]\n",
      " [2]\n",
      " [1]\n",
      " [2]\n",
      " [2]\n",
      " [1]\n",
      " [0]\n",
      " [2]\n",
      " [0]\n",
      " [0]\n",
      " [1]\n",
      " [1]\n",
      " [2]\n",
      " [0]\n",
      " [2]\n",
      " [1]\n",
      " [0]\n",
      " [0]\n",
      " [0]\n",
      " [1]\n",
      " [0]\n",
      " [2]\n",
      " [2]\n",
      " [2]\n",
      " [2]\n",
      " [2]\n",
      " [2]\n",
      " [0]\n",
      " [2]\n",
      " [2]\n",
      " [0]\n",
      " [1]\n",
      " [1]\n",
      " [2]\n",
      " [2]\n",
      " [0]\n",
      " [0]\n",
      " [1]\n",
      " [2]\n",
      " [1]\n",
      " [0]\n",
      " [1]\n",
      " [0]\n",
      " [0]\n",
      " [2]\n",
      " [1]\n",
      " [1]\n",
      " [0]\n",
      " [2]\n",
      " [0]\n",
      " [1]\n",
      " [2]\n",
      " [1]\n",
      " [1]\n",
      " [1]\n",
      " [1]\n",
      " [0]\n",
      " [0]\n",
      " [0]\n",
      " [1]\n",
      " [0]\n",
      " [0]\n",
      " [1]\n",
      " [1]\n",
      " [1]\n",
      " [1]\n",
      " [2]\n",
      " [2]\n",
      " [2]\n",
      " [1]\n",
      " [2]\n",
      " [1]\n",
      " [2]\n",
      " [0]\n",
      " [0]\n",
      " [1]\n",
      " [0]\n",
      " [1]\n",
      " [2]\n",
      " [1]\n",
      " [1]\n",
      " [1]\n",
      " [2]\n",
      " [1]\n",
      " [1]\n",
      " [0]\n",
      " [0]\n",
      " [2]\n",
      " [0]\n",
      " [0]\n",
      " [0]\n",
      " [2]]\n"
     ]
    }
   ],
   "source": [
    "%matplotlib inline\n",
    "\n",
    "import matplotlib.pyplot as plt\n",
    "import seaborn as sns; sns.set(style=\"ticks\", color_codes=True)\n",
    "\n",
    "from sklearn.utils import shuffle\n",
    "\n",
    "iris_data = sns.load_dataset(\"iris\")\n",
    "\n",
    "# randomly shuffle data\n",
    "iris_data = shuffle(iris_data)\n",
    "\n",
    "# print first 5 data points\n",
    "print iris_data[:5]\n",
    "\n",
    "\n",
    "# convert iris data to numpy format\n",
    "iris_array = iris_data.as_matrix()\n",
    "\n",
    "# split data into feature and target sets\n",
    "X = iris_array[:, :4].astype(float)\n",
    "y = iris_array[:, -1]\n",
    "\n",
    "# normalize the data per feature by dividing by the maximum value in each column\n",
    "X = X / X.max(axis=0)\n",
    "\n",
    "print y\n",
    "\n",
    "# convert the textual category data to integer using numpy's unique() function\n",
    "_, y = np.unique(y, return_inverse=True)\n",
    "\n",
    "print y\n",
    "# convert the list of targets to a vertical matrix with the dimensions [1 x number of samples]\n",
    "# this is necessary for later computation\n",
    "y = y.reshape(-1,1)\n",
    "\n",
    "print y\n"
   ]
  },
  {
   "cell_type": "code",
   "execution_count": 3,
   "metadata": {
    "collapsed": false
   },
   "outputs": [
    {
     "name": "stdout",
     "output_type": "stream",
     "text": [
      "     sepal_length  sepal_width  petal_length  petal_width     species\n",
      "147           6.5          3.0           5.2          2.0   virginica\n",
      "75            6.6          3.0           4.4          1.4  versicolor\n",
      "42            4.4          3.2           1.3          0.2      setosa\n",
      "143           6.8          3.2           5.9          2.3   virginica\n",
      "18            5.7          3.8           1.7          0.3      setosa\n",
      "[[ 0.82278481  0.68181818  0.75362319  0.8       ]\n",
      " [ 0.83544304  0.68181818  0.63768116  0.56      ]\n",
      " [ 0.55696203  0.72727273  0.1884058   0.08      ]\n",
      " [ 0.86075949  0.72727273  0.85507246  0.92      ]\n",
      " [ 0.72151899  0.86363636  0.24637681  0.12      ]]\n",
      "150\n",
      "[2]\n",
      "2\n",
      "[1]\n",
      "1\n",
      "[0]\n",
      "0\n",
      "[2]\n",
      "2\n",
      "[0]\n",
      "0\n",
      "[2]\n",
      "2\n",
      "[0]\n",
      "0\n",
      "[2]\n",
      "2\n",
      "[2]\n",
      "2\n",
      "[0]\n",
      "0\n",
      "[2]\n",
      "2\n",
      "[2]\n",
      "2\n",
      "[0]\n",
      "0\n",
      "[0]\n",
      "0\n",
      "[0]\n",
      "0\n",
      "[2]\n",
      "2\n",
      "[1]\n",
      "1\n",
      "[2]\n",
      "2\n",
      "[0]\n",
      "0\n",
      "[0]\n",
      "0\n",
      "[0]\n",
      "0\n",
      "[0]\n",
      "0\n",
      "[1]\n",
      "1\n",
      "[2]\n",
      "2\n",
      "[0]\n",
      "0\n",
      "[2]\n",
      "2\n",
      "[1]\n",
      "1\n",
      "[1]\n",
      "1\n",
      "[2]\n",
      "2\n",
      "[0]\n",
      "0\n",
      "[1]\n",
      "1\n",
      "[2]\n",
      "2\n",
      "[1]\n",
      "1\n",
      "[0]\n",
      "0\n",
      "[2]\n",
      "2\n",
      "[0]\n",
      "0\n",
      "[0]\n",
      "0\n",
      "[0]\n",
      "0\n",
      "[0]\n",
      "0\n",
      "[1]\n",
      "1\n",
      "[2]\n",
      "2\n",
      "[2]\n",
      "2\n",
      "[0]\n",
      "0\n",
      "[0]\n",
      "0\n",
      "[1]\n",
      "1\n",
      "[0]\n",
      "0\n",
      "[1]\n",
      "1\n",
      "[0]\n",
      "0\n",
      "[0]\n",
      "0\n",
      "[0]\n",
      "0\n",
      "[1]\n",
      "1\n",
      "[1]\n",
      "1\n",
      "[0]\n",
      "0\n",
      "[2]\n",
      "2\n",
      "[0]\n",
      "0\n",
      "[2]\n",
      "2\n",
      "[1]\n",
      "1\n",
      "[2]\n",
      "2\n",
      "[1]\n",
      "1\n",
      "[1]\n",
      "1\n",
      "[0]\n",
      "0\n",
      "[1]\n",
      "1\n",
      "[0]\n",
      "0\n",
      "[1]\n",
      "1\n",
      "[2]\n",
      "2\n",
      "[2]\n",
      "2\n",
      "[1]\n",
      "1\n",
      "[1]\n",
      "1\n",
      "[2]\n",
      "2\n",
      "[2]\n",
      "2\n",
      "[2]\n",
      "2\n",
      "[1]\n",
      "1\n",
      "[0]\n",
      "0\n",
      "[1]\n",
      "1\n",
      "[2]\n",
      "2\n",
      "[0]\n",
      "0\n",
      "[2]\n",
      "2\n",
      "[2]\n",
      "2\n",
      "[1]\n",
      "1\n",
      "[0]\n",
      "0\n",
      "[0]\n",
      "0\n",
      "[1]\n",
      "1\n",
      "[1]\n",
      "1\n",
      "[2]\n",
      "2\n",
      "[1]\n",
      "1\n",
      "[0]\n",
      "0\n",
      "[2]\n",
      "2\n",
      "[0]\n",
      "0\n",
      "[1]\n",
      "1\n",
      "[2]\n",
      "2\n",
      "[0]\n",
      "0\n",
      "[0]\n",
      "0\n",
      "[0]\n",
      "0\n",
      "[1]\n",
      "1\n",
      "[0]\n",
      "0\n",
      "[1]\n",
      "1\n",
      "[2]\n",
      "2\n",
      "[2]\n",
      "2\n",
      "[2]\n",
      "2\n",
      "[1]\n",
      "1\n",
      "[1]\n",
      "1\n",
      "[2]\n",
      "2\n",
      "[0]\n",
      "0\n",
      "[1]\n",
      "1\n",
      "[0]\n",
      "0\n",
      "[2]\n",
      "2\n",
      "[2]\n",
      "2\n",
      "[1]\n",
      "1\n",
      "[2]\n",
      "2\n",
      "[1]\n",
      "1\n",
      "[0]\n",
      "0\n",
      "[1]\n",
      "1\n",
      "[1]\n",
      "1\n",
      "[1]\n",
      "1\n",
      "[2]\n",
      "2\n",
      "[1]\n",
      "1\n",
      "[1]\n",
      "1\n",
      "[0]\n",
      "0\n",
      "[1]\n",
      "1\n",
      "[2]\n",
      "2\n",
      "[1]\n",
      "1\n",
      "[1]\n",
      "1\n",
      "[2]\n",
      "2\n",
      "[0]\n",
      "0\n",
      "[1]\n",
      "1\n",
      "[2]\n",
      "2\n",
      "[2]\n",
      "2\n",
      "[0]\n",
      "0\n",
      "[2]\n",
      "2\n",
      "[1]\n",
      "1\n",
      "[0]\n",
      "0\n",
      "[0]\n",
      "0\n",
      "[0]\n",
      "0\n",
      "[1]\n",
      "1\n",
      "[2]\n",
      "2\n",
      "[2]\n",
      "2\n",
      "[1]\n",
      "1\n",
      "[0]\n",
      "0\n",
      "[2]\n",
      "2\n",
      "[1]\n",
      "1\n",
      "[1]\n",
      "1\n",
      "[0]\n",
      "0\n",
      "[0]\n",
      "0\n",
      "[2]\n",
      "2\n",
      "[1]\n",
      "1\n",
      "[2]\n",
      "2\n",
      "[2]\n",
      "2\n",
      "[1]\n",
      "1\n",
      "[2]\n",
      "2\n",
      "[1]\n",
      "1\n",
      "[(array([[ 0.82278481],\n",
      "       [ 0.68181818],\n",
      "       [ 0.75362319],\n",
      "       [ 0.8       ]]), 2), (array([[ 0.83544304],\n",
      "       [ 0.68181818],\n",
      "       [ 0.63768116],\n",
      "       [ 0.56      ]]), 1), (array([[ 0.55696203],\n",
      "       [ 0.72727273],\n",
      "       [ 0.1884058 ],\n",
      "       [ 0.08      ]]), 0), (array([[ 0.86075949],\n",
      "       [ 0.72727273],\n",
      "       [ 0.85507246],\n",
      "       [ 0.92      ]]), 2), (array([[ 0.72151899],\n",
      "       [ 0.86363636],\n",
      "       [ 0.24637681],\n",
      "       [ 0.12      ]]), 0)]\n",
      "150\n"
     ]
    }
   ],
   "source": [
    "%matplotlib inline\n",
    "import numpy as np\n",
    "import matplotlib.pyplot as plt\n",
    "import seaborn as sns; sns.set(style=\"ticks\", color_codes=True)\n",
    "\n",
    "from sklearn.utils import shuffle\n",
    "\n",
    "iris_data = sns.load_dataset(\"iris\")\n",
    "\n",
    "# randomly shuffle data\n",
    "iris_data = shuffle(iris_data)\n",
    "\n",
    "# print first 5 data points\n",
    "print iris_data[:5]\n",
    "\n",
    "\n",
    "# convert iris data to numpy format\n",
    "iris_array = iris_data.as_matrix()\n",
    "\n",
    "# split data into feature and target sets\n",
    "X = iris_array[:, :4].astype(float)\n",
    "y = iris_array[:, -1]\n",
    "\n",
    "# normalize the data per feature by dividing by the maximum value in each column\n",
    "X = X / X.max(axis=0)\n",
    "_, y = np.unique(y, return_inverse=True)\n",
    "y = y.reshape(-1,1)\n",
    "\n",
    "print X[:5]\n",
    "print X.shape[0]\n",
    "data = []\n",
    "for i in range(X.shape[0]):\n",
    "    #print X[i]\n",
    "    print y[i]\n",
    "    print y[i][0]\n",
    "    data.append(tuple([X[i].reshape(-1,1), y[i][0]]))\n",
    "print data[:5]\n",
    "print len(data)"
   ]
  },
  {
   "cell_type": "code",
   "execution_count": 41,
   "metadata": {
    "collapsed": false
   },
   "outputs": [
    {
     "name": "stdout",
     "output_type": "stream",
     "text": [
      "     sepal_length  sepal_width  petal_length  petal_width     species\n",
      "42            4.4          3.2           1.3          0.2      setosa\n",
      "23            5.1          3.3           1.7          0.5      setosa\n",
      "139           6.9          3.1           5.4          2.1   virginica\n",
      "61            5.9          3.0           4.2          1.5  versicolor\n",
      "102           7.1          3.0           5.9          2.1   virginica\n",
      "[(array([[ 0.55696203],\n",
      "       [ 0.72727273],\n",
      "       [ 0.1884058 ],\n",
      "       [ 0.08      ]]), 0), (array([[ 0.64556962],\n",
      "       [ 0.75      ],\n",
      "       [ 0.24637681],\n",
      "       [ 0.2       ]]), 0), (array([[ 0.87341772],\n",
      "       [ 0.70454545],\n",
      "       [ 0.7826087 ],\n",
      "       [ 0.84      ]]), 2), (array([[ 0.74683544],\n",
      "       [ 0.68181818],\n",
      "       [ 0.60869565],\n",
      "       [ 0.6       ]]), 1), (array([[ 0.89873418],\n",
      "       [ 0.68181818],\n",
      "       [ 0.85507246],\n",
      "       [ 0.84      ]]), 2)]\n",
      "[[array([[ 0.55696203],\n",
      "       [ 0.72727273],\n",
      "       [ 0.1884058 ],\n",
      "       [ 0.08      ]]), array([[ 1.],\n",
      "       [ 0.],\n",
      "       [ 0.]])], [array([[ 0.64556962],\n",
      "       [ 0.75      ],\n",
      "       [ 0.24637681],\n",
      "       [ 0.2       ]]), array([[ 1.],\n",
      "       [ 0.],\n",
      "       [ 0.]])], [array([[ 0.87341772],\n",
      "       [ 0.70454545],\n",
      "       [ 0.7826087 ],\n",
      "       [ 0.84      ]]), array([[ 0.],\n",
      "       [ 0.],\n",
      "       [ 1.]])], [array([[ 0.74683544],\n",
      "       [ 0.68181818],\n",
      "       [ 0.60869565],\n",
      "       [ 0.6       ]]), array([[ 0.],\n",
      "       [ 1.],\n",
      "       [ 0.]])], [array([[ 0.89873418],\n",
      "       [ 0.68181818],\n",
      "       [ 0.85507246],\n",
      "       [ 0.84      ]]), array([[ 0.],\n",
      "       [ 0.],\n",
      "       [ 1.]])]]\n"
     ]
    }
   ],
   "source": [
    "%matplotlib inline\n",
    "\n",
    "import matplotlib.pyplot as plt\n",
    "import seaborn as sns; sns.set(style=\"ticks\", color_codes=True)\n",
    "from sklearn.preprocessing import OneHotEncoder\n",
    "from sklearn.utils import shuffle\n",
    "\n",
    "iris_data = sns.load_dataset(\"iris\")\n",
    "\n",
    "# randomly shuffle data\n",
    "iris_data = shuffle(iris_data)\n",
    "\n",
    "# print first 5 data points\n",
    "print iris_data[:5]\n",
    "\n",
    "\n",
    "# convert iris data to numpy format\n",
    "iris_array = iris_data.as_matrix()\n",
    "\n",
    "# split data into feature and target sets\n",
    "X = iris_array[:, :4].astype(float)\n",
    "y = iris_array[:, -1]\n",
    "\n",
    "# normalize the data per feature by dividing by the maximum value in each column\n",
    "X = X / X.max(axis=0)\n",
    "_, y = np.unique(y, return_inverse=True)\n",
    "y = y.reshape(-1,1)\n",
    "\n",
    "\n",
    "data = []\n",
    "for i in range(X.shape[0]):\n",
    "\n",
    "    data.append(tuple([X[i].reshape(-1,1), y[i][0]]))\n",
    "\n",
    "\n",
    "\n",
    "# split data into training and test sets\n",
    "trainingSplit = int(.7 * len(data))\n",
    "training_data = data[:trainingSplit]\n",
    "test_data = data[trainingSplit:]\n",
    "\n",
    "# create an instance of the one-hot encoding function from the sci-kit learn library\n",
    "enc = OneHotEncoder()\n",
    "\n",
    "# use the function to figure out how many categories exist in the data\n",
    "enc.fit(y)\n",
    "print training_data[:5]\n",
    "# convert only the target data in the training set to one-hot encoding\n",
    "training_data = [[_x, enc.transform(_y.reshape(-1,1)).toarray().reshape(-1,1)] for _x, _y in training_data]\n",
    "print training_data[:5]"
   ]
  },
  {
   "cell_type": "code",
   "execution_count": null,
   "metadata": {
    "collapsed": true
   },
   "outputs": [],
   "source": [
    "%matplotlib inline\n",
    "import random\n",
    "import numpy as np\n",
    "import matplotlib.pyplot as plt\n",
    "import seaborn as sns; sns.set(style=\"ticks\", color_codes=True)\n",
    "from sklearn.preprocessing import OneHotEncoder\n",
    "from sklearn.utils import shuffle\n",
    "import mnist_loader\n",
    "a = mnist_loader.load_data_wrapper()\n",
    "training_data, validation_data, test_data = mnist_loader.load_data_wrapper()\n",
    "print a.shape\n",
    "print type(training_data)"
   ]
  },
  {
   "cell_type": "code",
   "execution_count": 2,
   "metadata": {
    "collapsed": false
   },
   "outputs": [
    {
     "name": "stdout",
     "output_type": "stream",
     "text": [
      "[[  1.00000000e+00   1.41900000e+01   1.59000000e+00   2.48000000e+00\n",
      "    1.65000000e+01   1.08000000e+02   3.30000000e+00   3.93000000e+00\n",
      "    3.20000000e-01   1.86000000e+00   8.70000000e+00   1.23000000e+00\n",
      "    2.82000000e+00   1.68000000e+03]\n",
      " [  2.00000000e+00   1.24700000e+01   1.52000000e+00   2.20000000e+00\n",
      "    1.90000000e+01   1.62000000e+02   2.50000000e+00   2.27000000e+00\n",
      "    3.20000000e-01   3.28000000e+00   2.60000000e+00   1.16000000e+00\n",
      "    2.63000000e+00   9.37000000e+02]\n",
      " [  2.00000000e+00   1.20800000e+01   1.33000000e+00   2.30000000e+00\n",
      "    2.36000000e+01   7.00000000e+01   2.20000000e+00   1.59000000e+00\n",
      "    4.20000000e-01   1.38000000e+00   1.74000000e+00   1.07000000e+00\n",
      "    3.21000000e+00   6.25000000e+02]\n",
      " [  3.00000000e+00   1.37800000e+01   2.76000000e+00   2.30000000e+00\n",
      "    2.20000000e+01   9.00000000e+01   1.35000000e+00   6.80000000e-01\n",
      "    4.10000000e-01   1.03000000e+00   9.58000000e+00   7.00000000e-01\n",
      "    1.68000000e+00   6.15000000e+02]\n",
      " [  2.00000000e+00   1.27700000e+01   3.43000000e+00   1.98000000e+00\n",
      "    1.60000000e+01   8.00000000e+01   1.63000000e+00   1.25000000e+00\n",
      "    4.30000000e-01   8.30000000e-01   3.40000000e+00   7.00000000e-01\n",
      "    2.12000000e+00   3.72000000e+02]]\n"
     ]
    }
   ],
   "source": [
    "%matplotlib inline\n",
    "import random\n",
    "import numpy as np\n",
    "import matplotlib.pyplot as plt\n",
    "import seaborn as sns; sns.set(style=\"ticks\", color_codes=True)\n",
    "from sklearn.preprocessing import OneHotEncoder\n",
    "from sklearn.utils import shuffle\n",
    "\n",
    "\n",
    "wine_data = np.loadtxt(open(\"./data/wine.csv\",\"rb\"),delimiter=\",\")\n",
    "\n",
    "wine_data = shuffle(wine_data)\n",
    "\n",
    "\n",
    "\n",
    "X = wine_data[:,1:]\n",
    "y = wine_data[:, 0]\n",
    "\n",
    "\n",
    "_, y = np.unique(y, return_inverse=True)\n",
    "\n",
    "\n",
    "y = y.reshape(-1,1)\n",
    "\n",
    "\n",
    "data = []\n",
    "for i in range(X.shape[0]):\n",
    "    data.append(tuple([X[i].reshape(-1,1), y[i][0]]))\n",
    "\n",
    "\n",
    "trainingSplit = int(.8 * len(data))\n",
    "training_data = data[:trainingSplit]\n",
    "test_data = data[trainingSplit:]\n",
    "\n",
    "enc = OneHotEncoder()\n",
    "enc.fit(y)\n",
    "\n",
    "training_data = [[_x, enc.transform(_y.reshape(-1,1)).toarray().reshape(-1,1)] for _x, _y in training_data]\n",
    "\n"
   ]
  }
 ],
 "metadata": {
  "anaconda-cloud": {},
  "kernelspec": {
   "display_name": "Python [default]",
   "language": "python",
   "name": "python2"
  },
  "language_info": {
   "codemirror_mode": {
    "name": "ipython",
    "version": 2
   },
   "file_extension": ".py",
   "mimetype": "text/x-python",
   "name": "python",
   "nbconvert_exporter": "python",
   "pygments_lexer": "ipython2",
   "version": "2.7.12"
  }
 },
 "nbformat": 4,
 "nbformat_minor": 1
}
