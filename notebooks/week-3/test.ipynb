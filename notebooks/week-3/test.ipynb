{
 "cells": [
  {
   "cell_type": "code",
   "execution_count": 1,
   "metadata": {
    "collapsed": true
   },
   "outputs": [],
   "source": [
    "%matplotlib inline\n",
    "import random\n",
    "import numpy as np\n",
    "import matplotlib.pyplot as plt\n",
    "import seaborn as sns; sns.set(style=\"ticks\", color_codes=True)\n",
    "from sklearn.preprocessing import OneHotEncoder\n",
    "from sklearn.utils import shuffle"
   ]
  },
  {
   "cell_type": "code",
   "execution_count": 31,
   "metadata": {
    "collapsed": false
   },
   "outputs": [
    {
     "name": "stdout",
     "output_type": "stream",
     "text": [
      "(2, 3)\n",
      "(3, 4)\n",
      "(2, 3, 4)\n",
      "[array([[-0.60215396],\n",
      "       [-0.6140067 ],\n",
      "       [ 0.06735813]]), array([[ 0.58259733],\n",
      "       [ 0.04335089],\n",
      "       [ 0.41542982],\n",
      "       [ 0.08385662]])]\n",
      "[array([[ 0.34574137, -1.78795636],\n",
      "       [ 1.21947373, -0.40996246],\n",
      "       [ 0.04337281,  0.28405676]]), array([[-0.02351582,  0.3684107 , -2.656014  ],\n",
      "       [ 0.71227612,  1.28350947, -0.33946146],\n",
      "       [ 1.36611078, -0.71104685,  1.35179737],\n",
      "       [ 0.10777728,  1.60905264,  0.99631462]])]\n"
     ]
    },
    {
     "ename": "IndexError",
     "evalue": "tuple index out of range",
     "output_type": "error",
     "traceback": [
      "\u001b[0;31m---------------------------------------------------------------------------\u001b[0m",
      "\u001b[0;31mIndexError\u001b[0m                                Traceback (most recent call last)",
      "\u001b[0;32m<ipython-input-31-1f36a86a136e>\u001b[0m in \u001b[0;36m<module>\u001b[0;34m()\u001b[0m\n\u001b[1;32m     11\u001b[0m \u001b[0mweights\u001b[0m \u001b[0;34m=\u001b[0m \u001b[0;34m[\u001b[0m\u001b[0mnp\u001b[0m\u001b[0;34m.\u001b[0m\u001b[0mrandom\u001b[0m\u001b[0;34m.\u001b[0m\u001b[0mrandn\u001b[0m\u001b[0;34m(\u001b[0m\u001b[0my\u001b[0m\u001b[0;34m,\u001b[0m \u001b[0mx\u001b[0m\u001b[0;34m)\u001b[0m \u001b[0;32mfor\u001b[0m \u001b[0mx\u001b[0m\u001b[0;34m,\u001b[0m \u001b[0my\u001b[0m \u001b[0;32min\u001b[0m \u001b[0mzip\u001b[0m\u001b[0;34m(\u001b[0m\u001b[0msizes\u001b[0m\u001b[0;34m[\u001b[0m\u001b[0;34m:\u001b[0m\u001b[0;34m-\u001b[0m\u001b[0;36m1\u001b[0m\u001b[0;34m]\u001b[0m\u001b[0;34m,\u001b[0m \u001b[0msizes\u001b[0m\u001b[0;34m[\u001b[0m\u001b[0;36m1\u001b[0m\u001b[0;34m:\u001b[0m\u001b[0;34m]\u001b[0m\u001b[0;34m)\u001b[0m\u001b[0;34m]\u001b[0m\u001b[0;34m\u001b[0m\u001b[0m\n\u001b[1;32m     12\u001b[0m \u001b[0;32mprint\u001b[0m\u001b[0;34m(\u001b[0m\u001b[0mweights\u001b[0m\u001b[0;34m)\u001b[0m\u001b[0;34m\u001b[0m\u001b[0m\n\u001b[0;32m---> 13\u001b[0;31m \u001b[0;32mprint\u001b[0m\u001b[0;34m(\u001b[0m\u001b[0msizes\u001b[0m\u001b[0;34m[\u001b[0m\u001b[0;34m-\u001b[0m\u001b[0;36m4\u001b[0m\u001b[0;34m]\u001b[0m\u001b[0;34m)\u001b[0m\u001b[0;34m\u001b[0m\u001b[0m\n\u001b[0m",
      "\u001b[0;31mIndexError\u001b[0m: tuple index out of range"
     ]
    }
   ],
   "source": [
    "xrange(1,6,2)[1]\n",
    "sizes = (2,3,4)\n",
    "sizes[:-1]\n",
    "print(sizes[:-1])\n",
    "sizes[1:]\n",
    "print(sizes[1:])\n",
    "zip(sizes[:-1], sizes[1:])\n",
    "print(sizes)\n",
    "biases = [np.random.randn(y, 1) for y in sizes[1:]]\n",
    "print(biases)\n",
    "weights = [np.random.randn(y, x) for x, y in zip(sizes[:-1], sizes[1:])]\n",
    "print(weights)\n",
    "print(sizes[0])"
   ]
  },
  {
   "cell_type": "code",
   "execution_count": 21,
   "metadata": {
    "collapsed": false
   },
   "outputs": [
    {
     "name": "stdout",
     "output_type": "stream",
     "text": [
      "[array([[ 0.],\n",
      "       [ 0.],\n",
      "       [ 0.]]), array([[ 0.],\n",
      "       [ 0.],\n",
      "       [ 0.],\n",
      "       [ 0.]])]\n",
      "[array([[ 0.,  0.],\n",
      "       [ 0.,  0.],\n",
      "       [ 0.,  0.]]), array([[ 0.,  0.,  0.],\n",
      "       [ 0.,  0.,  0.],\n",
      "       [ 0.,  0.,  0.],\n",
      "       [ 0.,  0.,  0.]])]\n"
     ]
    }
   ],
   "source": [
    "nabla_b = [np.zeros(b.shape) for b in biases]\n",
    "print(nabla_b)\n",
    "nabla_w = [np.zeros(w.shape) for w in weights]\n",
    "print(nabla_w)"
   ]
  },
  {
   "cell_type": "code",
   "execution_count": 24,
   "metadata": {
    "collapsed": false
   },
   "outputs": [
    {
     "name": "stdout",
     "output_type": "stream",
     "text": [
      "[(1, 20), (3, 18), (5, 16), (7, 14), (9, 12), (11, 10), (13, 8), (15, 6), (17, 4), (19, 2)]\n"
     ]
    }
   ],
   "source": [
    "training_data = zip(range(1,20,2), range(20,1,-2))\n",
    "mini_batch_size = 3\n",
    "n = len(training_data)\n",
    "print(training_data)"
   ]
  },
  {
   "cell_type": "code",
   "execution_count": 27,
   "metadata": {
    "collapsed": false
   },
   "outputs": [
    {
     "name": "stdout",
     "output_type": "stream",
     "text": [
      "[[(1, 20), (3, 18), (5, 16)], [(7, 14), (9, 12), (11, 10)], [(13, 8), (15, 6), (17, 4)], [(19, 2)]]\n",
      "x = 1, y = 20\n",
      "x = 3, y = 18\n",
      "x = 5, y = 16\n",
      "x = 7, y = 14\n",
      "x = 9, y = 12\n",
      "x = 11, y = 10\n",
      "x = 13, y = 8\n",
      "x = 15, y = 6\n",
      "x = 17, y = 4\n",
      "x = 19, y = 2\n"
     ]
    }
   ],
   "source": [
    "mini_batches = [ training_data[k:k+mini_batch_size] \n",
    "                            for k in xrange(0, n, mini_batch_size) ]\n",
    "print(mini_batches)\n",
    "for mini_batch in mini_batches:\n",
    "    for x, y in mini_batch:\n",
    "        print(\"x = \" + str(x) + \", y = \" + str(y))"
   ]
  },
  {
   "cell_type": "code",
   "execution_count": null,
   "metadata": {
    "collapsed": false
   },
   "outputs": [],
   "source": [
    "np.zeros()"
   ]
  }
 ],
 "metadata": {
  "kernelspec": {
   "display_name": "Python [default]",
   "language": "python",
   "name": "python2"
  },
  "language_info": {
   "codemirror_mode": {
    "name": "ipython",
    "version": 2
   },
   "file_extension": ".py",
   "mimetype": "text/x-python",
   "name": "python",
   "nbconvert_exporter": "python",
   "pygments_lexer": "ipython2",
   "version": "2.7.12"
  }
 },
 "nbformat": 4,
 "nbformat_minor": 1
}
