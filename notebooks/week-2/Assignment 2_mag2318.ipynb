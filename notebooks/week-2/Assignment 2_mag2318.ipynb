{
 "cells": [
  {
   "cell_type": "code",
   "execution_count": 3,
   "metadata": {
    "collapsed": true
   },
   "outputs": [],
   "source": [
    "import random"
   ]
  },
  {
   "cell_type": "code",
   "execution_count": 2,
   "metadata": {
    "collapsed": true
   },
   "outputs": [],
   "source": [
    "gameStake = 50  \n",
    "cards = range(10)"
   ]
  },
  {
   "cell_type": "code",
   "execution_count": 4,
   "metadata": {
    "collapsed": true
   },
   "outputs": [],
   "source": [
    "class Player:    \n",
    "    # create here two local variables to store a unique ID for each player and the player's current 'pot' of money\n",
    "    # [FILL IN YOUR VARIABLES HERE] \n",
    "    playerID = None \n",
    "    Pot = 0\n",
    "    \n",
    "    def __init__(self, inputID, startingPot):\n",
    "        # [CREATE YOUR INITIALIZATIONS HERE] \n",
    "        self.playerID = inputID\n",
    "        self.pot = startingPot\n",
    "        \n",
    "    def play(self,dealerCard):\n",
    "\n",
    "        playerCard = random.choice(cards)  \n",
    "        if playerCard < dealerCard:\n",
    "            # [INCREMENT THE PLAYER'S POT, AND RETURN A MESSAGE]\n",
    "            self.pot -= 1 \n",
    "            return 'Player ' + str(self.playerID) + ' Lose, ' + str(playerCard) + ' vs ' + str(dealerCard)\n",
    "        else:\n",
    "            # [INCREMENT THE PLAYER'S POT, AND RETURN A MESSAGE]\n",
    "            self.pot += 1 \n",
    "            return 'Player ' + str(self.playerID) + ' Win, ' + str(playerCard) + ' vs ' + str(dealerCard) \n",
    "    # create an accessor function to return the current value of the player's pot\n",
    "    def returnPot(self):\n",
    "        return self.pot\n",
    "        # [FILL IN THE RETURN STATEMENT]\n",
    "        \n",
    "    # create an accessor function to return the player's ID\n",
    "    def returnID(self):\n",
    "        return self.playerID"
   ]
  },
  {
   "cell_type": "code",
   "execution_count": 5,
   "metadata": {
    "collapsed": true
   },
   "outputs": [],
   "source": [
    "def playHand(players):\n",
    "    for player in players:\n",
    "        dealerCard = random.choice(cards)\n",
    "        #[EXECUTE THE PLAY() FUNCTION FOR EACH PLAYER USING THE DEALER CARD, AND PRINT OUT THE RESULTS]\n",
    "        #*****\n",
    "        print player.play(dealerCard)"
   ]
  },
  {
   "cell_type": "code",
   "execution_count": 6,
   "metadata": {
    "collapsed": true
   },
   "outputs": [],
   "source": [
    "def checkBalances(players):\n",
    "    for player in players:\n",
    "        print 'Player ' + str(player.playerID) + ' has $' + str(player.returnPot()) + ' left.'"
   ]
  },
  {
   "cell_type": "code",
   "execution_count": 7,
   "metadata": {
    "collapsed": true
   },
   "outputs": [],
   "source": [
    "players = [] "
   ]
  },
  {
   "cell_type": "code",
   "execution_count": 8,
   "metadata": {
    "collapsed": true
   },
   "outputs": [],
   "source": [
    "for i in range(5):\n",
    "    players.append(Player(i, 500))"
   ]
  },
  {
   "cell_type": "code",
   "execution_count": 9,
   "metadata": {
    "collapsed": false
   },
   "outputs": [
    {
     "name": "stdout",
     "output_type": "stream",
     "text": [
      "\n",
      "start game 0\n",
      "Player 0 Win, 2 vs 0\n",
      "Player 1 Win, 6 vs 6\n",
      "Player 2 Win, 8 vs 7\n",
      "Player 3 Win, 8 vs 6\n",
      "Player 4 Win, 3 vs 1\n",
      "\n",
      "start game 1\n",
      "Player 0 Lose, 1 vs 3\n",
      "Player 1 Lose, 5 vs 9\n",
      "Player 2 Lose, 1 vs 8\n",
      "Player 3 Lose, 2 vs 4\n",
      "Player 4 Lose, 0 vs 5\n",
      "\n",
      "start game 2\n",
      "Player 0 Win, 5 vs 2\n",
      "Player 1 Win, 5 vs 5\n",
      "Player 2 Win, 0 vs 0\n",
      "Player 3 Lose, 4 vs 9\n",
      "Player 4 Win, 8 vs 2\n",
      "\n",
      "start game 3\n",
      "Player 0 Lose, 5 vs 7\n",
      "Player 1 Lose, 4 vs 5\n",
      "Player 2 Win, 4 vs 1\n",
      "Player 3 Lose, 1 vs 6\n",
      "Player 4 Win, 8 vs 4\n",
      "\n",
      "start game 4\n",
      "Player 0 Lose, 5 vs 6\n",
      "Player 1 Lose, 0 vs 9\n",
      "Player 2 Lose, 0 vs 9\n",
      "Player 3 Win, 8 vs 0\n",
      "Player 4 Win, 6 vs 1\n",
      "\n",
      "start game 5\n",
      "Player 0 Win, 9 vs 3\n",
      "Player 1 Win, 7 vs 5\n",
      "Player 2 Lose, 2 vs 7\n",
      "Player 3 Lose, 2 vs 6\n",
      "Player 4 Win, 3 vs 1\n",
      "\n",
      "start game 6\n",
      "Player 0 Win, 9 vs 4\n",
      "Player 1 Win, 5 vs 5\n",
      "Player 2 Win, 3 vs 1\n",
      "Player 3 Lose, 1 vs 7\n",
      "Player 4 Lose, 3 vs 4\n",
      "\n",
      "start game 7\n",
      "Player 0 Lose, 5 vs 8\n",
      "Player 1 Win, 0 vs 0\n",
      "Player 2 Win, 9 vs 3\n",
      "Player 3 Win, 7 vs 1\n",
      "Player 4 Win, 4 vs 2\n",
      "\n",
      "start game 8\n",
      "Player 0 Lose, 5 vs 8\n",
      "Player 1 Win, 4 vs 1\n",
      "Player 2 Lose, 5 vs 6\n",
      "Player 3 Lose, 2 vs 8\n",
      "Player 4 Win, 3 vs 1\n",
      "\n",
      "start game 9\n",
      "Player 0 Win, 3 vs 1\n",
      "Player 1 Win, 3 vs 2\n",
      "Player 2 Lose, 4 vs 5\n",
      "Player 3 Win, 5 vs 5\n",
      "Player 4 Lose, 1 vs 4\n"
     ]
    }
   ],
   "source": [
    "for i in range(10):\n",
    "    print ''\n",
    "    print 'start game ' + str(i)\n",
    "    playHand(players)"
   ]
  },
  {
   "cell_type": "code",
   "execution_count": 10,
   "metadata": {
    "collapsed": false
   },
   "outputs": [
    {
     "name": "stdout",
     "output_type": "stream",
     "text": [
      "\n",
      "game results:\n",
      "Player 0 has $500 left.\n",
      "Player 1 has $504 left.\n",
      "Player 2 has $500 left.\n",
      "Player 3 has $498 left.\n",
      "Player 4 has $504 left.\n"
     ]
    }
   ],
   "source": [
    "print ''\n",
    "print 'game results:'\n",
    "checkBalances(players)"
   ]
  }
 ],
 "metadata": {
  "anaconda-cloud": {},
  "kernelspec": {
   "display_name": "Python [default]",
   "language": "python",
   "name": "python2"
  },
  "language_info": {
   "codemirror_mode": {
    "name": "ipython",
    "version": 2
   },
   "file_extension": ".py",
   "mimetype": "text/x-python",
   "name": "python",
   "nbconvert_exporter": "python",
   "pygments_lexer": "ipython2",
   "version": "2.7.12"
  }
 },
 "nbformat": 4,
 "nbformat_minor": 1
}
