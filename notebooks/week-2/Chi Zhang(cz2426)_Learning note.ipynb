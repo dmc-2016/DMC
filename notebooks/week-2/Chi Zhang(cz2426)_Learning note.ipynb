{
 "cells": [
  {
   "cell_type": "code",
   "execution_count": null,
   "metadata": {
    "collapsed": true,
    "nbpresent": {
     "id": "f2855874-9483-426b-864c-d58db91c9a67"
    }
   },
   "outputs": [],
   "source": [
    "print \"Hello World\""
   ]
  },
  {
   "cell_type": "code",
   "execution_count": 1,
   "metadata": {
    "collapsed": false,
    "nbpresent": {
     "id": "fd6e839f-3603-48b8-b89f-3c5fbab8dd95"
    }
   },
   "outputs": [
    {
     "name": "stdout",
     "output_type": "stream",
     "text": [
      "this is code\n"
     ]
    }
   ],
   "source": [
    "print 'this is code' #this is a comment"
   ]
  },
  {
   "cell_type": "code",
   "execution_count": null,
   "metadata": {
    "collapsed": true,
    "nbpresent": {
     "id": "200c5e35-939f-4c59-9d21-383fd17b5a7d"
    }
   },
   "outputs": [],
   "source": [
    "a=2"
   ]
  },
  {
   "cell_type": "code",
   "execution_count": 3,
   "metadata": {
    "collapsed": false,
    "nbpresent": {
     "id": "55bc09a0-7109-4672-9b6e-d02900f4e8b7"
    }
   },
   "outputs": [
    {
     "name": "stdout",
     "output_type": "stream",
     "text": [
      "5\n"
     ]
    }
   ],
   "source": [
    "a=2\n",
    "b=3\n",
    "print a+b"
   ]
  },
  {
   "cell_type": "code",
   "execution_count": 2,
   "metadata": {
    "collapsed": false,
    "nbpresent": {
     "id": "dce375ca-cc4e-4fca-8224-80eff8c22ce1"
    }
   },
   "outputs": [
    {
     "name": "stdout",
     "output_type": "stream",
     "text": [
      "<type 'int'>\n",
      "<type 'float'>\n",
      "<type 'bool'>\n",
      "<type 'str'>\n"
     ]
    }
   ],
   "source": [
    "print type(12)\n",
    "print type(12.1)\n",
    "print type(True)\n",
    "print type('blueberries')"
   ]
  },
  {
   "cell_type": "code",
   "execution_count": 4,
   "metadata": {
    "collapsed": false,
    "nbpresent": {
     "id": "cbc7554d-806c-4bf0-9ca1-0bde9da7c985"
    }
   },
   "outputs": [
    {
     "ename": "NameError",
     "evalue": "name 'blueberries' is not defined",
     "output_type": "error",
     "traceback": [
      "\u001b[0;31m---------------------------------------------------------------------------\u001b[0m",
      "\u001b[0;31mNameError\u001b[0m                                 Traceback (most recent call last)",
      "\u001b[0;32m<ipython-input-4-786629c6ca90>\u001b[0m in \u001b[0;36m<module>\u001b[0;34m()\u001b[0m\n\u001b[0;32m----> 1\u001b[0;31m \u001b[0;32mprint\u001b[0m \u001b[0mtype\u001b[0m\u001b[0;34m(\u001b[0m\u001b[0mblueberries\u001b[0m\u001b[0;34m)\u001b[0m\u001b[0;34m\u001b[0m\u001b[0m\n\u001b[0m",
      "\u001b[0;31mNameError\u001b[0m: name 'blueberries' is not defined"
     ]
    }
   ],
   "source": [
    "print type(blueberries)"
   ]
  },
  {
   "cell_type": "code",
   "execution_count": 5,
   "metadata": {
    "collapsed": false,
    "nbpresent": {
     "id": "de13996b-802f-4cb1-bdc5-0b71547fd465"
    }
   },
   "outputs": [
    {
     "name": "stdout",
     "output_type": "stream",
     "text": [
      "<type 'int'>\n"
     ]
    }
   ],
   "source": [
    "blueberries = 5\n",
    "print type(blueberries)"
   ]
  },
  {
   "cell_type": "code",
   "execution_count": 6,
   "metadata": {
    "collapsed": false,
    "nbpresent": {
     "id": "718ed515-d118-4cb2-91e9-8a8d04839539"
    }
   },
   "outputs": [
    {
     "name": "stdout",
     "output_type": "stream",
     "text": [
      "First Last\n"
     ]
    }
   ],
   "source": [
    "print 'First ' + 'Last'"
   ]
  },
  {
   "cell_type": "code",
   "execution_count": 7,
   "metadata": {
    "collapsed": false,
    "nbpresent": {
     "id": "d22a583e-8606-4c7e-8d55-cc2c4c364f46"
    }
   },
   "outputs": [
    {
     "ename": "TypeError",
     "evalue": "cannot concatenate 'str' and 'int' objects",
     "output_type": "error",
     "traceback": [
      "\u001b[0;31m---------------------------------------------------------------------------\u001b[0m",
      "\u001b[0;31mTypeError\u001b[0m                                 Traceback (most recent call last)",
      "\u001b[0;32m<ipython-input-7-8c037d07f069>\u001b[0m in \u001b[0;36m<module>\u001b[0;34m()\u001b[0m\n\u001b[1;32m      1\u001b[0m \u001b[0mnumBerries\u001b[0m \u001b[0;34m=\u001b[0m \u001b[0;36m5\u001b[0m\u001b[0;34m\u001b[0m\u001b[0m\n\u001b[0;32m----> 2\u001b[0;31m \u001b[0;32mprint\u001b[0m \u001b[0;34m'Number of Blueberries: '\u001b[0m \u001b[0;34m+\u001b[0m \u001b[0mnumBerries\u001b[0m\u001b[0;34m\u001b[0m\u001b[0m\n\u001b[0m",
      "\u001b[0;31mTypeError\u001b[0m: cannot concatenate 'str' and 'int' objects"
     ]
    }
   ],
   "source": [
    "numBerries = 5\n",
    "print 'Number of Blueberries: ' + numBerries"
   ]
  },
  {
   "cell_type": "code",
   "execution_count": 8,
   "metadata": {
    "collapsed": false,
    "nbpresent": {
     "id": "653dc428-5715-4cc2-92f3-39c77fc9340e"
    }
   },
   "outputs": [
    {
     "name": "stdout",
     "output_type": "stream",
     "text": [
      "Number of Blueberries: 5\n"
     ]
    }
   ],
   "source": [
    "numBerries = 5\n",
    "print 'Number of Blueberries: ' + str(numBerries)"
   ]
  },
  {
   "cell_type": "code",
   "execution_count": 9,
   "metadata": {
    "collapsed": false,
    "nbpresent": {
     "id": "5eb68d9d-dff6-40d1-89f5-39e1b7f03e4d"
    }
   },
   "outputs": [
    {
     "name": "stdout",
     "output_type": "stream",
     "text": [
      "Number of Blueberries:  5\n"
     ]
    }
   ],
   "source": [
    "print 'Number of Blueberries: ', numBerries"
   ]
  },
  {
   "cell_type": "code",
   "execution_count": 10,
   "metadata": {
    "collapsed": false,
    "nbpresent": {
     "id": "e5fd90d5-483c-4c55-869a-a96c0d954acb"
    }
   },
   "outputs": [
    {
     "name": "stdout",
     "output_type": "stream",
     "text": [
      "1\n",
      "oranges\n"
     ]
    }
   ],
   "source": [
    "numbers = [1, 2, 3, 4, 5]\n",
    "print numbers[0]\n",
    "\n",
    "fruits = ['apples', 'oranges', 'bananas']\n",
    "print fruits[1]"
   ]
  },
  {
   "cell_type": "code",
   "execution_count": 11,
   "metadata": {
    "collapsed": false,
    "nbpresent": {
     "id": "b23f4b24-48b4-4c07-b1c0-89d71615768f"
    }
   },
   "outputs": [
    {
     "name": "stdout",
     "output_type": "stream",
     "text": [
      "<type 'list'>\n",
      "<type 'str'>\n",
      "<type 'int'>\n"
     ]
    }
   ],
   "source": [
    "fruitsAndNumbers = ['apples', 2, 'bananas']\n",
    "print type(fruitsAndNumbers)\n",
    "print type(fruitsAndNumbers[0])\n",
    "print type(fruitsAndNumbers[1])"
   ]
  },
  {
   "cell_type": "code",
   "execution_count": 12,
   "metadata": {
    "collapsed": false,
    "nbpresent": {
     "id": "c7bf817e-3069-4330-b205-71fb633a6f1e"
    }
   },
   "outputs": [
    {
     "name": "stdout",
     "output_type": "stream",
     "text": [
      "[1, 2, 3]\n"
     ]
    }
   ],
   "source": [
    "numbers = [1, 2, 3, 4, 5]\n",
    "newNumbers = numbers[0:3] # [index of first item:index after last item]\n",
    "print newNumbers"
   ]
  },
  {
   "cell_type": "code",
   "execution_count": 13,
   "metadata": {
    "collapsed": false,
    "nbpresent": {
     "id": "fb6b0c30-2714-4f4e-8249-36c77797d248"
    }
   },
   "outputs": [
    {
     "name": "stdout",
     "output_type": "stream",
     "text": [
      "5\n"
     ]
    }
   ],
   "source": [
    "numbers = [1, 2, 3, 4, 5]\n",
    "print numbers[-1]"
   ]
  },
  {
   "cell_type": "code",
   "execution_count": 14,
   "metadata": {
    "collapsed": false,
    "nbpresent": {
     "id": "20775471-738b-4b1c-b6c0-187530f09ce9"
    }
   },
   "outputs": [
    {
     "name": "stdout",
     "output_type": "stream",
     "text": [
      "[1, 2, 3, 4, 5, 6]\n"
     ]
    }
   ],
   "source": [
    "numbers = [1, 2, 3, 4, 5]\n",
    "numbers.append(6)\n",
    "print numbers"
   ]
  },
  {
   "cell_type": "code",
   "execution_count": 34,
   "metadata": {
    "collapsed": false,
    "nbpresent": {
     "id": "b97a8d01-6fd6-4c7c-81c0-afc6dd60bb76"
    }
   },
   "outputs": [
    {
     "name": "stdout",
     "output_type": "stream",
     "text": [
      "1\n",
      "<type 'int'>\n",
      "{'a': 1, 'c': 3, 'b': 2, 'd': 4}\n",
      "4\n",
      "False\n",
      "a\n",
      "c\n",
      "b\n",
      "d\n"
     ]
    }
   ],
   "source": [
    "dict = {'a': 1, 'b': 2, 'c': 3}\n",
    "print dict['a']\n",
    "print type(dict['a'])\n",
    "dict['d'] = 4\n",
    "print dict\n",
    "print len(dict)\n",
    "\n",
    "print '4' in dict\n",
    "\n",
    "for i in dict:\n",
    "    print i\n"
   ]
  },
  {
   "cell_type": "code",
   "execution_count": 35,
   "metadata": {
    "collapsed": false,
    "nbpresent": {
     "id": "e411bed0-0f80-4c82-acd8-f2d2ebc2274b"
    }
   },
   "outputs": [
    {
     "name": "stdout",
     "output_type": "stream",
     "text": [
      "{'a': 1, 'b': 2}\n"
     ]
    }
   ],
   "source": [
    "dict = {}\n",
    "dict['a'] = 1\n",
    "dict['b'] = 2\n",
    "print dict"
   ]
  },
  {
   "cell_type": "code",
   "execution_count": 46,
   "metadata": {
    "collapsed": false,
    "nbpresent": {
     "id": "5a05e452-0557-42ce-bcdc-300d32eb30de"
    }
   },
   "outputs": [
    {
     "name": "stdout",
     "output_type": "stream",
     "text": [
      "['a', 'c', 'b']\n",
      "[1, 3, 2]\n",
      "[('a', 'a'), ('c', 'c'), ('b', 'b')]\n",
      "('a', 'a')\n",
      "{'a': 1, 'c': 3, 'b': 2}\n",
      "[('a', 1), ('c', 3), ('b', 2)]\n"
     ]
    }
   ],
   "source": [
    "dict = {'a': 1, 'b': 2, 'c': 3}\n",
    "print dict.keys()\n",
    "\n",
    "dict2 = {'a': 1, 'b': 2, 'c': 3}\n",
    "print dict2.values()\n",
    "\n",
    "print zip(dict,dict2)\n",
    "print zip(dict,dict2)[0]\n",
    "print dict\n",
    "print dict.items()"
   ]
  },
  {
   "cell_type": "code",
   "execution_count": 43,
   "metadata": {
    "collapsed": false,
    "nbpresent": {
     "id": "f01aa982-22c1-466d-9665-3d781e3b34bf"
    }
   },
   "outputs": [
    {
     "name": "stdout",
     "output_type": "stream",
     "text": [
      "{'numbers': [1, 2, 3, 4, 5, 6], 'fruits': ['apples', 'oranges', 'bananas', {'berries': ['strawberries', 'blueberries']}]}\n",
      "['apples', 'oranges', 'bananas', {'berries': ['strawberries', 'blueberries']}]\n",
      "blueberries\n"
     ]
    }
   ],
   "source": [
    "dict = {}\n",
    "\n",
    "dict['numbers'] = [1, 2, 3, 4, 5]\n",
    "dict['fruits'] = ['apples', 'oranges', 'bananas']\n",
    "\n",
    "dict['numbers'].append(6)\n",
    "dict['fruits'].append({'berries':['strawberries', 'blueberries']})\n",
    "\n",
    "print dict\n",
    "print dict['fruits']\n",
    "#compound request, should print 'blueberries'\n",
    "print dict['fruits'][-1]['berries'][1]"
   ]
  },
  {
   "cell_type": "code",
   "execution_count": 54,
   "metadata": {
    "collapsed": false,
    "nbpresent": {
     "id": "b1ca7f21-85d9-43db-9138-42c65e607ba9"
    }
   },
   "outputs": [
    {
     "name": "stdout",
     "output_type": "stream",
     "text": [
      "[('BOB', 'aa'), ('TOM', 'bb')]\n"
     ]
    }
   ],
   "source": [
    "x ={'BOB': 123 ,'TOM': 456}\n",
    "y ={'aa','bb'}\n",
    "\n",
    "z = zip(x,y)\n",
    "print z"
   ]
  },
  {
   "cell_type": "markdown",
   "metadata": {
    "nbpresent": {
     "id": "cbe10a63-3fa3-4d74-8679-53df67b86185"
    }
   },
   "source": [
    "————————————————NOTE 2————————————————"
   ]
  },
  {
   "cell_type": "code",
   "execution_count": 55,
   "metadata": {
    "collapsed": false,
    "nbpresent": {
     "id": "e63241a0-b8f5-4fd4-8e81-270a632c75ae"
    }
   },
   "outputs": [
    {
     "name": "stdout",
     "output_type": "stream",
     "text": [
      "b is True\n"
     ]
    }
   ],
   "source": [
    "b = True\n",
    "\n",
    "if b:\n",
    "    print 'b is True'"
   ]
  },
  {
   "cell_type": "code",
   "execution_count": 56,
   "metadata": {
    "collapsed": true,
    "nbpresent": {
     "id": "6f889d1e-51b6-48d4-86ff-4bf549663aec"
    }
   },
   "outputs": [],
   "source": [
    "b = False\n",
    "\n",
    "if b:\n",
    "    print 'b is True'\n",
    "    print 'b is False'"
   ]
  },
  {
   "cell_type": "code",
   "execution_count": 57,
   "metadata": {
    "collapsed": false,
    "nbpresent": {
     "id": "1c366a8a-682d-427e-8a0f-5f4415744785"
    }
   },
   "outputs": [
    {
     "name": "stdout",
     "output_type": "stream",
     "text": [
      "b is False\n"
     ]
    }
   ],
   "source": [
    "b = False\n",
    "\n",
    "if b:\n",
    "    print 'b is True'\n",
    "print 'b is False'"
   ]
  },
  {
   "cell_type": "code",
   "execution_count": 58,
   "metadata": {
    "collapsed": false,
    "nbpresent": {
     "id": "1a0f818d-c11e-4025-9d63-070a18168acc"
    }
   },
   "outputs": [
    {
     "name": "stdout",
     "output_type": "stream",
     "text": [
      "num2 is greater than 5\n"
     ]
    }
   ],
   "source": [
    "num1 = 3\n",
    "num2 = 7\n",
    "\n",
    "if num1 > 5:\n",
    "    print 'num1 is greater than 5'\n",
    "elif num2 > 5:\n",
    "    print 'num2 is greater than 5'\n",
    "else:\n",
    "    print \"they're both too small!\""
   ]
  },
  {
   "cell_type": "code",
   "execution_count": 59,
   "metadata": {
    "collapsed": false,
    "nbpresent": {
     "id": "c9adb89e-6715-405e-8f9d-8202d6478a9a"
    }
   },
   "outputs": [
    {
     "name": "stdout",
     "output_type": "stream",
     "text": [
      "at least one of them is too small!\n"
     ]
    }
   ],
   "source": [
    "num1 = 3\n",
    "num2 = 7\n",
    "\n",
    "if num1 < 5 and num2 < 5:\n",
    "    print \"they're both too small!\"\n",
    "\n",
    "if num1 < 5 or num2 < 5:\n",
    "    print \"at least one of them is too small!\""
   ]
  },
  {
   "cell_type": "code",
   "execution_count": 60,
   "metadata": {
    "collapsed": false
   },
   "outputs": [
    {
     "name": "stdout",
     "output_type": "stream",
     "text": [
      "apples\n",
      "oranges\n",
      "bananas\n"
     ]
    }
   ],
   "source": [
    "fruits = ['apples', 'oranges', 'bananas']\n",
    "\n",
    "for fruit in fruits:\n",
    "    print fruit"
   ]
  },
  {
   "cell_type": "code",
   "execution_count": 61,
   "metadata": {
    "collapsed": false
   },
   "outputs": [
    {
     "name": "stdout",
     "output_type": "stream",
     "text": [
      "1\n",
      "3\n",
      "2\n"
     ]
    }
   ],
   "source": [
    "dict = {'a': 1, 'b': 2, 'c': 3}\n",
    "\n",
    "for key in dict.keys():\n",
    "    print dict[key]"
   ]
  },
  {
   "cell_type": "code",
   "execution_count": 62,
   "metadata": {
    "collapsed": false
   },
   "outputs": [
    {
     "name": "stdout",
     "output_type": "stream",
     "text": [
      "[0, 1, 2, 3, 4]\n"
     ]
    }
   ],
   "source": [
    "print range(5)"
   ]
  },
  {
   "cell_type": "code",
   "execution_count": 65,
   "metadata": {
    "collapsed": false
   },
   "outputs": [
    {
     "name": "stdout",
     "output_type": "stream",
     "text": [
      "apples in the position 0\n",
      "oranges in the position 1\n",
      "bananas in the position 2\n"
     ]
    }
   ],
   "source": [
    "fruits = ['apples', 'oranges', 'bananas']\n",
    "\n",
    "for i in range(len(fruits)):\n",
    "    print fruits[i], \"in the position\", i"
   ]
  },
  {
   "cell_type": "code",
   "execution_count": 64,
   "metadata": {
    "collapsed": false
   },
   "outputs": [
    {
     "name": "stdout",
     "output_type": "stream",
     "text": [
      "the apples are in position 0\n",
      "the oranges are in position 1\n",
      "the bananas are in position 2\n"
     ]
    }
   ],
   "source": [
    "fruits = ['apples', 'oranges', 'bananas']\n",
    "\n",
    "for i, fruit in enumerate(fruits):\n",
    "    print 'the', fruit, 'are in position', i"
   ]
  },
  {
   "cell_type": "markdown",
   "metadata": {},
   "source": [
    "----------Note 3--------------------"
   ]
  },
  {
   "cell_type": "code",
   "execution_count": 1,
   "metadata": {
    "collapsed": false
   },
   "outputs": [
    {
     "name": "stdout",
     "output_type": "stream",
     "text": [
      "Help on class list in module __builtin__:\n",
      "\n",
      "class list(object)\n",
      " |  list() -> new empty list\n",
      " |  list(iterable) -> new list initialized from iterable's items\n",
      " |  \n",
      " |  Methods defined here:\n",
      " |  \n",
      " |  __add__(...)\n",
      " |      x.__add__(y) <==> x+y\n",
      " |  \n",
      " |  __contains__(...)\n",
      " |      x.__contains__(y) <==> y in x\n",
      " |  \n",
      " |  __delitem__(...)\n",
      " |      x.__delitem__(y) <==> del x[y]\n",
      " |  \n",
      " |  __delslice__(...)\n",
      " |      x.__delslice__(i, j) <==> del x[i:j]\n",
      " |      \n",
      " |      Use of negative indices is not supported.\n",
      " |  \n",
      " |  __eq__(...)\n",
      " |      x.__eq__(y) <==> x==y\n",
      " |  \n",
      " |  __ge__(...)\n",
      " |      x.__ge__(y) <==> x>=y\n",
      " |  \n",
      " |  __getattribute__(...)\n",
      " |      x.__getattribute__('name') <==> x.name\n",
      " |  \n",
      " |  __getitem__(...)\n",
      " |      x.__getitem__(y) <==> x[y]\n",
      " |  \n",
      " |  __getslice__(...)\n",
      " |      x.__getslice__(i, j) <==> x[i:j]\n",
      " |      \n",
      " |      Use of negative indices is not supported.\n",
      " |  \n",
      " |  __gt__(...)\n",
      " |      x.__gt__(y) <==> x>y\n",
      " |  \n",
      " |  __iadd__(...)\n",
      " |      x.__iadd__(y) <==> x+=y\n",
      " |  \n",
      " |  __imul__(...)\n",
      " |      x.__imul__(y) <==> x*=y\n",
      " |  \n",
      " |  __init__(...)\n",
      " |      x.__init__(...) initializes x; see help(type(x)) for signature\n",
      " |  \n",
      " |  __iter__(...)\n",
      " |      x.__iter__() <==> iter(x)\n",
      " |  \n",
      " |  __le__(...)\n",
      " |      x.__le__(y) <==> x<=y\n",
      " |  \n",
      " |  __len__(...)\n",
      " |      x.__len__() <==> len(x)\n",
      " |  \n",
      " |  __lt__(...)\n",
      " |      x.__lt__(y) <==> x<y\n",
      " |  \n",
      " |  __mul__(...)\n",
      " |      x.__mul__(n) <==> x*n\n",
      " |  \n",
      " |  __ne__(...)\n",
      " |      x.__ne__(y) <==> x!=y\n",
      " |  \n",
      " |  __repr__(...)\n",
      " |      x.__repr__() <==> repr(x)\n",
      " |  \n",
      " |  __reversed__(...)\n",
      " |      L.__reversed__() -- return a reverse iterator over the list\n",
      " |  \n",
      " |  __rmul__(...)\n",
      " |      x.__rmul__(n) <==> n*x\n",
      " |  \n",
      " |  __setitem__(...)\n",
      " |      x.__setitem__(i, y) <==> x[i]=y\n",
      " |  \n",
      " |  __setslice__(...)\n",
      " |      x.__setslice__(i, j, y) <==> x[i:j]=y\n",
      " |      \n",
      " |      Use  of negative indices is not supported.\n",
      " |  \n",
      " |  __sizeof__(...)\n",
      " |      L.__sizeof__() -- size of L in memory, in bytes\n",
      " |  \n",
      " |  append(...)\n",
      " |      L.append(object) -- append object to end\n",
      " |  \n",
      " |  count(...)\n",
      " |      L.count(value) -> integer -- return number of occurrences of value\n",
      " |  \n",
      " |  extend(...)\n",
      " |      L.extend(iterable) -- extend list by appending elements from the iterable\n",
      " |  \n",
      " |  index(...)\n",
      " |      L.index(value, [start, [stop]]) -> integer -- return first index of value.\n",
      " |      Raises ValueError if the value is not present.\n",
      " |  \n",
      " |  insert(...)\n",
      " |      L.insert(index, object) -- insert object before index\n",
      " |  \n",
      " |  pop(...)\n",
      " |      L.pop([index]) -> item -- remove and return item at index (default last).\n",
      " |      Raises IndexError if list is empty or index is out of range.\n",
      " |  \n",
      " |  remove(...)\n",
      " |      L.remove(value) -- remove first occurrence of value.\n",
      " |      Raises ValueError if the value is not present.\n",
      " |  \n",
      " |  reverse(...)\n",
      " |      L.reverse() -- reverse *IN PLACE*\n",
      " |  \n",
      " |  sort(...)\n",
      " |      L.sort(cmp=None, key=None, reverse=False) -- stable sort *IN PLACE*;\n",
      " |      cmp(x, y) -> -1, 0, 1\n",
      " |  \n",
      " |  ----------------------------------------------------------------------\n",
      " |  Data and other attributes defined here:\n",
      " |  \n",
      " |  __hash__ = None\n",
      " |  \n",
      " |  __new__ = <built-in method __new__ of type object>\n",
      " |      T.__new__(S, ...) -> a new object with type S, a subtype of T\n",
      "\n"
     ]
    }
   ],
   "source": [
    "help(list)"
   ]
  },
  {
   "cell_type": "code",
   "execution_count": 16,
   "metadata": {
    "collapsed": false
   },
   "outputs": [
    {
     "name": "stdout",
     "output_type": "stream",
     "text": [
      "1234\n"
     ]
    }
   ],
   "source": [
    "class FirstClass():\n",
    "    data = 1234\n",
    "    def f(self):\n",
    "        data =3445\n",
    "        print self.data\n",
    "        \n",
    "t = FirstClass()\n",
    "t.f()"
   ]
  },
  {
   "cell_type": "code",
   "execution_count": 20,
   "metadata": {
    "collapsed": false
   },
   "outputs": [
    {
     "name": "stdout",
     "output_type": "stream",
     "text": [
      "1234\n",
      "3445\n",
      "3445\n"
     ]
    }
   ],
   "source": [
    "class FirstClass():\n",
    "    data = 1234\n",
    "    def f(self):\n",
    "        self.data =3445\n",
    "        print self.data\n",
    "        \n",
    "t = FirstClass()\n",
    "print t.data\n",
    "t.f()\n",
    "print t.data"
   ]
  },
  {
   "cell_type": "code",
   "execution_count": 22,
   "metadata": {
    "collapsed": false
   },
   "outputs": [
    {
     "name": "stdout",
     "output_type": "stream",
     "text": [
      "3\n"
     ]
    }
   ],
   "source": [
    "class NameClass():\n",
    "    t =1\n",
    "    t2=2\n",
    "    def f(self):\n",
    "        t2 = 3\n",
    "        print t2\n",
    "K=NameClass()\n",
    "K.f()\n"
   ]
  },
  {
   "cell_type": "code",
   "execution_count": 24,
   "metadata": {
    "collapsed": false
   },
   "outputs": [
    {
     "name": "stdout",
     "output_type": "stream",
     "text": [
      "3\n"
     ]
    }
   ],
   "source": [
    "class FirstClass():\n",
    "    t=1\n",
    "    t2=2\n",
    "    def __init__(self):\n",
    "        self.t2=3\n",
    "        print self.t2\n",
    "\n",
    "K=FirstClass()\n",
    "\n"
   ]
  },
  {
   "cell_type": "code",
   "execution_count": 39,
   "metadata": {
    "collapsed": false
   },
   "outputs": [
    {
     "name": "stdout",
     "output_type": "stream",
     "text": [
      "{'__module__': '__main__', 't': 1, '__init__': <function __init__ at 0x7ffb80460140>, '__doc__': None}\n",
      "1\n"
     ]
    },
    {
     "data": {
      "text/plain": [
       "['__doc__', '__init__', '__module__', 't']"
      ]
     },
     "execution_count": 39,
     "metadata": {},
     "output_type": "execute_result"
    }
   ],
   "source": [
    "class Kim():\n",
    "    t=1\n",
    "    def __init__(self,x):\n",
    "        print self.t\n",
    "print Kim.__dict__\n",
    "K = Kim(1)\n",
    "K.__class__\n",
    "\n",
    "dir(K)"
   ]
  },
  {
   "cell_type": "code",
   "execution_count": 51,
   "metadata": {
    "collapsed": false
   },
   "outputs": [
    {
     "name": "stdout",
     "output_type": "stream",
     "text": [
      "2\n",
      "100\n",
      "5\n"
     ]
    }
   ],
   "source": [
    "class FirstClass():\n",
    "    t=1\n",
    "    t2=2\n",
    "    def __init__(self,x):\n",
    "        self.t2 = x\n",
    "B = FirstClass(5)\n",
    "print FirstClass.t2\n",
    "FirstClass.t2=100\n",
    "\n",
    "print FirstClass.t2\n",
    "print B.t2"
   ]
  },
  {
   "cell_type": "code",
   "execution_count": null,
   "metadata": {
    "collapsed": true
   },
   "outputs": [],
   "source": [
    "----------NOTE 4--------------------"
   ]
  },
  {
   "cell_type": "code",
   "execution_count": null,
   "metadata": {
    "collapsed": true
   },
   "outputs": [],
   "source": [
    "import random:\n",
    "\n",
    "gameStake = 50  \n",
    "cards = range(10)\n",
    "\n",
    "\n",
    "class Player:\n",
    "    \n",
    "    # create here two local variables to store a unique ID for each player and the player's current 'pot' of money\n",
    "    # [FILL IN YOUR VARIABLES HERE]\n",
    "    ID = 1\n",
    "    curPot = 1\n",
    "    # in the __init__() function, use the two input variables to initialize the ID and starting pot of each player\n",
    "    \n",
    "    def __init__(self, inputID, startingPot):\n",
    "        # [CREATE YOUR INITIALIZATIONS HERE]\n",
    "        self.ID = inputID\n",
    "        self.curPot = startingPot\n",
    "        \n",
    "    # create a function for playing the game. This function starts by taking an input for the dealer's card\n",
    "    # and picking a random number from the 'cards' list for the player's card\n",
    "\n",
    "    def play(self, dealerCard):\n",
    "        # we use the random.choice() function to select a random item from a list\n",
    "        playerCard = random.choice(cards)\n",
    "        \n",
    "        # here we should have a conditional that tests the player's card value against the dealer card\n",
    "        # and returns a statement saying whether the player won or lost the hand\n",
    "        # before returning the statement, make sure to either add or subtract the stake from the player's pot so that\n",
    "        # the 'pot' variable tracks the player's money\n",
    "        \n",
    "        if playerCard < dealerCard:\n",
    "            # [INCREMENT THE PLAYER'S POT, AND RETURN A MESSAGE]\n",
    "            self.curPot = self.curPot - gameStake\n",
    "            print Lose\n",
    "            \n",
    "        else:\n",
    "            # [INCREMENT THE PLAYER'S POT, AND RETURN A MESSAGE]\n",
    "            self.curPot = self.curPot + gameStake\n",
    "            print Win\n",
    "        \n",
    "    # create an accessor function to return the current value of the player's pot\n",
    "    def returnPot(self):\n",
    "        # [FILL IN THE RETURN STATEMENT]\n",
    "        print self.curPot\n",
    "    # create an accessor function to return the player's ID\n",
    "    def returnID(self):\n",
    "        # [FILL IN THE RETURN STATEMENT]\n",
    "        print self.ID\n",
    "        \n",
    "        \n",
    "        \n",
    "        \n",
    "        \n",
    "def playHand(players):\n",
    "    \n",
    "    for player in players:\n",
    "        dealerCard = random.choice(cards)\n",
    "        #[EXECUTE THE PLAY() FUNCTION FOR EACH PLAYER USING THE DEALER CARD, AND PRINT OUT THE RESULTS]\n"
   ]
  },
  {
   "cell_type": "code",
   "execution_count": 112,
   "metadata": {
    "collapsed": false
   },
   "outputs": [
    {
     "name": "stdout",
     "output_type": "stream",
     "text": [
      "\n",
      "start game 0\n",
      "Player 0 Lose, 6 vs 7\n",
      "Player 1 Win, 8 vs 7\n",
      "Player 2 Lose, 0 vs 3\n",
      "Player 3 Win, 9 vs 9\n",
      "Player 4 Win, 3 vs 1\n",
      "\n",
      "start game 1\n",
      "Player 0 Win, 3 vs 2\n",
      "Player 1 Win, 5 vs 4\n",
      "Player 2 Win, 9 vs 1\n",
      "Player 3 Win, 3 vs 2\n",
      "Player 4 Win, 8 vs 1\n",
      "\n",
      "start game 2\n",
      "Player 0 Win, 5 vs 3\n",
      "Player 1 Lose, 1 vs 8\n",
      "Player 2 Lose, 0 vs 7\n",
      "Player 3 Win, 7 vs 7\n",
      "Player 4 Win, 9 vs 3\n",
      "\n",
      "start game 3\n",
      "Player 0 Win, 4 vs 2\n",
      "Player 1 Win, 9 vs 8\n",
      "Player 2 Lose, 5 vs 9\n",
      "Player 3 Win, 5 vs 3\n",
      "Player 4 Lose, 3 vs 7\n",
      "\n",
      "start game 4\n",
      "Player 0 Win, 9 vs 4\n",
      "Player 1 Win, 5 vs 2\n",
      "Player 2 Win, 9 vs 9\n",
      "Player 3 Lose, 1 vs 7\n",
      "Player 4 Win, 6 vs 4\n",
      "\n",
      "start game 5\n",
      "Player 0 Lose, 4 vs 7\n",
      "Player 1 Win, 6 vs 3\n",
      "Player 2 Win, 2 vs 2\n",
      "Player 3 Lose, 0 vs 3\n",
      "Player 4 Win, 4 vs 3\n",
      "\n",
      "start game 6\n",
      "Player 0 Lose, 1 vs 2\n",
      "Player 1 Lose, 0 vs 3\n",
      "Player 2 Lose, 1 vs 7\n",
      "Player 3 Win, 5 vs 1\n",
      "Player 4 Win, 9 vs 9\n",
      "\n",
      "start game 7\n",
      "Player 0 Win, 7 vs 1\n",
      "Player 1 Win, 3 vs 2\n",
      "Player 2 Lose, 0 vs 6\n",
      "Player 3 Win, 5 vs 3\n",
      "Player 4 Lose, 2 vs 6\n",
      "\n",
      "start game 8\n",
      "Player 0 Win, 7 vs 6\n",
      "Player 1 Lose, 4 vs 9\n",
      "Player 2 Win, 5 vs 1\n",
      "Player 3 Win, 6 vs 6\n",
      "Player 4 Win, 1 vs 1\n",
      "\n",
      "start game 9\n",
      "Player 0 Lose, 4 vs 9\n",
      "Player 1 Lose, 4 vs 5\n",
      "Player 2 Lose, 2 vs 3\n",
      "Player 3 Lose, 3 vs 6\n",
      "Player 4 Lose, 0 vs 9\n",
      "\n",
      "game results:\n",
      "Player 0 has $600 left\n",
      "Player 1 has $600 left\n",
      "Player 2 has $400 left\n",
      "Player 3 has $700 left\n",
      "Player 4 has $700 left\n"
     ]
    }
   ],
   "source": [
    "import random\n",
    "\n",
    "gameStake = 50  \n",
    "cards = range(10)\n",
    "\n",
    "\n",
    "class Player:\n",
    "\n",
    "    ID = 1\n",
    "    curPot = 1\n",
    "\n",
    "    def __init__(self, inputID, startingPot):\n",
    "\n",
    "        self.ID = inputID\n",
    "        self.curPot = startingPot\n",
    "        \n",
    "    def play(self, dealerCard):\n",
    "\n",
    "        playerCard = random.choice(cards)\n",
    "        if playerCard < dealerCard:\n",
    "            self.curPot = self.curPot - gameStake\n",
    "            print \"Player\", self.ID ,\"Lose,\", playerCard, \"vs\", dealerCard           \n",
    "        else:\n",
    "            self.curPot = self.curPot + gameStake\n",
    "            print \"Player\", self.ID, \"Win,\", playerCard, \"vs\", dealerCard   \n",
    "        \n",
    "    def returnPot(self):\n",
    "        return self.curPot\n",
    "    def returnID(self):\n",
    "        return self.ID\n",
    "        \n",
    "        \n",
    "def playHand(players):\n",
    "    \n",
    "    for player in players:\n",
    "        dealerCard = random.choice(cards)\n",
    "        A = Player(player.ID,player.curPot)\n",
    "        A.play(dealerCard)\n",
    "        players[player.ID].curPot = A.curPot\n",
    "\n",
    "def checkBalances(players):\n",
    "    \n",
    "    for player in players:\n",
    "        A = Player(player.ID,player.curPot)\n",
    "        print \"Player\", A.returnID(), \"has\",\"$\"+str(A.returnPot()),\"left\" \n",
    "        \n",
    "players = [] \n",
    "for i in range(5):\n",
    "    players.append(Player(i, 500))\n",
    "    \n",
    "for i in range(10):\n",
    "    print ''\n",
    "    print 'start game ' + str(i)\n",
    "    playHand(players)\n",
    "    \n",
    "print ''\n",
    "print 'game results:'\n",
    "checkBalances(players)"
   ]
  },
  {
   "cell_type": "code",
   "execution_count": 82,
   "metadata": {
    "collapsed": false
   },
   "outputs": [
    {
     "name": "stdout",
     "output_type": "stream",
     "text": [
      "0\n",
      "500\n",
      "1\n",
      "500\n",
      "2\n",
      "500\n",
      "3\n",
      "500\n",
      "4\n",
      "500\n",
      "0\n",
      "<__main__.Player instance at 0x7ffb80494c20>\n",
      "<__main__.Player instance at 0x7ffb80494c20>\n",
      "<__main__.Player instance at 0x7ffb804db6c8>\n",
      "<__main__.Player instance at 0x7ffb804db6c8>\n",
      "<__main__.Player instance at 0x7ffb804dbc68>\n",
      "<__main__.Player instance at 0x7ffb804dbc68>\n",
      "<__main__.Player instance at 0x7ffb80499098>\n",
      "<__main__.Player instance at 0x7ffb80499098>\n",
      "<__main__.Player instance at 0x7ffb804993f8>\n",
      "<__main__.Player instance at 0x7ffb804993f8>\n"
     ]
    }
   ],
   "source": [
    "import random\n",
    "\n",
    "gameStake = 50  \n",
    "cards = range(10)\n",
    "\n",
    "\n",
    "class Player:\n",
    "\n",
    "    ID = 1\n",
    "    curPot = 1\n",
    "\n",
    "    def __init__(self, inputID, startingPot):\n",
    "\n",
    "        self.ID = inputID\n",
    "        self.curPot = startingPot\n",
    "        print self.ID\n",
    "        print self.curPot\n",
    "    def output(self):\n",
    "        print selfID\n",
    "\n",
    "        \n",
    "players = [] \n",
    "for i in range(5):\n",
    "    players.append(Player(i, 500))\n",
    "print players[0].ID\n",
    "\n",
    "for player in players:\n",
    "    T=Player(player,player)\n"
   ]
  },
  {
   "cell_type": "code",
   "execution_count": 79,
   "metadata": {
    "collapsed": false
   },
   "outputs": [
    {
     "name": "stdout",
     "output_type": "stream",
     "text": [
      "50\n"
     ]
    }
   ],
   "source": [
    "class player():\n",
    "    def __init__(self, x, y):\n",
    "        self.x = x\n",
    "        self.y = y\n",
    "\n",
    "players = []\n",
    "players.append(player(50, 50))\n",
    "players.append(player(100, 100))\n",
    "players.append(player(500, 500))\n",
    "print players[0].x\n",
    "\n"
   ]
  }
 ],
 "metadata": {
  "anaconda-cloud": {},
  "kernelspec": {
   "display_name": "Python [default]",
   "language": "python",
   "name": "python2"
  },
  "language_info": {
   "codemirror_mode": {
    "name": "ipython",
    "version": 2
   },
   "file_extension": ".py",
   "mimetype": "text/x-python",
   "name": "python",
   "nbconvert_exporter": "python",
   "pygments_lexer": "ipython2",
   "version": "2.7.12"
  }
 },
 "nbformat": 4,
 "nbformat_minor": 1
}
