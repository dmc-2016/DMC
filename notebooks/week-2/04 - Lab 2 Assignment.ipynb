{
 "cells": [
  {
   "cell_type": "markdown",
   "metadata": {},
   "source": [
    "## Lab 2 assignment\n",
    "\n",
    "This assignment will get you familiar with the basic elements of Python by programming a simple card game. We will create a custom class to represent each player in the game, which will store information about their current pot, as well as a series of methods defining how they play the game. We will also build several functions to control the flow of the game and get data back at the end.\n",
    "\n",
    "We will start by importing the `'random'` library, which will allow us to use its functions for picking a random entry from a list."
   ]
  },
  {
   "cell_type": "code",
   "execution_count": 1,
   "metadata": {
    "collapsed": true
   },
   "outputs": [],
   "source": [
    "import random\n",
    "import numpy"
   ]
  },
  {
   "cell_type": "code",
   "execution_count": 2,
   "metadata": {
    "collapsed": false
   },
   "outputs": [],
   "source": [
    "gameStake = 50  \n",
    "cards = range(10)"
   ]
  },
  {
   "cell_type": "code",
   "execution_count": 3,
   "metadata": {
    "collapsed": false
   },
   "outputs": [],
   "source": [
    "class Player:\n",
    "    PN=0\n",
    "    Pot=0\n",
    "    def __init__(self, inputID, startingPot):\n",
    "        self.PN=inputID\n",
    "        self.Pot=startingPot\n",
    "    def play(self, dealerCard):\n",
    "        playerCard = numpy.random.choice(cards)\n",
    "        if playerCard < dealerCard:\n",
    "            self.Pot=self.Pot-gameStake\n",
    "            print 'player'+str(self.PN)+' Lose,'+str(playerCard)+' vs '+str(dealerCard)\n",
    "        else:\n",
    "            self.Pot=self.Pot+gameStake\n",
    "            print 'player'+str(self.PN)+' Win,'+str(playerCard)+' vs '+str(dealerCard)\n",
    "        \n",
    "    def returnPot(self):\n",
    "        return self.Pot\n",
    "    def returnID(self):\n",
    "        return self.PN"
   ]
  },
  {
   "cell_type": "code",
   "execution_count": 4,
   "metadata": {
    "collapsed": false
   },
   "outputs": [
    {
     "name": "stdout",
     "output_type": "stream",
     "text": [
      "player1 Lose,1 vs 5\n"
     ]
    }
   ],
   "source": [
    "player1=Player(1,500)\n",
    "player1.returnID()\n",
    "player1.play(5)"
   ]
  },
  {
   "cell_type": "code",
   "execution_count": 5,
   "metadata": {
    "collapsed": true
   },
   "outputs": [],
   "source": [
    "def playHand(players):\n",
    "    \n",
    "    for player in players:\n",
    "        dealerCard = numpy.random.choice(cards)\n",
    "        player.play(dealerCard)"
   ]
  },
  {
   "cell_type": "code",
   "execution_count": 6,
   "metadata": {
    "collapsed": false
   },
   "outputs": [],
   "source": [
    "def checkBalances(players):\n",
    "    \n",
    "    for player in players:\n",
    "        print 'player '+str(player.returnID())+ ' has $ '+str(player.returnPot())+ ' left'"
   ]
  },
  {
   "cell_type": "code",
   "execution_count": 7,
   "metadata": {
    "collapsed": true
   },
   "outputs": [],
   "source": [
    "players = [] "
   ]
  },
  {
   "cell_type": "code",
   "execution_count": 8,
   "metadata": {
    "collapsed": false
   },
   "outputs": [],
   "source": [
    "for i in range(5):\n",
    "    players.append(Player(i, 500))"
   ]
  },
  {
   "cell_type": "code",
   "execution_count": 9,
   "metadata": {
    "collapsed": false
   },
   "outputs": [
    {
     "name": "stdout",
     "output_type": "stream",
     "text": [
      "\n",
      "start game 0\n",
      "player0 Lose,0 vs 7\n",
      "player1 Lose,6 vs 8\n",
      "player2 Win,9 vs 0\n",
      "player3 Lose,0 vs 6\n",
      "player4 Win,5 vs 4\n",
      "\n",
      "start game 1\n",
      "player0 Lose,4 vs 9\n",
      "player1 Lose,2 vs 7\n",
      "player2 Lose,4 vs 9\n",
      "player3 Win,8 vs 5\n",
      "player4 Win,8 vs 1\n",
      "\n",
      "start game 2\n",
      "player0 Win,5 vs 5\n",
      "player1 Lose,2 vs 4\n",
      "player2 Win,2 vs 2\n",
      "player3 Win,8 vs 7\n",
      "player4 Lose,1 vs 5\n",
      "\n",
      "start game 3\n",
      "player0 Lose,1 vs 6\n",
      "player1 Win,4 vs 1\n",
      "player2 Win,5 vs 5\n",
      "player3 Win,1 vs 1\n",
      "player4 Win,6 vs 5\n",
      "\n",
      "start game 4\n",
      "player0 Win,7 vs 6\n",
      "player1 Win,5 vs 0\n",
      "player2 Lose,6 vs 9\n",
      "player3 Win,4 vs 3\n",
      "player4 Lose,0 vs 8\n",
      "\n",
      "start game 5\n",
      "player0 Win,8 vs 6\n",
      "player1 Win,5 vs 0\n",
      "player2 Win,0 vs 0\n",
      "player3 Win,5 vs 2\n",
      "player4 Lose,3 vs 6\n",
      "\n",
      "start game 6\n",
      "player0 Win,8 vs 7\n",
      "player1 Lose,1 vs 3\n",
      "player2 Win,8 vs 6\n",
      "player3 Win,8 vs 7\n",
      "player4 Win,3 vs 2\n",
      "\n",
      "start game 7\n",
      "player0 Lose,1 vs 2\n",
      "player1 Lose,7 vs 9\n",
      "player2 Win,8 vs 8\n",
      "player3 Lose,3 vs 5\n",
      "player4 Lose,2 vs 4\n",
      "\n",
      "start game 8\n",
      "player0 Lose,2 vs 6\n",
      "player1 Win,9 vs 4\n",
      "player2 Lose,4 vs 5\n",
      "player3 Win,6 vs 5\n",
      "player4 Lose,4 vs 7\n",
      "\n",
      "start game 9\n",
      "player0 Lose,0 vs 5\n",
      "player1 Win,9 vs 4\n",
      "player2 Win,5 vs 2\n",
      "player3 Lose,2 vs 9\n",
      "player4 Win,9 vs 8\n"
     ]
    }
   ],
   "source": [
    "for i in range(10):\n",
    "    print ''\n",
    "    print 'start game ' + str(i)\n",
    "    playHand(players)"
   ]
  },
  {
   "cell_type": "code",
   "execution_count": 10,
   "metadata": {
    "collapsed": false
   },
   "outputs": [
    {
     "name": "stdout",
     "output_type": "stream",
     "text": [
      "\n",
      "game results:\n",
      "player 0 has $ 400 left\n",
      "player 1 has $ 500 left\n",
      "player 2 has $ 700 left\n",
      "player 3 has $ 700 left\n",
      "player 4 has $ 500 left\n"
     ]
    }
   ],
   "source": [
    "print ''\n",
    "print 'game results:'\n",
    "checkBalances(players)"
   ]
  }
 ],
 "metadata": {
  "anaconda-cloud": {},
  "kernelspec": {
   "display_name": "Python [default]",
   "language": "python",
   "name": "python2"
  },
  "language_info": {
   "codemirror_mode": {
    "name": "ipython",
    "version": 2
   },
   "file_extension": ".py",
   "mimetype": "text/x-python",
   "name": "python",
   "nbconvert_exporter": "python",
   "pygments_lexer": "ipython2",
   "version": "2.7.12"
  }
 },
 "nbformat": 4,
 "nbformat_minor": 0
}
