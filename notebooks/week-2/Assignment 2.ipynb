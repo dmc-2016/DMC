{
 "cells": [
  {
   "cell_type": "code",
   "execution_count": 2,
   "metadata": {
    "collapsed": true
   },
   "outputs": [],
   "source": [
    "import random\n",
    "gameStake = 50  \n",
    "cards = range(10)"
   ]
  },
  {
   "cell_type": "code",
   "execution_count": 17,
   "metadata": {
    "collapsed": false
   },
   "outputs": [
    {
     "name": "stdout",
     "output_type": "stream",
     "text": [
      "35\n"
     ]
    }
   ],
   "source": []
  },
  {
   "cell_type": "code",
   "execution_count": 27,
   "metadata": {
    "collapsed": true
   },
   "outputs": [],
   "source": [
    " class Player:\n",
    "    player_input_id = 0\n",
    "    player_pot = 0\n",
    "    # in the __init__() function, use the two input variables to initialize the ID and starting pot of each player\n",
    "    def __init__(self, inputID, startingPot):\n",
    "        self.player_input_id = inputID\n",
    "        self.player_pot = startingPot\n",
    "    def play(self, dealerCard):\n",
    "        # we use the random.choice() function to select a random item from a list\n",
    "        playerCard = random.choice(cards)\n",
    "        \n",
    "        # here we should have a conditional that tests the player's card value against the dealer card\n",
    "        # and returns a statement saying whether the player won or lost the hand\n",
    "        # before returning the statement, make sure to either add or subtract the stake from the player's pot so that\n",
    "        # the 'pot' variable tracks the player's money\n",
    "        \n",
    "        if playerCard < dealerCard:\n",
    "            self.player_pot -= gameStake\n",
    "            return 'Player loses.'\n",
    "        else:\n",
    "            self.player_pot += gameStake\n",
    "            return 'Player wins!'\n",
    "    def returnPot(self):\n",
    "        return self.player_pot\n",
    "    def returnID(self):\n",
    "        return self.player_input_id\n",
    "    \n",
    "    def playHand(players):\n",
    "        for player in players:\n",
    "            dealerCard = random.choice(cards)\n",
    "             #[EXECUTE THE PLAY() FUNCTION FOR EACH PLAYER USING THE DEALER CARD, AND PRINT OUT THE RESULTS]        \n",
    "            player.play(dealerCard)\n",
    "    def checkBalances(players):\n",
    "        for player in players:\n",
    "            #[PRINT OUT EACH PLAYER'S BALANCE BY USING EACH PLAYER'S ACCESSOR FUNCTIONS]\n",
    "            print player.returnID(), \"has balance\", player.returnPot() "
   ]
  },
  {
   "cell_type": "code",
   "execution_count": 20,
   "metadata": {
    "collapsed": true
   },
   "outputs": [],
   "source": []
  },
  {
   "cell_type": "code",
   "execution_count": 26,
   "metadata": {
    "collapsed": true
   },
   "outputs": [],
   "source": []
  },
  {
   "cell_type": "code",
   "execution_count": 25,
   "metadata": {
    "collapsed": false
   },
   "outputs": [
    {
     "ename": "TypeError",
     "evalue": "this constructor takes no arguments",
     "output_type": "error",
     "traceback": [
      "\u001b[0;31m---------------------------------------------------------------------------\u001b[0m",
      "\u001b[0;31mTypeError\u001b[0m                                 Traceback (most recent call last)",
      "\u001b[0;32m<ipython-input-25-09e04f6f5613>\u001b[0m in \u001b[0;36m<module>\u001b[0;34m()\u001b[0m\n\u001b[1;32m      1\u001b[0m \u001b[0mplayers\u001b[0m \u001b[0;34m=\u001b[0m \u001b[0;34m[\u001b[0m\u001b[0;34m]\u001b[0m\u001b[0;34m\u001b[0m\u001b[0m\n\u001b[1;32m      2\u001b[0m \u001b[0;32mfor\u001b[0m \u001b[0mi\u001b[0m \u001b[0;32min\u001b[0m \u001b[0mrange\u001b[0m\u001b[0;34m(\u001b[0m\u001b[0;36m5\u001b[0m\u001b[0;34m)\u001b[0m\u001b[0;34m:\u001b[0m\u001b[0;34m\u001b[0m\u001b[0m\n\u001b[0;32m----> 3\u001b[0;31m     \u001b[0mplayers\u001b[0m\u001b[0;34m.\u001b[0m\u001b[0mappend\u001b[0m\u001b[0;34m(\u001b[0m\u001b[0mPlayer\u001b[0m\u001b[0;34m(\u001b[0m\u001b[0mi\u001b[0m\u001b[0;34m,\u001b[0m \u001b[0;36m500\u001b[0m\u001b[0;34m)\u001b[0m\u001b[0;34m)\u001b[0m\u001b[0;34m\u001b[0m\u001b[0m\n\u001b[0m\u001b[1;32m      4\u001b[0m \u001b[0;32mfor\u001b[0m \u001b[0mi\u001b[0m \u001b[0;32min\u001b[0m \u001b[0mrange\u001b[0m\u001b[0;34m(\u001b[0m\u001b[0;36m10\u001b[0m\u001b[0;34m)\u001b[0m\u001b[0;34m:\u001b[0m\u001b[0;34m\u001b[0m\u001b[0m\n\u001b[1;32m      5\u001b[0m     \u001b[0;32mprint\u001b[0m \u001b[0;34m''\u001b[0m\u001b[0;34m\u001b[0m\u001b[0m\n",
      "\u001b[0;31mTypeError\u001b[0m: this constructor takes no arguments"
     ]
    }
   ],
   "source": [
    "players = [] \n",
    "for i in range(5):\n",
    "    players.append(Player(i, 500))\n",
    "for i in range(10):\n",
    "    print ''\n",
    "    print 'start game ' + str(i)\n",
    "    playHand(players)\n",
    "    print ''\n",
    "    print 'game results:'\n",
    "    checkBalances(players)"
   ]
  }
 ],
 "metadata": {
  "anaconda-cloud": {},
  "kernelspec": {
   "display_name": "Python [default]",
   "language": "python",
   "name": "python2"
  },
  "language_info": {
   "codemirror_mode": {
    "name": "ipython",
    "version": 2
   },
   "file_extension": ".py",
   "mimetype": "text/x-python",
   "name": "python",
   "nbconvert_exporter": "python",
   "pygments_lexer": "ipython2",
   "version": "2.7.12"
  }
 },
 "nbformat": 4,
 "nbformat_minor": 1
}
