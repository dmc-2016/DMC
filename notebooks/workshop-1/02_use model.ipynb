{
 "cells": [
  {
   "cell_type": "code",
   "execution_count": null,
   "metadata": {
    "collapsed": false
   },
   "outputs": [],
   "source": [
    "from keras.models import Sequential\n",
    "from keras.layers import Dense, Dropout, Activation\n",
    "from keras.regularizers import l2\n",
    "from keras.callbacks import ModelCheckpoint\n",
    "\n",
    "import math"
   ]
  },
  {
   "cell_type": "code",
   "execution_count": null,
   "metadata": {
    "collapsed": true
   },
   "outputs": [],
   "source": [
    "# choose whether to study pickups or dropoffs\n",
    "\n",
    "target = \"pickup\"\n",
    "# target = \"dropoff\""
   ]
  },
  {
   "cell_type": "code",
   "execution_count": null,
   "metadata": {
    "collapsed": false
   },
   "outputs": [],
   "source": [
    "# create model \n",
    "# must match specification of model used for training \n",
    "# set dropout to 0 to use full model for prediction\n",
    "\n",
    "batch_size = 256\n",
    "nb_epoch = 20\n",
    "\n",
    "num_hidden_1 = 1024\n",
    "num_hidden_2 = 1024\n",
    "num_hidden_3 = 1024\n",
    "dropout = 0.0\n",
    "\n",
    "model = Sequential()\n",
    "\n",
    "model.add(Dense(output_dim=num_hidden_1, input_dim=4))\n",
    "model.add(Activation(\"tanh\"))\n",
    "model.add(Dropout(dropout))\n",
    "model.add(Dense(num_hidden_2))\n",
    "model.add(Activation(\"tanh\"))\n",
    "model.add(Dropout(dropout))\n",
    "model.add(Dense(num_hidden_3))\n",
    "model.add(Activation(\"tanh\"))\n",
    "model.add(Dropout(dropout))\n",
    "model.add(Dense(1))\n",
    "\n",
    "# laod model from saved file\n",
    "\n",
    "model.load_weights(\"-model_\"+target+\".hdf5\")\n",
    "model.compile(loss='mean_squared_logarithmic_error', optimizer='adam')"
   ]
  },
  {
   "cell_type": "code",
   "execution_count": null,
   "metadata": {
    "collapsed": false
   },
   "outputs": [],
   "source": [
    "import pandas as pd\n",
    "\n",
    "df = pd.read_csv('-gis-data//grid_data.csv')"
   ]
  },
  {
   "cell_type": "code",
   "execution_count": null,
   "metadata": {
    "collapsed": false
   },
   "outputs": [],
   "source": [
    "import pickle\n",
    "\n",
    "# load scaling function from saved file\n",
    "\n",
    "with open(\"-scaler_\"+target+\".pkl\", 'rb') as f:\n",
    "    scaler = pickle.load(f)\n",
    "\n",
    "# make predictions for each grid point, for each doy of week and hour of day\n",
    "\n",
    "for dow in range(7):\n",
    "    for tod in range(24):\n",
    "        print \"dow:\", dow, \"tod:\", tod\n",
    "\n",
    "        df[\"dow\"] = math.sin((2 * math.pi) / 7 * dow)\n",
    "        df[\"tod\"] = math.sin((2 * math.pi) / 24 * tod)\n",
    "\n",
    "        X = df.as_matrix(columns=['X_MIN', 'Y_MIN', 'dow', 'tod'])\n",
    "        X_scaled = scaler.transform(X)\n",
    "\n",
    "        y = model.predict(X_scaled)\n",
    "    \n",
    "        df[\"_\".join([str(dow), str(tod)])] = y\n",
    "    \n",
    "df.to_csv(\"-predicted_\"+target+\".csv\")"
   ]
  }
 ],
 "metadata": {
  "anaconda-cloud": {},
  "kernelspec": {
   "display_name": "Python [default]",
   "language": "python",
   "name": "python2"
  },
  "language_info": {
   "codemirror_mode": {
    "name": "ipython",
    "version": 2
   },
   "file_extension": ".py",
   "mimetype": "text/x-python",
   "name": "python",
   "nbconvert_exporter": "python",
   "pygments_lexer": "ipython2",
   "version": "2.7.12"
  }
 },
 "nbformat": 4,
 "nbformat_minor": 0
}
