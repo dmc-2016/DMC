{
 "cells": [
  {
   "cell_type": "code",
   "execution_count": 1,
   "metadata": {
    "collapsed": false,
    "scrolled": true
   },
   "outputs": [
    {
     "name": "stdout",
     "output_type": "stream",
     "text": [
      "('Training set', (4128, 32, 32), (4128, 1))\n"
     ]
    }
   ],
   "source": [
    "import pickle\n",
    "\n",
    "pickle_file = '-images_6.pickle'\n",
    "\n",
    "with open(pickle_file, 'rb') as f:\n",
    "    save = pickle.load(f)\n",
    "    X = save['X']\n",
    "    y = save['y']\n",
    "    del save  # hint to help gc free up memory\n",
    "    print('Training set', X.shape, y.shape)"
   ]
  },
  {
   "cell_type": "code",
   "execution_count": 2,
   "metadata": {
    "collapsed": false
   },
   "outputs": [
    {
     "name": "stderr",
     "output_type": "stream",
     "text": [
      "Using Theano backend.\n"
     ]
    },
    {
     "name": "stdout",
     "output_type": "stream",
     "text": [
      "using ordering: th\n"
     ]
    }
   ],
   "source": [
    "# Add additional imports\n",
    "import numpy as np\n",
    "np.random.seed(1337)  # for reproducibility\n",
    "\n",
    "from keras.datasets import mnist\n",
    "from keras.models import Sequential\n",
    "from keras.layers import Dense, Dropout, Activation, Flatten\n",
    "from keras.layers import Convolution2D, MaxPooling2D\n",
    "from keras.utils import np_utils\n",
    "from keras import backend as K\n",
    "from keras.callbacks import ModelCheckpoint\n",
    "\n",
    "from keras.datasets import mnist\n",
    "\n",
    "print \"using ordering:\", K.image_dim_ordering()"
   ]
  },
  {
   "cell_type": "code",
   "execution_count": 3,
   "metadata": {
    "collapsed": false,
    "scrolled": true
   },
   "outputs": [
    {
     "name": "stdout",
     "output_type": "stream",
     "text": [
      "number of classes: 6\n",
      "(4128, 1, 32, 32)\n",
      "(4128, 6)\n"
     ]
    }
   ],
   "source": [
    "# number of classes\n",
    "num_classes = np.max(y) + 1 # number of categories\n",
    "print \"number of classes:\", num_classes\n",
    "\n",
    "# image dimensions\n",
    "img_rows, img_cols = X.shape[1],  X.shape[2]\n",
    "\n",
    "if K.image_dim_ordering() == 'th':\n",
    "    X = X.reshape(X.shape[0], 1, img_rows, img_cols)\n",
    "    input_shape = (1, img_rows, img_cols)\n",
    "else:\n",
    "    X = X.reshape(X.shape[0], img_rows, img_cols, 1)\n",
    "    input_shape = (img_rows, img_cols, 1)\n",
    "\n",
    "y_ohe = np_utils.to_categorical(y, num_classes)\n",
    "\n",
    "print X.shape\n",
    "print y_ohe.shape"
   ]
  },
  {
   "cell_type": "code",
   "execution_count": 4,
   "metadata": {
    "collapsed": false,
    "scrolled": true
   },
   "outputs": [
    {
     "name": "stdout",
     "output_type": "stream",
     "text": [
      "(32, 32)\n",
      "[ 0.  1.  0.  0.  0.  0.]\n"
     ]
    },
    {
     "data": {
      "text/plain": [
       "<matplotlib.image.AxesImage at 0x7f0043281990>"
      ]
     },
     "execution_count": 4,
     "metadata": {},
     "output_type": "execute_result"
    },
    {
     "data": {
      "image/png": "[encoded data removed]",
      "text/plain": [
       "<matplotlib.figure.Figure at 0x7f0054665b50>"
      ]
     },
     "metadata": {},
     "output_type": "display_data"
    }
   ],
   "source": [
    "# Plot to make sure we have imported correctly..\n",
    "%matplotlib inline\n",
    "from matplotlib.pyplot import imshow\n",
    "import matplotlib.pyplot as plt\n",
    "\n",
    "img_num = 0\n",
    "\n",
    "if K.image_dim_ordering() == 'th':\n",
    "    img = X[img_num][0,:,:]\n",
    "else:\n",
    "    img = X[img_num][:,:,0]\n",
    "\n",
    "print img.shape\n",
    "print y_ohe[img_num]\n",
    "imshow(img, cmap = plt.get_cmap('gray'), vmin = 0, vmax = 1,  interpolation='nearest')"
   ]
  },
  {
   "cell_type": "code",
   "execution_count": 5,
   "metadata": {
    "collapsed": false
   },
   "outputs": [
    {
     "name": "stdout",
     "output_type": "stream",
     "text": [
      "Model Created\n",
      "Compiled..\n"
     ]
    }
   ],
   "source": [
    "## Construct CNN\n",
    "\n",
    "# model hyperparameters\n",
    "batch_size = 32\n",
    "nb_epoch = 50\n",
    "\n",
    "# network architecture\n",
    "patch_size_1 = 3\n",
    "patch_size_2 = 3\n",
    "patch_size_3 = 3\n",
    "patch_size_4 = 3\n",
    "patch_size_5 = 3\n",
    "\n",
    "depth_1 = 64\n",
    "depth_2 = 128\n",
    "depth_3 = 128\n",
    "depth_4 = 256\n",
    "depth_5 = 256\n",
    "\n",
    "pool_size = 2\n",
    "\n",
    "num_hidden_1 = 512\n",
    "num_hidden_2 = 1024\n",
    "\n",
    "dropout = 0.25\n",
    "\n",
    "\n",
    "##---------------------------\n",
    "# create new Keras Sequential model\n",
    "model = Sequential()\n",
    "\n",
    "model.add(Convolution2D(depth_1, patch_size_1, patch_size_1,\n",
    "                        border_mode='same',\n",
    "                        input_shape=input_shape))\n",
    "model.add(Activation('relu'))\n",
    "\n",
    "model.add(MaxPooling2D(pool_size=(pool_size, pool_size)))\n",
    "\n",
    "model.add(Convolution2D(depth_2, patch_size_2, patch_size_2,\n",
    "                        border_mode='same'))\n",
    "model.add(Activation('relu'))\n",
    "model.add(Convolution2D(depth_3, patch_size_3, patch_size_3,\n",
    "                        border_mode='same'))\n",
    "model.add(Activation('relu'))\n",
    "\n",
    "model.add(MaxPooling2D(pool_size=(pool_size, pool_size)))\n",
    "\n",
    "model.add(Convolution2D(depth_4, patch_size_4, patch_size_4,\n",
    "                        border_mode='same'))\n",
    "model.add(Activation('relu'))\n",
    "model.add(Convolution2D(depth_5, patch_size_5, patch_size_5,\n",
    "                        border_mode='same'))\n",
    "model.add(Activation('relu'))\n",
    "\n",
    "\n",
    "model.add(Flatten())\n",
    "\n",
    "model.add(Dense(num_hidden_1))\n",
    "model.add(Activation('relu'))\n",
    "model.add(Dropout(dropout))\n",
    "\n",
    "model.add(Dense(num_hidden_2))\n",
    "model.add(Activation('relu'))\n",
    "model.add(Dropout(dropout))\n",
    "\n",
    "model.add(Dense(num_classes))\n",
    "model.add(Activation('softmax'))\n",
    "\n",
    "print \"Model Created\"\n",
    "\n",
    "##-------------------------------------------\n",
    "# compile model\n",
    "checkpoint_name = \"-model.hdf5\"\n",
    "checkpointer = ModelCheckpoint(checkpoint_name, verbose=0, save_best_only=True)\n",
    "\n",
    "model.compile(loss='categorical_crossentropy', optimizer='adadelta', metrics=['accuracy'])\n",
    "\n",
    "print \"Compiled..\""
   ]
  },
  {
   "cell_type": "code",
   "execution_count": 6,
   "metadata": {
    "collapsed": false,
    "scrolled": true
   },
   "outputs": [
    {
     "name": "stdout",
     "output_type": "stream",
     "text": [
      "Train on 3096 samples, validate on 1032 samples\n",
      "Epoch 1/50\n",
      "3096/3096 [==============================] - 61s - loss: 1.7928 - acc: 0.1557 - val_loss: 1.7927 - val_acc: 0.1483\n",
      "Epoch 2/50\n",
      "3096/3096 [==============================] - 72s - loss: 1.7922 - acc: 0.1618 - val_loss: 1.7944 - val_acc: 0.1483\n",
      "Epoch 3/50\n",
      "3096/3096 [==============================] - 83s - loss: 1.7924 - acc: 0.1696 - val_loss: 1.7928 - val_acc: 0.1483\n",
      "Epoch 4/50\n",
      "3096/3096 [==============================] - 91s - loss: 1.7924 - acc: 0.1631 - val_loss: 1.7935 - val_acc: 0.1483\n",
      "Epoch 5/50\n",
      "3096/3096 [==============================] - 86s - loss: 1.7921 - acc: 0.1686 - val_loss: 1.7932 - val_acc: 0.1560\n",
      "Epoch 6/50\n",
      "3096/3096 [==============================] - 83s - loss: 1.7920 - acc: 0.1741 - val_loss: 1.7944 - val_acc: 0.1483\n",
      "Epoch 7/50\n",
      "3096/3096 [==============================] - 85s - loss: 1.7915 - acc: 0.1705 - val_loss: 1.7982 - val_acc: 0.1657\n",
      "Epoch 8/50\n",
      "3096/3096 [==============================] - 91s - loss: 1.7866 - acc: 0.1902 - val_loss: 1.7996 - val_acc: 0.1589\n",
      "Epoch 9/50\n",
      "3096/3096 [==============================] - 88s - loss: 1.7631 - acc: 0.2261 - val_loss: 1.7564 - val_acc: 0.2006\n",
      "Epoch 10/50\n",
      "3096/3096 [==============================] - 85s - loss: 1.7373 - acc: 0.2464 - val_loss: 1.7535 - val_acc: 0.2054\n",
      "Epoch 11/50\n",
      "3096/3096 [==============================] - 84s - loss: 1.7031 - acc: 0.2636 - val_loss: 1.7287 - val_acc: 0.2393\n",
      "Epoch 12/50\n",
      "3096/3096 [==============================] - 86s - loss: 1.6581 - acc: 0.2994 - val_loss: 1.6782 - val_acc: 0.2742\n",
      "Epoch 13/50\n",
      "3096/3096 [==============================] - 84s - loss: 1.6206 - acc: 0.3039 - val_loss: 1.6598 - val_acc: 0.2975\n",
      "Epoch 14/50\n",
      "3096/3096 [==============================] - 83s - loss: 1.5620 - acc: 0.3327 - val_loss: 1.6452 - val_acc: 0.3101\n",
      "Epoch 15/50\n",
      "3096/3096 [==============================] - 84s - loss: 1.4983 - acc: 0.3773 - val_loss: 1.6158 - val_acc: 0.3004\n",
      "Epoch 16/50\n",
      "3096/3096 [==============================] - 86s - loss: 1.3956 - acc: 0.4115 - val_loss: 1.5766 - val_acc: 0.3227\n",
      "Epoch 17/50\n",
      "3096/3096 [==============================] - 86s - loss: 1.3041 - acc: 0.4574 - val_loss: 1.5901 - val_acc: 0.3459\n",
      "Epoch 18/50\n",
      "3096/3096 [==============================] - 83s - loss: 1.2045 - acc: 0.5136 - val_loss: 1.6065 - val_acc: 0.3672\n",
      "Epoch 19/50\n",
      "3096/3096 [==============================] - 83s - loss: 1.0344 - acc: 0.5882 - val_loss: 1.7094 - val_acc: 0.3537\n",
      "Epoch 20/50\n",
      "3096/3096 [==============================] - 82s - loss: 0.8852 - acc: 0.6515 - val_loss: 1.7084 - val_acc: 0.3953\n",
      "Epoch 21/50\n",
      "3096/3096 [==============================] - 84s - loss: 0.6500 - acc: 0.7565 - val_loss: 2.0010 - val_acc: 0.3808\n",
      "Epoch 22/50\n",
      "3096/3096 [==============================] - 84s - loss: 0.4447 - acc: 0.8411 - val_loss: 2.2295 - val_acc: 0.4215\n",
      "Epoch 23/50\n",
      "3096/3096 [==============================] - 83s - loss: 0.2678 - acc: 0.9173 - val_loss: 2.5814 - val_acc: 0.4138\n",
      "Epoch 24/50\n",
      "3096/3096 [==============================] - 85s - loss: 0.1538 - acc: 0.9522 - val_loss: 2.9761 - val_acc: 0.4273\n",
      "Epoch 25/50\n",
      "3096/3096 [==============================] - 85s - loss: 0.1039 - acc: 0.9742 - val_loss: 3.0978 - val_acc: 0.4254\n",
      "Epoch 26/50\n",
      "3096/3096 [==============================] - 79s - loss: 0.0717 - acc: 0.9822 - val_loss: 3.3791 - val_acc: 0.4283\n",
      "Epoch 27/50\n",
      "3096/3096 [==============================] - 79s - loss: 0.0755 - acc: 0.9790 - val_loss: 3.1796 - val_acc: 0.4215\n",
      "Epoch 28/50\n",
      "3096/3096 [==============================] - 81s - loss: 0.0459 - acc: 0.9887 - val_loss: 3.8096 - val_acc: 0.4070\n",
      "Epoch 29/50\n",
      "3096/3096 [==============================] - 79s - loss: 0.0407 - acc: 0.9906 - val_loss: 3.6368 - val_acc: 0.4060\n",
      "Epoch 30/50\n",
      "3096/3096 [==============================] - 79s - loss: 0.0404 - acc: 0.9897 - val_loss: 3.6453 - val_acc: 0.4186\n",
      "Epoch 31/50\n",
      "3096/3096 [==============================] - 87s - loss: 0.0340 - acc: 0.9922 - val_loss: 3.7137 - val_acc: 0.4215\n",
      "Epoch 32/50\n",
      "3096/3096 [==============================] - 77s - loss: 0.0327 - acc: 0.9929 - val_loss: 3.6074 - val_acc: 0.4176\n",
      "Epoch 33/50\n",
      "3096/3096 [==============================] - 80s - loss: 0.0278 - acc: 0.9942 - val_loss: 3.5590 - val_acc: 0.4264\n",
      "Epoch 34/50\n",
      "3096/3096 [==============================] - 81s - loss: 0.0261 - acc: 0.9935 - val_loss: 3.5766 - val_acc: 0.4273\n",
      "Epoch 35/50\n",
      "3096/3096 [==============================] - 81s - loss: 0.0229 - acc: 0.9929 - val_loss: 3.6868 - val_acc: 0.4283\n",
      "Epoch 36/50\n",
      "3096/3096 [==============================] - 81s - loss: 0.0232 - acc: 0.9935 - val_loss: 4.0080 - val_acc: 0.4186\n",
      "Epoch 37/50\n",
      "3096/3096 [==============================] - 80s - loss: 0.0304 - acc: 0.9897 - val_loss: 3.4965 - val_acc: 0.4147\n",
      "Epoch 38/50\n",
      "3096/3096 [==============================] - 83s - loss: 0.0173 - acc: 0.9939 - val_loss: 3.7504 - val_acc: 0.4322\n",
      "Epoch 39/50\n",
      "3096/3096 [==============================] - 82s - loss: 0.0219 - acc: 0.9942 - val_loss: 3.6112 - val_acc: 0.4293\n",
      "Epoch 40/50\n",
      "3096/3096 [==============================] - 80s - loss: 0.0200 - acc: 0.9939 - val_loss: 3.4088 - val_acc: 0.4234\n",
      "Epoch 41/50\n",
      "3096/3096 [==============================] - 73s - loss: 0.0185 - acc: 0.9942 - val_loss: 3.6401 - val_acc: 0.4118\n",
      "Epoch 42/50\n",
      "3096/3096 [==============================] - 69s - loss: 0.0173 - acc: 0.9939 - val_loss: 3.5107 - val_acc: 0.4176\n",
      "Epoch 43/50\n",
      "3096/3096 [==============================] - 67s - loss: 0.0155 - acc: 0.9922 - val_loss: 3.9209 - val_acc: 0.4244\n",
      "Epoch 44/50\n",
      "3096/3096 [==============================] - 66s - loss: 0.0181 - acc: 0.9939 - val_loss: 3.8068 - val_acc: 0.4079\n",
      "Epoch 45/50\n",
      "3096/3096 [==============================] - 65s - loss: 0.0152 - acc: 0.9948 - val_loss: 3.8315 - val_acc: 0.4225\n",
      "Epoch 46/50\n",
      "3096/3096 [==============================] - 66s - loss: 0.0131 - acc: 0.9942 - val_loss: 3.7502 - val_acc: 0.4205\n",
      "Epoch 47/50\n",
      "3096/3096 [==============================] - 65s - loss: 0.0146 - acc: 0.9929 - val_loss: 4.0414 - val_acc: 0.4322\n",
      "Epoch 48/50\n",
      "3096/3096 [==============================] - 64s - loss: 0.0111 - acc: 0.9952 - val_loss: 4.0078 - val_acc: 0.4273\n",
      "Epoch 49/50\n",
      "3096/3096 [==============================] - 66s - loss: 0.0125 - acc: 0.9948 - val_loss: 3.6609 - val_acc: 0.4128\n",
      "Epoch 50/50\n",
      "3096/3096 [==============================] - 65s - loss: 0.0121 - acc: 0.9945 - val_loss: 3.9542 - val_acc: 0.4167\n"
     ]
    }
   ],
   "source": [
    "# Train Model\n",
    "history = model.fit(X, y_ohe, validation_split=0.25, batch_size=batch_size, nb_epoch=nb_epoch,\n",
    "          verbose=1, callbacks=[checkpointer])"
   ]
  }
 ],
 "metadata": {
  "anaconda-cloud": {},
  "kernelspec": {
   "display_name": "Python [default]",
   "language": "python",
   "name": "python2"
  },
  "language_info": {
   "codemirror_mode": {
    "name": "ipython",
    "version": 2
   },
   "file_extension": ".py",
   "mimetype": "text/x-python",
   "name": "python",
   "nbconvert_exporter": "python",
   "pygments_lexer": "ipython2",
   "version": "2.7.12"
  }
 },
 "nbformat": 4,
 "nbformat_minor": 1
}
