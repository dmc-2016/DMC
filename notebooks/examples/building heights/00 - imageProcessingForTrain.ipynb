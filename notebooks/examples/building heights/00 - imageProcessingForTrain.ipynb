{
 "cells": [
  {
   "cell_type": "code",
   "execution_count": 1,
   "metadata": {
    "collapsed": true
   },
   "outputs": [],
   "source": [
    "%matplotlib inline\n",
    "\n",
    "from matplotlib.pyplot import imshow\n",
    "import matplotlib.pyplot as plt\n",
    "import numpy as np\n",
    "from scipy import misc\n",
    "\n",
    "import os\n",
    "import random\n",
    "import pickle"
   ]
  },
  {
   "cell_type": "code",
   "execution_count": 2,
   "metadata": {
    "collapsed": false,
    "scrolled": true
   },
   "outputs": [
    {
     "name": "stdout",
     "output_type": "stream",
     "text": [
      ".DS_Store not found\n",
      "['0', '1', '2', '3', '4', '5']\n"
     ]
    }
   ],
   "source": [
    "imageFolder = \"-images_6\"\n",
    "\n",
    "folders = os.listdir(imageFolder)\n",
    "num_categories = len(folders)\n",
    "\n",
    "try:\n",
    "    folders.remove('.DS_Store') # required for OSX\n",
    "except ValueError:\n",
    "    print \".DS_Store not found\"\n",
    "\n",
    "print folders\n",
    "\n",
    "num_classes = len(folders)"
   ]
  },
  {
   "cell_type": "code",
   "execution_count": 3,
   "metadata": {
    "collapsed": false,
    "scrolled": false
   },
   "outputs": [
    {
     "name": "stdout",
     "output_type": "stream",
     "text": [
      "number of images in folder:  1150\n",
      "number of images in folder:  702\n",
      "number of images in folder:  807\n",
      "number of images in folder:  1045\n",
      "number of images in folder:  316\n",
      "number of images in folder:  86\n",
      "Load data complete\n"
     ]
    }
   ],
   "source": [
    "# specify desired image properties\n",
    "# in this case we want black and white square images\n",
    "image_dim = 1 # black and white\n",
    "image_size = 32 # based on CNN model setup\n",
    "\n",
    "# create an empty array to store the image data\n",
    "data = {}\n",
    "\n",
    "# look inside each folder which represents the categories of our data\n",
    "for folder in folders:\n",
    "    data[folder] = []\n",
    "    \n",
    "    # find the files within each folder\n",
    "    fileNames = os.listdir(\"/\".join([imageFolder, folder]))\n",
    "    \n",
    "    #print len(fileNames)\n",
    "    l = len(fileNames)\n",
    "    print 'number of images in folder: ', l\n",
    "    # for each file, load and process each image\n",
    "    # in this case we limit the number of images used per cateogry to 10,000\n",
    "    # to prevent overloading our RAM memory\n",
    "    for fileName in fileNames:\n",
    "        \n",
    "        # read in the image data into a numpy array\n",
    "        if fileName == '.DS_Store': # skip any feature files\n",
    "            print 'invalid filename - skipping file'\n",
    "        else:\n",
    "            \n",
    "            img = misc.imread(\"/\".join([imageFolder, folder, fileName]))\n",
    "        \n",
    "            # if the image contains more than one color channel,\n",
    "            # take only the first channel (in effect, convert it to black and white)\n",
    "            if image_dim == 1 and len(img.shape) > 2: \n",
    "                img = img[:,:,0] # convert to black and white\n",
    "                \n",
    "            target_size = int(image_size * 1.2) # crop to slightly larger than target...\n",
    "\n",
    "            # resize to target resolution if necessary\n",
    "            if img.shape[0] != image_size or img.shape[1] != image_size:\n",
    "                img = misc.imresize(img, (target_size, target_size), interp='nearest')\n",
    "\n",
    "            # normalize data by dividing by maximum pixel value\n",
    "            img = img / 255.0\n",
    "            img_flipped = np.fliplr(img) # flip left-right\n",
    "            \n",
    "            for im in [img, img_flipped]:\n",
    "                # add the image data and the associated category \n",
    "                # (which is stored in the folder variable) to the data set\n",
    "                # for this to work you need to make sure your folders \n",
    "                # are named sequentially starting with 0\n",
    "                \n",
    "                data[folder].append(im[:image_size, :image_size]) # upper left corner\n",
    "                data[folder].append(im[:image_size, -image_size:]) # upper right corner\n",
    "                data[folder].append(im[-image_size:, :image_size]) # lower left corner\n",
    "                data[folder].append(im[-image_size:, -image_size:]) # lower right corner\n",
    "\n",
    "print \"Load data complete\""
   ]
  },
  {
   "cell_type": "code",
   "execution_count": 4,
   "metadata": {
    "collapsed": false
   },
   "outputs": [
    {
     "name": "stdout",
     "output_type": "stream",
     "text": [
      "image dimensions: (32, 32)\n"
     ]
    },
    {
     "data": {
      "image/png": "[encoded data removed]",
      "text/plain": [
       "<matplotlib.figure.Figure at 0x7f2a800d7d90>"
      ]
     },
     "metadata": {},
     "output_type": "display_data"
    }
   ],
   "source": [
    "img = data['0'][4]\n",
    "print \"image dimensions:\", img.shape\n",
    "\n",
    "imshow(img, cmap = plt.get_cmap('gray'), vmin = 0, vmax = 1,  interpolation='nearest')\n",
    "plt.axis('off')\n",
    "plt.show()"
   ]
  },
  {
   "cell_type": "code",
   "execution_count": 5,
   "metadata": {
    "collapsed": false
   },
   "outputs": [
    {
     "name": "stdout",
     "output_type": "stream",
     "text": [
      "smallest set size: 688\n",
      "num samples: 4128\n"
     ]
    }
   ],
   "source": [
    "# for training, we want the same number of image patches from both categories\n",
    "# first we calculate the length of the smaller data set\n",
    "\n",
    "# shuffle all data sets and keep track of smallest\n",
    "minSetLen = float('Inf')\n",
    "for key in data.keys():\n",
    "    random.shuffle(data[key])\n",
    "    if len(data[key]) < minSetLen:\n",
    "        minSetLen = len(data[key])\n",
    "\n",
    "print \"smallest set size:\", minSetLen\n",
    "\n",
    "# then we combine an equal number of patches from both categories into one data set\n",
    "dataSet = []\n",
    "for key in data.keys():\n",
    "    for d in data[key][:minSetLen]:\n",
    "        dataSet.append([d, int(key)])\n",
    "\n",
    "# and shuffle the entire data set one more time\n",
    "random.shuffle(dataSet)\n",
    "        \n",
    "print \"num samples:\", len(dataSet)"
   ]
  },
  {
   "cell_type": "code",
   "execution_count": 6,
   "metadata": {
    "collapsed": false
   },
   "outputs": [],
   "source": [
    "# Fill target and feature data into arrays\n",
    "X = np.ndarray((len(dataSet), image_size, image_size), dtype=np.float32)\n",
    "y = np.ndarray((len(dataSet), 1), dtype=np.int32)\n",
    "\n",
    "for i, d in enumerate(dataSet):\n",
    "    X[i] = d[0]\n",
    "    y[i] = d[1]"
   ]
  },
  {
   "cell_type": "code",
   "execution_count": 7,
   "metadata": {
    "collapsed": false,
    "scrolled": true
   },
   "outputs": [
    {
     "name": "stdout",
     "output_type": "stream",
     "text": [
      "image dimensions: (32, 32)\n",
      "target category: 1\n"
     ]
    },
    {
     "data": {
      "image/png": "[encoded data removed]",
      "text/plain": [
       "<matplotlib.figure.Figure at 0x7f2a800d76d0>"
      ]
     },
     "metadata": {},
     "output_type": "display_data"
    }
   ],
   "source": [
    "# Make sure we have the correct information\n",
    "img_index = 0\n",
    "\n",
    "img = X[img_index]\n",
    "print \"image dimensions:\", img.shape\n",
    "print \"target category:\", (range(num_classes)[y[img_index][0]])\n",
    "\n",
    "imshow(img, cmap = plt.get_cmap('gray'), vmin = 0, vmax = 1,  interpolation='nearest')\n",
    "plt.axis('off')\n",
    "plt.show()"
   ]
  },
  {
   "cell_type": "code",
   "execution_count": 8,
   "metadata": {
    "collapsed": false
   },
   "outputs": [
    {
     "name": "stdout",
     "output_type": "stream",
     "text": [
      "Saved data to -images_6.pickle\n",
      "Compressed pickle size: 16.9 MB\n"
     ]
    }
   ],
   "source": [
    "# Save the data file..\n",
    "pickle_file = imageFolder + '.pickle'\n",
    "\n",
    "try:\n",
    "    f = open(pickle_file, 'wb')\n",
    "    save = {\n",
    "        'X': X,\n",
    "        'y': y,\n",
    "    }\n",
    "    pickle.dump(save, f, pickle.HIGHEST_PROTOCOL)\n",
    "    f.close()\n",
    "except Exception as e:\n",
    "    print 'Unable to save data to', pickle_file, ':', e\n",
    "    raise\n",
    "    \n",
    "statinfo = os.stat(pickle_file)\n",
    "print 'Saved data to', pickle_file\n",
    "print 'Compressed pickle size:', statinfo.st_size / 100000 / 10.0, \"MB\""
   ]
  }
 ],
 "metadata": {
  "anaconda-cloud": {},
  "kernelspec": {
   "display_name": "Python [default]",
   "language": "python",
   "name": "python2"
  },
  "language_info": {
   "codemirror_mode": {
    "name": "ipython",
    "version": 2
   },
   "file_extension": ".py",
   "mimetype": "text/x-python",
   "name": "python",
   "nbconvert_exporter": "python",
   "pygments_lexer": "ipython2",
   "version": "2.7.12"
  }
 },
 "nbformat": 4,
 "nbformat_minor": 1
}
