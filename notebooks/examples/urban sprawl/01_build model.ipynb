{
 "cells": [
  {
   "cell_type": "code",
   "execution_count": 1,
   "metadata": {
    "collapsed": false
   },
   "outputs": [
    {
     "name": "stderr",
     "output_type": "stream",
     "text": [
      "Using Theano backend.\n"
     ]
    },
    {
     "name": "stdout",
     "output_type": "stream",
     "text": [
      "using ordering: th\n"
     ]
    }
   ],
   "source": [
    "import numpy as np\n",
    "np.random.seed(1337)  # for reproducibility\n",
    "\n",
    "from keras.datasets import mnist\n",
    "from keras.models import Sequential\n",
    "from keras.layers import Dense, Dropout, Activation, Flatten\n",
    "from keras.layers import Convolution2D, MaxPooling2D\n",
    "from keras.utils import np_utils\n",
    "from keras import backend as K\n",
    "from keras.callbacks import ModelCheckpoint\n",
    "\n",
    "import pickle\n",
    "\n",
    "print \"using ordering:\", K.image_dim_ordering()"
   ]
  },
  {
   "cell_type": "code",
   "execution_count": 2,
   "metadata": {
    "collapsed": true
   },
   "outputs": [],
   "source": [
    "# load data from memory\n",
    "\n",
    "import pickle\n",
    "\n",
    "pickle_file = '-data.pickle'\n",
    "\n",
    "with open(pickle_file, 'rb') as f:\n",
    "    save = pickle.load(f)\n",
    "    X = save['X']\n",
    "    y = save['y']\n",
    "    del save  # hint to help gc free up memory"
   ]
  },
  {
   "cell_type": "code",
   "execution_count": 3,
   "metadata": {
    "collapsed": false
   },
   "outputs": [
    {
     "name": "stdout",
     "output_type": "stream",
     "text": [
      "(73486, 1, 32, 32)\n",
      "(73486, 4)\n"
     ]
    }
   ],
   "source": [
    "# number of classes\n",
    "num_classes = 4\n",
    "\n",
    "# image dimensions\n",
    "img_rows, img_cols = X.shape[1], X.shape[2]\n",
    "\n",
    "if K.image_dim_ordering() == 'th':\n",
    "    X = X.reshape(X.shape[0], 1, img_rows, img_cols)\n",
    "    input_shape = (1, img_rows, img_cols)\n",
    "else:\n",
    "    X = X.reshape(X.shape[0], img_rows, img_cols, 1)\n",
    "    input_shape = (img_rows, img_cols, 1)\n",
    "\n",
    "y = np_utils.to_categorical(y, num_classes)\n",
    "\n",
    "print X.shape\n",
    "print y.shape"
   ]
  },
  {
   "cell_type": "code",
   "execution_count": 4,
   "metadata": {
    "collapsed": false
   },
   "outputs": [
    {
     "name": "stdout",
     "output_type": "stream",
     "text": [
      "(32, 32)\n"
     ]
    },
    {
     "data": {
      "text/plain": [
       "<matplotlib.image.AxesImage at 0x7f1d95f0b9d0>"
      ]
     },
     "execution_count": 4,
     "metadata": {},
     "output_type": "execute_result"
    },
    {
     "data": {
      "image/png": "[encoded data removed]",
      "text/plain": [
       "<matplotlib.figure.Figure at 0x7f1ddab9da50>"
      ]
     },
     "metadata": {},
     "output_type": "display_data"
    }
   ],
   "source": [
    "# preview one sample from the reloaded X dataset to make sure nothing happened along the way\n",
    "\n",
    "%matplotlib inline\n",
    "from matplotlib.pyplot import imshow\n",
    "import matplotlib.pyplot as plt\n",
    "\n",
    "img_num = 1000\n",
    "\n",
    "if K.image_dim_ordering() == 'th':\n",
    "    img = X[img_num][0,:,:]\n",
    "else:\n",
    "    img = X[img_num][:,:,0]\n",
    "\n",
    "print img.shape\n",
    "imshow(img, cmap = plt.get_cmap('gray'), vmin = 0, vmax = 1,  interpolation='nearest')"
   ]
  },
  {
   "cell_type": "code",
   "execution_count": 5,
   "metadata": {
    "collapsed": true
   },
   "outputs": [],
   "source": [
    "# model hyperparameters\n",
    "batch_size = 32\n",
    "nb_epoch = 10\n",
    "\n",
    "# network architecture\n",
    "patch_size_1 = 3\n",
    "patch_size_2 = 3\n",
    "patch_size_3 = 3\n",
    "\n",
    "depth_1 = 32\n",
    "depth_2 = 64\n",
    "depth_3 = 128\n",
    "\n",
    "pool_size = 2\n",
    "\n",
    "num_hidden_1 = 512\n",
    "num_hidden_2 = 512\n",
    "\n",
    "dropout = 0.25"
   ]
  },
  {
   "cell_type": "code",
   "execution_count": 6,
   "metadata": {
    "collapsed": false
   },
   "outputs": [],
   "source": [
    "model = Sequential()\n",
    "\n",
    "model.add(Convolution2D(depth_1, patch_size_1, patch_size_1,\n",
    "                        border_mode='valid',\n",
    "                        input_shape=input_shape))\n",
    "model.add(Activation('relu'))\n",
    "model.add(MaxPooling2D(pool_size=(pool_size, pool_size)))\n",
    "\n",
    "model.add(Convolution2D(depth_2, patch_size_2, patch_size_2,\n",
    "                        border_mode='valid'))\n",
    "model.add(Activation('relu'))\n",
    "model.add(MaxPooling2D(pool_size=(pool_size, pool_size)))\n",
    "\n",
    "model.add(Convolution2D(depth_3, patch_size_3, patch_size_3,\n",
    "                        border_mode='valid'))\n",
    "model.add(Activation('relu'))\n",
    "model.add(MaxPooling2D(pool_size=(pool_size, pool_size)))\n",
    "\n",
    "model.add(Flatten())\n",
    "\n",
    "model.add(Dense(num_hidden_1))\n",
    "model.add(Activation('relu'))\n",
    "model.add(Dropout(dropout))\n",
    "\n",
    "model.add(Dense(num_hidden_2))\n",
    "model.add(Activation('relu'))\n",
    "model.add(Dropout(dropout))\n",
    "\n",
    "model.add(Dense(num_classes))\n",
    "\n",
    "model.add(Activation('softmax'))"
   ]
  },
  {
   "cell_type": "code",
   "execution_count": 7,
   "metadata": {
    "collapsed": false
   },
   "outputs": [],
   "source": [
    "checkpoint_name = \"-model.hdf5\"\n",
    "checkpointer = ModelCheckpoint(checkpoint_name, verbose=0, save_best_only=True)\n",
    "\n",
    "model.compile(loss='categorical_crossentropy', optimizer='adadelta', metrics=['accuracy'])"
   ]
  },
  {
   "cell_type": "code",
   "execution_count": 8,
   "metadata": {
    "collapsed": false
   },
   "outputs": [
    {
     "name": "stdout",
     "output_type": "stream",
     "text": [
      "Train on 55114 samples, validate on 18372 samples\n",
      "Epoch 1/10\n",
      "55114/55114 [==============================] - 185s - loss: 0.4447 - acc: 0.8178 - val_loss: 0.4975 - val_acc: 0.7934\n",
      "Epoch 2/10\n",
      "55114/55114 [==============================] - 177s - loss: 0.2826 - acc: 0.8846 - val_loss: 0.2481 - val_acc: 0.8965\n",
      "Epoch 3/10\n",
      "55114/55114 [==============================] - 146s - loss: 0.2326 - acc: 0.9073 - val_loss: 0.3796 - val_acc: 0.8525\n",
      "Epoch 4/10\n",
      "55114/55114 [==============================] - 146s - loss: 0.1892 - acc: 0.9264 - val_loss: 0.1924 - val_acc: 0.9217\n",
      "Epoch 5/10\n",
      "55114/55114 [==============================] - 145s - loss: 0.1515 - acc: 0.9412 - val_loss: 0.1553 - val_acc: 0.9397\n",
      "Epoch 6/10\n",
      "55114/55114 [==============================] - 149s - loss: 0.1225 - acc: 0.9540 - val_loss: 0.1914 - val_acc: 0.9236\n",
      "Epoch 7/10\n",
      "55114/55114 [==============================] - 148s - loss: 0.1022 - acc: 0.9606 - val_loss: 0.1074 - val_acc: 0.9575\n",
      "Epoch 8/10\n",
      "55114/55114 [==============================] - 148s - loss: 0.0866 - acc: 0.9670 - val_loss: 0.1137 - val_acc: 0.9571\n",
      "Epoch 9/10\n",
      "55114/55114 [==============================] - 145s - loss: 0.0741 - acc: 0.9718 - val_loss: 0.1309 - val_acc: 0.9536\n",
      "Epoch 10/10\n",
      "55114/55114 [==============================] - 144s - loss: 0.0638 - acc: 0.9762 - val_loss: 0.1818 - val_acc: 0.9442\n"
     ]
    }
   ],
   "source": [
    "history = model.fit(X, y, validation_split=0.25, batch_size=batch_size, nb_epoch=nb_epoch,\n",
    "          verbose=1, callbacks=[checkpointer])"
   ]
  }
 ],
 "metadata": {
  "anaconda-cloud": {},
  "kernelspec": {
   "display_name": "Python [default]",
   "language": "python",
   "name": "python2"
  },
  "language_info": {
   "codemirror_mode": {
    "name": "ipython",
    "version": 2
   },
   "file_extension": ".py",
   "mimetype": "text/x-python",
   "name": "python",
   "nbconvert_exporter": "python",
   "pygments_lexer": "ipython2",
   "version": "2.7.12"
  }
 },
 "nbformat": 4,
 "nbformat_minor": 2
}
